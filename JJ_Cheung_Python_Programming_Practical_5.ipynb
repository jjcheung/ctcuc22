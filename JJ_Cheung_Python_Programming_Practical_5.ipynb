{
  "nbformat": 4,
  "nbformat_minor": 0,
  "metadata": {
    "colab": {
      "name": "JJ Cheung - Python Programming Practical 5.ipynb",
      "provenance": [],
      "include_colab_link": true
    },
    "kernelspec": {
      "name": "python3",
      "display_name": "Python 3"
    },
    "language_info": {
      "name": "python"
    }
  },
  "cells": [
    {
      "cell_type": "markdown",
      "metadata": {
        "id": "view-in-github",
        "colab_type": "text"
      },
      "source": [
        "<a href=\"https://colab.research.google.com/github/jjcheung/ctcuc22/blob/main/JJ_Cheung_Python_Programming_Practical_5.ipynb\" target=\"_parent\"><img src=\"https://colab.research.google.com/assets/colab-badge.svg\" alt=\"Open In Colab\"/></a>"
      ]
    },
    {
      "cell_type": "markdown",
      "source": [
        "# 2022 Python Programming Practical 5\n",
        "\n",
        "## Number Bases\n",
        "- Denary / Decimal (base 10) - 0 1 2 3 4 5 6 7 8 9 \n",
        "- Binary (base 2) - 0 1\n",
        "- Hexadecimal (base 16) 0 1 2 3 4 5 6 7 8 9 A B C D E F\n",
        "\n",
        "## Conversions\n",
        "- denary/decimal to binary\n",
        "- denary/decimal to hexadecimal\n",
        "- binary to denary/decimal\n",
        "- hexadecimal to denary/decimal\n",
        "- binary to hexadecimal\n",
        "- hexadecimal to binary"
      ],
      "metadata": {
        "id": "2lC-93mIj1i9"
      }
    },
    {
      "cell_type": "markdown",
      "source": [
        "**Q1.** Implement a denary/decimal to binary converter which takes in an integer in base 10 and returns a string representing its binary number equivalent."
      ],
      "metadata": {
        "id": "KD4UO-w1PuBu"
      }
    },
    {
      "cell_type": "code",
      "execution_count": null,
      "metadata": {
        "id": "qP3_JWl_zcdy",
        "colab": {
          "base_uri": "https://localhost:8080/",
          "height": 35
        },
        "outputId": "20ac70fe-53b5-4d76-a0d7-c9b3ae1a3157"
      },
      "outputs": [
        {
          "output_type": "execute_result",
          "data": {
            "application/vnd.google.colaboratory.intrinsic+json": {
              "type": "string"
            },
            "text/plain": [
              "'1111'"
            ]
          },
          "metadata": {},
          "execution_count": 2
        }
      ],
      "source": [
        "# denary/decimal to binary\n",
        "def dec2bin (num):\n",
        "    result = ''         #define empty string to store converted binary value\n",
        "    while num != 0:     #\n",
        "        remainder = num % 2 #to be converted to each binary bit\n",
        "        num = num // 2      #for the subsequent bits\n",
        "        result = str(remainder) + result  #appending the bit infront of existing values\n",
        "    return result\n",
        "\n",
        "dec2bin(15)"
      ]
    },
    {
      "cell_type": "markdown",
      "source": [
        "**Q2.** Implement a denary/decimal to hexadecimal converter which takes in an integer in base 10 and returns a string representing its hexadecimal number equivalent."
      ],
      "metadata": {
        "id": "_DnFkYafQlRk"
      }
    },
    {
      "cell_type": "code",
      "source": [
        "# denary/decimal to hexadecimal\n",
        "def dec2hex (num):\n",
        "    result = ''                     #empty string for converted hexadecimal values\n",
        "    hexlist = '0123456789ABCDEF'    #list of hexadecimal values, called by using the relevant indices\n",
        "    while num!= 0:\n",
        "        remainder = num % 16        #for the conversion of the hexadecimal value\n",
        "        num = num // 16             #for the rest of the values\n",
        "        result = hexlist[remainder] + result  #appending converted value in front of existing values\n",
        "    return result\n",
        "\n",
        "dec2hex(30)"
      ],
      "metadata": {
        "id": "v_IhIPrFHYnx",
        "colab": {
          "base_uri": "https://localhost:8080/",
          "height": 35
        },
        "outputId": "157cf34f-b2ff-4977-847e-9987da61a4bd"
      },
      "execution_count": null,
      "outputs": [
        {
          "output_type": "execute_result",
          "data": {
            "application/vnd.google.colaboratory.intrinsic+json": {
              "type": "string"
            },
            "text/plain": [
              "'1E'"
            ]
          },
          "metadata": {},
          "execution_count": 3
        }
      ]
    },
    {
      "cell_type": "markdown",
      "source": [
        "**Q3.** Implement a binary to denary/decimal converter which takes in a string representing a binary number and returns its integer equivalent in base 10."
      ],
      "metadata": {
        "id": "k2E9ayiFQt9Z"
      }
    },
    {
      "cell_type": "code",
      "source": [
        "# binary to denary/decimal\n",
        "def bin2dec (num):\n",
        "    total = 0\n",
        "    for i in range(len(num)):\n",
        "        total += int(num[i])*2**(len(num)-1-i)    #bit value x 2^n, where n is determined wrt length of string\n",
        "    return total\n",
        "\n",
        "bin2dec('11111')"
      ],
      "metadata": {
        "id": "NcVowFTrHd-V",
        "colab": {
          "base_uri": "https://localhost:8080/"
        },
        "outputId": "a45cf9cc-54d3-460d-d4a4-b408ffd7cb73"
      },
      "execution_count": null,
      "outputs": [
        {
          "output_type": "execute_result",
          "data": {
            "text/plain": [
              "31"
            ]
          },
          "metadata": {},
          "execution_count": 6
        }
      ]
    },
    {
      "cell_type": "markdown",
      "source": [
        "**Q4.** Implement a hexadecimal to denary/decimal converter which takes in a string representing a hexadecimal number and returns its integer equivalent in base 10."
      ],
      "metadata": {
        "id": "kdo0NKKlQupk"
      }
    },
    {
      "cell_type": "code",
      "source": [
        "# hexadecimal to denary/decimal\n",
        "def hex2dec(num):\n",
        "    total = 0\n",
        "    hexlist = '0123456789ABCDEF'              #list of hexadecimal values, to be called by relevant indices\n",
        "    for i in range(len(num)):\n",
        "        total += hexlist.index(num[i]) * 16**(len(num)-1-i) #hex value x 16^n, where n is determined wrt length of string\n",
        "    return total\n",
        "\n",
        "hex2dec('1E')"
      ],
      "metadata": {
        "id": "WplkzAfkHi5G",
        "colab": {
          "base_uri": "https://localhost:8080/"
        },
        "outputId": "32245269-dd4c-4983-b4d4-e3cbb5fc0075"
      },
      "execution_count": null,
      "outputs": [
        {
          "output_type": "execute_result",
          "data": {
            "text/plain": [
              "30"
            ]
          },
          "metadata": {},
          "execution_count": 10
        }
      ]
    },
    {
      "cell_type": "markdown",
      "source": [
        "Q5. Implement a binary to hexadecimal converter which takes in a string representing a binary number and returns its string equivalent in hexadecimal."
      ],
      "metadata": {
        "id": "H809D3xAQvQK"
      }
    },
    {
      "cell_type": "code",
      "source": [
        "# binary to hexadecimal\n",
        "def bin2hex (num):\n",
        "    #bin to dec\n",
        "    total = 0\n",
        "    for i in range(len(num)):\n",
        "        total += int(num[i])*2**(len(num)-1-i)\n",
        "    #dec to hex\n",
        "    result = ''\n",
        "    hexlist = '0123456789ABCDEF'\n",
        "    while total!= 0:\n",
        "        remainder = total % 16\n",
        "        total = total // 16\n",
        "        result = hexlist[remainder] + result\n",
        "    return result\n",
        "\n",
        "bin2hex('100000')"
      ],
      "metadata": {
        "id": "7lUG1CluHlsg",
        "colab": {
          "base_uri": "https://localhost:8080/",
          "height": 35
        },
        "outputId": "69d4186a-27d7-4900-fe45-0860df4f41b9"
      },
      "execution_count": null,
      "outputs": [
        {
          "output_type": "execute_result",
          "data": {
            "application/vnd.google.colaboratory.intrinsic+json": {
              "type": "string"
            },
            "text/plain": [
              "'20'"
            ]
          },
          "metadata": {},
          "execution_count": 12
        }
      ]
    },
    {
      "cell_type": "code",
      "source": [
        "def bin2hex (num):\n",
        "    #dictionary with bin values as keys and hex values as values\n",
        "    hexmap = {\n",
        "        '0000':'0',\n",
        "        '0001':'1',\n",
        "        '0010':'2',\n",
        "        '0011':'3',\n",
        "        '0100':'4',\n",
        "        '0101':'5',\n",
        "        '0110':'6',\n",
        "        '0111':'7',\n",
        "        '1000':'8',\n",
        "        '1001':'9',\n",
        "        '1010':'A',\n",
        "        '1011':'B',\n",
        "        '1100':'C',\n",
        "        '1101':'D',\n",
        "        '1110':'E',\n",
        "        '1111':'F'\n",
        "\n",
        "    }\n",
        "    # adding additional zeros in front of bin values with number of bits that are  not multiples of 4 \n",
        "    if len(num) % 4 !=0:\n",
        "        length = len(num)+ 4 - (len(num)%4)\n",
        "        num=num.zfill(length)\n",
        "    else:\n",
        "        length = len(num)\n",
        "    \n",
        "    \n",
        "    result = ''                     #empty list for converted hex values\n",
        "    for i in range (0, length, 4):\n",
        "        #converting every 4 bit bin values to hex, and append to end of list              \n",
        "        result = result + hexmap[num[i:i+4]]\n",
        "    return result\n",
        "\n",
        "bin2hex('100000')"
      ],
      "metadata": {
        "colab": {
          "base_uri": "https://localhost:8080/",
          "height": 35
        },
        "id": "fSmN3-03zKCV",
        "outputId": "a082fb3e-bb01-4f3a-994e-e23b36b90ade"
      },
      "execution_count": null,
      "outputs": [
        {
          "output_type": "execute_result",
          "data": {
            "application/vnd.google.colaboratory.intrinsic+json": {
              "type": "string"
            },
            "text/plain": [
              "'20'"
            ]
          },
          "metadata": {},
          "execution_count": 3
        }
      ]
    },
    {
      "cell_type": "markdown",
      "source": [
        "Q6. Implement a hexadecimal to binary converter which takes in a string representing a hexadecimal number and returns its string equivalent in binary."
      ],
      "metadata": {
        "id": "z4138f9FQv39"
      }
    },
    {
      "cell_type": "code",
      "source": [
        "# hexadecimal to binary\n",
        "def hex2bin (num):\n",
        "    #hex to dec\n",
        "    total = 0\n",
        "    hexlist = '0123456789ABCDEF'\n",
        "    for i in range(len(num)):\n",
        "        total += hexlist.index(num[i]) * 16**(len(num)-1-i)\n",
        "    #dec to bin\n",
        "    result = ''\n",
        "    while total!=0:\n",
        "        remainder = total%2\n",
        "        total = total // 2\n",
        "        result = str(remainder) + result\n",
        "    return result\n",
        "\n",
        "hex2bin('20')"
      ],
      "metadata": {
        "id": "FB5maYC5HokY",
        "colab": {
          "base_uri": "https://localhost:8080/",
          "height": 35
        },
        "outputId": "8295355f-76dc-4c6a-c61e-10e7dec26415"
      },
      "execution_count": null,
      "outputs": [
        {
          "output_type": "execute_result",
          "data": {
            "application/vnd.google.colaboratory.intrinsic+json": {
              "type": "string"
            },
            "text/plain": [
              "'100000'"
            ]
          },
          "metadata": {},
          "execution_count": 13
        }
      ]
    },
    {
      "cell_type": "code",
      "source": [
        "def hex2bin (num):\n",
        "    #dictionary with hex values as keys, and bin values as values\n",
        "    hexmap={\n",
        "        '0':'0000',\n",
        "        '1':'0001',\n",
        "        '2':'0010',\n",
        "        '3':'0011',\n",
        "        '4':'0100',\n",
        "        '5':'0101',\n",
        "        '6':'0110',\n",
        "        '7':'0111',\n",
        "        '8':'1000',\n",
        "        '9':'1001',\n",
        "        'A':'1010',\n",
        "        'B':'1011',\n",
        "        'C':'1100',\n",
        "        'D':'1101',\n",
        "        'E':'1110',\n",
        "        'F':'1111'\n",
        "    }\n",
        "    result = ''\n",
        "    for i in range(len(num)):\n",
        "        result = result + hexmap[num[i]]\n",
        "        #convert every hex values as 4bit bin values, and then a\n",
        "    return result\n",
        "  \n",
        "hex2bin('20')"
      ],
      "metadata": {
        "id": "3_ZcqwWbsNRR",
        "colab": {
          "base_uri": "https://localhost:8080/",
          "height": 36
        },
        "outputId": "24fdee9b-5daf-4e91-dddc-c6cc4516cb57"
      },
      "execution_count": null,
      "outputs": [
        {
          "output_type": "execute_result",
          "data": {
            "application/vnd.google.colaboratory.intrinsic+json": {
              "type": "string"
            },
            "text/plain": [
              "'00100000'"
            ]
          },
          "metadata": {},
          "execution_count": 1
        }
      ]
    },
    {
      "cell_type": "code",
      "source": [
        ""
      ],
      "metadata": {
        "id": "2pOjlAkY7aQG"
      },
      "execution_count": null,
      "outputs": []
    }
  ]
}