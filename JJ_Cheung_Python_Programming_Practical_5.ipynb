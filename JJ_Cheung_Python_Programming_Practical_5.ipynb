{
  "nbformat": 4,
  "nbformat_minor": 0,
  "metadata": {
    "colab": {
      "name": "JJ Cheung - Python Programming Practical 5.ipynb",
      "provenance": [],
      "include_colab_link": true
    },
    "kernelspec": {
      "name": "python3",
      "display_name": "Python 3"
    },
    "language_info": {
      "name": "python"
    }
  },
  "cells": [
    {
      "cell_type": "markdown",
      "metadata": {
        "id": "view-in-github",
        "colab_type": "text"
      },
      "source": [
        "<a href=\"https://colab.research.google.com/github/jjcheung/ctcuc22/blob/main/JJ_Cheung_Python_Programming_Practical_5.ipynb\" target=\"_parent\"><img src=\"https://colab.research.google.com/assets/colab-badge.svg\" alt=\"Open In Colab\"/></a>"
      ]
    },
    {
      "cell_type": "markdown",
      "source": [
        "# 2022 Python Programming Practical 5\n",
        "\n",
        "## Number Bases\n",
        "- Denary / Decimal (base 10) - 0 1 2 3 4 5 6 7 8 9 \n",
        "- Binary (base 2) - 0 1\n",
        "- Hexadecimal (base 16) 0 1 2 3 4 5 6 7 8 9 A B C D E F\n",
        "\n",
        "## Conversions\n",
        "- denary/decimal to binary\n",
        "- denary/decimal to hexadecimal\n",
        "- binary to denary/decimal\n",
        "- hexadecimal to denary/decimal\n",
        "- binary to hexadecimal\n",
        "- hexadecimal to binary"
      ],
      "metadata": {
        "id": "2lC-93mIj1i9"
      }
    },
    {
      "cell_type": "markdown",
      "source": [
        "**Q1.** Implement a denary/decimal to binary converter which takes in an integer in base 10 and returns a string representing its binary number equivalent."
      ],
      "metadata": {
        "id": "KD4UO-w1PuBu"
      }
    },
    {
      "cell_type": "code",
      "execution_count": 2,
      "metadata": {
        "id": "qP3_JWl_zcdy",
        "colab": {
          "base_uri": "https://localhost:8080/",
          "height": 35
        },
        "outputId": "20ac70fe-53b5-4d76-a0d7-c9b3ae1a3157"
      },
      "outputs": [
        {
          "output_type": "execute_result",
          "data": {
            "application/vnd.google.colaboratory.intrinsic+json": {
              "type": "string"
            },
            "text/plain": [
              "'1111'"
            ]
          },
          "metadata": {},
          "execution_count": 2
        }
      ],
      "source": [
        "# denary/decimal to binary\n",
        "def dec2bin (num):\n",
        "    result = ''\n",
        "    while num!=0:\n",
        "        remainder = num%2\n",
        "        num = num // 2\n",
        "        result = str(remainder) + result\n",
        "    return result\n",
        "\n",
        "dec2bin(15)"
      ]
    },
    {
      "cell_type": "markdown",
      "source": [
        "**Q2.** Implement a denary/decimal to hexadecimal converter which takes in an integer in base 10 and returns a string representing its hexadecimal number equivalent."
      ],
      "metadata": {
        "id": "_DnFkYafQlRk"
      }
    },
    {
      "cell_type": "code",
      "source": [
        "# denary/decimal to hexadecimal\n",
        "def dec2hex (num):\n",
        "    result = ''\n",
        "    hexlist = '0123456789ABCDEF'\n",
        "    while num!= 0:\n",
        "        remainder = num % 16\n",
        "        num = num // 16\n",
        "        result = hexlist[remainder] + result\n",
        "    return result\n",
        "\n",
        "dec2hex(30)"
      ],
      "metadata": {
        "id": "v_IhIPrFHYnx",
        "colab": {
          "base_uri": "https://localhost:8080/",
          "height": 35
        },
        "outputId": "157cf34f-b2ff-4977-847e-9987da61a4bd"
      },
      "execution_count": 3,
      "outputs": [
        {
          "output_type": "execute_result",
          "data": {
            "application/vnd.google.colaboratory.intrinsic+json": {
              "type": "string"
            },
            "text/plain": [
              "'1E'"
            ]
          },
          "metadata": {},
          "execution_count": 3
        }
      ]
    },
    {
      "cell_type": "markdown",
      "source": [
        "**Q3.** Implement a binary to denary/decimal converter which takes in a string representing a binary number and returns its integer equivalent in base 10."
      ],
      "metadata": {
        "id": "k2E9ayiFQt9Z"
      }
    },
    {
      "cell_type": "code",
      "source": [
        "# binary to denary/decimal\n",
        "def bin2dec (num):\n",
        "    total = 0\n",
        "    for i in range(len(num)):\n",
        "        total += int(num[i])*2**(len(num)-1-i)\n",
        "    return total\n",
        "\n",
        "bin2dec('11111')"
      ],
      "metadata": {
        "id": "NcVowFTrHd-V",
        "colab": {
          "base_uri": "https://localhost:8080/"
        },
        "outputId": "a45cf9cc-54d3-460d-d4a4-b408ffd7cb73"
      },
      "execution_count": 6,
      "outputs": [
        {
          "output_type": "execute_result",
          "data": {
            "text/plain": [
              "31"
            ]
          },
          "metadata": {},
          "execution_count": 6
        }
      ]
    },
    {
      "cell_type": "markdown",
      "source": [
        "**Q4.** Implement a hexadecimal to denary/decimal converter which takes in a string representing a hexadecimal number and returns its integer equivalent in base 10."
      ],
      "metadata": {
        "id": "kdo0NKKlQupk"
      }
    },
    {
      "cell_type": "code",
      "source": [
        "# hexadecimal to denary/decimal\n",
        "def hex2dec(num):\n",
        "    total = 0\n",
        "    hexlist = '0123456789ABCDEF'\n",
        "    for i in range(len(num)):\n",
        "        total += hexlist.index(num[i]) * 16**(len(num)-1-i)\n",
        "    return total\n",
        "\n",
        "hex2dec('1E')"
      ],
      "metadata": {
        "id": "WplkzAfkHi5G",
        "colab": {
          "base_uri": "https://localhost:8080/"
        },
        "outputId": "32245269-dd4c-4983-b4d4-e3cbb5fc0075"
      },
      "execution_count": 10,
      "outputs": [
        {
          "output_type": "execute_result",
          "data": {
            "text/plain": [
              "30"
            ]
          },
          "metadata": {},
          "execution_count": 10
        }
      ]
    },
    {
      "cell_type": "markdown",
      "source": [
        "Q5. Implement a binary to hexadecimal converter which takes in a string representing a binary number and returns its string equivalent in hexadecimal."
      ],
      "metadata": {
        "id": "H809D3xAQvQK"
      }
    },
    {
      "cell_type": "code",
      "source": [
        "# binary to hexadecimal\n",
        "def bin2hex (num):\n",
        "    total = 0\n",
        "    for i in range(len(num)):\n",
        "        total += int(num[i])*2**(len(num)-1-i)\n",
        "\n",
        "    result = ''\n",
        "    hexlist = '0123456789ABCDEF'\n",
        "    while total!= 0:\n",
        "        remainder = total % 16\n",
        "        total = total // 16\n",
        "        result = hexlist[remainder] + result\n",
        "    return result\n",
        "\n",
        "bin2hex('100000')"
      ],
      "metadata": {
        "id": "7lUG1CluHlsg",
        "colab": {
          "base_uri": "https://localhost:8080/",
          "height": 35
        },
        "outputId": "69d4186a-27d7-4900-fe45-0860df4f41b9"
      },
      "execution_count": 12,
      "outputs": [
        {
          "output_type": "execute_result",
          "data": {
            "application/vnd.google.colaboratory.intrinsic+json": {
              "type": "string"
            },
            "text/plain": [
              "'20'"
            ]
          },
          "metadata": {},
          "execution_count": 12
        }
      ]
    },
    {
      "cell_type": "markdown",
      "source": [
        "Q6. Implement a hexadecimal to binary converter which takes in a string representing a hexadecimal number and returns its string equivalent in binary."
      ],
      "metadata": {
        "id": "z4138f9FQv39"
      }
    },
    {
      "cell_type": "code",
      "source": [
        "# hexadecimal to binary\n",
        "def hex2bin (num):\n",
        "    total = 0\n",
        "    hexlist = '0123456789ABCDEF'\n",
        "    for i in range(len(num)):\n",
        "        total += hexlist.index(num[i]) * 16**(len(num)-1-i)\n",
        "\n",
        "    result = ''\n",
        "    while total!=0:\n",
        "        remainder = total%2\n",
        "        total = total // 2\n",
        "        result = str(remainder) + result\n",
        "    return result\n",
        "\n",
        "hex2bin('20')"
      ],
      "metadata": {
        "id": "FB5maYC5HokY",
        "colab": {
          "base_uri": "https://localhost:8080/",
          "height": 35
        },
        "outputId": "8295355f-76dc-4c6a-c61e-10e7dec26415"
      },
      "execution_count": 13,
      "outputs": [
        {
          "output_type": "execute_result",
          "data": {
            "application/vnd.google.colaboratory.intrinsic+json": {
              "type": "string"
            },
            "text/plain": [
              "'100000'"
            ]
          },
          "metadata": {},
          "execution_count": 13
        }
      ]
    },
    {
      "cell_type": "code",
      "source": [
        ""
      ],
      "metadata": {
        "id": "3_ZcqwWbsNRR"
      },
      "execution_count": null,
      "outputs": []
    }
  ]
}