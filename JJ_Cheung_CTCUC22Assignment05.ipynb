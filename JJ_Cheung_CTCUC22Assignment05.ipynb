{
  "nbformat": 4,
  "nbformat_minor": 0,
  "metadata": {
    "colab": {
      "name": "JJ Cheung - CTCUC22Assignment05.ipynb",
      "provenance": [],
      "include_colab_link": true
    },
    "kernelspec": {
      "name": "python3",
      "display_name": "Python 3"
    },
    "language_info": {
      "name": "python"
    }
  },
  "cells": [
    {
      "cell_type": "markdown",
      "metadata": {
        "id": "view-in-github",
        "colab_type": "text"
      },
      "source": [
        "<a href=\"https://colab.research.google.com/github/jjcheung/ctcuc22/blob/main/JJ_Cheung_CTCUC22Assignment05.ipynb\" target=\"_parent\"><img src=\"https://colab.research.google.com/assets/colab-badge.svg\" alt=\"Open In Colab\"/></a>"
      ]
    },
    {
      "cell_type": "markdown",
      "source": [
        "# Assignment 5 Sorting Machine\n",
        "\n",
        "**Task: Design and implement an awesome sorting machine.**\n",
        "\n",
        "**Baseline requirement:** Design an (O/A)-level appropriate assignment to asssess understanding and application of one or more of the following sorting algorithm(s):\n",
        "\n",
        "- bubble sort\n",
        "- insertion sort\n",
        "- quick sort\n",
        "- merge sort\n",
        "\n",
        "You may should provide suitable dataset(s) for testing purposes. Justify the choice of dataset(s) used.\n",
        "\n",
        "**Bonus requirement:** For differentiated instruction to higher ability students, or to connect students to the real world beyond academic toy or exam style problems, design a wicked (https://en.wikipedia.org/wiki/Wicked_problem) extension/component to make your sorting machine even more awesome! You can/should apply the computational thinking ideas of (not exhaustively):\n",
        "\n",
        "- abstraction\n",
        "- decomposition\n",
        "- pattern recognition \n",
        "- algorithm design \n",
        "\n",
        "(You are not expected to solve your own wicked problem. :)\n",
        "\n",
        "Happy designing/coding! :)"
      ],
      "metadata": {
        "id": "l_sl9GNIOk1Y"
      }
    },
    {
      "cell_type": "markdown",
      "source": [
        "Submit either \n",
        "- a video walkthrough  \n",
        "\n",
        "or\n",
        "\n",
        "- a write-up\n",
        "\n",
        "explaining how your sorting works via the end of session feedback form https://forms.gle/kku2YMgxVVntTFjD9. :)\n",
        "\n",
        "Focus will be on sorting machine features and justifying appropriate programming constructs, data structures and algorithms used, as in how you would explain it to your students."
      ],
      "metadata": {
        "id": "izHSsPuLte_u"
      }
    },
    {
      "cell_type": "markdown",
      "source": [
        "# **Sorting Assignment**"
      ],
      "metadata": {
        "id": "SiNB78CnER3V"
      }
    },
    {
      "cell_type": "markdown",
      "source": [
        "**1. Bubble Sort**\n",
        "\n",
        "\n",
        "---\n",
        "\n",
        "\n",
        "A student wrote a set of code for bubble sort in the cell below.\n",
        "\n",
        "a) Explain the errors in the code in the cell, through the use of comments. \n",
        "\n"
      ],
      "metadata": {
        "id": "4LSya_PzEaW-"
      }
    },
    {
      "cell_type": "code",
      "source": [
        "def bubble_sort(A):\n",
        "    swapped = False\n",
        "    passes = len(A)\n",
        "    while swapped == True:\n",
        "        swapped = False\n",
        "        for i in range (passes):\n",
        "            if A[i] > A[i+1]:\n",
        "              A[i] = A[i+1]\n",
        "              A[i+1] = A[i]\n",
        "              swapped = True\n",
        "        passes -= 1\n",
        "    return A\n",
        "\n",
        "print(bubble_sort([5,6,2,4,3,4,5,7,8,3])) #duplicate numbers\n",
        "print(bubble_sort([])) #empty list\n",
        "print(bubble_sort([9,7,5,3,2,1,0,-2])) #reverse order"
      ],
      "metadata": {
        "id": "dP9o52kDFez9",
        "colab": {
          "base_uri": "https://localhost:8080/"
        },
        "outputId": "7a8ba4ca-f8b1-444f-f466-7c7fa5693be4"
      },
      "execution_count": null,
      "outputs": [
        {
          "output_type": "stream",
          "name": "stdout",
          "text": [
            "[5, 6, 2, 4, 3, 4, 5, 7, 8, 3]\n",
            "[]\n",
            "[9, 7, 5, 3, 2, 1, 0, -2]\n"
          ]
        }
      ]
    },
    {
      "cell_type": "markdown",
      "source": [
        "b) Copy the code to the cell below, and modify the code to make it work. "
      ],
      "metadata": {
        "id": "5svf9U4CIMu1"
      }
    },
    {
      "cell_type": "code",
      "source": [
        "#copy code here"
      ],
      "metadata": {
        "id": "uVfia-3oXCah"
      },
      "execution_count": null,
      "outputs": []
    },
    {
      "cell_type": "code",
      "source": [
        "#teacher's answer\n",
        "def bubble_sort(A):\n",
        "    swapped = True                 #must be True first in order to initiate while loop\n",
        "    passes = len(A) - 1            #set number of passes to length of A -1, since we are comparing ith and (i+1)th element, to prevent index error\n",
        "    while swapped == True:\n",
        "        swapped = False\n",
        "        for i in range (passes):\n",
        "            if A[i] > A[i+1]:     #if passes set to length of A, i+1 will exceed length of A\n",
        "              A[i], A[i+1] = A[i+1], A[i]   #use comma assignment to make swapping possible.\n",
        "              swapped = True\n",
        "        passes -= 1\n",
        "    return A\n",
        "\n",
        "print(bubble_sort([5,6,2,4,3,4,5,7,8,3]))\n",
        "print(bubble_sort([]))\n",
        "print(bubble_sort([9,7,5,3,2,1,0,-2]))"
      ],
      "metadata": {
        "id": "1nexQbfw1Ui4",
        "colab": {
          "base_uri": "https://localhost:8080/"
        },
        "outputId": "c04c7f0d-dd13-49b4-bd45-60b36793c730"
      },
      "execution_count": null,
      "outputs": [
        {
          "output_type": "stream",
          "name": "stdout",
          "text": [
            "[2, 3, 3, 4, 4, 5, 5, 6, 7, 8]\n",
            "[]\n",
            "[-2, 0, 1, 2, 3, 5, 7, 9]\n"
          ]
        }
      ]
    },
    {
      "cell_type": "markdown",
      "source": [
        "**2. Merge Sort**\n",
        "\n",
        "---\n",
        "\n",
        "Write a recursive function `merge_sort(A)` that takes in an unsorted list `A` and returns the sorted list `sorted`. \n",
        "\n",
        "The algorithm should consist of splitting the list into the smallest elements, before sorting them and merging the sorted lists. "
      ],
      "metadata": {
        "id": "mSJFOSBlebnx"
      }
    },
    {
      "cell_type": "code",
      "source": [
        "def merge_sort(A):\n",
        "    #simplest base case\n",
        "    \n",
        "\n",
        "    \n",
        "    #splitting algorithm\n",
        "\n",
        "    front = [___]\n",
        "    back = [___]\n",
        "\n",
        "    #recursive calling\n",
        "    front = merge_sort(front)\n",
        "    back = merge_sort(back)\n",
        "\n",
        "    #merging sorted lists\n",
        "    i = \n",
        "    j = \n",
        "    sorted = []\n",
        "\n",
        "    \n",
        "        \n",
        "\n",
        "\n",
        "    \n",
        "\n",
        "    return sorted\n",
        "\n",
        "merge_sort([5,6,2,4,3,4,5,7,8,3])"
      ],
      "metadata": {
        "id": "wb0kMiDMegAX"
      },
      "execution_count": null,
      "outputs": []
    },
    {
      "cell_type": "code",
      "source": [
        "#teacher's answer\n",
        "def merge_sort(A):\n",
        "    #simplest base case\n",
        "    if len(A) == 1:\n",
        "        return A\n",
        "\n",
        "    #splitting algorithm - splitting the list A into two halves evenly\n",
        "    mid = len(A) //  2\n",
        "    front = A[:mid]           \n",
        "    back = A[mid:]\n",
        "\n",
        "    #output to show splitting\n",
        "    print('Splitting')\n",
        "    print(A)\n",
        "    print('Split')\n",
        "    print(front)\n",
        "    print(back)\n",
        "\n",
        "    #recursive calling - for further splitting before merging\n",
        "    front = merge_sort(front)\n",
        "    back = merge_sort(back)\n",
        "\n",
        "    #merging sorted lists returned from recursive function called previously\n",
        "    print('Merging')\n",
        "    print(front)\n",
        "    print(back)\n",
        "    \n",
        "    i = 0         #index for front []\n",
        "    j = 0         #index for back []\n",
        "    sorted = []   #empty to store sorted values\n",
        "\n",
        "    #while loop to look for smaller values at the front of each lists\n",
        "    #append smaller value to sorted list, increment index in same list\n",
        "    #loops until all values in either list are appended to sorted []\n",
        "    while (i<len(front)) and (j<len(back)):     \n",
        "        if front[i] < back[j]:\n",
        "            sorted.append(front[i])            \n",
        "            i += 1\n",
        "        else:\n",
        "            sorted.append(back[j])\n",
        "            j += 1\n",
        "\n",
        "    #add the rest of the elements in the other list to the sorted []\n",
        "    if i<len(front):\n",
        "        sorted.extend(front[i:])\n",
        "    elif j<len(back):\n",
        "        sorted.extend(back[j:])\n",
        "\n",
        "    #now sorted[] contains sorted values from both front and back []\n",
        "    print('Merged')\n",
        "    print(sorted)\n",
        "\n",
        "    return sorted\n",
        "\n",
        "merge_sort([5,6,2,4,3,4,5,7,8,3])"
      ],
      "metadata": {
        "colab": {
          "base_uri": "https://localhost:8080/"
        },
        "id": "8C8YJztn5hrx",
        "outputId": "57db9894-2efc-43a9-84c4-389b83bb2c88"
      },
      "execution_count": null,
      "outputs": [
        {
          "output_type": "stream",
          "name": "stdout",
          "text": [
            "Splitting\n",
            "[5, 6, 2, 4, 3, 4, 5, 7, 8, 3]\n",
            "Split\n",
            "[5, 6, 2, 4, 3]\n",
            "[4, 5, 7, 8, 3]\n",
            "Splitting\n",
            "[5, 6, 2, 4, 3]\n",
            "Split\n",
            "[5, 6]\n",
            "[2, 4, 3]\n",
            "Splitting\n",
            "[5, 6]\n",
            "Split\n",
            "[5]\n",
            "[6]\n",
            "Merging\n",
            "[5]\n",
            "[6]\n",
            "Merged\n",
            "[5, 6]\n",
            "Splitting\n",
            "[2, 4, 3]\n",
            "Split\n",
            "[2]\n",
            "[4, 3]\n",
            "Splitting\n",
            "[4, 3]\n",
            "Split\n",
            "[4]\n",
            "[3]\n",
            "Merging\n",
            "[4]\n",
            "[3]\n",
            "Merged\n",
            "[3, 4]\n",
            "Merging\n",
            "[2]\n",
            "[3, 4]\n",
            "Merged\n",
            "[2, 3, 4]\n",
            "Merging\n",
            "[5, 6]\n",
            "[2, 3, 4]\n",
            "Merged\n",
            "[2, 3, 4, 5, 6]\n",
            "Splitting\n",
            "[4, 5, 7, 8, 3]\n",
            "Split\n",
            "[4, 5]\n",
            "[7, 8, 3]\n",
            "Splitting\n",
            "[4, 5]\n",
            "Split\n",
            "[4]\n",
            "[5]\n",
            "Merging\n",
            "[4]\n",
            "[5]\n",
            "Merged\n",
            "[4, 5]\n",
            "Splitting\n",
            "[7, 8, 3]\n",
            "Split\n",
            "[7]\n",
            "[8, 3]\n",
            "Splitting\n",
            "[8, 3]\n",
            "Split\n",
            "[8]\n",
            "[3]\n",
            "Merging\n",
            "[8]\n",
            "[3]\n",
            "Merged\n",
            "[3, 8]\n",
            "Merging\n",
            "[7]\n",
            "[3, 8]\n",
            "Merged\n",
            "[3, 7, 8]\n",
            "Merging\n",
            "[4, 5]\n",
            "[3, 7, 8]\n",
            "Merged\n",
            "[3, 4, 5, 7, 8]\n",
            "Merging\n",
            "[2, 3, 4, 5, 6]\n",
            "[3, 4, 5, 7, 8]\n",
            "Merged\n",
            "[2, 3, 3, 4, 4, 5, 5, 6, 7, 8]\n"
          ]
        },
        {
          "output_type": "execute_result",
          "data": {
            "text/plain": [
              "[2, 3, 3, 4, 4, 5, 5, 6, 7, 8]"
            ]
          },
          "metadata": {},
          "execution_count": 2
        }
      ]
    },
    {
      "cell_type": "markdown",
      "source": [
        "**3. Class List Sorting**\n",
        "\n",
        "---\n",
        "\n",
        "You are provided with a list of lists, containing the first names, last names and gender of students in a class. Write a function sortclass(classlist) to return a sorted class list according to gender (females before males), last name and first name in this order. \n",
        "\n",
        "Use any of the four sorting methods taught, and  not the `.sort()` function. You may define additional funtions to aid in the sorting."
      ],
      "metadata": {
        "id": "I8irlW6vVKuU"
      }
    },
    {
      "cell_type": "code",
      "source": [
        "class1A = [\n",
        "             ['Benjamin', 'Goh', 'Male'],\n",
        "             ['Henna', 'Lee', 'Female'],\n",
        "             ['Lee Lee', 'Seah', 'Female'],\n",
        "             ['Ah Boon', 'Tan', 'Male'],\n",
        "             ['Kenneth', 'Seow', 'Male'],\n",
        "             ['Ah Beng', 'Goh', 'Male'],\n",
        "             ['Jeannette', 'Lee', 'Female'],\n",
        "             ['Jean', 'Tan', 'Female'],\n",
        "             ['Abigail', 'Wee', 'Female'],\n",
        "             ['Aloysius', 'Han', 'Male'],\n",
        "             ['William', 'Tan', 'Male'],\n",
        "             ['Elsa', 'Lee', 'Female']\n",
        "]\n",
        "\n",
        "def sortclass(classlist):\n",
        "    pass\n",
        "\n",
        "sorted1A = sortclass(class1A)\n",
        "for student in sorted1A:\n",
        "    print (student)"
      ],
      "metadata": {
        "id": "HLp9V6rsrUgr"
      },
      "execution_count": null,
      "outputs": []
    },
    {
      "cell_type": "code",
      "source": [
        "#teacher's answer\n",
        "\n",
        "#typical class list with some students having same last names\n",
        "class1A = [\n",
        "             ['Benjamin', 'Goh', 'Male'],\n",
        "             ['Henna', 'Lee', 'Female'],\n",
        "             ['Lee Lee', 'Seah', 'Female'],\n",
        "             ['Ah Boon','Tan', 'Male'],\n",
        "             ['Kenneth', 'Seow', 'Male'],\n",
        "             ['Ah Beng', 'Goh', 'Male'],\n",
        "             ['Jeannette', 'Lee', 'Female'],\n",
        "             ['Jean', 'Tan', 'Female'],\n",
        "             ['Abigail', 'Wee', 'Female'],\n",
        "             ['Aloysius', 'Han', 'Male'],\n",
        "             ['William', 'Tan', 'Male'],\n",
        "             ['Elsa', 'Lee', 'Female']\n",
        "]\n",
        "\n",
        "def sort_first_name (B):\n",
        "    #sorting first name using quick sort\n",
        "    #base case\n",
        "    if len(B) == 0:\n",
        "        return []\n",
        "\n",
        "    #recursive case\n",
        "    else:\n",
        "        pivot = B[0]              #setting first element as pivot\n",
        "        front = []                #empty list for front (elements smaller than pivot) \n",
        "        back = []                 #empty list for back (elements greater than pivot)\n",
        "\n",
        "        for i in B[1:]:           #for loop to run through list from 2nd to last element \n",
        "            if i[0] < pivot[0]:   #elements smaller than pivot, append to front[]\n",
        "                front.append(i)\n",
        "            else:\n",
        "                back.append(i)    #elements larger than pivot, append to back[]\n",
        "\n",
        "    #recursive calling to get front list + pivot + back list\n",
        "    return sort_first_name(front) + [pivot] + sort_first_name(back) \n",
        "\n",
        "def sort_last_name(A):\n",
        "    #sorting last name using insertion sort\n",
        "    for i in range (1, len(A)):                 #first element is sorted, so start from 2nd element till end of list\n",
        "        n = i - 1                               #compare with preceding element first\n",
        "        current = A[i]                          #value to be inserted in sorted list in front\n",
        "        while n >= 0 and A[n][1] > current[1]:  #while loop to shift sorted element to adjacent element if larger than current \n",
        "            A[n+1] = A[n]\n",
        "            n -= 1\n",
        "        A[n+1] = current                        #assign current value to empty slot\n",
        "\n",
        "    #grouping the people with the same last names to be sorted by first name\n",
        "    lastname = {}                               #empty dictionary to store last names as keys and list of indices as values\n",
        "    for j in range (len(A)):                    #for loop to comb through entire list\n",
        "        if A[j][1] in lastname.keys():          #if last name already exist as key in dictionary,\n",
        "            lastname[A[j][1]].append(j)         #append index to value in dictionary\n",
        "        else:                                   #if last name doesn't exist as key in dictionary, i.e. new last name\n",
        "            lastname[A[j][1]] = [j]             #create key and value in dictionary\n",
        "\n",
        "    for k, v in lastname.items():               #looping through every key and value in dictionary\n",
        "        start, end = v[0], v[-1]                #getting the first and last index of people who have the same lastnames, per the dictionary\n",
        "        A[start:end+1] = sort_first_name(A[start:end+1])    #calls sort_first_name function with list of people with same last names as argument, and overwrite with sorted list\n",
        "    return A\n",
        "\n",
        "def sortclass(classlist):\n",
        "    female = []                                 #sorting by gender. 2 empty lists, one for each gender\n",
        "    male = []\n",
        "\n",
        "    for i in range (len(classlist)):\n",
        "        if classlist[i][2] == 'Male':\n",
        "            male.append(classlist[i])     #append student to male list if M\n",
        "        else:\n",
        "            female.append(classlist[i])   #append student to female list if F\n",
        "    \n",
        "    return sort_last_name(female) + sort_last_name(male)  #sort female before male\n",
        "\n",
        "sorted1A = sortclass(class1A)\n",
        "for student in sorted1A:\n",
        "    print (student)"
      ],
      "metadata": {
        "colab": {
          "base_uri": "https://localhost:8080/"
        },
        "outputId": "5a816c9a-02a0-4c68-84a0-81a88c9dcd01",
        "id": "1WuXn_bPyPeR"
      },
      "execution_count": null,
      "outputs": [
        {
          "output_type": "stream",
          "name": "stdout",
          "text": [
            "['Elsa', 'Lee', 'Female']\n",
            "['Henna', 'Lee', 'Female']\n",
            "['Jeannette', 'Lee', 'Female']\n",
            "['Lee Lee', 'Seah', 'Female']\n",
            "['Jean', 'Tan', 'Female']\n",
            "['Abigail', 'Wee', 'Female']\n",
            "['Ah Beng', 'Goh', 'Male']\n",
            "['Benjamin', 'Goh', 'Male']\n",
            "['Aloysius', 'Han', 'Male']\n",
            "['Kenneth', 'Seow', 'Male']\n",
            "['Ah Boon', 'Tan', 'Male']\n",
            "['William', 'Tan', 'Male']\n"
          ]
        }
      ]
    },
    {
      "cell_type": "code",
      "source": [
        "#empty class list, to check if code can run empty list\n",
        "class1B = []\n",
        "\n",
        "print(sortclass(class1B))"
      ],
      "metadata": {
        "id": "loHXqGA2O_gm",
        "colab": {
          "base_uri": "https://localhost:8080/"
        },
        "outputId": "988ffb80-1321-4251-c90d-a4c519f585dd"
      },
      "execution_count": null,
      "outputs": [
        {
          "output_type": "stream",
          "name": "stdout",
          "text": [
            "[]\n"
          ]
        }
      ]
    },
    {
      "cell_type": "code",
      "source": [
        "#class list of 200 names, to check if runtime limit is reached in their algorithm\n",
        "class1C = [['Charlotte', 'Andrews', 'Female'], ['Adrianna', 'Gray', 'Female'], ['April', 'Henderson', 'Female'], ['Adison', 'Morrison', 'Male'], ['Mary', 'Jones', 'Female'], ['Cherry', 'Wells', 'Female'], ['Arthur', 'Nelson', 'Male'], ['James', 'Bennett', 'Male'], ['Stuart', 'Williams', 'Male'], ['Annabella', 'Henderson', 'Female'], ['Arianna', 'Hill', 'Female'], ['Maddie', 'Thompson', 'Female'], ['Robert', 'Wilson', 'Male'], ['Kelvin', 'Davis', 'Male'], ['Alexia', 'Chapman', 'Female'], ['Catherine', 'Higgins', 'Female'], ['Kimberly', 'Evans', 'Female'], ['Evelyn', 'Phillips', 'Female'], ['Rebecca', 'Evans', 'Female'], ['Byron', 'Johnson', 'Male'], ['Ada', 'Ryan', 'Female'], ['Adrian', 'Parker', 'Male'], ['Alford', 'Hamilton', 'Male'], ['Alexander', 'Clark', 'Male'], ['Carl', 'Miller', 'Male'], ['George', 'Mitchell', 'Male'], ['Adison', 'Hunt', 'Male'], ['Freddie', 'Fowler', 'Male'], ['Justin', 'Perry', 'Male'], ['Nicole', 'Edwards', 'Female'], ['Hailey', 'Evans', 'Female'], ['Amy', 'Fowler', 'Female'], ['Oliver', 'Hamilton', 'Male'], ['Vincent', 'Johnson', 'Male'], ['Brad', 'Richardson', 'Male'], ['Miranda', 'Reed', 'Female'], ['Lenny', 'Adams', 'Male'], ['Briony', 'Murphy', 'Female'], ['Derek', 'Andrews', 'Male'], ['Sabrina', 'Andrews', 'Female'], ['Alisa', 'Henderson', 'Female'], ['Eddy', 'Tucker', 'Male'], ['William', 'Mason', 'Male'], ['Julia', 'Alexander', 'Female'], ['Rosie', 'Carter', 'Female'], ['Lucy', 'Casey', 'Female'], ['Roman', 'Roberts', 'Male'], ['Victor', 'Cunningham', 'Male'], ['Jacob', 'Stewart', 'Male'], ['Richard', 'Ellis', 'Male'], ['Florrie', 'Perkins', 'Female'], ['George', 'Kelley', 'Male'], ['Vanessa', 'Watson', 'Female'], ['Adam', 'Smith', 'Male'], ['Florrie', 'Henderson', 'Female'], ['Owen', 'Robinson', 'Male'], ['Ned', 'Warren', 'Male'], ['Roman', 'Howard', 'Male'], ['Catherine', 'Myers', 'Female'], ['Dominik', 'Alexander', 'Male'], ['Adrian', 'Hill', 'Male'], ['Eleanor', 'Carter', 'Female'], ['Mike', 'Foster', 'Male'], ['Alina', 'Dixon', 'Female'], ['Victor', 'Kelley', 'Male'], ['Kelvin', 'Warren', 'Male'], ['Jack', 'Murray', 'Male'], ['Charlotte', 'Payne', 'Female'], ['Anna', 'Allen', 'Female'], ['Jacob', 'Miller', 'Male'], ['Mary', 'Morrison', 'Female'], ['Antony', 'Farrell', 'Male'], ['Ada', 'Scott', 'Female'], ['Brianna', 'Owens', 'Female'], ['Briony', 'Carter', 'Female'], ['Daisy', 'Cameron', 'Female'], ['Jacob', 'Murray', 'Male'], ['Valeria', 'Payne', 'Female'], ['Carl', 'Lloyd', 'Male'], ['Alan', 'West', 'Male'], ['Tiana', 'Turner', 'Female'], ['Roman', 'Brooks', 'Male'], ['Julia', 'Henderson', 'Female'], ['Abraham', 'Brooks', 'Male'], ['Nicole', 'Brown', 'Female'], ['Alfred', 'Johnson', 'Male'], ['Patrick', 'Morris', 'Male'], ['Brianna', 'Richards', 'Female'], ['Tony', 'Rogers', 'Male'], ['Tara', 'Barnes', 'Female'], ['Edgar', 'Richards', 'Male'], ['Ashton', 'Barnes', 'Male'], ['Kate', 'Clark', 'Female'], ['Lily', 'Robinson', 'Female'], ['Byron', 'Kelly', 'Male'], ['David', 'Smith', 'Male'], ['Nicole', 'Alexander', 'Female'], ['Edwin', 'Kelley', 'Male'], ['Haris', 'Richards', 'Male'], ['William', 'Harper', 'Male'], ['Valeria', 'Hall', 'Female'], ['Carl', 'Hamilton', 'Male'], ['Abigail', 'Robinson', 'Female'], ['Lydia', 'Hunt', 'Female'], ['Harold', 'Hill', 'Male'], ['Michelle', 'Myers', 'Female'], ['Agata', 'Thomas', 'Female'], ['Preston', 'Baker', 'Male'], ['Aston', 'Barnes', 'Male'], ['Isabella', 'Bennett', 'Female'], ['Lana', 'Farrell', 'Female'], ['Naomi', 'Owens', 'Female'], ['Oscar', 'Walker', 'Male'], ['Luke', 'Douglas', 'Male'], ['Abigail', 'Phillips', 'Female'], ['Alfred', 'Henderson', 'Male'], ['Martin', 'Allen', 'Male'], ['Roman', 'Scott', 'Male'], ['Lyndon', 'Williams', 'Male'], ['Haris', 'Stevens', 'Male'], ['Victoria', 'Perkins', 'Female'], ['Albert', 'Cameron', 'Male'], ['Martin', 'Cunningham', 'Male'], ['Carina', 'Howard', 'Female'], ['Dainton', 'Roberts', 'Male'], ['Sabrina', 'Payne', 'Female'], ['Deanna', 'Russell', 'Female'], ['Tara', 'Spencer', 'Female'], ['Tess', 'Kelley', 'Female'], ['Ned', 'Crawford', 'Male'], ['Connie', 'Myers', 'Female'], ['Oscar', 'Douglas', 'Male'], ['Lilianna', 'Casey', 'Female'], ['Paul', 'Morgan', 'Male'], ['Tyler', 'Johnson', 'Male'], ['Elian', 'Harris', 'Male'], ['Fenton', 'Campbell', 'Male'], ['Caroline', 'Spencer', 'Female'], ['Rafael', 'Clark', 'Male'], ['Carina', 'Alexander', 'Female'], ['Jenna', 'Martin', 'Female'], ['Frederick', 'Brooks', 'Male'], ['Cadie', 'Parker', 'Female'], ['Savana', 'Hill', 'Female'], ['Tess', 'Smith', 'Female'], ['Clark', 'Harper', 'Male'], ['Andrew', 'Tucker', 'Male'], ['Chloe', 'Williams', 'Female'], ['Antony', 'Taylor', 'Male'], ['Cadie', 'Thomas', 'Female'], ['Daryl', 'Ross', 'Male'], ['Alexia', 'Russell', 'Female'], ['Paul', 'Cunningham', 'Male'], ['Rosie', 'Cooper', 'Female'], ['Bruce', 'Mitchell', 'Male'], ['Aida', 'Smith', 'Female'], ['Camila', 'Johnston', 'Female'], ['James', 'Hall', 'Male'], ['Melissa', 'Evans', 'Female'], ['Lilianna', 'Lloyd', 'Female'], ['Edward', 'Dixon', 'Male'], ['Emma', 'Richards', 'Female'], ['Madaline', 'Perkins', 'Female'], ['Jessica', 'Thompson', 'Female'], ['Edwin', 'Walker', 'Male'], ['Lilianna', 'Richardson', 'Female'], ['John', 'Alexander', 'Male'], ['Alfred', 'Myers', 'Male'], ['Henry', 'Mason', 'Male'], ['Kimberly', 'Elliott', 'Female'], ['Victor', 'Phillips', 'Male'], ['Vincent', 'Miller', 'Male'], ['Martin', 'Campbell', 'Male'], ['Brad', 'Alexander', 'Male'], ['Valeria', 'Tucker', 'Female'], ['Charlie', 'Mitchell', 'Male'], ['Evelyn', 'Grant', 'Female'], ['Kirsten', 'Stevens', 'Female'], ['Mike', 'Elliott', 'Male'], ['Frederick', 'Tucker', 'Male'], ['Annabella', 'Cameron', 'Female'], ['Owen', 'Thompson', 'Male'], ['Abraham', 'Hawkins', 'Male'], ['Amanda', 'Barrett', 'Female'], ['Ryan', 'Johnson', 'Male'], ['Nicole', 'Davis', 'Female'], ['Kelvin', 'Spencer', 'Male'], ['Kristian', 'Perkins', 'Male'], ['Arianna', 'Foster', 'Female'], ['Kate', 'Hill', 'Female'], ['Joyce', 'Johnson', 'Female'], ['Jessica', 'Hawkins', 'Female'], ['Amelia', 'Elliott', 'Female'], ['Adele', 'Russell', 'Female'], ['Max', 'Thomas', 'Male'], ['Walter', 'Elliott', 'Male'], ['Wilson', 'Harrison', 'Male'], ['Tess', 'Taylor', 'Female'], ['Caroline', 'Brooks', 'Female'], ['Dexter', 'Walker', 'Male']]\n",
        "\n",
        "sorted1C = sortclass(class1C)\n",
        "for student in sorted1C:\n",
        "    print (student)"
      ],
      "metadata": {
        "colab": {
          "base_uri": "https://localhost:8080/"
        },
        "id": "V-lG0RvhRyqj",
        "outputId": "52586a56-37ed-496c-93dc-a739cbf43a77"
      },
      "execution_count": null,
      "outputs": [
        {
          "output_type": "stream",
          "name": "stdout",
          "text": [
            "['Carina', 'Alexander', 'Female']\n",
            "['Julia', 'Alexander', 'Female']\n",
            "['Nicole', 'Alexander', 'Female']\n",
            "['Anna', 'Allen', 'Female']\n",
            "['Charlotte', 'Andrews', 'Female']\n",
            "['Sabrina', 'Andrews', 'Female']\n",
            "['Tara', 'Barnes', 'Female']\n",
            "['Amanda', 'Barrett', 'Female']\n",
            "['Isabella', 'Bennett', 'Female']\n",
            "['Caroline', 'Brooks', 'Female']\n",
            "['Nicole', 'Brown', 'Female']\n",
            "['Annabella', 'Cameron', 'Female']\n",
            "['Daisy', 'Cameron', 'Female']\n",
            "['Briony', 'Carter', 'Female']\n",
            "['Eleanor', 'Carter', 'Female']\n",
            "['Rosie', 'Carter', 'Female']\n",
            "['Lilianna', 'Casey', 'Female']\n",
            "['Lucy', 'Casey', 'Female']\n",
            "['Alexia', 'Chapman', 'Female']\n",
            "['Kate', 'Clark', 'Female']\n",
            "['Rosie', 'Cooper', 'Female']\n",
            "['Nicole', 'Davis', 'Female']\n",
            "['Alina', 'Dixon', 'Female']\n",
            "['Nicole', 'Edwards', 'Female']\n",
            "['Amelia', 'Elliott', 'Female']\n",
            "['Kimberly', 'Elliott', 'Female']\n",
            "['Hailey', 'Evans', 'Female']\n",
            "['Kimberly', 'Evans', 'Female']\n",
            "['Melissa', 'Evans', 'Female']\n",
            "['Rebecca', 'Evans', 'Female']\n",
            "['Lana', 'Farrell', 'Female']\n",
            "['Arianna', 'Foster', 'Female']\n",
            "['Amy', 'Fowler', 'Female']\n",
            "['Evelyn', 'Grant', 'Female']\n",
            "['Adrianna', 'Gray', 'Female']\n",
            "['Valeria', 'Hall', 'Female']\n",
            "['Jessica', 'Hawkins', 'Female']\n",
            "['Alisa', 'Henderson', 'Female']\n",
            "['Annabella', 'Henderson', 'Female']\n",
            "['April', 'Henderson', 'Female']\n",
            "['Florrie', 'Henderson', 'Female']\n",
            "['Julia', 'Henderson', 'Female']\n",
            "['Catherine', 'Higgins', 'Female']\n",
            "['Arianna', 'Hill', 'Female']\n",
            "['Kate', 'Hill', 'Female']\n",
            "['Savana', 'Hill', 'Female']\n",
            "['Carina', 'Howard', 'Female']\n",
            "['Lydia', 'Hunt', 'Female']\n",
            "['Joyce', 'Johnson', 'Female']\n",
            "['Camila', 'Johnston', 'Female']\n",
            "['Mary', 'Jones', 'Female']\n",
            "['Tess', 'Kelley', 'Female']\n",
            "['Lilianna', 'Lloyd', 'Female']\n",
            "['Jenna', 'Martin', 'Female']\n",
            "['Mary', 'Morrison', 'Female']\n",
            "['Briony', 'Murphy', 'Female']\n",
            "['Catherine', 'Myers', 'Female']\n",
            "['Connie', 'Myers', 'Female']\n",
            "['Michelle', 'Myers', 'Female']\n",
            "['Brianna', 'Owens', 'Female']\n",
            "['Naomi', 'Owens', 'Female']\n",
            "['Cadie', 'Parker', 'Female']\n",
            "['Charlotte', 'Payne', 'Female']\n",
            "['Sabrina', 'Payne', 'Female']\n",
            "['Valeria', 'Payne', 'Female']\n",
            "['Florrie', 'Perkins', 'Female']\n",
            "['Madaline', 'Perkins', 'Female']\n",
            "['Victoria', 'Perkins', 'Female']\n",
            "['Abigail', 'Phillips', 'Female']\n",
            "['Evelyn', 'Phillips', 'Female']\n",
            "['Miranda', 'Reed', 'Female']\n",
            "['Brianna', 'Richards', 'Female']\n",
            "['Emma', 'Richards', 'Female']\n",
            "['Lilianna', 'Richardson', 'Female']\n",
            "['Abigail', 'Robinson', 'Female']\n",
            "['Lily', 'Robinson', 'Female']\n",
            "['Adele', 'Russell', 'Female']\n",
            "['Alexia', 'Russell', 'Female']\n",
            "['Deanna', 'Russell', 'Female']\n",
            "['Ada', 'Ryan', 'Female']\n",
            "['Ada', 'Scott', 'Female']\n",
            "['Aida', 'Smith', 'Female']\n",
            "['Tess', 'Smith', 'Female']\n",
            "['Caroline', 'Spencer', 'Female']\n",
            "['Tara', 'Spencer', 'Female']\n",
            "['Kirsten', 'Stevens', 'Female']\n",
            "['Tess', 'Taylor', 'Female']\n",
            "['Agata', 'Thomas', 'Female']\n",
            "['Cadie', 'Thomas', 'Female']\n",
            "['Jessica', 'Thompson', 'Female']\n",
            "['Maddie', 'Thompson', 'Female']\n",
            "['Valeria', 'Tucker', 'Female']\n",
            "['Tiana', 'Turner', 'Female']\n",
            "['Vanessa', 'Watson', 'Female']\n",
            "['Cherry', 'Wells', 'Female']\n",
            "['Chloe', 'Williams', 'Female']\n",
            "['Lenny', 'Adams', 'Male']\n",
            "['Brad', 'Alexander', 'Male']\n",
            "['Dominik', 'Alexander', 'Male']\n",
            "['John', 'Alexander', 'Male']\n",
            "['Martin', 'Allen', 'Male']\n",
            "['Derek', 'Andrews', 'Male']\n",
            "['Preston', 'Baker', 'Male']\n",
            "['Ashton', 'Barnes', 'Male']\n",
            "['Aston', 'Barnes', 'Male']\n",
            "['James', 'Bennett', 'Male']\n",
            "['Abraham', 'Brooks', 'Male']\n",
            "['Frederick', 'Brooks', 'Male']\n",
            "['Roman', 'Brooks', 'Male']\n",
            "['Albert', 'Cameron', 'Male']\n",
            "['Fenton', 'Campbell', 'Male']\n",
            "['Martin', 'Campbell', 'Male']\n",
            "['Alexander', 'Clark', 'Male']\n",
            "['Rafael', 'Clark', 'Male']\n",
            "['Ned', 'Crawford', 'Male']\n",
            "['Martin', 'Cunningham', 'Male']\n",
            "['Paul', 'Cunningham', 'Male']\n",
            "['Victor', 'Cunningham', 'Male']\n",
            "['Kelvin', 'Davis', 'Male']\n",
            "['Edward', 'Dixon', 'Male']\n",
            "['Luke', 'Douglas', 'Male']\n",
            "['Oscar', 'Douglas', 'Male']\n",
            "['Mike', 'Elliott', 'Male']\n",
            "['Walter', 'Elliott', 'Male']\n",
            "['Richard', 'Ellis', 'Male']\n",
            "['Antony', 'Farrell', 'Male']\n",
            "['Mike', 'Foster', 'Male']\n",
            "['Freddie', 'Fowler', 'Male']\n",
            "['James', 'Hall', 'Male']\n",
            "['Alford', 'Hamilton', 'Male']\n",
            "['Carl', 'Hamilton', 'Male']\n",
            "['Oliver', 'Hamilton', 'Male']\n",
            "['Clark', 'Harper', 'Male']\n",
            "['William', 'Harper', 'Male']\n",
            "['Elian', 'Harris', 'Male']\n",
            "['Wilson', 'Harrison', 'Male']\n",
            "['Abraham', 'Hawkins', 'Male']\n",
            "['Alfred', 'Henderson', 'Male']\n",
            "['Adrian', 'Hill', 'Male']\n",
            "['Harold', 'Hill', 'Male']\n",
            "['Roman', 'Howard', 'Male']\n",
            "['Adison', 'Hunt', 'Male']\n",
            "['Alfred', 'Johnson', 'Male']\n",
            "['Byron', 'Johnson', 'Male']\n",
            "['Ryan', 'Johnson', 'Male']\n",
            "['Tyler', 'Johnson', 'Male']\n",
            "['Vincent', 'Johnson', 'Male']\n",
            "['Edwin', 'Kelley', 'Male']\n",
            "['George', 'Kelley', 'Male']\n",
            "['Victor', 'Kelley', 'Male']\n",
            "['Byron', 'Kelly', 'Male']\n",
            "['Carl', 'Lloyd', 'Male']\n",
            "['Henry', 'Mason', 'Male']\n",
            "['William', 'Mason', 'Male']\n",
            "['Carl', 'Miller', 'Male']\n",
            "['Jacob', 'Miller', 'Male']\n",
            "['Vincent', 'Miller', 'Male']\n",
            "['Bruce', 'Mitchell', 'Male']\n",
            "['Charlie', 'Mitchell', 'Male']\n",
            "['George', 'Mitchell', 'Male']\n",
            "['Paul', 'Morgan', 'Male']\n",
            "['Patrick', 'Morris', 'Male']\n",
            "['Adison', 'Morrison', 'Male']\n",
            "['Jack', 'Murray', 'Male']\n",
            "['Jacob', 'Murray', 'Male']\n",
            "['Alfred', 'Myers', 'Male']\n",
            "['Arthur', 'Nelson', 'Male']\n",
            "['Adrian', 'Parker', 'Male']\n",
            "['Kristian', 'Perkins', 'Male']\n",
            "['Justin', 'Perry', 'Male']\n",
            "['Victor', 'Phillips', 'Male']\n",
            "['Edgar', 'Richards', 'Male']\n",
            "['Haris', 'Richards', 'Male']\n",
            "['Brad', 'Richardson', 'Male']\n",
            "['Dainton', 'Roberts', 'Male']\n",
            "['Roman', 'Roberts', 'Male']\n",
            "['Owen', 'Robinson', 'Male']\n",
            "['Tony', 'Rogers', 'Male']\n",
            "['Daryl', 'Ross', 'Male']\n",
            "['Roman', 'Scott', 'Male']\n",
            "['Adam', 'Smith', 'Male']\n",
            "['David', 'Smith', 'Male']\n",
            "['Kelvin', 'Spencer', 'Male']\n",
            "['Haris', 'Stevens', 'Male']\n",
            "['Jacob', 'Stewart', 'Male']\n",
            "['Antony', 'Taylor', 'Male']\n",
            "['Max', 'Thomas', 'Male']\n",
            "['Owen', 'Thompson', 'Male']\n",
            "['Andrew', 'Tucker', 'Male']\n",
            "['Eddy', 'Tucker', 'Male']\n",
            "['Frederick', 'Tucker', 'Male']\n",
            "['Dexter', 'Walker', 'Male']\n",
            "['Edwin', 'Walker', 'Male']\n",
            "['Oscar', 'Walker', 'Male']\n",
            "['Kelvin', 'Warren', 'Male']\n",
            "['Ned', 'Warren', 'Male']\n",
            "['Alan', 'West', 'Male']\n",
            "['Lyndon', 'Williams', 'Male']\n",
            "['Stuart', 'Williams', 'Male']\n",
            "['Robert', 'Wilson', 'Male']\n"
          ]
        }
      ]
    },
    {
      "cell_type": "code",
      "source": [
        ""
      ],
      "metadata": {
        "id": "gv_nfg_VU2_Y"
      },
      "execution_count": null,
      "outputs": []
    }
  ]
}