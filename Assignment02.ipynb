{
  "nbformat": 4,
  "nbformat_minor": 0,
  "metadata": {
    "colab": {
      "name": "JJ Cheung - CTCUC22Assignment02.ipynb",
      "provenance": [],
      "include_colab_link": true
    },
    "kernelspec": {
      "name": "python3",
      "display_name": "Python 3"
    },
    "language_info": {
      "name": "python"
    }
  },
  "cells": [
    {
      "cell_type": "markdown",
      "metadata": {
        "id": "view-in-github",
        "colab_type": "text"
      },
      "source": [
        "<a href=\"https://colab.research.google.com/github/jjcheung/ctcuc22/blob/main/JJ_Cheung_CTCUC22Assignment02.ipynb\" target=\"_parent\"><img src=\"https://colab.research.google.com/assets/colab-badge.svg\" alt=\"Open In Colab\"/></a>"
      ]
    },
    {
      "cell_type": "markdown",
      "source": [
        "# Assignment 2\n",
        "(assignment means need to submit one ah :))\n",
        "\n",
        "Due: Typically a day before the following CTCUC session. Early and quality submissions earn bonus credit. :)"
      ],
      "metadata": {
        "id": "entarUPMccOc"
      }
    },
    {
      "cell_type": "markdown",
      "source": [
        "We have previously looked at how to compute body mass index (BMI) for adults.\n",
        "\n",
        "In this assignment we are interested in BMI calculation for children (ages 2 to 19).\n",
        "\n",
        "References:\n",
        "- https://www.cdc.gov/healthyweight/assessing/bmi/childrens_bmi/about_childrens_bmi.html\n",
        "- https://www.cdc.gov/healthyweight/bmi/calculator.html\n",
        "- https://www.cdc.gov/healthyweight/assessing/bmi/childrens_bmi/tool_for_schools.html\n",
        "\n",
        "In Coursemology, create an assessment with 3 or more autograded programming questions which will illustrate the understanding and application of Python concepts and skills you have learned thus far (or more).\n",
        "\n",
        "You can/should test out your functions here in Google Colab before transferring / adapting them to Coursemology. In the process, you will learn about the pros and cons of Google Colab and Coursemology as teaching and learning aids.\n",
        "\n",
        "The following are some preliminary examples. Do not treat them as model samples. Where necessary, adapt the scenarios to your students' learning and assessment contexts.\n",
        "\n",
        "Record a session of how you would teach ONE autograded problem. Submit this to Session 3 feedback (when you are ready)."
      ],
      "metadata": {
        "id": "U-BXlxTFcs3C"
      }
    },
    {
      "cell_type": "markdown",
      "source": [
        "Write program code to receive the weights (in kg) of high school students until the user enters -1. Store the weights in an array / Python list."
      ],
      "metadata": {
        "id": "DLcAXpR6_Wax"
      }
    },
    {
      "cell_type": "code",
      "source": [
        "weight = []\n",
        "\n",
        "wt = float(input('Enter weight of student, in kg: '))\n",
        "\n",
        "while wt != -1:\n",
        "    weight.append(wt)\n",
        "    wt = float(input('Enter weight of next student, in kg: ')) \n",
        "\n",
        "print (weight)"
      ],
      "metadata": {
        "id": "MSWwE3TogWTo",
        "colab": {
          "base_uri": "https://localhost:8080/"
        },
        "outputId": "0775af6c-97ee-4849-aa57-0db972624474"
      },
      "execution_count": null,
      "outputs": [
        {
          "output_type": "stream",
          "name": "stdout",
          "text": [
            "Enter weight in kg: 34\n",
            "Enter weight for next student, in kg: 54\n",
            "Enter weight for next student, in kg: 92\n",
            "Enter weight for next student, in kg: -1\n",
            "[34.0, 54.0, 92.0]\n"
          ]
        }
      ]
    },
    {
      "cell_type": "markdown",
      "source": [
        "Write program code to receive the heights (in cm) of high school students until the user enters -1. Store the heights in an array / Python list."
      ],
      "metadata": {
        "id": "xvusm7JkhLNs"
      }
    },
    {
      "cell_type": "code",
      "execution_count": null,
      "metadata": {
        "id": "FRjovPdb_SJL",
        "colab": {
          "base_uri": "https://localhost:8080/"
        },
        "outputId": "406a2b8a-f94d-4ef1-e86d-2da9d4d9c691"
      },
      "outputs": [
        {
          "output_type": "stream",
          "name": "stdout",
          "text": [
            "Enter height in cm: 145\n",
            "Enter height for next student, in cm: 175\n",
            "Enter height for next student, in cm: -1\n",
            "[145, 175]\n"
          ]
        }
      ],
      "source": [
        "height = []\n",
        "\n",
        "ht = int(input('Enter height of student, in cm: '))\n",
        "\n",
        "while ht != -1:\n",
        "    height.append(ht)\n",
        "    ht = int(input('Enter height of next student, in cm: ')) \n",
        "\n",
        "print (height)"
      ]
    },
    {
      "cell_type": "markdown",
      "source": [
        "Write program code to receive the genders ('m' or 'f') of high school students until the user enters -1. Store the genders in an array / Python list."
      ],
      "metadata": {
        "id": "jfOHUytolIWA"
      }
    },
    {
      "cell_type": "code",
      "source": [
        "gender = []\n",
        "\n",
        "gen = input('Enter gender of student (m or f): ')\n",
        "\n",
        "while gen != -1:\n",
        "    if (gen == 'm') or (gen == 'f'):\n",
        "        gender.append(gen)\n",
        "        gen = input('Enter gender of next student (m or f): ')\n",
        "    else:\n",
        "        print ('Invalid gender!')\n",
        "        break\n",
        "\n",
        "print (gender)"
      ],
      "metadata": {
        "id": "oLSDEiWNmZC4",
        "colab": {
          "base_uri": "https://localhost:8080/"
        },
        "outputId": "d04911d0-6f07-443d-9366-ebb6f7a8bc2a"
      },
      "execution_count": null,
      "outputs": [
        {
          "output_type": "stream",
          "name": "stdout",
          "text": [
            "Enter gender (m or f): m\n",
            "Enter gender for next student (m or f): f\n",
            "Enter gender for next student (m or f): 4\n",
            "Invalid gender!\n",
            "['m', 'f']\n"
          ]
        }
      ]
    },
    {
      "cell_type": "markdown",
      "source": [
        "Write program code to receive the ages of high school students until the user enters -1. Store the ages in an array / Python list."
      ],
      "metadata": {
        "id": "aWbLpdKVnTbh"
      }
    },
    {
      "cell_type": "code",
      "source": [
        "age = []\n",
        "\n",
        "a_input = int(input('Enter age of student, in years: '))\n",
        "\n",
        "while a_input != -1:\n",
        "    age.append(a_input)\n",
        "    a_input = int(input('Enter age of next student, in years: ')) \n",
        "\n",
        "print (height)"
      ],
      "metadata": {
        "id": "89BgBDC5naK7"
      },
      "execution_count": null,
      "outputs": []
    },
    {
      "cell_type": "markdown",
      "source": [
        "Write program code to compute the BMI of a child/teen."
      ],
      "metadata": {
        "id": "If4dwX0cmaZA"
      }
    },
    {
      "cell_type": "code",
      "source": [
        "def compute_bmi(weight, height):\n",
        "    return round((weight / (height**2)) * 10000, 2)\n",
        "\n",
        "compute_bmi(70, 175)"
      ],
      "metadata": {
        "id": "aOQFD_NZmhPJ",
        "colab": {
          "base_uri": "https://localhost:8080/"
        },
        "outputId": "a1c54cae-a42e-4943-f6fe-96e377cd5216"
      },
      "execution_count": null,
      "outputs": [
        {
          "output_type": "execute_result",
          "data": {
            "text/plain": [
              "22.86"
            ]
          },
          "metadata": {},
          "execution_count": 12
        }
      ]
    },
    {
      "cell_type": "markdown",
      "source": [
        "Write program code to validate the weight/height/gender/age of a child/teen."
      ],
      "metadata": {
        "id": "Bfngkrrxmm7-"
      }
    },
    {
      "cell_type": "code",
      "source": [
        "def validate( age):\n",
        "    if 2 <= age <= 19:\n",
        "          return True\n",
        "    else: \n",
        "        return False"
      ],
      "metadata": {
        "id": "bwL_ud7dmuNh"
      },
      "execution_count": null,
      "outputs": []
    },
    {
      "cell_type": "markdown",
      "source": [
        "**Coursemology Questions**"
      ],
      "metadata": {
        "id": "zwEainK9G2h2"
      }
    },
    {
      "cell_type": "markdown",
      "source": [
        "Q1 - BMI Calculator"
      ],
      "metadata": {
        "id": "0XWV4rTaHc6N"
      }
    },
    {
      "cell_type": "code",
      "source": [
        "def bmi_calc (weight, height):\n",
        "    bmi = []\n",
        "    for i in range (len(weight)):                  #loop for the number of entries in each list\n",
        "        calc = round ( weight[i] / (height[i] ** 2), 1)  #calculate bmi\n",
        "        bmi.append(calc)                        #append calculated bmi to the list of bmis.\n",
        "    return bmi\n",
        "\n",
        "#main\n",
        "wt = [54, 42]\n",
        "ht = [1.65, 1.55]\n",
        "\n",
        "bmi_calc(wt, ht)"
      ],
      "metadata": {
        "colab": {
          "base_uri": "https://localhost:8080/"
        },
        "id": "a7lSA5-XHd2u",
        "outputId": "be876e71-1996-4aa9-939b-658e5998cd13"
      },
      "execution_count": null,
      "outputs": [
        {
          "output_type": "execute_result",
          "data": {
            "text/plain": [
              "[19.8, 17.5]"
            ]
          },
          "metadata": {},
          "execution_count": 7
        }
      ]
    },
    {
      "cell_type": "code",
      "source": [
        "def bmi_calc (weight, height):\n",
        "    bmi = []\n",
        "    for w, h in zip(weight, height):                  #loop for the number of entries in each list\n",
        "        calc = round ( w / (h ** 2), 1)               #calculate bmi\n",
        "        bmi.append(calc)                              #append calculated bmi to the list of bmis.\n",
        "    return bmi\n",
        "\n",
        "#main\n",
        "wt = [54, 42]\n",
        "ht = [1.65, 1.55]\n",
        "\n",
        "bmi_calc(wt, ht)"
      ],
      "metadata": {
        "colab": {
          "base_uri": "https://localhost:8080/"
        },
        "outputId": "e2b36300-2a3c-469e-8cdf-8d351fdf93e7",
        "id": "8Gn3pXmvSv-Q"
      },
      "execution_count": null,
      "outputs": [
        {
          "output_type": "execute_result",
          "data": {
            "text/plain": [
              "[19.8, 17.5]"
            ]
          },
          "metadata": {},
          "execution_count": 1
        }
      ]
    },
    {
      "cell_type": "markdown",
      "source": [
        "Q2 - Weight Status"
      ],
      "metadata": {
        "id": "7i_l3JRpUsOJ"
      }
    },
    {
      "cell_type": "code",
      "source": [
        "def weight_status(bmi):\n",
        "    if bmi > 22.0:\n",
        "        return 'Obese'\n",
        "    elif bmi > 19.5:              #and less than 22\n",
        "        return 'Overweight'\n",
        "    elif bmi > 14.2:              #and less than 19.5\n",
        "        return 'Healthy Weight'\n",
        "    else:\n",
        "        return 'Underweight'\n",
        "\n",
        "#main\n",
        "weight_status(19.5)"
      ],
      "metadata": {
        "colab": {
          "base_uri": "https://localhost:8080/",
          "height": 35
        },
        "id": "yY-IFXlHIjtr",
        "outputId": "b3e020d6-8a6d-444d-8f3b-53329d5998de"
      },
      "execution_count": null,
      "outputs": [
        {
          "output_type": "execute_result",
          "data": {
            "application/vnd.google.colaboratory.intrinsic+json": {
              "type": "string"
            },
            "text/plain": [
              "'Healthy Weight'"
            ]
          },
          "metadata": {},
          "execution_count": 10
        }
      ]
    },
    {
      "cell_type": "markdown",
      "source": [
        "Q3 - Dictionary of student details"
      ],
      "metadata": {
        "id": "JUGyoTtBWDOt"
      }
    },
    {
      "cell_type": "code",
      "source": [
        "def student_profile(first_name, last_name, weight, height, age):\n",
        "\n",
        "    #check if height is passed in centimetres\n",
        "    if 100 < height < 250:\n",
        "        height = height / 100    \n",
        "    \n",
        "    details = {\n",
        "        'name': first_name.capitalize() + ' ' + last_name.capitalize(),\n",
        "        'weight': round(weight, 1),\n",
        "        'height': round(height, 2),\n",
        "        'age': round(age)\n",
        "        }\n",
        "    return details\n",
        "\n",
        "student_profile('rob', 'Stark', 66.789, 170, 14.7)"
      ],
      "metadata": {
        "colab": {
          "base_uri": "https://localhost:8080/"
        },
        "id": "ZkJlZePyU15N",
        "outputId": "900d4e54-b138-4ca1-c31e-db3f803617ef"
      },
      "execution_count": null,
      "outputs": [
        {
          "output_type": "execute_result",
          "data": {
            "text/plain": [
              "{'age': 15, 'height': 1.7, 'name': 'Rob Stark', 'weight': 66.8}"
            ]
          },
          "metadata": {},
          "execution_count": 19
        }
      ]
    },
    {
      "cell_type": "code",
      "source": [
        ""
      ],
      "metadata": {
        "id": "95MDOFyRSbeI"
      },
      "execution_count": null,
      "outputs": []
    }
  ]
}
