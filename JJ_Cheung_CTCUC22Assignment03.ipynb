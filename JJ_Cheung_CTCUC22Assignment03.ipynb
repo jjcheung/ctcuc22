{
  "nbformat": 4,
  "nbformat_minor": 0,
  "metadata": {
    "colab": {
      "name": "JJ Cheung - CTCUC22Assignment03.ipynb",
      "provenance": [],
      "include_colab_link": true
    },
    "kernelspec": {
      "name": "python3",
      "display_name": "Python 3"
    },
    "language_info": {
      "name": "python"
    }
  },
  "cells": [
    {
      "cell_type": "markdown",
      "metadata": {
        "id": "view-in-github",
        "colab_type": "text"
      },
      "source": [
        "<a href=\"https://colab.research.google.com/github/jjcheung/ctcuc22/blob/main/JJ_Cheung_CTCUC22Assignment03.ipynb\" target=\"_parent\"><img src=\"https://colab.research.google.com/assets/colab-badge.svg\" alt=\"Open In Colab\"/></a>"
      ]
    },
    {
      "cell_type": "markdown",
      "source": [
        "# Assignment 3 Check Digit Validation\n",
        "\n",
        "**Task: Write a NRIC validator making appropriate use of arrays (Python lists) and dictionaries.**\n",
        "\n",
        "Baseline requirement: NRIC starting with S or T\n",
        "\n",
        "Bonus requirement: NRICs starting with F or G\n",
        "\n",
        "Reference: https://ivantay2003.medium.com/creation-of-singapore-identity-number-nric-24fc3b446145\n",
        "\n",
        "Note: As NRIC is considered restricted information, you may use a NRIC generator tool to check/test your program eg https://samliew.com/nric-generator"
      ],
      "metadata": {
        "id": "l_sl9GNIOk1Y"
      }
    },
    {
      "cell_type": "markdown",
      "source": [
        "Q. Justify where and why the choice of arrays (Python lists) and dictionaries are appropriate."
      ],
      "metadata": {
        "id": "uM6DNhHUQEB5"
      }
    },
    {
      "cell_type": "markdown",
      "source": [
        "**Submit also a video walkthrough of you live coding session via the end of session feedback form https://forms.gle/gYKE1K3EQibi5Mi1A. :)**"
      ],
      "metadata": {
        "id": "izHSsPuLte_u"
      }
    },
    {
      "cell_type": "code",
      "execution_count": 21,
      "metadata": {
        "id": "S6_1DX8jOics",
        "colab": {
          "base_uri": "https://localhost:8080/"
        },
        "outputId": "b69c0406-6146-49a3-8389-4200da9f4530"
      },
      "outputs": [
        {
          "output_type": "stream",
          "name": "stdout",
          "text": [
            "Enter NRIC/FIN number: G2203220N\n",
            "Valid NRIC/FIN check digit.\n"
          ]
        }
      ],
      "source": [
        "# You may use the following template but feel free to start your own \n",
        "# if you feel there is a better way to do this :)\n",
        "\n",
        "def generate_check_digit(nric):\n",
        "    '''take in string and return check digit'''\n",
        "\n",
        "    #definition of checksum and weights\n",
        "    #checksum as dictionary of lists, with first letter of NRIC as keys and a list of check digits as values\n",
        "    checksum = {                          \n",
        "        'S': ['J', 'Z', 'I', 'H', 'G', 'F', 'E', 'D', 'C', 'B', 'A'],\n",
        "        'T': ['J', 'Z', 'I', 'H', 'G', 'F', 'E', 'D', 'C', 'B', 'A'],\n",
        "        'F': ['X', 'W', 'U', 'T', 'R', 'Q', 'P', 'N', 'M', 'L', 'K'],\n",
        "        'G': ['X', 'W', 'U', 'T', 'R', 'Q', 'P', 'N', 'M', 'L', 'K']\n",
        "    }\n",
        "    weights = [2, 7, 6, 5, 4, 3, 2]\n",
        "\n",
        "    #algorithm to generate check digit\n",
        "    total = 0\n",
        "    for i in range (7):\n",
        "        total += int(nric[i+1]) * weights[i]\n",
        "    if nric[0] in ['T', 'G']:             #additional step for T and G\n",
        "        total += 4\n",
        "    rmdr = total % 11                     #determining the index to the list in the dictionary\n",
        "\n",
        "    return checksum[nric[0]][rmdr]        #returns checksum[key][value], where key is first letter in NRIC, and value is list[rmdr]\n",
        "\n",
        "def is_valid_check_digit(nric):\n",
        "    '''to determine if check digit is valid'''\n",
        "\n",
        "    #checking last digit in nric string with value returned from generate_check_digit()\n",
        "    if nric[-1] == generate_check_digit(nric):\n",
        "        print ('Valid NRIC/FIN check digit.')\n",
        "    else:\n",
        "        print ('Invalid NRIC/FIN check digit.')\n",
        "\n",
        "def main():\n",
        "\n",
        "    #checking valid input for NRIC\n",
        "    valid_nric = False\n",
        "\n",
        "    while not valid_nric:           #loops until input is valid\n",
        "        snric = input('Enter NRIC/FIN number: ')\n",
        "        if (len(snric) == 9) and (snric[0] in ['S', 'T', 'F', 'G']) and (snric[1:8].isnumeric()):\n",
        "            valid_nric = True       #ends loop\n",
        "        else:                       #invalid entry\n",
        "            print('Invalid input. Please key in again.')\n",
        "    \n",
        "    #calls check function\n",
        "    is_valid_check_digit(snric)\n",
        "\n",
        "#runs main()\n",
        "main()"
      ]
    },
    {
      "cell_type": "code",
      "source": [
        "print(generate_check_digit.__doc__)\n",
        "print(is_valid_check_digit.__doc__)"
      ],
      "metadata": {
        "colab": {
          "base_uri": "https://localhost:8080/"
        },
        "id": "4ogiudRlSKIy",
        "outputId": "32ea5824-2c42-4f51-9096-c48a484f0193"
      },
      "execution_count": 16,
      "outputs": [
        {
          "output_type": "stream",
          "name": "stdout",
          "text": [
            "take in string and return check digit\n",
            "to determine if check digit is valid\n"
          ]
        }
      ]
    },
    {
      "cell_type": "code",
      "source": [
        ""
      ],
      "metadata": {
        "id": "GanQuhB13xDi"
      },
      "execution_count": null,
      "outputs": []
    }
  ]
}