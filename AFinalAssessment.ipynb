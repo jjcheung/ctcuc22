{
  "nbformat": 4,
  "nbformat_minor": 0,
  "metadata": {
    "colab": {
      "name": "JJ Cheung - CTCUC22ALevelFinalAssessment.ipynb",
      "provenance": [],
      "collapsed_sections": [],
      "include_colab_link": true
    },
    "kernelspec": {
      "name": "python3",
      "display_name": "Python 3"
    },
    "language_info": {
      "name": "python"
    }
  },
  "cells": [
    {
      "cell_type": "markdown",
      "metadata": {
        "id": "view-in-github",
        "colab_type": "text"
      },
      "source": [
        "<a href=\"https://colab.research.google.com/github/jjcheung/ctcuc22/blob/main/AFinalAssessment.ipynb\" target=\"_parent\"><img src=\"https://colab.research.google.com/assets/colab-badge.svg\" alt=\"Open In Colab\"/></a>"
      ]
    },
    {
      "cell_type": "markdown",
      "source": [
        "#**CTCUC 2022 A-level Final Assessment**\n",
        "Time allowed: 2.5 hours\n",
        "\n",
        "**Instructions**\n",
        "\n",
        "- This session is open-book (i.e. books are (mostly) useless).\n",
        "- Answer all tasks within this Google Colaboratory environment. (You may use your personal IDE as long as the final transferred work is tested in this environment.)\n",
        "- Start and end a video recording of the screenshare of you working on solving the tasks only.\n",
        "- Save your work by the end of the 2.5-hour duration.\n",
        "- Input validation is typically not required unless it is a specified task requirement.\n",
        "- Appropriate comments are typically required and contribute towards task credit.\n",
        "- Please note that your programs may need to clear additional test cases to earn full credit.\n",
        "- Bonus and optional tasks/components contribute extra credit over and above the total marks of 105.\n",
        "\n",
        "##**Extra 5% bonus credit for correct submission: Upload your video recording by the end of the day to the Google Form https://forms.gle/sQkR9fY6viKzwtBH9.** \n",
        "\n",
        "Syllabus: https://www.seab.gov.sg/docs/default-source/national-examinations/syllabus/alevel/2023syllabus/9569_y23_sy.pdf\n",
        "\n",
        "Quick reference guide: https://drive.google.com/file/d/1WQHI_Kyn0zGsY5aBShTdbYOSuD-kEAgj/view?usp=sharing\n",
        "\n",
        "Happy learning/coding! :)"
      ],
      "metadata": {
        "id": "VQkmLIxBZNhX"
      }
    },
    {
      "cell_type": "markdown",
      "source": [
        "##**Task 1**\n",
        "Singapore's passports have a 2-liner MRZ (machine-readable zone) and utilise the modulo 10 check digit algorithm. \n",
        "\n",
        "From https://en.wikipedia.org/wiki/Machine-readable_passport\n",
        "\n",
        "The data of the machine-readable zone consists of two rows of 44 characters each. The only characters used are A–Z, 0–9 and the filler/chevron character <.\n",
        "\n",
        "The format of the first row is:\n",
        "\n",
        "Positions | Length | Characters\t| Meaning\n",
        "----------|--------|------------|--------\n",
        "1         | 1      | alpha      | P, indicating a passport\n",
        "2         | 1      | alpha      | Type: A, indicating biometric\n",
        "3–5       | 3      | alpha      | Issuing country/organization\n",
        "6–44      | 39\t   | alpha      | Surname, followed by 2 filler characters, followed by given name separated by 1 filler character\n",
        "\n",
        "The format of the second row is:\n",
        "\n",
        "Positions | Length | Characters\t| Meaning\n",
        "----------|--------|------------|--------\n",
        "1–9       | 9      | alpha+num  | Passport number\n",
        "10        | 1      | numeric    | Check digit over digits 1–9\n",
        "11–13     | 3\t     | alpha      | Nationality\n",
        "14–19     | 6      | numeric    | Date of birth (YYMMDD)\n",
        "20        | 1      | numeric    | Check digit over digits 14–19\n",
        "21        | 1      | alpha      | Sex (M, F or < for male, female or unspecified)\n",
        "22–27     | 6      | numeric    | Expiration date of passport (YYMMDD)\n",
        "28        | 1      | numeric    | Check digit over digits 22–27\n",
        "29–42     | 14     | alpha+num  | Personal number\n",
        "43        | 1      | numeric    | Check digit over digits 29–42 (may be < if all characters are <)\n",
        "44        | 1      | numeric    | Check digit over digits 1–10, 14–20, and 22–43\n",
        "\n",
        "\n",
        "\n",
        "From https://en.wikipedia.org/wiki/Machine-readable_passport#%D0%A1hecksum_calculation\n",
        "\n",
        "**Сhecksum calculation**\n",
        "\n",
        "The check digit calculation is as follows: each position is assigned a value; for the digits 0 to 9 this is the value of the digits, for the letters A to Z this is 10 to 35, for the filler < this is 0. The value of each position is then multiplied by its weight; the weight of the first position is 7, of the second it is 3, and of the third it is 1, and after that the weights repeat 7, 3, 1, and so on. All values are added together and the remainder of the final value divided by 10 is the check digit."
      ],
      "metadata": {
        "id": "iro7xQAlWSfv"
      }
    },
    {
      "cell_type": "markdown",
      "source": [
        "###**Task 1.1 [10]**\n",
        "\n",
        "Using the following sample MRZ:\n",
        "```\n",
        "PASGPWONG<<KARA<YUN<EN<<<<<<<<<<<<<<<<<<<<<<\n",
        "K0000000E4SGP7705038F2210300S7788888H<<<<<98\n",
        "```\n",
        "Source: https://en.wikipedia.org/wiki/Singapore_passport\n",
        "\n",
        "and the following data strings:"
      ],
      "metadata": {
        "id": "_Kn3cMbI1B7i"
      }
    },
    {
      "cell_type": "code",
      "source": [
        "aline1 = \"PASGPWONG<<KARA<YUN<EN<<<<<<<<<<<<<<<<<<<<<<\"\n",
        "aline2 = \"K0000000E4SGP7705038F2210300S7788888H<<<<<98\""
      ],
      "metadata": {
        "id": "tajMm7T13JiB"
      },
      "execution_count": null,
      "outputs": []
    },
    {
      "cell_type": "markdown",
      "source": [
        "Write a user-defined function `fullname(string)` to extract and display the full name of the passport holder in surname + given name format.\n",
        "\n",
        "For the above example, output the full name as:\n",
        "```\n",
        "WONG KARA YUN EN\n",
        "```\n",
        "Verify that your function works for the following MRZ:\n",
        "\n",
        "Source: https://community.developers.refinitiv.com/questions/79293/please-let-us-know-if-there-is-any-specific-way-to.html"
      ],
      "metadata": {
        "id": "5DoD25KVXG9g"
      }
    },
    {
      "cell_type": "code",
      "source": [
        "bline1 = \"PASGPNG<<LINDA<ZEE<ZEE<<<<<<<<<<<<<<<<<<<<<<\"\n",
        "bline2 = \"X2000444N4SGP7706275F1008232S7788888H<<<<<96\""
      ],
      "metadata": {
        "id": "Dx7lvOxLXPx8"
      },
      "execution_count": null,
      "outputs": []
    },
    {
      "cell_type": "code",
      "source": [
        "def fullname(string):\n",
        "      name = string[5:].split('<')\n",
        "      while '' in name:\n",
        "          name.remove('')\n",
        "      return ' '.join(map(str, name))\n",
        "# main\n",
        "print(fullname(aline1)) # returns WONG KARA YUN EN\n",
        "print(fullname(bline1)) # returns NG LINDA ZEE ZEE"
      ],
      "metadata": {
        "id": "lMXW9qPqXRCS",
        "colab": {
          "base_uri": "https://localhost:8080/"
        },
        "outputId": "e08e5434-f892-48f3-8d5b-c346940a9a3d"
      },
      "execution_count": null,
      "outputs": [
        {
          "output_type": "stream",
          "name": "stdout",
          "text": [
            "WONG KARA YUN EN\n",
            "NG LINDA ZEE ZEE\n"
          ]
        }
      ]
    },
    {
      "cell_type": "markdown",
      "source": [
        "###**Task 1.2 [10]**\n",
        "Write user-defined function(s) to verify if a passport substring check digit is valid.\n",
        "\n",
        "Test your functions with the data in `aline1` and `bline1`.\n",
        "\n",
        "Note: For each MRZ line, there are 5 check digits that your function(s) should test against.\n",
        "\n",
        "Do not write 5 same same but different sets of functions. :)"
      ],
      "metadata": {
        "id": "2pCwzuJI3FuH"
      }
    },
    {
      "cell_type": "code",
      "execution_count": null,
      "metadata": {
        "id": "VQrZsaiZ00Tt"
      },
      "outputs": [],
      "source": [
        "# your code here"
      ]
    },
    {
      "cell_type": "markdown",
      "source": [
        "##**Task 2**\n",
        "A media access control (MAC) address is a unique identification code hardwired to and used to identify individual devices on the network, and is often expressed using hexadecimal notation eg. `4c:21:d0:15:e3:ea`.\n"
      ],
      "metadata": {
        "id": "WeKWuSPJ4G86"
      }
    },
    {
      "cell_type": "markdown",
      "source": [
        "###**Task 2.1 [8]**\n",
        "Using top down design, write iterative program code to convert a given MAC address to decimal notation. For MAC address `4c:21:d0:15:e3:ea`, its converted decimal notation will be `76:33:208:21:227:234`."
      ],
      "metadata": {
        "id": "ZergDBC-Zdzo"
      }
    },
    {
      "cell_type": "code",
      "source": [
        "def maci(string):\n",
        "    hexlist = '0123456789abcdef'              #list of hexadecimal values, to be called by relevant indices\n",
        "    mac = string.split(':')\n",
        "    #print(mac)\n",
        "    result = []\n",
        "    for num in mac:    \n",
        "        total = 0\n",
        "      \n",
        "        for i in range(len(num)):\n",
        "            total += hexlist.index(num[i]) * 16**(len(num)-1-i) #hex value x 16^n, where n is determined wrt length of string\n",
        "        result.append(total)\n",
        "        \n",
        "    #print (result)\n",
        "    return ':'.join(map(str,result))\n",
        "\n",
        "maci('4c:21:d0:15:e3:ea')"
      ],
      "metadata": {
        "id": "8dQJXqYWZoUO",
        "colab": {
          "base_uri": "https://localhost:8080/",
          "height": 35
        },
        "outputId": "5dd1a413-6342-4373-e01f-62b0f15ee89a"
      },
      "execution_count": null,
      "outputs": [
        {
          "output_type": "execute_result",
          "data": {
            "text/plain": [
              "'76:33:208:21:227:234'"
            ],
            "application/vnd.google.colaboratory.intrinsic+json": {
              "type": "string"
            }
          },
          "metadata": {},
          "execution_count": 18
        }
      ]
    },
    {
      "cell_type": "markdown",
      "source": [
        "###**Task 2.2 [9]**\n",
        "Write recursive program code to convert a given MAC address to decimal notation. Use the same MAC address `4c:21:d0:15:e3:ea` to test your program code."
      ],
      "metadata": {
        "id": "ywk03GAO8zqV"
      }
    },
    {
      "cell_type": "code",
      "source": [
        "def macr(string):\n",
        "    coloni = string.find(':')\n",
        "    total = 0\n",
        "    hexlist = '0123456789abcdef'              #list of hexadecimal values, to be called by relevant indices\n",
        "\n",
        "\n",
        "    if coloni == -1:\n",
        "        for i in range(len(string)):\n",
        "            total += hexlist.index(string[i]) * 16**(len(string)-1-i) #hex value x 16^n, where n is determined wrt length of string\n",
        "        return str(total)\n",
        "\n",
        "    else:\n",
        "        num = string[:coloni]\n",
        "        for i in range(len(num)):\n",
        "            total += hexlist.index(num[i]) * 16**(len(num)-1-i) #hex value x 16^n, where n is determined wrt length of string\n",
        "        return str(total) + ':' + macr(string[coloni+1:])\n",
        "        \n",
        "macr('4c:21:d0:15:e3:ea')"
      ],
      "metadata": {
        "id": "fmaHHVtnB_ca",
        "colab": {
          "base_uri": "https://localhost:8080/",
          "height": 35
        },
        "outputId": "0768e6c8-88ac-4c1e-a532-169275cc7b1d"
      },
      "execution_count": null,
      "outputs": [
        {
          "output_type": "execute_result",
          "data": {
            "text/plain": [
              "'76:33:208:21:227:234'"
            ],
            "application/vnd.google.colaboratory.intrinsic+json": {
              "type": "string"
            }
          },
          "metadata": {},
          "execution_count": 26
        }
      ]
    },
    {
      "cell_type": "markdown",
      "source": [
        "###**Task 2.3 [8]**\n",
        "Write program code to perform input validation for a MAC address. Test your program with suitable test data."
      ],
      "metadata": {
        "id": "ONCKhTfCNLL8"
      }
    },
    {
      "cell_type": "code",
      "source": [
        "\n",
        "isvalid = False\n",
        "while not isvalid:\n",
        "    macad = input('Enter mac address: ')\n",
        "    mc = macad.replace(':', '')\n",
        "    if len(macad) == 0:\n",
        "        print('Empty input')\n",
        "    elif len(macad) != 17:\n",
        "        print('Wrong length')\n",
        "    elif mc.isalum():\n",
        "        print('Wrong format')\n",
        "    else:\n",
        "        isvalid = True"
      ],
      "metadata": {
        "id": "ndl-3HEt8RjT"
      },
      "execution_count": null,
      "outputs": []
    },
    {
      "cell_type": "markdown",
      "source": [
        "##**Task 3**\n",
        "You have been tasked to develop a machine learning algorithm for text analysis. You have been provided with the following training data (in [CORPUS.txt](https://drive.google.com/file/d/1rnLk2XdMoZzd40M94Mw344JhRM4CEkbK/view?usp=sharing)):\n",
        "```\n",
        "I love Computing. Computing rocks, rocks, rocks!\n",
        "I have a dog and a cat.\n",
        "Best of Computing? Projects, projects, projects!\n",
        "My cat keeps chasing my dog. Cats!\n",
        "```"
      ],
      "metadata": {
        "id": "JTeZK6hj9wEX"
      }
    },
    {
      "cell_type": "markdown",
      "source": [
        "###**Task 3.1 [6]**\n",
        "\n",
        "Create and output a frequency dictionary of case-insensitive sorted key terms for the corpus. For the above data, after removing stop words (eg I, have, etc.) the sorted key terms will be: \n",
        "```\n",
        "best, cat, cats, chasing, computing, dog, love, projects, rocks\n",
        "```"
      ],
      "metadata": {
        "id": "Q00B5_DsxdcZ"
      }
    },
    {
      "cell_type": "code",
      "source": [
        "import string\n",
        "\n",
        "stopwords = ['i', 'have', 'a', 'and', 'of', 'keeps', 'my']\n",
        "count = {}\n",
        "keys = []\n",
        "\n",
        "def sortdict():\n",
        "    sorted_dict = {k: v for k, v in sorted(count.items(), key=lambda item: item[1])}\n",
        "    #keys = []\n",
        "    for k in sorted_dict.keys():\n",
        "        keys.append(k)\n",
        "    print(keys)\n",
        "\n",
        "def fdict(string):\n",
        "    lst = string.split(' ')\n",
        "    for word in lst:\n",
        "        if word not in count.keys():\n",
        "            count[word] = 1\n",
        "        else:\n",
        "            count[word] += 1\n",
        "\n",
        "def readfile(link):\n",
        "    with open(link) as infile:\n",
        "        lines = infile.readlines()\n",
        "\n",
        "\n",
        "    for i in range(len(lines)):\n",
        "        #removing all punctuation, convert to lowercase, and then split string to list\n",
        "        lst = lines[i].translate(str.maketrans('', '', string.punctuation)).lower().split()            \n",
        "        for word in stopwords:\n",
        "            lst = [value for value in lst if value != word]   #removing words from lst \n",
        "        lines[i] = ' '.join(lst)\n",
        "    \n",
        "    for line in lines:\n",
        "        fdict(line)\n",
        "\n",
        "\n",
        "link = 'CORPUS.TXT'\n",
        "readfile(link)\n",
        "sortdict()"
      ],
      "metadata": {
        "id": "LEl50MG7LZfW",
        "colab": {
          "base_uri": "https://localhost:8080/"
        },
        "outputId": "304b2b92-7270-4a2b-be21-8e735c8bf537"
      },
      "execution_count": null,
      "outputs": [
        {
          "output_type": "stream",
          "name": "stdout",
          "text": [
            "['love', 'best', 'chasing', 'cats', 'dog', 'cat', 'computing', 'rocks', 'projects']\n"
          ]
        }
      ]
    },
    {
      "cell_type": "markdown",
      "source": [
        "###**Task 3.2 [6]**\n",
        "Create a 2D array to store the frequencies of sorted key terms for all sentences. For example, for the first sentence `I love Computing. Computing rocks, rocks, rocks!`, the array contents will be:\n",
        "```\n",
        "[0, 0, 0, 0, 2, 0, 1, 0, 3]\n",
        "```\n",
        "as there are 2, 1 and 3 occurrences of `computing`, `love` and `rocks` respectively.\n",
        "\n",
        "Output the contents of your array in a tabular format (without borders).\n",
        "\n"
      ],
      "metadata": {
        "id": "QZj-8vFALWAB"
      }
    },
    {
      "cell_type": "code",
      "source": [
        "def countline(string):\n",
        "    countl = [0 for i in range(len(keys))]\n",
        "    lst = string.split(' ')\n",
        "    for word in lst:\n",
        "        if word in keys:\n",
        "            countl[keys.index(word)] += 1\n",
        "    for num in countl:\n",
        "        print ('{:<10}'.format(num), end = '')\n",
        "    print()\n",
        "    \n",
        "def readfile(link):\n",
        "    with open(link) as infile:\n",
        "        lines = infile.readlines()\n",
        "\n",
        "\n",
        "    for i in range(len(lines)):\n",
        "        #removing all punctuation, convert to lowercase, and then split string to list\n",
        "        lst = lines[i].translate(str.maketrans('', '', string.punctuation)).lower().split()            \n",
        "        for word in stopwords:\n",
        "            lst = [value for value in lst if value != word]   #removing words from lst \n",
        "        lines[i] = ' '.join(lst)\n",
        "    \n",
        "    for line in lines:\n",
        "        countline(line)\n",
        "\n",
        "\n",
        "link = 'CORPUS.TXT'\n",
        "for word in keys:\n",
        "    print ('{:10}'.format(word), end = '')\n",
        "print()\n",
        "readfile(link)"
      ],
      "metadata": {
        "id": "hZb-wI2RKuQ_",
        "colab": {
          "base_uri": "https://localhost:8080/"
        },
        "outputId": "1c824159-e83b-499d-ab79-6776e066fbec"
      },
      "execution_count": null,
      "outputs": [
        {
          "output_type": "stream",
          "name": "stdout",
          "text": [
            "love      best      chasing   cats      dog       cat       computing rocks     projects  \n",
            "1         0         0         0         0         0         2         3         0         \n",
            "0         0         0         0         1         1         0         0         0         \n",
            "0         1         0         0         0         0         1         0         3         \n",
            "0         0         1         1         1         1         0         0         0         \n"
          ]
        }
      ]
    },
    {
      "cell_type": "markdown",
      "source": [
        "###**Task 3.3 [7]**\n",
        "\n",
        "Update your 2D array to give a normalised frequency of each key term i.e. divide the number of occurrences of each key term in a sentence by the total number of key terms in the sentence. This gives a more accurate representation of the importance of the key terms relative to the length of the sentence. For the first sentence, the updated weighted array contents will be:\n",
        "```\n",
        "[0, 0, 0, 0, 0.333, 0, 0.167, 0, 0.5]\n",
        "```\n",
        "corresponding respectively to 2 `computing`, 1 `love` and 3 `rocks` over 6 key terms.\n",
        "\n",
        "Output the contents of your updated array in a tabular format (without borders).\n",
        "\n"
      ],
      "metadata": {
        "id": "osRqgTxjcLY2"
      }
    },
    {
      "cell_type": "code",
      "source": [
        "def countline(string):\n",
        "    countl = [0 for i in range(len(keys))]\n",
        "    countlen = 0\n",
        "    lst = string.split(' ')\n",
        "    for word in lst:\n",
        "        if word in keys:\n",
        "            countl[keys.index(word)] += 1\n",
        "            countlen += 1\n",
        "    for num in countl:\n",
        "        print ('{:<10.3f}'.format(num/countlen), end = '')\n",
        "    print()\n",
        "    \n",
        "def readfile(link):\n",
        "    with open(link) as infile:\n",
        "        lines = infile.readlines()\n",
        "\n",
        "\n",
        "    for i in range(len(lines)):\n",
        "        #removing all punctuation, convert to lowercase, and then split string to list\n",
        "        lst = lines[i].translate(str.maketrans('', '', string.punctuation)).lower().split()            \n",
        "        for word in stopwords:\n",
        "            lst = [value for value in lst if value != word]   #removing words from lst \n",
        "        lines[i] = ' '.join(lst)\n",
        "    \n",
        "    for line in lines:\n",
        "        countline(line)\n",
        "\n",
        "\n",
        "link = 'CORPUS.TXT'\n",
        "for word in keys:\n",
        "    print ('{:10}'.format(word), end = '')\n",
        "print()\n",
        "readfile(link)"
      ],
      "metadata": {
        "id": "begby8v9cKa4",
        "colab": {
          "base_uri": "https://localhost:8080/"
        },
        "outputId": "e04185fb-e87d-4644-b3af-833d19bc4f1e"
      },
      "execution_count": null,
      "outputs": [
        {
          "output_type": "stream",
          "name": "stdout",
          "text": [
            "love      best      chasing   cats      dog       cat       computing rocks     projects  \n",
            "0.167     0.000     0.000     0.000     0.000     0.000     0.333     0.500     0.000     \n",
            "0.000     0.000     0.000     0.000     0.500     0.500     0.000     0.000     0.000     \n",
            "0.000     0.200     0.000     0.000     0.000     0.000     0.200     0.000     0.600     \n",
            "0.000     0.000     0.250     0.250     0.250     0.250     0.000     0.000     0.000     \n"
          ]
        }
      ]
    },
    {
      "cell_type": "markdown",
      "source": [
        "###**Task 3.4 [11]**\n",
        "\n",
        "Using your normalised array and an appropriate algorithm, divide the key terms into 2 groups. Output the contents of the 2 groups."
      ],
      "metadata": {
        "id": "OHxFAP4ccbud"
      }
    },
    {
      "cell_type": "code",
      "source": [
        "# your code here"
      ],
      "metadata": {
        "id": "Vi-kwHIUcjow"
      },
      "execution_count": null,
      "outputs": []
    },
    {
      "cell_type": "markdown",
      "source": [
        "##**Task 4**\n",
        "\n",
        "A blockchain is a linked list of blocks where each `Block` has the following class structure:\n",
        "\n",
        "Identifier | Data Type | Description\n",
        "---------- |-----------|------------\n",
        "data       | String    | Block data    \n",
        "prev_hash  | String    | Hash of previous block    \n",
        "curr_hash  | String    | Hash of data and prev_hash     \n",
        "next       | Integer   | Pointer to the next block      \n",
        "\n",
        "The `BlockChain` class structure is as follows:\n",
        "\n",
        "Identifier | Data Type               | Description\n",
        "---------- |-------------------------|------------\n",
        "chain_data | Linked list             | A linked list used to chain the blocks\n",
        "start      | Integer                 | Address of the genesis block\n",
        "\n",
        "\n",
        "The first block of the blockchain is called the genesis block and its prev_hash value is 3D7 in hexadecimal (983 in decimal).\n",
        "\n",
        "The blockchain is used to store the achievement data of students in computing and infocomm programmes. The ensures the integrity and verifiability of students' portfolios which will be useful in internships, higher education and scholarship opportunities."
      ],
      "metadata": {
        "id": "mWPJQpwIikjW"
      }
    },
    {
      "cell_type": "markdown",
      "source": [
        "###**Task 3.1 [7]**\n",
        "Write program code to declare and initialise the empty blockchain. Also write a `display()` helper method to show all contents of the blockchain."
      ],
      "metadata": {
        "id": "w8hyNTo8jJBX"
      }
    },
    {
      "cell_type": "code",
      "source": [
        "class Block:\n",
        "    def __init__(self, data, prev = None, curr = None):\n",
        "        self.data = data\n",
        "        self.prev_hash = prev\n",
        "        self.curr_hash = curr\n",
        "        self.next = None\n",
        "\n",
        "class BlockChain:\n",
        "    def __init__(self):\n",
        "        self.chain_data = None\n",
        "        self.start = None\n",
        "\n",
        "    def isempty(self):\n",
        "        return self.start == None\n",
        "\n",
        "    def insert(self, data):\n",
        "        if self.isempty():\n",
        "            self.start = Block(data, 983)\n",
        "        else:\n",
        "            temp = self.start\n",
        "            while temp.next:\n",
        "                temp = temp.next\n",
        "            temp.next = Block(data)\n",
        "    \n",
        "    def display(self):\n",
        "        if self.isempty():\n",
        "            print ('Empty Blockchain')\n",
        "        else:\n",
        "            temp = self.start\n",
        "            while temp:\n",
        "                print(temp.data)\n",
        "                temp = temp.next\n",
        "\n",
        "    def filter(self, string):\n",
        "        if self.isempty():\n",
        "            print ('Empty Blockchain')\n",
        "        else:\n",
        "            temp = self.start\n",
        "            while temp:\n",
        "                if string in temp.data:\n",
        "                    print(temp.data)\n",
        "                temp = temp.next\n"
      ],
      "metadata": {
        "id": "twadcc9QjLR1"
      },
      "execution_count": null,
      "outputs": []
    },
    {
      "cell_type": "markdown",
      "source": [
        "###**Task 3.2 [13]**\n",
        "The following hashing algorithm computes the curr_hash value of each block:\n",
        "\n",
        "- Compute the sum of ASCII values for the characters in the achievement data string.\n",
        "- Multiply this sum by the kth prime number, where k is the length of the achievement data string.\n",
        "- Multiply this with the decimal equivalent of the prev_hash value of the current block.\n",
        "- Convert this value to its uppercase hexadecimal equivalent.\n",
        "\n",
        "For example, for the achievement data string \n",
        "```\n",
        "Splash Awards 2018:Robert Goh,Mary Tan,Choo Ah Beng:First \n",
        "```\n",
        "Its curr_hash value will be `4D32A036` \n",
        "(hexadecimal equivalent of sum of ASCII value * 57th prime number * prev_hash = 4898 * 269 * 983)\n",
        "\n",
        "Write program code for a `compute_hash()` function to calculate the curr_hash value of a block. Verify your function with the following 2 achievement data strings:\n",
        "```\n",
        "Splash Awards 2018:Robert Goh,Mary Tan,Choo Ah Beng:First\n",
        "Splash Awards 2018:Lim Ah Huat,Alice Wong,Tan Ah Lian:Honorable Mention\n",
        "```"
      ],
      "metadata": {
        "id": "6JahjBK3m0cu"
      }
    },
    {
      "cell_type": "code",
      "source": [
        "def isPrime(n):\n",
        "    for i in range (2, n):\n",
        "        if n % i == 0:\n",
        "            return False\n",
        "    return True\n",
        "\n",
        "def dec2hex (num):\n",
        "    result = ''                     #empty string for converted hexadecimal values\n",
        "    hexlist = '0123456789ABCDEF'    #list of hexadecimal values, called by using the relevant indices\n",
        "    while num!= 0:\n",
        "        remainder = num % 16        #for the conversion of the hexadecimal value\n",
        "        num = num // 16             #for the rest of the values\n",
        "        result = hexlist[remainder] + result  #appending converted value in front of existing values\n",
        "    return result\n",
        "\n",
        "def compute_hash(string, prev):\n",
        "    totalA = 0\n",
        "    for i in range(len(string)):\n",
        "        totalA += ord(string[i])\n",
        "    count = 0\n",
        "    num = 2\n",
        "    while count < len(string):\n",
        "        if isPrime(num):\n",
        "            count+=1\n",
        "        num+=1\n",
        "    return dec2hex(totalA * (num -1) * prev)\n",
        "\n",
        "A= 'Splash Awards 2018:Robert Goh,Mary Tan,Choo Ah Beng:First'\n",
        "B= 'Splash Awards 2018:Lim Ah Huat,Alice Wong,Tan Ah Lian:Honorable Mention'\n",
        "print(compute_hash(A, 983))\n",
        "print(compute_hash(B, 983))"
      ],
      "metadata": {
        "id": "mWUAMxZJn5H6",
        "colab": {
          "base_uri": "https://localhost:8080/"
        },
        "outputId": "f1fd7f13-3abf-4db2-e3a7-3bb4dde9fb29"
      },
      "execution_count": null,
      "outputs": [
        {
          "output_type": "stream",
          "name": "stdout",
          "text": [
            "4D32A036\n",
            "7F089112\n"
          ]
        }
      ]
    },
    {
      "cell_type": "markdown",
      "source": [
        "###**Task 3.3 [5]**\n",
        "\n",
        "Write program code to insert the data in [ACHIEVEMENTS.TXT](https://drive.google.com/file/d/18JRMt5PW2iUn3U5DNCFgxgwaC8hw8pKo/view?usp=sharing) into the blockchain and display the contents of the updated blockchain."
      ],
      "metadata": {
        "id": "8pnr0-mbn7FN"
      }
    },
    {
      "cell_type": "code",
      "source": [
        "bc = BlockChain()\n",
        "with open('ACHIEVEMENTS.TXT') as infile:\n",
        "    lines = infile.readlines()\n",
        "\n",
        "    for line in lines:\n",
        "        bc.insert(line)\n",
        "\n",
        "bc.display()\n"
      ],
      "metadata": {
        "id": "FIKTDnnIoKFx",
        "colab": {
          "base_uri": "https://localhost:8080/"
        },
        "outputId": "91eb28a1-d431-465f-a02f-df65234e8676"
      },
      "execution_count": null,
      "outputs": [
        {
          "output_type": "stream",
          "name": "stdout",
          "text": [
            "Splash Awards 2018:Robert Goh,Mary Tan,Choo Ah Beng:First\n",
            "\n",
            "Splash Awards 2018:Lim Ah Huat,Alice Wong,Tan Ah Lian:Honorable Mention\n",
            "\n",
            "codeXtremeApps Hackathon 2018:Mary Tan,Alice Wong,John Ng:First\n",
            "\n",
            "codeXtremeApps Hackathon 2018:Lim Ah Huat,Robert Goh,Choo Ah Beng:Participation\n",
            "\n",
            "National Olympiad in Informatics:John Ng:Silver\n",
            "\n",
            "Udacity Self-driving Car Nanodegree:Lim Ah Huat:Distinction\n",
            "\n"
          ]
        }
      ]
    },
    {
      "cell_type": "markdown",
      "source": [
        "###**Task 3.4 [6]**\n",
        "\n",
        "Lim Ah Huat aspires to save the world by studying computer science in NUS School of Computing. As it is now the toughest course to get admitted to, he hopes to improve his chances of admission by showcasing his achievements in the various computing and infocomm related programmes he has participated in. He claimed that he is a good team player and is a strong self-directed learner with excellent aptitude for Computing.\n",
        "\n",
        "How can the university admission panel verify his achievements using the existing blockchain? You should describe briefly in program comments this strategy and implement the associated program code."
      ],
      "metadata": {
        "id": "z5B8ua6LoGA6"
      }
    },
    {
      "cell_type": "code",
      "source": [
        "# search and filter data blockchain containing his name, added filter function in task 4.1\n",
        "\n",
        "bc.filter('Lim Ah Huat')"
      ],
      "metadata": {
        "id": "J3_ttXaNoG4o",
        "colab": {
          "base_uri": "https://localhost:8080/"
        },
        "outputId": "4a7650eb-5deb-41e2-9ec1-0ccf5e267a8b"
      },
      "execution_count": null,
      "outputs": [
        {
          "output_type": "stream",
          "name": "stdout",
          "text": [
            "Splash Awards 2018:Lim Ah Huat,Alice Wong,Tan Ah Lian:Honorable Mention\n",
            "\n",
            "codeXtremeApps Hackathon 2018:Lim Ah Huat,Robert Goh,Choo Ah Beng:Participation\n",
            "\n",
            "Udacity Self-driving Car Nanodegree:Lim Ah Huat:Distinction\n",
            "\n"
          ]
        }
      ]
    },
    {
      "cell_type": "markdown",
      "source": [
        "###**Task 3.5 [4]**\n",
        "Another student Tan Ah Seng claimed that he also has computing or infocomm related participation, and changes one of the achievement data string from \n",
        "```\n",
        "Splash Awards 2018:Lim Ah Huat,Alice Wong,Tan Ah Lian:Honorable Mention\n",
        "```\n",
        "to\n",
        "```\n",
        "Splash Awards 2018:Lim Ah Huat,Alice Wong,Tan Ah Seng:Honorable Mention\n",
        "```\n",
        "Using program comments, briefly explain the impact to the blockchain. Write program code to refute Mr Tan's claim."
      ],
      "metadata": {
        "id": "xCbjHNPnoB2m"
      }
    },
    {
      "cell_type": "code",
      "source": [
        "# if written to the blockchain, it will permanently change the record in the blockchain, causing its data to be errorneous\n",
        "\n",
        "# your code here"
      ],
      "metadata": {
        "id": "TS0pxpt1pMtZ"
      },
      "execution_count": null,
      "outputs": []
    },
    {
      "cell_type": "markdown",
      "source": [
        "##**Task 5 [Bonus Bonus][10]**\n",
        "Design a task showing the application of programming constructs (data types, conditionals, iteration, functions, arrays, data structures and algorithms, OOP, etc.) in the A-level syllabus with the program output as `42`."
      ],
      "metadata": {
        "id": "tlPvdXh_zbfI"
      }
    },
    {
      "cell_type": "code",
      "source": [
        "# Program output is 42\n",
        "# Hint: 42 is the meaning of life. :)"
      ],
      "metadata": {
        "id": "dPrZuSKf0RbT"
      },
      "execution_count": null,
      "outputs": []
    }
  ]
}