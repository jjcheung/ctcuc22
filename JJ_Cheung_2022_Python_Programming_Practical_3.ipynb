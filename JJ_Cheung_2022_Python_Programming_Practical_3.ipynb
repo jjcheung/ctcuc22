{
  "nbformat": 4,
  "nbformat_minor": 0,
  "metadata": {
    "colab": {
      "name": "JJ Cheung - 2022 Python Programming Practical 3.ipynb",
      "provenance": [],
      "collapsed_sections": [],
      "include_colab_link": true
    },
    "kernelspec": {
      "name": "python3",
      "display_name": "Python 3"
    }
  },
  "cells": [
    {
      "cell_type": "markdown",
      "metadata": {
        "id": "view-in-github",
        "colab_type": "text"
      },
      "source": [
        "<a href=\"https://colab.research.google.com/github/jjcheung/ctcuc22/blob/main/JJ_Cheung_2022_Python_Programming_Practical_3.ipynb\" target=\"_parent\"><img src=\"https://colab.research.google.com/assets/colab-badge.svg\" alt=\"Open In Colab\"/></a>"
      ]
    },
    {
      "cell_type": "markdown",
      "metadata": {
        "id": "jp3BkDml8xiR"
      },
      "source": [
        "# **2022 Python Programming Practical 3**\n",
        "\n"
      ]
    },
    {
      "cell_type": "markdown",
      "source": [
        "**Q0. (Simple calculator)**  \n",
        "Write a program to simulate a simple calculator with the four basic operations of addition, subtraction, multiplication and division. Use functions."
      ],
      "metadata": {
        "id": "nV28MpTAjeVS"
      }
    },
    {
      "cell_type": "code",
      "source": [
        "\n",
        "def add (n1, n2):\n",
        "    return n1 + n2\n",
        "\n",
        "def subtract (n1, n2):\n",
        "    return n1 - n2\n",
        "\n",
        "def multiply (n1, n2):\n",
        "    return n1 * n2\n",
        "\n",
        "def divide (n1, n2):\n",
        "    return n1 / n2\n",
        "\n",
        "eqn = input (\"Enter equation to compute: \")\n",
        "print(add (3,2))\n",
        "print(subtract (5,4))\n",
        "print(multiply (5, 6))\n",
        "print(divide (6, 5))"
      ],
      "metadata": {
        "id": "JmWxrlekjfkI",
        "colab": {
          "base_uri": "https://localhost:8080/"
        },
        "outputId": "c085837f-dbb8-4d10-9759-702b729ba4fa"
      },
      "execution_count": 27,
      "outputs": [
        {
          "output_type": "stream",
          "name": "stdout",
          "text": [
            "5\n",
            "1\n",
            "30\n",
            "1.2\n"
          ]
        }
      ]
    },
    {
      "cell_type": "markdown",
      "metadata": {
        "id": "-U8w0oQW9P_b"
      },
      "source": [
        "**Q1. (Displaying an integer reversed)**\n",
        "\n",
        "Write a function reverse_int(n) to display an integer in reverse order:\n",
        "\n",
        "For example, reverse_int(3456) displays 6543."
      ]
    },
    {
      "cell_type": "code",
      "metadata": {
        "id": "D0uTR7B-8qbF",
        "colab": {
          "base_uri": "https://localhost:8080/"
        },
        "outputId": "bb6b39df-4075-4304-d2e1-1ba83a96726b"
      },
      "source": [
        "num = int(input('Enter number to be reversed: '))\n",
        "\n",
        "def reverse_int(n):\n",
        "    rev = 0                         #initialise value\n",
        "    while n>0:                      \n",
        "        rev = rev * 10 + n % 10     #getting the last value of num and adding as last digit of rev\n",
        "        n = n // 10                 #remove last value of num\n",
        "    return rev\n",
        "\n",
        "print (reverse_int(num))"
      ],
      "execution_count": 63,
      "outputs": [
        {
          "output_type": "stream",
          "name": "stdout",
          "text": [
            "Enter number to be reversed: 3456\n",
            "6543\n"
          ]
        }
      ]
    },
    {
      "cell_type": "markdown",
      "metadata": {
        "id": "7Ui5CuS_9Za1"
      },
      "source": [
        "**Q2. (Displaying patterns)**\n",
        "\n",
        "Write a function display_pattern(n) to display a pattern as follows:\n",
        "```\n",
        "              1\n",
        "            2 1\n",
        "          3 2 1\n",
        "...\n",
        "n n-1 ... 3 2 1 \n",
        "```\n",
        "\n",
        "\n"
      ]
    },
    {
      "cell_type": "code",
      "source": [
        "def display_pattern(n):\n",
        "    for i in range (1, n + 1):\n",
        "        width = 2* n + 1                #setting width of column\n",
        "        num = '1'\n",
        "        for j in range (1,i):           #loop to add to number\n",
        "            num = str(j+1) + ' ' + num \n",
        "        print (f'{num:>{width}}')\n",
        "\n",
        "display_pattern (9)"
      ],
      "metadata": {
        "id": "LsOkb2iwjAKM",
        "colab": {
          "base_uri": "https://localhost:8080/"
        },
        "outputId": "71f0be09-b7e4-45bf-8a41-4743f4260395"
      },
      "execution_count": 60,
      "outputs": [
        {
          "output_type": "stream",
          "name": "stdout",
          "text": [
            "                  1\n",
            "                2 1\n",
            "              3 2 1\n",
            "            4 3 2 1\n",
            "          5 4 3 2 1\n",
            "        6 5 4 3 2 1\n",
            "      7 6 5 4 3 2 1\n",
            "    8 7 6 5 4 3 2 1\n",
            "  9 8 7 6 5 4 3 2 1\n"
          ]
        }
      ]
    },
    {
      "cell_type": "markdown",
      "source": [
        "How about the following pattern?\n",
        "```\n",
        "    1\n",
        "   121\n",
        "  12321\n",
        " 1234321\n",
        "123454321\n",
        "```"
      ],
      "metadata": {
        "id": "Eue7X2R2jKbN"
      }
    },
    {
      "cell_type": "code",
      "metadata": {
        "id": "BYedS_Q_t6-S",
        "colab": {
          "base_uri": "https://localhost:8080/"
        },
        "outputId": "8a8b81a3-c546-462e-e5cc-17c6b98a6be7"
      },
      "source": [
        "def display_pattern(n):\n",
        "    for i in range(1,n+1):\n",
        "        width = 2* n -1\n",
        "        num = '1'\n",
        "        for j in range (1,i):\n",
        "            num = str(j+1) + num + str(j+1) \n",
        "        print (num.center(width))\n",
        "\n",
        "display_pattern (9)"
      ],
      "execution_count": 25,
      "outputs": [
        {
          "output_type": "stream",
          "name": "stdout",
          "text": [
            "        1        \n",
            "       212       \n",
            "      32123      \n",
            "     4321234     \n",
            "    543212345    \n",
            "   65432123456   \n",
            "  7654321234567  \n",
            " 876543212345678 \n",
            "98765432123456789\n"
          ]
        }
      ]
    },
    {
      "cell_type": "markdown",
      "metadata": {
        "id": "aVhHiT8w9c7d"
      },
      "source": [
        "**Q3. (Computing GCD)**\n",
        "\n",
        "Write a function gcd(m, n) that returns the greatest common divisor between two positive integers:\n",
        "\n",
        "Test your program with gcd(24, 16) and gcd(255, 25)."
      ]
    },
    {
      "cell_type": "code",
      "metadata": {
        "id": "PwRmweEa9fny",
        "colab": {
          "base_uri": "https://localhost:8080/"
        },
        "outputId": "e69835ab-540c-45b0-f86e-291f938188d8"
      },
      "source": [
        "def gcd (m, n):\n",
        "    lcm = max(m, n)                           #using lcm method. initialise search with the larger value of m and n\n",
        "    while (lcm % m != 0) or (lcm % n !=0):    #checking for lcm\n",
        "        lcm += 1                              #increment value of lcm if not divisible by m or n\n",
        "    return int ((m * n)/lcm)                  #return gcd, using lcm formula\n",
        "\n",
        "print (gcd(24,16))\n",
        "\n",
        "print (gcd(255,25))\n"
      ],
      "execution_count": 29,
      "outputs": [
        {
          "output_type": "stream",
          "name": "stdout",
          "text": [
            "8\n",
            "5\n"
          ]
        }
      ]
    },
    {
      "cell_type": "code",
      "source": [
        "def gcd (m, n):\n",
        "    value = min(m, n)                           #finding the smaller value of n1 and n2\n",
        "    while m % value != 0 or n % value != 0:     #testing if current value of gcd is not a factor of either n1 and n2\n",
        "        value -= 1                              #decrement for next while loop\n",
        "    return value\n",
        "  \n",
        "print (gcd(24,16))\n",
        "\n",
        "print (gcd(255,25))"
      ],
      "metadata": {
        "colab": {
          "base_uri": "https://localhost:8080/"
        },
        "id": "2tX-c0sYN_aD",
        "outputId": "326df61f-d8a4-4c21-a15b-9f773d1b2c72"
      },
      "execution_count": 53,
      "outputs": [
        {
          "output_type": "stream",
          "name": "stdout",
          "text": [
            "8\n",
            "5\n"
          ]
        }
      ]
    },
    {
      "cell_type": "markdown",
      "metadata": {
        "id": "wWe4kRS8ZmwP"
      },
      "source": [
        "**Q4. (Summing series)**\n",
        "\n",
        "Write a function m_series(i) to compute the following series:\n",
        "\n",
        "m(i) = ½ + ⅔ + … + i/(i+1)\n",
        "\n",
        "where i >= 1. Generate the following table:\n",
        "```\n",
        "i         m(i)     \n",
        "1         0.5000   \n",
        "2         1.1667   \n",
        "... \n",
        "19        16.4023  \n",
        "20        17.3546  \n",
        "```"
      ]
    },
    {
      "cell_type": "code",
      "metadata": {
        "id": "aOozTwoR9j9B",
        "colab": {
          "base_uri": "https://localhost:8080/"
        },
        "outputId": "8f4abd3e-cba4-4786-954f-3173ba6d3f80"
      },
      "source": [
        "def m_series(i):\n",
        "    print('{:10}{}'.format('i','m(i)'))\n",
        "    for num in range(1, i+1):                       #for loop to set value of i in each row\n",
        "        m_i = 0\n",
        "        for j in range (1, num+1):                  #for loop for summation of m_i\n",
        "            m_i += j / (j+1)\n",
        "        print('{:<10}{:.4f}'.format(num, m_i))      #printing each row\n",
        "\n",
        "m_series(10)"
      ],
      "execution_count": 34,
      "outputs": [
        {
          "output_type": "stream",
          "name": "stdout",
          "text": [
            "i         m(i)\n",
            "1         0.5000\n",
            "2         1.1667\n",
            "3         1.9167\n",
            "4         2.7167\n",
            "5         3.5500\n",
            "6         4.4071\n",
            "7         5.2821\n",
            "8         6.1710\n",
            "9         7.0710\n",
            "10        7.9801\n"
          ]
        }
      ]
    },
    {
      "cell_type": "markdown",
      "metadata": {
        "id": "lE0ScX9e9kcg"
      },
      "source": [
        "**Q5. (Prime number)**\n",
        "\n",
        "Write a function to determine whether an integer is a prime number. An integer greater than 1 is a prime number if its only divisors are 1 and itself. For example, is_prime(11) returns True, and is_prime(9) returns False.\n",
        "\n",
        "Use the is_prime(n) function to find the first thousand prime numbers and display every ten prime numbers in a row, as follows:\n",
        "```\n",
        "2   3   5   7   11   13   17   19   23   29\n",
        "31  37  41  43  47   53   59   61   67   71\n",
        "73  79  83  89  97  ...\n",
        "...\n",
        "```"
      ]
    },
    {
      "cell_type": "code",
      "metadata": {
        "id": "sE_bxwDs9mf6",
        "colab": {
          "base_uri": "https://localhost:8080/"
        },
        "outputId": "0fde0dfc-4c5d-477d-ee85-ddbda247da29"
      },
      "source": [
        "def is_prime(n):\n",
        "    i = 2                   #smallest prime number\n",
        "    while i < n:            \n",
        "        if n % i == 0:      #checking if divisible\n",
        "            return False    #returns False if not prime number\n",
        "        i += 1              #increment i to continue while loop\n",
        "    return True             #returns True if it can't be divided by all numbers between 1 and itself\n",
        "\n",
        "#main\n",
        "num = 2                                             #smallest prime number\n",
        "for row in range (100):                             #printing rows\n",
        "    for col in range (10):                          #printing columns\n",
        "        while is_prime(num) == False:               #call is_prime function to check if num is prime. While loops continue to loop if not prime\n",
        "            num += 1                                #increment num if not prime\n",
        "        print ('{:<4}'.format(num), end = ' ')      #print prime number\n",
        "        num += 1                                    #increment num for next search\n",
        "    print()                                         #/n for end of each row\n"
      ],
      "execution_count": 42,
      "outputs": [
        {
          "output_type": "stream",
          "name": "stdout",
          "text": [
            "2    3    5    7    11   13   17   19   23   29   \n",
            "31   37   41   43   47   53   59   61   67   71   \n",
            "73   79   83   89   97   101  103  107  109  113  \n",
            "127  131  137  139  149  151  157  163  167  173  \n",
            "179  181  191  193  197  199  211  223  227  229  \n",
            "233  239  241  251  257  263  269  271  277  281  \n",
            "283  293  307  311  313  317  331  337  347  349  \n",
            "353  359  367  373  379  383  389  397  401  409  \n",
            "419  421  431  433  439  443  449  457  461  463  \n",
            "467  479  487  491  499  503  509  521  523  541  \n",
            "547  557  563  569  571  577  587  593  599  601  \n",
            "607  613  617  619  631  641  643  647  653  659  \n",
            "661  673  677  683  691  701  709  719  727  733  \n",
            "739  743  751  757  761  769  773  787  797  809  \n",
            "811  821  823  827  829  839  853  857  859  863  \n",
            "877  881  883  887  907  911  919  929  937  941  \n",
            "947  953  967  971  977  983  991  997  1009 1013 \n",
            "1019 1021 1031 1033 1039 1049 1051 1061 1063 1069 \n",
            "1087 1091 1093 1097 1103 1109 1117 1123 1129 1151 \n",
            "1153 1163 1171 1181 1187 1193 1201 1213 1217 1223 \n",
            "1229 1231 1237 1249 1259 1277 1279 1283 1289 1291 \n",
            "1297 1301 1303 1307 1319 1321 1327 1361 1367 1373 \n",
            "1381 1399 1409 1423 1427 1429 1433 1439 1447 1451 \n",
            "1453 1459 1471 1481 1483 1487 1489 1493 1499 1511 \n",
            "1523 1531 1543 1549 1553 1559 1567 1571 1579 1583 \n",
            "1597 1601 1607 1609 1613 1619 1621 1627 1637 1657 \n",
            "1663 1667 1669 1693 1697 1699 1709 1721 1723 1733 \n",
            "1741 1747 1753 1759 1777 1783 1787 1789 1801 1811 \n",
            "1823 1831 1847 1861 1867 1871 1873 1877 1879 1889 \n",
            "1901 1907 1913 1931 1933 1949 1951 1973 1979 1987 \n",
            "1993 1997 1999 2003 2011 2017 2027 2029 2039 2053 \n",
            "2063 2069 2081 2083 2087 2089 2099 2111 2113 2129 \n",
            "2131 2137 2141 2143 2153 2161 2179 2203 2207 2213 \n",
            "2221 2237 2239 2243 2251 2267 2269 2273 2281 2287 \n",
            "2293 2297 2309 2311 2333 2339 2341 2347 2351 2357 \n",
            "2371 2377 2381 2383 2389 2393 2399 2411 2417 2423 \n",
            "2437 2441 2447 2459 2467 2473 2477 2503 2521 2531 \n",
            "2539 2543 2549 2551 2557 2579 2591 2593 2609 2617 \n",
            "2621 2633 2647 2657 2659 2663 2671 2677 2683 2687 \n",
            "2689 2693 2699 2707 2711 2713 2719 2729 2731 2741 \n",
            "2749 2753 2767 2777 2789 2791 2797 2801 2803 2819 \n",
            "2833 2837 2843 2851 2857 2861 2879 2887 2897 2903 \n",
            "2909 2917 2927 2939 2953 2957 2963 2969 2971 2999 \n",
            "3001 3011 3019 3023 3037 3041 3049 3061 3067 3079 \n",
            "3083 3089 3109 3119 3121 3137 3163 3167 3169 3181 \n",
            "3187 3191 3203 3209 3217 3221 3229 3251 3253 3257 \n",
            "3259 3271 3299 3301 3307 3313 3319 3323 3329 3331 \n",
            "3343 3347 3359 3361 3371 3373 3389 3391 3407 3413 \n",
            "3433 3449 3457 3461 3463 3467 3469 3491 3499 3511 \n",
            "3517 3527 3529 3533 3539 3541 3547 3557 3559 3571 \n",
            "3581 3583 3593 3607 3613 3617 3623 3631 3637 3643 \n",
            "3659 3671 3673 3677 3691 3697 3701 3709 3719 3727 \n",
            "3733 3739 3761 3767 3769 3779 3793 3797 3803 3821 \n",
            "3823 3833 3847 3851 3853 3863 3877 3881 3889 3907 \n",
            "3911 3917 3919 3923 3929 3931 3943 3947 3967 3989 \n",
            "4001 4003 4007 4013 4019 4021 4027 4049 4051 4057 \n",
            "4073 4079 4091 4093 4099 4111 4127 4129 4133 4139 \n",
            "4153 4157 4159 4177 4201 4211 4217 4219 4229 4231 \n",
            "4241 4243 4253 4259 4261 4271 4273 4283 4289 4297 \n",
            "4327 4337 4339 4349 4357 4363 4373 4391 4397 4409 \n",
            "4421 4423 4441 4447 4451 4457 4463 4481 4483 4493 \n",
            "4507 4513 4517 4519 4523 4547 4549 4561 4567 4583 \n",
            "4591 4597 4603 4621 4637 4639 4643 4649 4651 4657 \n",
            "4663 4673 4679 4691 4703 4721 4723 4729 4733 4751 \n",
            "4759 4783 4787 4789 4793 4799 4801 4813 4817 4831 \n",
            "4861 4871 4877 4889 4903 4909 4919 4931 4933 4937 \n",
            "4943 4951 4957 4967 4969 4973 4987 4993 4999 5003 \n",
            "5009 5011 5021 5023 5039 5051 5059 5077 5081 5087 \n",
            "5099 5101 5107 5113 5119 5147 5153 5167 5171 5179 \n",
            "5189 5197 5209 5227 5231 5233 5237 5261 5273 5279 \n",
            "5281 5297 5303 5309 5323 5333 5347 5351 5381 5387 \n",
            "5393 5399 5407 5413 5417 5419 5431 5437 5441 5443 \n",
            "5449 5471 5477 5479 5483 5501 5503 5507 5519 5521 \n",
            "5527 5531 5557 5563 5569 5573 5581 5591 5623 5639 \n",
            "5641 5647 5651 5653 5657 5659 5669 5683 5689 5693 \n",
            "5701 5711 5717 5737 5741 5743 5749 5779 5783 5791 \n",
            "5801 5807 5813 5821 5827 5839 5843 5849 5851 5857 \n",
            "5861 5867 5869 5879 5881 5897 5903 5923 5927 5939 \n",
            "5953 5981 5987 6007 6011 6029 6037 6043 6047 6053 \n",
            "6067 6073 6079 6089 6091 6101 6113 6121 6131 6133 \n",
            "6143 6151 6163 6173 6197 6199 6203 6211 6217 6221 \n",
            "6229 6247 6257 6263 6269 6271 6277 6287 6299 6301 \n",
            "6311 6317 6323 6329 6337 6343 6353 6359 6361 6367 \n",
            "6373 6379 6389 6397 6421 6427 6449 6451 6469 6473 \n",
            "6481 6491 6521 6529 6547 6551 6553 6563 6569 6571 \n",
            "6577 6581 6599 6607 6619 6637 6653 6659 6661 6673 \n",
            "6679 6689 6691 6701 6703 6709 6719 6733 6737 6761 \n",
            "6763 6779 6781 6791 6793 6803 6823 6827 6829 6833 \n",
            "6841 6857 6863 6869 6871 6883 6899 6907 6911 6917 \n",
            "6947 6949 6959 6961 6967 6971 6977 6983 6991 6997 \n",
            "7001 7013 7019 7027 7039 7043 7057 7069 7079 7103 \n",
            "7109 7121 7127 7129 7151 7159 7177 7187 7193 7207 \n",
            "7211 7213 7219 7229 7237 7243 7247 7253 7283 7297 \n",
            "7307 7309 7321 7331 7333 7349 7351 7369 7393 7411 \n",
            "7417 7433 7451 7457 7459 7477 7481 7487 7489 7499 \n",
            "7507 7517 7523 7529 7537 7541 7547 7549 7559 7561 \n",
            "7573 7577 7583 7589 7591 7603 7607 7621 7639 7643 \n",
            "7649 7669 7673 7681 7687 7691 7699 7703 7717 7723 \n",
            "7727 7741 7753 7757 7759 7789 7793 7817 7823 7829 \n",
            "7841 7853 7867 7873 7877 7879 7883 7901 7907 7919 \n"
          ]
        }
      ]
    },
    {
      "cell_type": "markdown",
      "metadata": {
        "id": "KSviQY0T9m7Q"
      },
      "source": [
        "**Q6. (Printing matrices)**\n",
        "\n",
        "Write a function print_matrix(n) that displays an n by n matrix, where n is a positive integer entered by the user. Each element is 0 or 1, which is generated randomly. A 3 by 3 matrix may look like this:\n",
        "```\n",
        "0 1 0\n",
        "0 0 0\n",
        "1 1 1 \n",
        "```"
      ]
    },
    {
      "cell_type": "code",
      "metadata": {
        "id": "YbH9Pbul9rK-",
        "colab": {
          "base_uri": "https://localhost:8080/"
        },
        "outputId": "e6b676b2-e090-484f-c209-14b28cebd68f"
      },
      "source": [
        "#importing random module\n",
        "import random\n",
        "\n",
        "def print_matrix(n):\n",
        "    for row in range (n):\n",
        "        for col in range (n):\n",
        "            print (random.randint(0,1), end = ' ')\n",
        "        print()\n",
        "\n",
        "#main\n",
        "size = int(input('Enter size of matrix: '))\n",
        "print_matrix(size)"
      ],
      "execution_count": 64,
      "outputs": [
        {
          "output_type": "stream",
          "name": "stdout",
          "text": [
            "Enter size of matrix: 5\n",
            "0 0 1 0 0 \n",
            "1 1 1 1 1 \n",
            "0 0 1 0 0 \n",
            "1 1 0 1 0 \n",
            "0 1 1 1 1 \n"
          ]
        }
      ]
    },
    {
      "cell_type": "markdown",
      "metadata": {
        "id": "V9Z95nlg97e4"
      },
      "source": [
        "**Q7. (Converting milliseconds to hours, minutes, and seconds)**\n",
        "\n",
        "Write a method convert_ms(n) that converts milliseconds to hours, minutes, and seconds. The method returns a string as hours:minutes:seconds. For example, convert_ms(5500) returns a string 0:0:5, convert_ms(100000) returns a string 0:1:40, and convert_ms(555550000) returns a string 154:19:10.\n",
        "\n"
      ]
    },
    {
      "cell_type": "code",
      "metadata": {
        "id": "1AZvvAW499PK",
        "colab": {
          "base_uri": "https://localhost:8080/"
        },
        "outputId": "9d9a436a-0d1c-460d-81e6-2371b98c2207"
      },
      "source": [
        "def convert_ms(n):\n",
        "    sec = (n//1000) % 60                                #converts ms to sec, and then modulus to get a remainder between 1 and 60\n",
        "    min_calc = n // (60 * 1000)                         #converts ms to min, for further calculation\n",
        "    min = min_calc % 60                                 #gets remainder of minutes, betwee 1 and 60\n",
        "    hrs = min_calc // 60                                #calculate number of hours\n",
        "    return str(hrs) + ':' + str(min) + ':' + str(sec)\n",
        "  \n",
        "#print(convert_ms(555550000))\n",
        "#print(convert_ms(100000))\n",
        "\n",
        "#main\n",
        "time = int(input('Enter time in milliseconds: '))\n",
        "print('Converting to h:m:s')\n",
        "print(convert_ms(time))"
      ],
      "execution_count": 65,
      "outputs": [
        {
          "output_type": "stream",
          "name": "stdout",
          "text": [
            "Enter time in milliseconds: 1000000\n",
            "Converting to h:m:s\n",
            "0:16:40\n"
          ]
        }
      ]
    },
    {
      "cell_type": "code",
      "source": [
        ""
      ],
      "metadata": {
        "id": "k39EGiHIGj3b"
      },
      "execution_count": null,
      "outputs": []
    }
  ]
}