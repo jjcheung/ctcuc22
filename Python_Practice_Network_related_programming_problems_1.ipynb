{
  "nbformat": 4,
  "nbformat_minor": 0,
  "metadata": {
    "colab": {
      "name": "JJ Cheung - CTCUC 2022 Python Practice - Network related programming problems 1.ipynb",
      "provenance": [],
      "include_colab_link": true
    },
    "kernelspec": {
      "name": "python3",
      "display_name": "Python 3"
    },
    "language_info": {
      "name": "python"
    }
  },
  "cells": [
    {
      "cell_type": "markdown",
      "metadata": {
        "id": "view-in-github",
        "colab_type": "text"
      },
      "source": [
        "<a href=\"https://colab.research.google.com/github/jjcheung/ctcuc22/blob/main/Python_Practice_Network_related_programming_problems_1.ipynb\" target=\"_parent\"><img src=\"https://colab.research.google.com/assets/colab-badge.svg\" alt=\"Open In Colab\"/></a>"
      ]
    },
    {
      "cell_type": "markdown",
      "source": [
        "# Network related programming problems\n",
        "\n",
        "(Sort of) relevant question set from the free online course https://pynet.twb-tech.com/free-python-course.html teaching Python in network contexts.\n",
        "\n",
        "Solutions to problems can be found at https://github.com/ktbyers/pynet/tree/master/learning_python\n",
        "\n",
        "- Q1-5 Lesson 1\n",
        "- Q6-10 Lesson 2\n",
        "- Q11-15 Lesson 3\n",
        "- Q16 Lesson 4\n",
        "- Q17-18 Lesson 5"
      ],
      "metadata": {
        "id": "VWXWr0DpdWfm"
      }
    },
    {
      "cell_type": "markdown",
      "source": [
        "## Python naming conventions:\n",
        "\n",
        "    a. For variable names, function names, object names, and module names use lower case separated by underscore. Examples:\n",
        "\n",
        "      my_router\n",
        "      find_set_of_devices\n",
        "      convert_id_string_to_list\n",
        "\n",
        "    b. For class names, capitalize the first letter of each word.  Do not use any underscores. Examples:\n",
        "\n",
        "      ManyToManyField\n",
        "      ClientHistory\n",
        "      UserProfile\n",
        "\n",
        "    c. For constants, use all upper case; use underscores for word separation. Examples: \n",
        "\n",
        "      PI = 3.14\n",
        "      EMAIL_MODE\n",
        "      EMAIL_FROM_ADDRESS"
      ],
      "metadata": {
        "id": "IX_jGpiAFM73"
      }
    },
    {
      "cell_type": "markdown",
      "source": [
        "Q1. Create three variables: ip_addr1, ip_addr2, ip_addr3 (representing three corresponding IP addresses). Print these three variables to standard output using a single print statement."
      ],
      "metadata": {
        "id": "kvCT7q3VF9VS"
      }
    },
    {
      "cell_type": "code",
      "execution_count": null,
      "metadata": {
        "id": "IHzqsHOyFMUe",
        "colab": {
          "base_uri": "https://localhost:8080/"
        },
        "outputId": "329c2e8c-dbdb-45ef-d390-df952eb03f40"
      },
      "outputs": [
        {
          "output_type": "stream",
          "name": "stdout",
          "text": [
            "1.1.1.1 2.2.2.2 3.3.3.3\n"
          ]
        }
      ],
      "source": [
        "ip_addr1 = '1.1.1.1'\n",
        "ip_addr2 = '2.2.2.2'\n",
        "ip_addr3 = '3.3.3.3'\n",
        "\n",
        "print(ip_addr1, ip_addr2, ip_addr3)"
      ]
    },
    {
      "cell_type": "markdown",
      "source": [
        "Q2. Prompt a user to enter in an IP address from standard input. Read the IP address in and break it up into its octets. Print out the octets in decimal, binary, and hex.\n",
        "\n",
        "Your program output should look like the following:\n",
        "```\n",
        "Please enter an IP address: 80.98.100.240\n",
        "\n",
        "    Octet1         Octet2         Octet3         Octet4     \n",
        "------------------------------------------------------------\n",
        "      80             98             100            240      \n",
        "   0b1010000      0b1100010      0b1100100     0b11110000   \n",
        "     0x50           0x62           0x64           0xf0      \n",
        "------------------------------------------------------------\n",
        "```\n",
        "Four columns, fifteen characters wide, a header column, data centered in the column."
      ],
      "metadata": {
        "id": "iBqTojD-GQeR"
      }
    },
    {
      "cell_type": "code",
      "source": [
        "def dec2bin(num):\n",
        "    string = ''\n",
        "    while num > 0:\n",
        "        string = str(num % 2) + string\n",
        "        num = num // 2\n",
        "    return '0b' + string  \n",
        "\n",
        "def dec2hex(num):\n",
        "    string = ''\n",
        "    hexmap = '0123456789abcdef'\n",
        "    while num > 0:\n",
        "        string = hexmap[num%16] + string\n",
        "        num = num // 16\n",
        "    return '0x' + string  \n",
        "\n",
        "\n",
        "def display(ip):   \n",
        "    print('{:^15}{:^15}{:^15}{:^15}'.format('Octet1', 'Octet2', 'Octet3', 'Octet4'))\n",
        "    print('-'*60)\n",
        "    print(f'{ip[0]:^15}{ip[1]:^15}{ip[2]:^15}{ip[3]:^15}')\n",
        "\n",
        "    for num in ip:\n",
        "        print(f'{dec2bin(int(num)):^15}', end = '')\n",
        "    print()\n",
        "\n",
        "    for num in ip:\n",
        "        print(f'{dec2hex(int(num)):^15}', end = '')\n",
        "    print()\n",
        "    print('-'*60)\n",
        "\n",
        "\n",
        "if __name__ == '__main__':\n",
        "    ip_add = input('Please enter an IP address: ').split('.')\n",
        "    print()\n",
        "    display(ip_add)\n"
      ],
      "metadata": {
        "id": "jK0t46VRGVn7",
        "colab": {
          "base_uri": "https://localhost:8080/"
        },
        "outputId": "5f646bc6-59a6-40db-c23c-48fc6c41c084"
      },
      "execution_count": null,
      "outputs": [
        {
          "output_type": "stream",
          "name": "stdout",
          "text": [
            "Please enter an IP address: 80.98.100.240\n",
            "\n",
            "    Octet1         Octet2         Octet3         Octet4     \n",
            "------------------------------------------------------------\n",
            "      80             98             100            240      \n",
            "   0b1010000      0b1100010      0b1100100     0b11110000   \n",
            "     0x50           0x62           0x64           0xf0      \n",
            "------------------------------------------------------------\n"
          ]
        }
      ]
    },
    {
      "cell_type": "markdown",
      "source": [
        "Q3. Create three different variables. The first variable should use all lower case characters with underscore ( _ ) as the word separator. The second variable should use all upper case characters with underscore as the word separator. The third variable should use numbers, letters, and underscore, but still be a valid variable Python variable name.\n",
        "\n",
        "Make all three variables be strings that refer to IPv6 addresses.\n",
        "\n",
        "- compare if variable1 equals variable2\n",
        "- compare if variable1 is not equal to variable3"
      ],
      "metadata": {
        "id": "N5jn7lMIGWJy"
      }
    },
    {
      "cell_type": "code",
      "source": [
        "ip_address = '2001:0db8:85a3:0000:0000:8a2e:0370:7334'\n",
        "IP_ADDRESS = 'fda7:495c:2fb0:e60b:0000:0000:0000:0000'\n",
        "ip_add_1 = 'fd6c:f02d:7b48:489d:ffff:ffff:ffff:ffff'\n",
        "\n",
        "print(ip_address == IP_ADDRESS)\n",
        "print(ip_address != ip_add_1)"
      ],
      "metadata": {
        "id": "bmvhL_c1GaY4",
        "colab": {
          "base_uri": "https://localhost:8080/"
        },
        "outputId": "90481328-a54a-4008-e188-46b062485ecf"
      },
      "execution_count": null,
      "outputs": [
        {
          "output_type": "stream",
          "name": "stdout",
          "text": [
            "False\n",
            "True\n"
          ]
        }
      ]
    },
    {
      "cell_type": "markdown",
      "source": [
        "Q4. Create a show_version variable that contains the following\n",
        "```\n",
        " show_version = \"*0        CISCO881-SEC-K9       FTX0000038X    \" \n",
        "```\n",
        "Remove all leading and trailing whitespace from the string.\n",
        "\n",
        "Split the string and extract the model and serial_number from it.\n",
        "\n",
        "Check if 'Cisco' is contained in the model string (ignore capitalization).\n",
        "\n",
        "Check if '881' is in the model string.\n",
        "\n",
        "Print out both the serial number and the model."
      ],
      "metadata": {
        "id": "eO87Yi_-GbHh"
      }
    },
    {
      "cell_type": "code",
      "source": [
        "show_version = \"*0        CISCO881-SEC-K9       FTX0000038X    \"\n",
        "\n",
        "model_sn= show_version.split(' ')\n",
        "\n",
        "while '' in model_sn:\n",
        "    model_sn.remove('')\n",
        "\n",
        "print('cisco' in model_sn[1].lower())\n",
        "print('881' in model_sn[1])"
      ],
      "metadata": {
        "id": "PBrz4RDHGddG",
        "colab": {
          "base_uri": "https://localhost:8080/"
        },
        "outputId": "ef632345-11a3-4f9e-8670-a90b60ec807a"
      },
      "execution_count": null,
      "outputs": [
        {
          "output_type": "stream",
          "name": "stdout",
          "text": [
            "True\n",
            "True\n"
          ]
        }
      ]
    },
    {
      "cell_type": "markdown",
      "source": [
        "Q5. You have the following three variables from the arp table of a router:\n",
        "```\n",
        "mac1 = \"Internet  10.220.88.29           94   5254.abbe.5b7b  ARPA   FastEthernet4\"\n",
        "mac2 = \"Internet  10.220.88.30            3   5254.ab71.e119  ARPA   FastEthernet4\"\n",
        "mac3 = \"Internet  10.220.88.32          231   5254.abc7.26aa  ARPA   FastEthernet4\"\n",
        "```\n",
        "Process these ARP entries and print out a table of \"IP ADDR\" to \"MAC ADDRESS\" mappings. The output should look like following:\n",
        "```\n",
        "             IP ADDR          MAC ADDRESS\n",
        "-------------------- --------------------\n",
        "        10.220.88.29       5254.abbe.5b7b\n",
        "        10.220.88.30       5254.ab71.e119\n",
        "        10.220.88.32       5254.abc7.26aa\n",
        "```\n",
        "Two columns, 20 characters wide, data right aligned, a header column."
      ],
      "metadata": {
        "id": "ttqRscUxGd8f"
      }
    },
    {
      "cell_type": "code",
      "source": [
        "mac1 = \"Internet  10.220.88.29           94   5254.abbe.5b7b  ARPA   FastEthernet4\"\n",
        "mac2 = \"Internet  10.220.88.30            3   5254.ab71.e119  ARPA   FastEthernet4\"\n",
        "mac3 = \"Internet  10.220.88.32          231   5254.abc7.26aa  ARPA   FastEthernet4\"\n",
        "\n",
        "def mapping(string):\n",
        "    arp = string.split(' ')\n",
        "    while '' in arp:\n",
        "        arp.remove('')\n",
        "    return arp\n",
        "\n",
        "arp1 = mapping (mac1)\n",
        "arp2 = mapping (mac2)\n",
        "arp3 = mapping (mac3)\n",
        "\n",
        "print ('{:>20}{:>20}'.format('IP ADDR','MAC ADDRESS'))\n",
        "print('-'*40)\n",
        "print ('{:>20}{:>20}'.format(arp1[1],arp1[3]))\n",
        "print ('{:>20}{:>20}'.format(arp2[1],arp2[3]))\n",
        "print ('{:>20}{:>20}'.format(arp3[1],arp3[3]))"
      ],
      "metadata": {
        "id": "qFrCm24WHiSl",
        "colab": {
          "base_uri": "https://localhost:8080/"
        },
        "outputId": "6218a95b-c1f6-43dd-a19c-b2861fc652de"
      },
      "execution_count": null,
      "outputs": [
        {
          "output_type": "stream",
          "name": "stdout",
          "text": [
            "             IP ADDR         MAC ADDRESS\n",
            "----------------------------------------\n",
            "        10.220.88.29      5254.abbe.5b7b\n",
            "        10.220.88.30      5254.ab71.e119\n",
            "        10.220.88.32      5254.abc7.26aa\n"
          ]
        }
      ]
    },
    {
      "cell_type": "markdown",
      "source": [
        "Q6. Open the \"[show_version.txt](https://drive.google.com/file/d/1PP8CclWzACktsM9qXOiLiOCOz7Q938QY/view?usp=sharing)\" file for reading. Use the .read() method to read in the entire file contents to a variable. Print out the file contents to the screen. Also print out the type of the variable (you should have a string at this point). Close the file.\n",
        "\n",
        "Open the file a second time using a Python context manager (with statement). Read in the file contents using the .readlines() method. Print out the file contents to the screen. Also print out the type of the variable (you should have a list at this point)."
      ],
      "metadata": {
        "id": "f8jCkhQGHi-t"
      }
    },
    {
      "cell_type": "code",
      "source": [
        "infile = open('show_version.txt')\n",
        "file1 = infile.read()\n",
        "print(file1)\n",
        "print(type(file1))\n",
        "infile.close()"
      ],
      "metadata": {
        "id": "-bsEdzEwH1fJ",
        "colab": {
          "base_uri": "https://localhost:8080/"
        },
        "outputId": "26063158-b23d-4aa0-f731-8e474b38c06e"
      },
      "execution_count": null,
      "outputs": [
        {
          "output_type": "stream",
          "name": "stdout",
          "text": [
            "Cisco IOS Software, C880 Software (C880DATA-UNIVERSALK9-M), Version 15.4(2)T1, RELEASE SOFTWARE (fc3)\n",
            "Technical Support: http://www.cisco.com/techsupport\n",
            "Copyright (c) 1986-2014 by Cisco Systems, Inc.\n",
            "Compiled Thu 26-Jun-14 14:15 by prod_rel_team\n",
            "\n",
            "ROM: System Bootstrap, Version 12.4(22r)YB5, RELEASE SOFTWARE (fc1)\n",
            "\n",
            "pynet-rtr1 uptime is 1 year, 21 weeks, 6 days, 13 minutes\n",
            "System returned to ROM by reload\n",
            "System restarted at 12:44:53 PDT Wed Jun 22 2016\n",
            "System image file is \"flash:c880data-universalk9-mz.154-2.T1.bin\"\n",
            "Last reload type: Normal Reload\n",
            "Last reload reason: power-on\n",
            "\n",
            "\n",
            "\n",
            "This product contains cryptographic features and is subject to United\n",
            "States and local country laws governing import, export, transfer and\n",
            "use. Delivery of Cisco cryptographic products does not imply\n",
            "third-party authority to import, export, distribute or use encryption.\n",
            "Importers, exporters, distributors and users are responsible for\n",
            "compliance with U.S. and local country laws. By using this product you\n",
            "agree to comply with applicable laws and regulations. If you are unable\n",
            "to comply with U.S. and local laws, return this product immediately.\n",
            "\n",
            "A summary of U.S. laws governing Cisco cryptographic products may be found at:\n",
            "http://www.cisco.com/wwl/export/crypto/tool/stqrg.html\n",
            "\n",
            "If you require further assistance please contact us by sending email to\n",
            "export@cisco.com.\n",
            "\n",
            "Cisco 881 (MPC8300) processor (revision 1.0) with 236544K/25600K bytes of memory.\n",
            "Processor board ID FTX0000038X\n",
            "\n",
            "5 FastEthernet interfaces\n",
            "1 Virtual Private Network (VPN) Module\n",
            "256K bytes of non-volatile configuration memory.\n",
            "126000K bytes of ATA CompactFlash (Read/Write)\n",
            "\n",
            "\n",
            "License Info:\n",
            "\n",
            "License UDI:\n",
            "\n",
            "-------------------------------------------------\n",
            "Device#\t  PID\t\t\tSN\n",
            "-------------------------------------------------\n",
            "*0  \t  CISCO881-SEC-K9       FTX0000038X     \n",
            "\n",
            "\n",
            "\n",
            "License Information for 'c880-data'\n",
            "    License Level: advipservices   Type: Permanent\n",
            "    Next reboot license Level: advipservices\n",
            "\n",
            "\n",
            "Configuration register is 0x2102\n",
            "\n",
            "\n",
            "<class 'str'>\n"
          ]
        }
      ]
    },
    {
      "cell_type": "code",
      "source": [
        "with open('show_version.txt') as infile:\n",
        "    file2 = infile.readlines()\n",
        "    print(type(file2))\n",
        "    for row in file2:\n",
        "        print(row)"
      ],
      "metadata": {
        "colab": {
          "base_uri": "https://localhost:8080/"
        },
        "id": "sxV_onPHt74W",
        "outputId": "abc410a5-38ba-416a-e86d-05637242eed2"
      },
      "execution_count": null,
      "outputs": [
        {
          "output_type": "stream",
          "name": "stdout",
          "text": [
            "<class 'list'>\n",
            "Cisco IOS Software, C880 Software (C880DATA-UNIVERSALK9-M), Version 15.4(2)T1, RELEASE SOFTWARE (fc3)\n",
            "\n",
            "Technical Support: http://www.cisco.com/techsupport\n",
            "\n",
            "Copyright (c) 1986-2014 by Cisco Systems, Inc.\n",
            "\n",
            "Compiled Thu 26-Jun-14 14:15 by prod_rel_team\n",
            "\n",
            "\n",
            "\n",
            "ROM: System Bootstrap, Version 12.4(22r)YB5, RELEASE SOFTWARE (fc1)\n",
            "\n",
            "\n",
            "\n",
            "pynet-rtr1 uptime is 1 year, 21 weeks, 6 days, 13 minutes\n",
            "\n",
            "System returned to ROM by reload\n",
            "\n",
            "System restarted at 12:44:53 PDT Wed Jun 22 2016\n",
            "\n",
            "System image file is \"flash:c880data-universalk9-mz.154-2.T1.bin\"\n",
            "\n",
            "Last reload type: Normal Reload\n",
            "\n",
            "Last reload reason: power-on\n",
            "\n",
            "\n",
            "\n",
            "\n",
            "\n",
            "\n",
            "\n",
            "This product contains cryptographic features and is subject to United\n",
            "\n",
            "States and local country laws governing import, export, transfer and\n",
            "\n",
            "use. Delivery of Cisco cryptographic products does not imply\n",
            "\n",
            "third-party authority to import, export, distribute or use encryption.\n",
            "\n",
            "Importers, exporters, distributors and users are responsible for\n",
            "\n",
            "compliance with U.S. and local country laws. By using this product you\n",
            "\n",
            "agree to comply with applicable laws and regulations. If you are unable\n",
            "\n",
            "to comply with U.S. and local laws, return this product immediately.\n",
            "\n",
            "\n",
            "\n",
            "A summary of U.S. laws governing Cisco cryptographic products may be found at:\n",
            "\n",
            "http://www.cisco.com/wwl/export/crypto/tool/stqrg.html\n",
            "\n",
            "\n",
            "\n",
            "If you require further assistance please contact us by sending email to\n",
            "\n",
            "export@cisco.com.\n",
            "\n",
            "\n",
            "\n",
            "Cisco 881 (MPC8300) processor (revision 1.0) with 236544K/25600K bytes of memory.\n",
            "\n",
            "Processor board ID FTX0000038X\n",
            "\n",
            "\n",
            "\n",
            "5 FastEthernet interfaces\n",
            "\n",
            "1 Virtual Private Network (VPN) Module\n",
            "\n",
            "256K bytes of non-volatile configuration memory.\n",
            "\n",
            "126000K bytes of ATA CompactFlash (Read/Write)\n",
            "\n",
            "\n",
            "\n",
            "\n",
            "\n",
            "License Info:\n",
            "\n",
            "\n",
            "\n",
            "License UDI:\n",
            "\n",
            "\n",
            "\n",
            "-------------------------------------------------\n",
            "\n",
            "Device#\t  PID\t\t\tSN\n",
            "\n",
            "-------------------------------------------------\n",
            "\n",
            "*0  \t  CISCO881-SEC-K9       FTX0000038X     \n",
            "\n",
            "\n",
            "\n",
            "\n",
            "\n",
            "\n",
            "\n",
            "License Information for 'c880-data'\n",
            "\n",
            "    License Level: advipservices   Type: Permanent\n",
            "\n",
            "    Next reboot license Level: advipservices\n",
            "\n",
            "\n",
            "\n",
            "\n",
            "\n",
            "Configuration register is 0x2102\n",
            "\n",
            "\n",
            "\n"
          ]
        }
      ]
    },
    {
      "cell_type": "markdown",
      "source": [
        "Q7. Create a list of five IP addresses.\n",
        "\n",
        "Use the .append() method to add an IP address onto the end of the list. Use the .extend() method to add two more IP addresses to the end of the list.\n",
        "\n",
        "Use list concatenation to add two more IP addresses to the end of the list.\n",
        "\n",
        "Print out the entire list of ip addresses. Print out the first IP address in the list. Print out the last IP address in the list.\n",
        "\n",
        "Using the .pop() method to remove the first IP address in the list and the last IP address in the list.\n",
        "\n",
        "Update the new first IP address in the list to be '2.2.2.2'. Print out the new first IP address in the list."
      ],
      "metadata": {
        "id": "fav0IVBzH2JB"
      }
    },
    {
      "cell_type": "code",
      "source": [
        "from random import randint\n",
        "iplist = []\n",
        "\n",
        "def generateip():\n",
        "    ip = []\n",
        "    for i in range(4):\n",
        "        ip.append(str(randint(0, 255)))\n",
        "\n",
        "    return '.'.join(ip)\n",
        "\n",
        "iplist.append(generateip())\n",
        "iplist.extend([generateip()])\n",
        "iplist.extend([generateip()])\n",
        "iplist += [generateip()]\n",
        "iplist += [generateip()]\n",
        "\n",
        "print(iplist)\n",
        "print(iplist[0])\n",
        "print(iplist[-1])\n",
        "iplist.pop(0)\n",
        "iplist.pop(-1)\n",
        "print(iplist)\n",
        "iplist[0] = '2.2.2.2'\n",
        "print(iplist)"
      ],
      "metadata": {
        "id": "_uMv37VRH-6K",
        "colab": {
          "base_uri": "https://localhost:8080/"
        },
        "outputId": "9e3fd27f-fb14-4943-ed9d-dd2d41dd763a"
      },
      "execution_count": null,
      "outputs": [
        {
          "output_type": "stream",
          "name": "stdout",
          "text": [
            "['93.128.149.46', '187.27.128.133', '212.20.104.5', '169.164.136.56', '179.252.85.83']\n",
            "93.128.149.46\n",
            "179.252.85.83\n",
            "['187.27.128.133', '212.20.104.5', '169.164.136.56']\n",
            "['2.2.2.2', '212.20.104.5', '169.164.136.56']\n"
          ]
        }
      ]
    },
    {
      "cell_type": "markdown",
      "source": [
        "Q8. Read in the \"[show_arp.txt](https://drive.google.com/file/d/1hpOPm8YeZ8a-N5IIvhZK7xqcCsCsKmRS/view?usp=sharing)\" file using the readlines() method. Use a list slice to remove the header line.\n",
        "\n",
        "Use pretty print to print out the resulting list to the screen, syntax is:\n",
        "```\n",
        "from pprint import pprint\n",
        "pprint(some_var)\n",
        "```\n",
        "Use the list .sort() method to sort the list based on IP addresses.\n",
        "\n",
        "Create a new list slice that is only the first three ARP entries.\n",
        "\n",
        "Use the .join() method to join these first three ARP entries back together as a single string using the newline character ('\\n') as the separator.\n",
        "\n",
        "Write this string containing the three ARP entries out to a file named \"arp_entries.txt\"."
      ],
      "metadata": {
        "id": "jlJBZVMeH_kp"
      }
    },
    {
      "cell_type": "code",
      "source": [
        "from pprint import pprint\n",
        "\n",
        "with open('show_arp.txt', 'r') as file:\n",
        "    arplist = file.readlines()[1:]\n",
        "    arplist.sort()\n",
        "    pprint(arplist)\n",
        "\n",
        "arplist2 = arplist[:3]\n",
        "string = '\\n'.join(arplist2)\n",
        "\n",
        "with open('arp_entries.txt', 'w') as ofile:\n",
        "    ofile.write(string)"
      ],
      "metadata": {
        "id": "iur9OczDJmfy",
        "colab": {
          "base_uri": "https://localhost:8080/"
        },
        "outputId": "83adcac1-4e2f-433d-9b75-5f049814e917"
      },
      "execution_count": null,
      "outputs": [
        {
          "output_type": "stream",
          "name": "stdout",
          "text": [
            "['Internet  10.220.88.1           135   0062.ec29.70fe  ARPA   FastEthernet4\\n',\n",
            " 'Internet  10.220.88.20            -   c89c.1dea.0eb6  ARPA   FastEthernet4\\n',\n",
            " 'Internet  10.220.88.21          213   1c6a.7aaf.576c  ARPA   FastEthernet4\\n',\n",
            " 'Internet  10.220.88.28          222   5254.aba8.9aea  ARPA   FastEthernet4\\n',\n",
            " 'Internet  10.220.88.29          234   5254.abbe.5b7b  ARPA   FastEthernet4\\n',\n",
            " 'Internet  10.220.88.30          220   5254.ab71.e119  ARPA   FastEthernet4\\n',\n",
            " 'Internet  10.220.88.32          191   5254.abc7.26aa  ARPA   FastEthernet4\\n',\n",
            " 'Internet  10.220.88.33          190   5254.ab3a.8d26  ARPA   FastEthernet4\\n',\n",
            " 'Internet  10.220.88.35          175   5254.abfb.af12  ARPA   FastEthernet4\\n',\n",
            " 'Internet  10.220.88.37           69   0001.00ff.0001  ARPA   FastEthernet4\\n',\n",
            " 'Internet  10.220.88.38          159   0002.00ff.0001  ARPA   FastEthernet4\\n',\n",
            " 'Internet  10.220.88.39            0   6464.9be8.08c8  ARPA   FastEthernet4\\n',\n",
            " 'Internet  10.220.88.40          144   001c.c4bf.826a  ARPA   FastEthernet4\\n',\n",
            " 'Internet  10.220.88.41          123   001b.7873.5634  ARPA   FastEthernet4\\n']\n"
          ]
        }
      ]
    },
    {
      "cell_type": "markdown",
      "source": [
        "Q9. Read in the \"[show_ip_int_brief.txt](https://drive.google.com/file/d/1DObqppfVaHtCab8zRK_eqq20wbDVlK1r/view?usp=sharing)\" file into your program using the .readlines() method.\n",
        "\n",
        "Obtain the list entry associated with the FastEthernet4 interface. You can just hard-code the index at this point or use for-loops or regular expressions. Use the string .split() method to obtain both the IP address and the corresponding interface associated with the IP.\n",
        "\n",
        "Create a two element tuple from the result (intf_name, ip_address).\n",
        "\n",
        "Print that tuple to the screen."
      ],
      "metadata": {
        "id": "2EK3uyHhJxXb"
      }
    },
    {
      "cell_type": "code",
      "source": [
        "with open('show_ip_int_brief.txt', 'r') as ifile:\n",
        "    brief = ifile.readlines()\n",
        "    for row in brief:\n",
        "        if 'FastEthernet4' in row:\n",
        "            string = row.split(' ')\n",
        "    \n",
        "while '' in string:\n",
        "    string.remove('')\n",
        "intf_ip = (string[0], string[1])\n",
        "print (intf_ip)"
      ],
      "metadata": {
        "id": "KlNiuBxsKDIb",
        "colab": {
          "base_uri": "https://localhost:8080/"
        },
        "outputId": "4bfed58d-67c1-4194-9f9c-3f9df0d6dfbd"
      },
      "execution_count": null,
      "outputs": [
        {
          "output_type": "stream",
          "name": "stdout",
          "text": [
            "('FastEthernet4', '10.220.88.20')\n"
          ]
        }
      ]
    },
    {
      "cell_type": "markdown",
      "source": [
        "Q10. Read the '[show_ip_bgp_summ.txt](https://drive.google.com/file/d/1ATfhuodJ8jEdrKMevoMJ8xPk_PnYCfIG/view?usp=sharing)' file into your program. From this BGP output obtain the first and last lines of the output.\n",
        "\n",
        "From the first line use the string .split() method to obtain the local AS number.\n",
        "\n",
        "From the last line use the string .split() method to obtain the BGP peer IP address.\n",
        "\n",
        "Print both local AS number and the BGP peer IP address to the screen."
      ],
      "metadata": {
        "id": "c2fXJptQKDjO"
      }
    },
    {
      "cell_type": "code",
      "source": [
        "with open('show_ip_bgp_summ.txt', 'r') as ifile:\n",
        "    bgpfile = ifile.readlines()\n",
        "    asnum = bgpfile[0].split()\n",
        "    print(f'Local AS number: {asnum[-1]}')\n",
        "    peerIP = bgpfile[-1].split()\n",
        "    print(f'BGP IP address: {peerIP[0]}')\n",
        "        "
      ],
      "metadata": {
        "id": "SyPW4rd9KZ6m",
        "colab": {
          "base_uri": "https://localhost:8080/"
        },
        "outputId": "c87de6f9-f00a-4152-f70c-7c780373a307"
      },
      "execution_count": null,
      "outputs": [
        {
          "output_type": "stream",
          "name": "stdout",
          "text": [
            "Local AS number: 42\n",
            "BGP IP address: 10.220.88.38\n"
          ]
        }
      ]
    },
    {
      "cell_type": "markdown",
      "source": [
        "Q11. Read the \"[show_vlan.txt](https://drive.google.com/file/d/11aYIxX3oEGYD3gnIiL8uHIPIFiFSQrf7/view?usp=sharing)\" file into your program. Loop through the lines in this file and extract all of the VLAN_ID, VLAN_NAME combinations. From these VLAN_ID and VLAN_NAME construct a new list where each element in the list is a tuple consisting of (VLAN_ID, VLAN_NAME). Print this data structure to the screen. Your output should look as follows:\n",
        "```\n",
        "[('1', 'default'),\n",
        " ('400', 'blue400'),\n",
        " ('401', 'blue401'),\n",
        " ('402', 'blue402'),\n",
        " ('403', 'blue403')]\n",
        " ```"
      ],
      "metadata": {
        "id": "z7IdfM9GKrjl"
      }
    },
    {
      "cell_type": "code",
      "source": [
        "vlan_lst = []\n",
        "\n",
        "with open('show_vlan.txt', 'r') as ifile:\n",
        "    vlan = ifile.readlines()[2:]\n",
        "    for row in vlan:\n",
        "        row = row.split (' ')\n",
        "        if row[0] != '':\n",
        "            while '' in row:\n",
        "                row.remove('')\n",
        "            vlan_lst.append((row[0],row[1]))\n",
        "\n",
        "print(vlan_lst)\n"
      ],
      "metadata": {
        "id": "u-O4cQxNKzB-",
        "colab": {
          "base_uri": "https://localhost:8080/"
        },
        "outputId": "647e2365-035c-462d-a1ae-f8ea56f2b04d"
      },
      "execution_count": null,
      "outputs": [
        {
          "output_type": "stream",
          "name": "stdout",
          "text": [
            "[('1', 'default'), ('400', 'blue400'), ('401', 'blue401'), ('402', 'blue402'), ('403', 'blue403')]\n"
          ]
        }
      ]
    },
    {
      "cell_type": "markdown",
      "source": [
        "Q12. Read the contents of the \"[show_arp.txt](https://drive.google.com/file/d/1hpOPm8YeZ8a-N5IIvhZK7xqcCsCsKmRS/view?usp=sharing)\" file. Using a for loop, iterate over the lines of this file. Process the lines of the file and separate out the ip_addr and mac_addr for each entry into a separate variable.\n",
        "\n",
        "Add a conditional statement that searches for '10.220.88.1'. If 10.220.88.1 is found, print out the string \"Default gateway IP/Mac\" and the corresponding IP address and MAC Address.\n",
        "\n",
        "Using a conditional statement, also search for '10.220.88.30'. If this IP address is found, then print out \"Arista3 IP/Mac is\" and the corresponding ip_addr and mac_addr.\n",
        "\n",
        "Keep track of whether you have found both the Default Gateway and the Arista3 switch. Once you have found both of these devices, 'break' out of the for loop."
      ],
      "metadata": {
        "id": "APVIbRLlKznv"
      }
    },
    {
      "cell_type": "code",
      "source": [
        "check1 = False\n",
        "check2 = False\n",
        "with open('show_arp.txt', 'r') as ifile:\n",
        "    arpinfo = ifile.readlines()[1:]\n",
        "    for row in arpinfo:\n",
        "        row = row.split(' ')\n",
        "        while '' in row:\n",
        "            row.remove('')\n",
        "        #print(row)\n",
        "        ip_addr = row[1]\n",
        "        mac_addr = row[3]\n",
        "        \n",
        "        if row[1] == '10.220.88.1':\n",
        "            print('Default gateway IP/Mac')\n",
        "            print(f'IP Address: {ip_addr}')\n",
        "            print(f'MAC Address: {mac_addr}')\n",
        "            print()\n",
        "            check1 = True\n",
        "\n",
        "        if row[1] == '10.220.88.30':\n",
        "            print('Arista3 IP/Mac is')\n",
        "            print(f'IP Address: {ip_addr}')\n",
        "            print(f'MAC Address: {mac_addr}')\n",
        "            print()\n",
        "            check2 = True\n",
        "        \n",
        "        if check1 == True and check2 == True:\n",
        "            break\n"
      ],
      "metadata": {
        "id": "d6bY1dzFK8W2",
        "colab": {
          "base_uri": "https://localhost:8080/"
        },
        "outputId": "8e301401-e3b4-4077-bae6-69f470b13a9d"
      },
      "execution_count": null,
      "outputs": [
        {
          "output_type": "stream",
          "name": "stdout",
          "text": [
            "Default gateway IP/Mac\n",
            "IP Address: 10.220.88.1\n",
            "MAC Address: 0062.ec29.70fe\n",
            "\n",
            "Arista3 IP/Mac is\n",
            "IP Address: 10.220.88.30\n",
            "MAC Address: 5254.ab71.e119\n",
            "\n"
          ]
        }
      ]
    },
    {
      "cell_type": "markdown",
      "source": [
        "Q13. Read the '[show_lldp_neighbors_detail.txt](https://drive.google.com/file/d/1HIO9j0IJJFtTauZX_a4PAft9ltGFcoGs/view?usp=sharing)' file. Loop over the lines of this file. Keep reading the lines until you have encountered the remote \"System Name\" and remote \"Port id\". Save these two items into variables and print them to the screen. You should extract only the system name and port id from the lines (i.e. your variables should only have 'twb-sf-hpsw1' and '15'). Break out of your loop once you have retrieved these two items."
      ],
      "metadata": {
        "id": "G8wJTgLDK8-K"
      }
    },
    {
      "cell_type": "code",
      "source": [
        "check1 = False\n",
        "check2 = False\n",
        "\n",
        "with open('show_lldp_neighbors_detail.txt', 'r') as ifile:\n",
        "    reader = ifile.readlines()\n",
        "    for row in reader:\n",
        "        if 'System Name' in row:\n",
        "            systemname = row.split()[-1]\n",
        "            check1 = True\n",
        "        elif 'Port id' in row:\n",
        "            rowid = row.split()[-1]\n",
        "            check2 = True\n",
        "        if check1 == True and check2 == True:\n",
        "            break\n",
        "\n",
        "print(systemname)\n",
        "print(rowid)\n"
      ],
      "metadata": {
        "id": "qcd1gfIEZG74",
        "colab": {
          "base_uri": "https://localhost:8080/"
        },
        "outputId": "58ac41f1-f17f-4281-da5a-0d413025aae9"
      },
      "execution_count": null,
      "outputs": [
        {
          "output_type": "stream",
          "name": "stdout",
          "text": [
            "twb-sf-hpsw1\n",
            "15\n"
          ]
        }
      ]
    },
    {
      "cell_type": "markdown",
      "source": [
        "Q14. You have the following data structure:\n",
        "```\n",
        "arp_table = [('10.220.88.1', '0062.ec29.70fe'),\n",
        " ('10.220.88.20', 'c89c.1dea.0eb6'),\n",
        " ('10.220.88.21', '1c6a.7aaf.576c'),\n",
        " ('10.220.88.28', '5254.aba8.9aea'),\n",
        " ('10.220.88.29', '5254.abbe.5b7b'),\n",
        " ('10.220.88.30', '5254.ab71.e119'),\n",
        " ('10.220.88.32', '5254.abc7.26aa'),\n",
        " ('10.220.88.33', '5254.ab3a.8d26'),\n",
        " ('10.220.88.35', '5254.abfb.af12'),\n",
        " ('10.220.88.37', '0001.00ff.0001'),\n",
        " ('10.220.88.38', '0002.00ff.0001'),\n",
        " ('10.220.88.39', '6464.9be8.08c8'),\n",
        " ('10.220.88.40', '001c.c4bf.826a'),\n",
        " ('10.220.88.41', '001b.7873.5634')] \n",
        "```\n",
        "Loop over this data structure and extract all of the MAC addresses. Process all of the MAC addresses to get them into a standard format. Print all of the new standardized MAC address to the screen. The standardized format should be as follows:\n",
        "```\n",
        "00:62:EC:29:70:FE\n",
        "```\n",
        "The hex digits should be capitalized. Additionally, there should be a colon between each octet in the MAC address."
      ],
      "metadata": {
        "id": "hIteDP9oZHnU"
      }
    },
    {
      "cell_type": "code",
      "source": [
        "arp_table = [('10.220.88.1', '0062.ec29.70fe'),\n",
        " ('10.220.88.20', 'c89c.1dea.0eb6'),\n",
        " ('10.220.88.21', '1c6a.7aaf.576c'),\n",
        " ('10.220.88.28', '5254.aba8.9aea'),\n",
        " ('10.220.88.29', '5254.abbe.5b7b'),\n",
        " ('10.220.88.30', '5254.ab71.e119'),\n",
        " ('10.220.88.32', '5254.abc7.26aa'),\n",
        " ('10.220.88.33', '5254.ab3a.8d26'),\n",
        " ('10.220.88.35', '5254.abfb.af12'),\n",
        " ('10.220.88.37', '0001.00ff.0001'),\n",
        " ('10.220.88.38', '0002.00ff.0001'),\n",
        " ('10.220.88.39', '6464.9be8.08c8'),\n",
        " ('10.220.88.40', '001c.c4bf.826a'),\n",
        " ('10.220.88.41', '001b.7873.5634')] \n",
        "\n",
        "\n",
        "def extractmac(lst):\n",
        "    pos = [0, 2, 5, 7, 10, 12]\n",
        "    mac = lst[1].upper()\n",
        "    stdmac = []\n",
        "    for i in range (len(pos)):\n",
        "        stdmac.append(mac[pos[i]:pos[i]+2])\n",
        "    return ':'.join(stdmac)\n",
        "\n",
        "for arp in arp_table:\n",
        "    print(extractmac(arp))"
      ],
      "metadata": {
        "id": "gvu-6LAGZLnR",
        "colab": {
          "base_uri": "https://localhost:8080/"
        },
        "outputId": "95ae0100-59f9-4775-dec7-87ba9c5e195d"
      },
      "execution_count": null,
      "outputs": [
        {
          "output_type": "stream",
          "name": "stdout",
          "text": [
            "00:62:EC:29:70:FE\n",
            "C8:9C:1D:EA:0E:B6\n",
            "1C:6A:7A:AF:57:6C\n",
            "52:54:AB:A8:9A:EA\n",
            "52:54:AB:BE:5B:7B\n",
            "52:54:AB:71:E1:19\n",
            "52:54:AB:C7:26:AA\n",
            "52:54:AB:3A:8D:26\n",
            "52:54:AB:FB:AF:12\n",
            "00:01:00:FF:00:01\n",
            "00:02:00:FF:00:01\n",
            "64:64:9B:E8:08:C8\n",
            "00:1C:C4:BF:82:6A\n",
            "00:1B:78:73:56:34\n"
          ]
        }
      ]
    },
    {
      "cell_type": "markdown",
      "source": [
        "Q15. [Optional/bonus] \n",
        "\n",
        "*** Note, to actually test this in your environment, change the test IP addresses to something in your environment that you can ping successfully. ***\n",
        "\n",
        "Construct a list of 254 IP addresses. The base IP address should be equal to '10.10.100.0' or '10.10.100.'.\n",
        "\n",
        "You should use the 'range' builtin to accomplish this.\n",
        "\n",
        "Your list should have all of the IP addresses from 10.10.100.1 to 10.10.100.254.\n",
        "\n",
        "Use Python's 'enumerate' to print out all of the IP addresses and their corresponding list index. The output should look similar to the following: \n",
        "```\n",
        "0 ---> 10.10.100.1\n",
        "1 ---> 10.10.100.2\n",
        "2 ---> 10.10.100.3\n",
        "3 ---> 10.10.100.4\n",
        "4 ---> 10.10.100.5\n",
        "...\n",
        "```\n",
        "\n",
        "Use a list slice to create a new list that goes from 10.10.100.3 to 10.10.100.6.\n",
        "\n",
        "Using a loop and os.system(\"ping -c 3 10.10.100.3\") try pinging all of the IP addresses in this short list. For Windows the command will probably be os.system(\"ping -n 3 10.10.100.3\").\n",
        "\n",
        "Put a variable at the top to define whether you are using Windows or Linux/MacOs. This should be similar to the following:\n",
        "```\n",
        "WINDOWS = False\n",
        "\n",
        "base_cmd_linux = 'ping -c 2'\n",
        "base_cmd_windows = 'ping -n 2'\n",
        "# Ternary operator\n",
        "base_cmd = base_cmd_windows if WINDOWS else base_cmd_linux\n",
        "```"
      ],
      "metadata": {
        "id": "HDzKcQhKZMXd"
      }
    },
    {
      "cell_type": "code",
      "source": [
        "iplist = []\n",
        "for i in range(1,255):\n",
        "    ip = '10.10.100.'+str(i)\n",
        "    iplist.append(ip)\n",
        "\n",
        "for ind, val in enumerate(iplist):\n",
        "    print(str(ind) + ' -- ' + str(val))\n",
        "\n",
        "partial = iplist[2:6]\n",
        "\n",
        "for ip in partial:\n",
        "    WINDOWS = True\n",
        "\n",
        "    base_cmd_linux = 'ping -c 2 ' + str(ip)\n",
        "    base_cmd_windows = 'ping -n 3 ' + str(ip)\n",
        "    # Ternary operator\n",
        "    base_cmd = base_cmd_windows if WINDOWS else base_cmd_linux"
      ],
      "metadata": {
        "id": "LM8c2JNvZ-ZY",
        "colab": {
          "base_uri": "https://localhost:8080/"
        },
        "outputId": "2e0c1e6c-9ba1-4126-ad25-ddb1e7099ddd"
      },
      "execution_count": null,
      "outputs": [
        {
          "output_type": "stream",
          "name": "stdout",
          "text": [
            "0 -- 10.10.100.1\n",
            "1 -- 10.10.100.2\n",
            "2 -- 10.10.100.3\n",
            "3 -- 10.10.100.4\n",
            "4 -- 10.10.100.5\n",
            "5 -- 10.10.100.6\n",
            "6 -- 10.10.100.7\n",
            "7 -- 10.10.100.8\n",
            "8 -- 10.10.100.9\n",
            "9 -- 10.10.100.10\n",
            "10 -- 10.10.100.11\n",
            "11 -- 10.10.100.12\n",
            "12 -- 10.10.100.13\n",
            "13 -- 10.10.100.14\n",
            "14 -- 10.10.100.15\n",
            "15 -- 10.10.100.16\n",
            "16 -- 10.10.100.17\n",
            "17 -- 10.10.100.18\n",
            "18 -- 10.10.100.19\n",
            "19 -- 10.10.100.20\n",
            "20 -- 10.10.100.21\n",
            "21 -- 10.10.100.22\n",
            "22 -- 10.10.100.23\n",
            "23 -- 10.10.100.24\n",
            "24 -- 10.10.100.25\n",
            "25 -- 10.10.100.26\n",
            "26 -- 10.10.100.27\n",
            "27 -- 10.10.100.28\n",
            "28 -- 10.10.100.29\n",
            "29 -- 10.10.100.30\n",
            "30 -- 10.10.100.31\n",
            "31 -- 10.10.100.32\n",
            "32 -- 10.10.100.33\n",
            "33 -- 10.10.100.34\n",
            "34 -- 10.10.100.35\n",
            "35 -- 10.10.100.36\n",
            "36 -- 10.10.100.37\n",
            "37 -- 10.10.100.38\n",
            "38 -- 10.10.100.39\n",
            "39 -- 10.10.100.40\n",
            "40 -- 10.10.100.41\n",
            "41 -- 10.10.100.42\n",
            "42 -- 10.10.100.43\n",
            "43 -- 10.10.100.44\n",
            "44 -- 10.10.100.45\n",
            "45 -- 10.10.100.46\n",
            "46 -- 10.10.100.47\n",
            "47 -- 10.10.100.48\n",
            "48 -- 10.10.100.49\n",
            "49 -- 10.10.100.50\n",
            "50 -- 10.10.100.51\n",
            "51 -- 10.10.100.52\n",
            "52 -- 10.10.100.53\n",
            "53 -- 10.10.100.54\n",
            "54 -- 10.10.100.55\n",
            "55 -- 10.10.100.56\n",
            "56 -- 10.10.100.57\n",
            "57 -- 10.10.100.58\n",
            "58 -- 10.10.100.59\n",
            "59 -- 10.10.100.60\n",
            "60 -- 10.10.100.61\n",
            "61 -- 10.10.100.62\n",
            "62 -- 10.10.100.63\n",
            "63 -- 10.10.100.64\n",
            "64 -- 10.10.100.65\n",
            "65 -- 10.10.100.66\n",
            "66 -- 10.10.100.67\n",
            "67 -- 10.10.100.68\n",
            "68 -- 10.10.100.69\n",
            "69 -- 10.10.100.70\n",
            "70 -- 10.10.100.71\n",
            "71 -- 10.10.100.72\n",
            "72 -- 10.10.100.73\n",
            "73 -- 10.10.100.74\n",
            "74 -- 10.10.100.75\n",
            "75 -- 10.10.100.76\n",
            "76 -- 10.10.100.77\n",
            "77 -- 10.10.100.78\n",
            "78 -- 10.10.100.79\n",
            "79 -- 10.10.100.80\n",
            "80 -- 10.10.100.81\n",
            "81 -- 10.10.100.82\n",
            "82 -- 10.10.100.83\n",
            "83 -- 10.10.100.84\n",
            "84 -- 10.10.100.85\n",
            "85 -- 10.10.100.86\n",
            "86 -- 10.10.100.87\n",
            "87 -- 10.10.100.88\n",
            "88 -- 10.10.100.89\n",
            "89 -- 10.10.100.90\n",
            "90 -- 10.10.100.91\n",
            "91 -- 10.10.100.92\n",
            "92 -- 10.10.100.93\n",
            "93 -- 10.10.100.94\n",
            "94 -- 10.10.100.95\n",
            "95 -- 10.10.100.96\n",
            "96 -- 10.10.100.97\n",
            "97 -- 10.10.100.98\n",
            "98 -- 10.10.100.99\n",
            "99 -- 10.10.100.100\n",
            "100 -- 10.10.100.101\n",
            "101 -- 10.10.100.102\n",
            "102 -- 10.10.100.103\n",
            "103 -- 10.10.100.104\n",
            "104 -- 10.10.100.105\n",
            "105 -- 10.10.100.106\n",
            "106 -- 10.10.100.107\n",
            "107 -- 10.10.100.108\n",
            "108 -- 10.10.100.109\n",
            "109 -- 10.10.100.110\n",
            "110 -- 10.10.100.111\n",
            "111 -- 10.10.100.112\n",
            "112 -- 10.10.100.113\n",
            "113 -- 10.10.100.114\n",
            "114 -- 10.10.100.115\n",
            "115 -- 10.10.100.116\n",
            "116 -- 10.10.100.117\n",
            "117 -- 10.10.100.118\n",
            "118 -- 10.10.100.119\n",
            "119 -- 10.10.100.120\n",
            "120 -- 10.10.100.121\n",
            "121 -- 10.10.100.122\n",
            "122 -- 10.10.100.123\n",
            "123 -- 10.10.100.124\n",
            "124 -- 10.10.100.125\n",
            "125 -- 10.10.100.126\n",
            "126 -- 10.10.100.127\n",
            "127 -- 10.10.100.128\n",
            "128 -- 10.10.100.129\n",
            "129 -- 10.10.100.130\n",
            "130 -- 10.10.100.131\n",
            "131 -- 10.10.100.132\n",
            "132 -- 10.10.100.133\n",
            "133 -- 10.10.100.134\n",
            "134 -- 10.10.100.135\n",
            "135 -- 10.10.100.136\n",
            "136 -- 10.10.100.137\n",
            "137 -- 10.10.100.138\n",
            "138 -- 10.10.100.139\n",
            "139 -- 10.10.100.140\n",
            "140 -- 10.10.100.141\n",
            "141 -- 10.10.100.142\n",
            "142 -- 10.10.100.143\n",
            "143 -- 10.10.100.144\n",
            "144 -- 10.10.100.145\n",
            "145 -- 10.10.100.146\n",
            "146 -- 10.10.100.147\n",
            "147 -- 10.10.100.148\n",
            "148 -- 10.10.100.149\n",
            "149 -- 10.10.100.150\n",
            "150 -- 10.10.100.151\n",
            "151 -- 10.10.100.152\n",
            "152 -- 10.10.100.153\n",
            "153 -- 10.10.100.154\n",
            "154 -- 10.10.100.155\n",
            "155 -- 10.10.100.156\n",
            "156 -- 10.10.100.157\n",
            "157 -- 10.10.100.158\n",
            "158 -- 10.10.100.159\n",
            "159 -- 10.10.100.160\n",
            "160 -- 10.10.100.161\n",
            "161 -- 10.10.100.162\n",
            "162 -- 10.10.100.163\n",
            "163 -- 10.10.100.164\n",
            "164 -- 10.10.100.165\n",
            "165 -- 10.10.100.166\n",
            "166 -- 10.10.100.167\n",
            "167 -- 10.10.100.168\n",
            "168 -- 10.10.100.169\n",
            "169 -- 10.10.100.170\n",
            "170 -- 10.10.100.171\n",
            "171 -- 10.10.100.172\n",
            "172 -- 10.10.100.173\n",
            "173 -- 10.10.100.174\n",
            "174 -- 10.10.100.175\n",
            "175 -- 10.10.100.176\n",
            "176 -- 10.10.100.177\n",
            "177 -- 10.10.100.178\n",
            "178 -- 10.10.100.179\n",
            "179 -- 10.10.100.180\n",
            "180 -- 10.10.100.181\n",
            "181 -- 10.10.100.182\n",
            "182 -- 10.10.100.183\n",
            "183 -- 10.10.100.184\n",
            "184 -- 10.10.100.185\n",
            "185 -- 10.10.100.186\n",
            "186 -- 10.10.100.187\n",
            "187 -- 10.10.100.188\n",
            "188 -- 10.10.100.189\n",
            "189 -- 10.10.100.190\n",
            "190 -- 10.10.100.191\n",
            "191 -- 10.10.100.192\n",
            "192 -- 10.10.100.193\n",
            "193 -- 10.10.100.194\n",
            "194 -- 10.10.100.195\n",
            "195 -- 10.10.100.196\n",
            "196 -- 10.10.100.197\n",
            "197 -- 10.10.100.198\n",
            "198 -- 10.10.100.199\n",
            "199 -- 10.10.100.200\n",
            "200 -- 10.10.100.201\n",
            "201 -- 10.10.100.202\n",
            "202 -- 10.10.100.203\n",
            "203 -- 10.10.100.204\n",
            "204 -- 10.10.100.205\n",
            "205 -- 10.10.100.206\n",
            "206 -- 10.10.100.207\n",
            "207 -- 10.10.100.208\n",
            "208 -- 10.10.100.209\n",
            "209 -- 10.10.100.210\n",
            "210 -- 10.10.100.211\n",
            "211 -- 10.10.100.212\n",
            "212 -- 10.10.100.213\n",
            "213 -- 10.10.100.214\n",
            "214 -- 10.10.100.215\n",
            "215 -- 10.10.100.216\n",
            "216 -- 10.10.100.217\n",
            "217 -- 10.10.100.218\n",
            "218 -- 10.10.100.219\n",
            "219 -- 10.10.100.220\n",
            "220 -- 10.10.100.221\n",
            "221 -- 10.10.100.222\n",
            "222 -- 10.10.100.223\n",
            "223 -- 10.10.100.224\n",
            "224 -- 10.10.100.225\n",
            "225 -- 10.10.100.226\n",
            "226 -- 10.10.100.227\n",
            "227 -- 10.10.100.228\n",
            "228 -- 10.10.100.229\n",
            "229 -- 10.10.100.230\n",
            "230 -- 10.10.100.231\n",
            "231 -- 10.10.100.232\n",
            "232 -- 10.10.100.233\n",
            "233 -- 10.10.100.234\n",
            "234 -- 10.10.100.235\n",
            "235 -- 10.10.100.236\n",
            "236 -- 10.10.100.237\n",
            "237 -- 10.10.100.238\n",
            "238 -- 10.10.100.239\n",
            "239 -- 10.10.100.240\n",
            "240 -- 10.10.100.241\n",
            "241 -- 10.10.100.242\n",
            "242 -- 10.10.100.243\n",
            "243 -- 10.10.100.244\n",
            "244 -- 10.10.100.245\n",
            "245 -- 10.10.100.246\n",
            "246 -- 10.10.100.247\n",
            "247 -- 10.10.100.248\n",
            "248 -- 10.10.100.249\n",
            "249 -- 10.10.100.250\n",
            "250 -- 10.10.100.251\n",
            "251 -- 10.10.100.252\n",
            "252 -- 10.10.100.253\n",
            "253 -- 10.10.100.254\n"
          ]
        }
      ]
    },
    {
      "cell_type": "markdown",
      "source": [
        "Q16. Create a dictionary representing a network device. The dictionary should have key-value pairs representing the 'ip_addr', 'vendor', 'username', and 'password' fields.\n",
        "\n",
        "Print out the 'ip_addr' key from the dictionary.\n",
        "\n",
        "If the 'vendor' key is 'cisco', then set the 'platform' to 'ios'. If the 'vendor' key is 'juniper', then set the 'platform' to 'junos'.\n",
        "\n",
        "Create a second dictionary named 'bgp_fields'. The 'bgp_fields' dictionary should have a keys for 'bgp_as', 'peer_as', and 'peer_ip'.\n",
        "\n",
        "Using the .update() method add all of the 'bgp_fields' dictionary key-value pairs to the network device dictionary.\n",
        "\n",
        "Using a for-loop, iterate over the dictionary and print out all of the dictionary keys.\n",
        "\n",
        "Using a single for-loop, iterate over the dictionary and print out all of the dictionary keys and values."
      ],
      "metadata": {
        "id": "SOpRdHGlZ-4R"
      }
    },
    {
      "cell_type": "code",
      "source": [
        "device = {\n",
        "    'ip_addr': '',\n",
        "    'vendor': '',\n",
        "    'username': '',\n",
        "    'password': ''\n",
        "}\n",
        "\n",
        "print(device['ip_addr'])"
      ],
      "metadata": {
        "id": "6UCZkyX-aMDF",
        "colab": {
          "base_uri": "https://localhost:8080/"
        },
        "outputId": "3fdc36d9-4a2e-4f78-8b3a-c68defa49ad6"
      },
      "execution_count": null,
      "outputs": [
        {
          "output_type": "stream",
          "name": "stdout",
          "text": [
            "\n"
          ]
        }
      ]
    },
    {
      "cell_type": "markdown",
      "source": [
        "Q17a. Create an ssh_conn function. This function should have three parameters: ip_addr, username, and password. The function should print out each of these three variables and clearly indicate which variable it is printing out.\n",
        "\n",
        "Call this ssh_conn function using entirely positional arguments.\n",
        "\n",
        "Call this ssh_conn function using entirely named arguments.\n",
        "\n",
        "Call this ssh_conn function using a mix of positional and named arguments.\n",
        "\n",
        "\n",
        "Q17b. Expand on the ssh_conn function from Q17a except add a fourth parameter 'device_type' with a default value of 'cisco_ios'. Print all four of the function variables out as part of the function's execution.\n",
        "\n",
        "Call the 'ssh_conn2' function both with and without specifying the device_type\n",
        "\n",
        "Create a dictionary that maps to the function's parameters. Call this ssh_conn2 function using the **kwargs technique."
      ],
      "metadata": {
        "id": "_m7zsmm7cXCl"
      }
    },
    {
      "cell_type": "code",
      "source": [
        "def ssh_conn(ip_addr, username, password, device_type = 'cisco_ios'):\n",
        "    print(f'IP Address: {ip_addr}')\n",
        "    print(f'Username: {username}')\n",
        "    print(f'Password: {password}')\n",
        "    print(f'Device Type: {device_type}')\n",
        "    print()\n",
        "\n",
        "def ssh_conn2(**kwargs):\n",
        "    ssh = kwargs\n",
        "    print(ssh)\n",
        "    \n",
        "\n",
        "ssh_conn('1.1.1.1', 'tententen', '123455', 'android')\n",
        "ssh_conn(username = 'ninini', password = '53412', ip_addr ='2.2.2.2')\n",
        "ssh_conn('3.3.3.3', password = 'password', username = 'lalalala')\n",
        "ssh_conn2(ip_addr = '4.4.4.4', username = 'blah', password = '00012', device_type = 'ios' )"
      ],
      "metadata": {
        "id": "rZL98m9Icdyp",
        "colab": {
          "base_uri": "https://localhost:8080/"
        },
        "outputId": "504a6d35-adfe-451a-eb96-07565ff90b13"
      },
      "execution_count": null,
      "outputs": [
        {
          "output_type": "stream",
          "name": "stdout",
          "text": [
            "IP Address: 1.1.1.1\n",
            "Username: tententen\n",
            "Password: 123455\n",
            "Device Type: android\n",
            "\n",
            "IP Address: 2.2.2.2\n",
            "Username: ninini\n",
            "Password: 53412\n",
            "Device Type: cisco_ios\n",
            "\n",
            "IP Address: 3.3.3.3\n",
            "Username: lalalala\n",
            "Password: password\n",
            "Device Type: cisco_ios\n",
            "\n",
            "{'ip_addr': '4.4.4.4', 'username': 'blah', 'password': '00012', 'device_type': 'ios'}\n"
          ]
        }
      ]
    },
    {
      "cell_type": "markdown",
      "source": [
        "Q18. Create a function that randomly generates an IP address for a network. The default base network should be '10.10.10.'. For simplicity the network will always be a /24.\n",
        "\n",
        "You should be able to pass a different base network into your function as an argument.\n",
        "\n",
        "Randomly pick a number between 1 and 254 for the last octet and return the full IP address.\n",
        "\n",
        "You can use the following to randomly generate the last octet:\n",
        "```\n",
        "import random\n",
        "random.randint(1, 254)\n",
        "```\n",
        "Call your function using no arguments.\n",
        "Call your function using a positional argument.\n",
        "Call your function using a named argument.\n",
        "\n",
        "For each function call print the returned IP address to the screen."
      ],
      "metadata": {
        "id": "fz_LvnXFceXU"
      }
    },
    {
      "cell_type": "code",
      "source": [
        "from random import randint\n",
        "\n",
        "def genip (base = '10.10.10.'):\n",
        "    last = randint(1, 254)\n",
        "    return base + str(last)\n",
        "\n",
        "print(genip())\n",
        "print(genip('11.10.11.'))\n",
        "print(genip(base = '12.11.12.'))"
      ],
      "metadata": {
        "id": "56G9aDP6cgWO",
        "colab": {
          "base_uri": "https://localhost:8080/"
        },
        "outputId": "8048cd1e-c6ea-4839-8812-3b4d7fda2baa"
      },
      "execution_count": null,
      "outputs": [
        {
          "output_type": "stream",
          "name": "stdout",
          "text": [
            "10.10.10.113\n",
            "11.10.11.29\n",
            "12.11.12.163\n"
          ]
        }
      ]
    },
    {
      "cell_type": "markdown",
      "source": [
        "Q19. Write a function that normalizes a MAC address to the following format:\n",
        "```\n",
        "01:23:45:67:89:AB\n",
        "```\n",
        "This function should handle the lower-case to upper-case conversion.\n",
        "\n",
        "It should also handle converting from '0000.aaaa.bbbb' and from '00-00-aa-aa-bb-bb' formats.\n",
        "\n",
        "The function should have one parameter, the mac_address. It should return the normalized MAC address\n",
        "\n",
        "Single digit bytes should be zero-padded to two digits. In other words, this:\n",
        "```\n",
        "a:b:c:d:e:f\n",
        "```\n",
        "should be converted to:\n",
        "```\n",
        "0A:0B:0C:0D:0E:0F\n",
        "```\n",
        "Write several test cases for your function and verify it is working properly."
      ],
      "metadata": {
        "id": "wbwBi1obcgvJ"
      }
    },
    {
      "cell_type": "code",
      "source": [
        "def normalisemac(string):\n",
        "    i = 0\n",
        "    while string[i].isalnum():\n",
        "        i += 1\n",
        "    seperator = string[i]\n",
        "    mac = string.upper().split(seperator)\n",
        "    \n",
        "    if len(mac) != 6:\n",
        "        temp = []\n",
        "        for element in mac:\n",
        "            if len(element) != 2:\n",
        "                j=0\n",
        "                while j < len(element):\n",
        "                    temp.append(element[j:j+2])\n",
        "                    j+=2\n",
        "            else:\n",
        "                temp.append(element)\n",
        "        mac = temp\n",
        "    else:\n",
        "        for k in range(len(mac)):\n",
        "            if len(mac[k]) < 2:\n",
        "                mac[k] = mac[k].zfill(2)\n",
        "\n",
        "    return ':'.join(mac)\n",
        "\n",
        "\n",
        "print(normalisemac('a.b.c.d.e.f'))\n",
        "print(normalisemac('0000.aaaa.bbbb'))\n",
        "print(normalisemac('00-00-aa-aa-bb-bb'))"
      ],
      "metadata": {
        "id": "TwGMM_JFchlC",
        "colab": {
          "base_uri": "https://localhost:8080/"
        },
        "outputId": "5626f22d-850b-4448-845d-178f02ec3357"
      },
      "execution_count": null,
      "outputs": [
        {
          "output_type": "stream",
          "name": "stdout",
          "text": [
            "0A:0B:0C:0D:0E:0F\n",
            "00:00:AA:AA:BB:BB\n",
            "00:00:AA:AA:BB:BB\n"
          ]
        }
      ]
    },
    {
      "cell_type": "code",
      "source": [
        ""
      ],
      "metadata": {
        "id": "PDXLqsEl6OQO"
      },
      "execution_count": null,
      "outputs": []
    }
  ]
}