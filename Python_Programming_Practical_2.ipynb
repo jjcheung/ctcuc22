{
  "nbformat": 4,
  "nbformat_minor": 0,
  "metadata": {
    "colab": {
      "name": "JJ Cheung - 2022_Python_Programming_Practical_2.ipynb",
      "provenance": [],
      "collapsed_sections": [],
      "include_colab_link": true
    },
    "kernelspec": {
      "name": "python3",
      "display_name": "Python 3"
    }
  },
  "cells": [
    {
      "cell_type": "markdown",
      "metadata": {
        "id": "view-in-github",
        "colab_type": "text"
      },
      "source": [
        "<a href=\"https://colab.research.google.com/github/jjcheung/ctcuc22/blob/main/JJ_Cheung_2022_Python_Programming_Practical_2.ipynb\" target=\"_parent\"><img src=\"https://colab.research.google.com/assets/colab-badge.svg\" alt=\"Open In Colab\"/></a>"
      ]
    },
    {
      "cell_type": "markdown",
      "metadata": {
        "id": "jp3BkDml8xiR"
      },
      "source": [
        "# **2022 Python Programming Practical 2**"
      ]
    },
    {
      "cell_type": "markdown",
      "metadata": {
        "id": "-U8w0oQW9P_b"
      },
      "source": [
        "**Q1. (Check if number is odd or even)**\n",
        "\n",
        "Write a program that reads an integer and checks whether it is odd or even. \n",
        "\n",
        "Sample interaction:\n",
        "```\n",
        "Enter number: 25\n",
        "25 is odd\n",
        "\n",
        "Enter number: 8\n",
        "8 is even\n",
        "\n",
        "```"
      ]
    },
    {
      "cell_type": "code",
      "metadata": {
        "id": "D0uTR7B-8qbF",
        "colab": {
          "base_uri": "https://localhost:8080/"
        },
        "outputId": "fd95a612-9206-4aa2-9913-79145840f96a"
      },
      "source": [
        "num = int(input(\"Enter number: \"))\n",
        "if num%2 == 0:\n",
        "  print(num, 'is even')\n",
        "else: \n",
        "  print(num, 'is odd')"
      ],
      "execution_count": null,
      "outputs": [
        {
          "output_type": "stream",
          "name": "stdout",
          "text": [
            "Enter number: 8\n",
            "8 is even\n"
          ]
        }
      ]
    },
    {
      "cell_type": "markdown",
      "metadata": {
        "id": "7Ui5CuS_9Za1"
      },
      "source": [
        "**Q2. (Validate triangles and compute perimeter)**\n",
        "\n",
        "Write a program that reads three edges for a triangle and determines whether the input is valid. The input is valid if the sum of any two edges is greater than the third edge. The program will compute the perimeter of the triangle if the input is valid. Otherwise, display that the input is invalid. \n",
        "\n",
        "Sample interaction:\n",
        "```\n",
        "Enter side 1: 2\n",
        "Enter side 2: 2\n",
        "Enter side 3: 1\n",
        "Perimeter = 5\n",
        "\n",
        "Enter side 1: 1\n",
        "Enter side 2: 2\n",
        "Enter side 3: 1\n",
        "Invalid triangle!\n",
        "\n",
        "```\n",
        "\n",
        "\n"
      ]
    },
    {
      "cell_type": "code",
      "metadata": {
        "id": "CfkRAAWV9cXS",
        "colab": {
          "base_uri": "https://localhost:8080/"
        },
        "outputId": "08cce374-d46e-4f70-95a5-ad4e96ee92b4"
      },
      "source": [
        "side1 = int(input(\"Enter side 1: \"))\n",
        "side2 = int(input(\"Enter side 2: \"))\n",
        "side3 = int(input(\"Enter side 3: \"))\n",
        "\n",
        "if (side1 + side2 > side3) and (side3 + side2 > side1) and (side1 + side3 > side2):\n",
        "  perimeter = side1 + side2 + side3\n",
        "  print('Perimeter =', perimeter)\n",
        "else:\n",
        "  print('Invalid triangle!')"
      ],
      "execution_count": null,
      "outputs": [
        {
          "output_type": "stream",
          "name": "stdout",
          "text": [
            "Enter side 1: 1\n",
            "Enter side 2: 2\n",
            "Enter side 3: 1\n",
            "Invalid triangle!\n"
          ]
        }
      ]
    },
    {
      "cell_type": "markdown",
      "metadata": {
        "id": "aVhHiT8w9c7d"
      },
      "source": [
        "**Q3. (Determine grade)**\n",
        "\n",
        "Write a program that prompts the user to enter a score between 0 and 100 inclusive and output the corresponding grade as well as a Pass/Fail status. Output an error message if the entered score in not within the valid range. The grading system is as follows (S and U are not passes):\n",
        "\n",
        "A: 70 - 100  \n",
        "B: 60 - 69  \n",
        "C: 55 - 59  \n",
        "D: 50 - 54  \n",
        "E: 45 - 49  \n",
        "S: 35 - 44  \n",
        "U: 0 - 34\n",
        "\n",
        "Sample interaction:\n",
        "```\n",
        "Enter score: 73\n",
        "A\n",
        "Pass\n",
        "\n",
        "Enter score: 37\n",
        "S\n",
        "Fail\n",
        "\n",
        "Enter Score: -1\n",
        "Invalid! Score must be within 0 - 100.\n",
        "\n",
        "```"
      ]
    },
    {
      "cell_type": "code",
      "metadata": {
        "id": "PwRmweEa9fny",
        "colab": {
          "base_uri": "https://localhost:8080/"
        },
        "outputId": "eb26be7d-77fa-42a9-86c0-2d719ccd32b1"
      },
      "source": [
        "score=int(input('Enter Score: '))\n",
        "grade =''\n",
        "\n",
        "if score < 0 or score > 100:                      #invalid\n",
        "  print ('Invalid! Score must be within 0 - 100')\n",
        "elif score >= 70:\n",
        "  grade = 'A'\n",
        "elif score >= 60:\n",
        "  grade = 'B'\n",
        "elif score >= 55:\n",
        "  grade = 'C'\n",
        "elif score >= 50:\n",
        "  grade = 'D'\n",
        "elif score >= 45:\n",
        "  grade = 'E'\n",
        "elif score >= 40:\n",
        "  grade = 'S'\n",
        "else:\n",
        "  grade = 'U'\n",
        "\n",
        "#output\n",
        "print(grade)\n",
        "if grade == 'S' or grade == 'U':\n",
        "  print('Fail')\n",
        "elif grade:                       # for grades A to E, ignores invalid entry\n",
        "  print('Pass')\n"
      ],
      "execution_count": null,
      "outputs": [
        {
          "output_type": "stream",
          "name": "stdout",
          "text": [
            "Enter Score: 56\n",
            "C\n",
            "Pass\n"
          ]
        }
      ]
    },
    {
      "cell_type": "code",
      "source": [
        "#define dictionary grades as key, scores as value\n",
        "grades = {\n",
        "    'A':[70, 100],\n",
        "    'B':[60, 69],\n",
        "    'C':[55, 59],\n",
        "    'D':[50, 54],\n",
        "    'E':[45, 49],\n",
        "    'S':[40, 44],\n",
        "    'U':[0, 39]\n",
        "}\n",
        "\n",
        "#defining pass grade\n",
        "passes = ['A', 'B', 'C', 'D', 'E']\n",
        "\n",
        "#input\n",
        "score=int(input('Enter Score: '))\n",
        "\n",
        "if score < 0 or score > 100:                      #invalid\n",
        "    print ('Invalid! Score must be within 0 - 100')\n",
        "else:\n",
        "    #iterating through dictionary\n",
        "    for key, value in grades.items():\n",
        "        if value[0] <= score <= value[1]:\n",
        "            print (key)\n",
        "            if key in passes:\n",
        "                print('Pass')\n",
        "            else:\n",
        "                print('Fail')"
      ],
      "metadata": {
        "colab": {
          "base_uri": "https://localhost:8080/"
        },
        "id": "49mXiKEBONlb",
        "outputId": "6a076169-5fa8-4e11-8d27-bd286df18dfb"
      },
      "execution_count": null,
      "outputs": [
        {
          "output_type": "stream",
          "name": "stdout",
          "text": [
            "Enter Score: 34\n",
            "U\n",
            "Fail\n"
          ]
        }
      ]
    },
    {
      "cell_type": "markdown",
      "metadata": {
        "id": "GwAIqQNY9gFd"
      },
      "source": [
        "**Q4. (Determine leap year)**\n",
        "\n",
        "Write a program that prompts the user to enter a year and determines whether it is a leap year. A year is a leap year if it is divisible by 4 but not 100, or is divisible by 400. \n",
        "\n",
        "Sample interaction:\n",
        "```\n",
        "Enter year: 2020\n",
        "Leap\n",
        "\n",
        "Enter year: 2019\n",
        "Non-Leap\n",
        "```"
      ]
    },
    {
      "cell_type": "code",
      "metadata": {
        "id": "aOozTwoR9j9B",
        "colab": {
          "base_uri": "https://localhost:8080/"
        },
        "outputId": "d1f49d85-d649-4eb3-c927-8e7fa9c80244"
      },
      "source": [
        "year = int(input('Enter year: '))\n",
        "\n",
        "if (year % 4 == 0 and year % 100 != 0) or year % 400 == 0:\n",
        "  print ('Leap')\n",
        "else:\n",
        "  print ('Non-Leap')"
      ],
      "execution_count": null,
      "outputs": [
        {
          "output_type": "stream",
          "name": "stdout",
          "text": [
            "Enter year: 1900\n",
            "Non-Leap\n"
          ]
        }
      ]
    },
    {
      "cell_type": "markdown",
      "metadata": {
        "id": "lE0ScX9e9kcg"
      },
      "source": [
        "**Q5. (Find number of days in a month)**\n",
        "\n",
        "Write a program that prompts the user to enter the month and year, and displays the number of days in the month. Sample interaction:\n",
        "```\n",
        "Enter month: 2\n",
        "Enter year: 2020\n",
        "February 2020 has 29 days.\n",
        "\n",
        "Enter month: 3\n",
        "Enter year: 2021\n",
        "March 2021 has 31 days.\n",
        "\n",
        "```"
      ]
    },
    {
      "cell_type": "code",
      "metadata": {
        "id": "sE_bxwDs9mf6",
        "colab": {
          "base_uri": "https://localhost:8080/"
        },
        "outputId": "b9a60aa8-245a-4e17-f079-61ade5ca7c83"
      },
      "source": [
        "#defining list of dictionary\n",
        "calender = [\n",
        "            {'month': 'January', 'day':31},\n",
        "            {'month': 'February', 'day':28},\n",
        "            {'month': 'March', 'day':31},\n",
        "            {'month': 'April', 'day':30},\n",
        "            {'month': 'May', 'day':31},\n",
        "            {'month': 'June', 'day':30},\n",
        "            {'month': 'July', 'day':31},\n",
        "            {'month': 'August', 'day':31},\n",
        "            {'month': 'September', 'day':30},\n",
        "            {'month': 'October', 'day':31},\n",
        "            {'month': 'November', 'day':30},\n",
        "            {'month': 'December', 'day':31}\n",
        "]\n",
        "\n",
        "month = int(input('Enter month: '))\n",
        "year = int(input('Enter year: '))\n",
        "\n",
        "#check for leap year\n",
        "leap = False\n",
        "if (year % 4 == 0 and year % 100 != 0) or year % 400 == 0:\n",
        "  leap = True\n",
        "\n",
        "if leap == True and month == '2':         #if leap year\n",
        "  print('February',year,'has 29 days.')\n",
        "else:                                     #non-leap year\n",
        "  print(calender[month-1]['month'], year, 'has',calender[month-1]['day'], 'days.')"
      ],
      "execution_count": null,
      "outputs": [
        {
          "output_type": "stream",
          "name": "stdout",
          "text": [
            "Enter month: 5\n",
            "Enter year: 4003\n",
            "May 4003 has 31 days.\n"
          ]
        }
      ]
    },
    {
      "cell_type": "markdown",
      "metadata": {
        "id": "KSviQY0T9m7Q"
      },
      "source": [
        "**Q6. (Convert from kilograms to pounds)**\n",
        "\n",
        "Write a program that displays the following table (1 kilogram = 2.2 pounds):\n",
        "```\n",
        "Kilograms Pounds\n",
        "1         2.2\n",
        "2         4.4\n",
        "3         6.6\n",
        "...\n",
        "9         19.8\n",
        "10        22.0\n",
        "```"
      ]
    },
    {
      "cell_type": "code",
      "metadata": {
        "id": "YbH9Pbul9rK-",
        "colab": {
          "base_uri": "https://localhost:8080/"
        },
        "outputId": "0e962f53-9f0b-49ce-9f75-f20803b74788"
      },
      "source": [
        "import pandas as pd\n",
        "\n",
        "#define empty dataframe with column headers\n",
        "column_names = ['Kilograms', 'Pounds']\n",
        "df = pd.DataFrame(columns = column_names)\n",
        "\n",
        "#append rows\n",
        "for i in range (1,11):\n",
        "  df=df.append({'Kilograms':i,'Pounds':i*2.2}, ignore_index=True)\n",
        "\n",
        "print(df)"
      ],
      "execution_count": null,
      "outputs": [
        {
          "output_type": "stream",
          "name": "stdout",
          "text": [
            "   Kilograms  Pounds\n",
            "0        1.0     2.2\n",
            "1        2.0     4.4\n",
            "2        3.0     6.6\n",
            "3        4.0     8.8\n",
            "4        5.0    11.0\n",
            "5        6.0    13.2\n",
            "6        7.0    15.4\n",
            "7        8.0    17.6\n",
            "8        9.0    19.8\n",
            "9       10.0    22.0\n"
          ]
        }
      ]
    },
    {
      "cell_type": "markdown",
      "metadata": {
        "id": "V9Z95nlg97e4"
      },
      "source": [
        "**Q7. (Convert from miles to kilometres)**\n",
        "\n",
        "Write a program that displays the following two tables side-by-side (1 mile = 1.609 kilometres):\n",
        "```\n",
        "Miles\tKilometers\tKilometres\tMiles\n",
        "1    \t1.609     \t20        \t12.430\n",
        "2    \t3.218     \t25        \t15.538\n",
        "\n",
        "...\n",
        "9    \t14.481    \t60        \t37.290\n",
        "10   \t16.090    \t65        \t40.398\n",
        "```\n",
        "\n"
      ]
    },
    {
      "cell_type": "code",
      "metadata": {
        "id": "1AZvvAW499PK",
        "colab": {
          "base_uri": "https://localhost:8080/"
        },
        "outputId": "eec3d206-ae3e-4559-8fec-716dfcaed273"
      },
      "source": [
        "#column header\n",
        "print(\"{0:9}{1:14}{2:14}{3}\".format('Miles', 'Kilometers', 'Kilometres', 'Miles'))\n",
        "\n",
        "#for loop for rows\n",
        "for mile in range(1,11):\n",
        "  km = 15+mile*5             #for columns 3 and 4\n",
        "  print(\"{0:<9}{1:<14.3f}{2:<14}{3:.3f}\".format(mile, mile*1.609, km, km/1.609))"
      ],
      "execution_count": null,
      "outputs": [
        {
          "output_type": "stream",
          "name": "stdout",
          "text": [
            "Miles    Kilometers    Kilometres    Miles\n",
            "1        1.609         20            12.430\n",
            "2        3.218         25            15.538\n",
            "3        4.827         30            18.645\n",
            "4        6.436         35            21.753\n",
            "5        8.045         40            24.860\n",
            "6        9.654         45            27.968\n",
            "7        11.263        50            31.075\n",
            "8        12.872        55            34.183\n",
            "9        14.481        60            37.290\n",
            "10       16.090        65            40.398\n"
          ]
        }
      ]
    },
    {
      "cell_type": "markdown",
      "metadata": {
        "id": "79toYNfyD9XP"
      },
      "source": [
        "**Q8. (Find two highest scores)**\n",
        "\n",
        "Write a program that prompts the user to enter the number of students and each student's name and score, and finally displays the student with the highest score and the student with the second-highest score. Enter up to 5 student records.\n",
        "\n"
      ]
    },
    {
      "cell_type": "code",
      "metadata": {
        "id": "Se5J95IjC9bT",
        "colab": {
          "base_uri": "https://localhost:8080/"
        },
        "outputId": "e7253041-ace9-442d-d9e4-619c4252d104"
      },
      "source": [
        "num = int(input('Enter number of students: '))\n",
        "\n",
        "#defining dictionary, with names as keys and marks as values\n",
        "marks={}\n",
        "\n",
        "#input\n",
        "for i in range (num):\n",
        "    name = input('Enter name: ')\n",
        "    score = int(input('Enter score: '))\n",
        "    marks[name] = score\n",
        "\n",
        "#retrieving name and score lists from dictionary for use and manipulation\n",
        "name_list = list(marks.keys())\n",
        "score_list = list(marks.values())\n",
        "\n",
        "#getting the index of the student with the top score\n",
        "post_1 = score_list.index(max(score_list))\n",
        "print (name_list[post_1])\n",
        "\n",
        "#removing the name and score of top student from the two lists\n",
        "name_list.remove(name_list[post_1])\n",
        "score_list.remove(score_list[post_1])\n",
        "\n",
        "#getting the index of the student with the second top score (current top score in existing list)\n",
        "post_2 = score_list.index(max(score_list))\n",
        "print (name_list[post_2])\n"
      ],
      "execution_count": null,
      "outputs": [
        {
          "output_type": "stream",
          "name": "stdout",
          "text": [
            "Enter number of students: 3\n",
            "Enter name: a\n",
            "Enter score: 43\n",
            "Enter name: b\n",
            "Enter score: 23\n",
            "Enter name: c\n",
            "Enter score: 76\n",
            "c\n",
            "a\n"
          ]
        }
      ]
    },
    {
      "cell_type": "markdown",
      "metadata": {
        "id": "seLRswd3ED9x"
      },
      "source": [
        "**Q9. (Finding the smallest n such that n<sup>2</sup> > 12000)**\n",
        "\n",
        "Use a while loop to find the smallest integer n such that n<sup>2</sup> is greater than 12,000. "
      ]
    },
    {
      "cell_type": "code",
      "metadata": {
        "id": "n_1AS9EREHgQ",
        "colab": {
          "base_uri": "https://localhost:8080/"
        },
        "outputId": "8c9c1eb2-bfc1-4617-f6ff-a096f7e17f38"
      },
      "source": [
        "#estimating n value\n",
        "n = round(12000**0.5)\n",
        "\n",
        "#increment n if square is smaller or equal to 12000\n",
        "while n**2 <= 12000:\n",
        "  n+=1\n",
        "\n",
        "print (n, n**2)"
      ],
      "execution_count": null,
      "outputs": [
        {
          "output_type": "stream",
          "name": "stdout",
          "text": [
            "110 12100\n"
          ]
        }
      ]
    },
    {
      "cell_type": "markdown",
      "metadata": {
        "id": "YHyv5TE6EH24"
      },
      "source": [
        "**Q10. (Finding the largest n such that n<sup>3</sup> < 12000)** \n",
        "\n",
        "Use a while loop to find the largest integer n such that n<sup>3</sup> is less than 12,000."
      ]
    },
    {
      "cell_type": "code",
      "metadata": {
        "id": "B--GNWkcEKkR",
        "colab": {
          "base_uri": "https://localhost:8080/"
        },
        "outputId": "741953b8-42bd-4962-d98e-bccdb0c78350"
      },
      "source": [
        "#estimating value of n\n",
        "n = round(12000**(1/3))\n",
        "\n",
        "#decrement n if cube is not less than 12000\n",
        "while n**3 >= 12000:\n",
        "  n-=1\n",
        "\n",
        "print (n, n**3)"
      ],
      "execution_count": null,
      "outputs": [
        {
          "output_type": "stream",
          "name": "stdout",
          "text": [
            "22 10648\n"
          ]
        }
      ]
    },
    {
      "cell_type": "markdown",
      "metadata": {
        "id": "lr8Er0cXEKzY"
      },
      "source": [
        "**Q11. (Computing the greatest common divisor)**\n",
        "\n",
        "A solution to find the greatest common divisor of two integers n1 and n2 is as follows:\n",
        "* First find d to be the minimum of n1 and n2\n",
        "* Then check whether d, d-1, … d-2, 2, or 1 is a divisor for both n1 and n2 in this order.\n",
        "* The first such common divisor is the greatest common divisor for n1 and n2. \n",
        "\n",
        "Write a program to implement this solution.  \n",
        "Sample interaction:\n",
        "```\n",
        "Enter n1: 12\n",
        "Enter n2: 18\n",
        "GCD: 6\n",
        "```"
      ]
    },
    {
      "cell_type": "code",
      "metadata": {
        "id": "T8iKWDpgEOSw",
        "colab": {
          "base_uri": "https://localhost:8080/"
        },
        "outputId": "644939fa-e2b3-4910-e581-ee7fe355b484"
      },
      "source": [
        "n1 = int(input('Enter n1: '))\n",
        "n2 = int(input('Enter n2: '))\n",
        "\n",
        "gcd = min(n1, n2)                         #finding the smaller value of n1 and n2\n",
        "while n1 % gcd != 0 or n2 % gcd != 0:     #testing if current value of gcd is not a factor of either n1 and n2\n",
        "  gcd-=1                                  #decrement for next while loop\n",
        "\n",
        "print('GCD:', gcd)"
      ],
      "execution_count": null,
      "outputs": [
        {
          "output_type": "stream",
          "name": "stdout",
          "text": [
            "Enter n1: 12\n",
            "Enter n2: 18\n",
            "GCD: 6\n"
          ]
        }
      ]
    },
    {
      "cell_type": "markdown",
      "metadata": {
        "id": "-kojjY6zEOkn"
      },
      "source": [
        "1**Q12. (Find factors of a positive integer)**\n",
        "\n",
        "Write a program that reads a positive integer > 1 and displays all its factors.   \n",
        "Sample interaction:\n",
        "```\n",
        "Enter n: 120\n",
        "Factors: 2 2 2 3 5 \n",
        "```"
      ]
    },
    {
      "cell_type": "code",
      "metadata": {
        "id": "s3hoL9l5EPjU",
        "colab": {
          "base_uri": "https://localhost:8080/"
        },
        "outputId": "6b0a5cd0-275d-44cf-aebe-83777530c3b6"
      },
      "source": [
        "n = int(input('Enter n: '))\n",
        "print('Factors:', end = ' ')\n",
        "\n",
        "while n > 1:\n",
        "  f = 2               #smallest possible factor\n",
        "  while n % f !=0:\n",
        "    f+=1              #increment f if f is not a factor\n",
        "  print(f, end= ' ')\n",
        "  n = n / f           #update n as n / f\n"
      ],
      "execution_count": null,
      "outputs": [
        {
          "output_type": "stream",
          "name": "stdout",
          "text": [
            "Enter n: 120\n",
            "Factors: 2 2 2 3 5 "
          ]
        }
      ]
    },
    {
      "cell_type": "code",
      "source": [
        "#num = [1, 2, 3, 5, 7]\n",
        "\n",
        "x = int(input('Enter x: '))\n",
        "num = []\n",
        "total=0\n",
        "\n",
        "for i in range(x):\n",
        "    num.append(int(input('Enter number to add: ')))\n",
        "    total += num[i]\n",
        "\n",
        "print (total)"
      ],
      "metadata": {
        "id": "nEalJ-P9WJsW",
        "colab": {
          "base_uri": "https://localhost:8080/"
        },
        "outputId": "3d09ed00-47c0-4c01-bca7-782eab03e152"
      },
      "execution_count": null,
      "outputs": [
        {
          "output_type": "stream",
          "name": "stdout",
          "text": [
            "Enter x: 5\n",
            "Enter number to add: 1\n",
            "Enter number to add: 2\n",
            "Enter number to add: 3\n",
            "Enter number to add: 4\n",
            "Enter number to add: 5\n",
            "15\n"
          ]
        }
      ]
    },
    {
      "cell_type": "code",
      "source": [
        ""
      ],
      "metadata": {
        "id": "64mk0Zmn2QMk"
      },
      "execution_count": null,
      "outputs": []
    }
  ]
}
