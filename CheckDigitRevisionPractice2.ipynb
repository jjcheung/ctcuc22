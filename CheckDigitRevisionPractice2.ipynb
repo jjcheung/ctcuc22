{
  "nbformat": 4,
  "nbformat_minor": 0,
  "metadata": {
    "colab": {
      "name": "JJ Cheung - CTCUC22CheckDigitRevisionPractice2.ipynb",
      "provenance": [],
      "include_colab_link": true
    },
    "kernelspec": {
      "name": "python3",
      "display_name": "Python 3"
    },
    "language_info": {
      "name": "python"
    }
  },
  "cells": [
    {
      "cell_type": "markdown",
      "metadata": {
        "id": "view-in-github",
        "colab_type": "text"
      },
      "source": [
        "<a href=\"https://colab.research.google.com/github/jjcheung/ctcuc22/blob/main/CheckDigitRevisionPractice2.ipynb\" target=\"_parent\"><img src=\"https://colab.research.google.com/assets/colab-badge.svg\" alt=\"Open In Colab\"/></a>"
      ]
    },
    {
      "cell_type": "markdown",
      "source": [
        "##**Submit this revision practice recording at https://forms.gle/SW3J4Y7LpfKWEbWm6 for 5% final assessment bonus credit.**"
      ],
      "metadata": {
        "id": "xG0rQxTjH2D8"
      }
    },
    {
      "cell_type": "markdown",
      "source": [
        "We have previously looked at check digit algorithm and validation for Singapore based NRIC (S & T) and FIN (F & G). (Assignment 3: https://colab.research.google.com/drive/13COimguGbZg-wF6fg4HslSRXXkIcTrz2?usp=sharing) \n",
        "\n",
        "\"The Immigration & Checkpoints Authority (ICA) will introduce a new Foreign Identification Number (FIN) series with the prefix M from 1 January 2022. FINs are unique identification numbers issued by ICA and government agencies to foreigners who are working, studying, or residing in Singapore. Similar to the format of the F and G FIN series, the new M FIN series will start with the prefix M, followed by seven digits and a checksum letter (e.g. M1234567B).\"\n",
        "\n",
        "Source: https://www.ica.gov.sg/news-and-publications/newsroom/media-release/new-m-fin-series-to-be-introduced-from-1-january-2022\n",
        "\n",
        "You also realised that https://samliew.com/nric-generator already caters for M-series FINs.\n"
      ],
      "metadata": {
        "id": "Y2Rwl7x3hVXt"
      }
    },
    {
      "cell_type": "markdown",
      "source": [
        "## Task 1\n",
        "Extend your NRIC/FIN super validator so that it now caters to all NRICs and FINs starting with S, T, F, G and M."
      ],
      "metadata": {
        "id": "rKLr3Fv9GOLr"
      }
    },
    {
      "cell_type": "code",
      "execution_count": null,
      "metadata": {
        "id": "txx3-cORhPyl",
        "colab": {
          "base_uri": "https://localhost:8080/"
        },
        "outputId": "4ef93377-4554-4bfe-c7df-b557196db8f3"
      },
      "outputs": [
        {
          "output_type": "stream",
          "name": "stdout",
          "text": [
            "Enter NRIC/FIN number: M2068696T\n",
            "Valid NRIC/FIN check digit.\n"
          ]
        }
      ],
      "source": [
        "def generate_check_digit(nric):\n",
        "    '''take in string and return check digit'''\n",
        "\n",
        "    #definition of checksum and weights\n",
        "    #checksum as dictionary of lists, with first letter of NRIC as keys and a list of check digits as values\n",
        "    checksum = {                          \n",
        "        'S': ['J', 'Z', 'I', 'H', 'G', 'F', 'E', 'D', 'C', 'B', 'A'],\n",
        "        'T': ['J', 'Z', 'I', 'H', 'G', 'F', 'E', 'D', 'C', 'B', 'A'],\n",
        "        'F': ['X', 'W', 'U', 'T', 'R', 'Q', 'P', 'N', 'M', 'L', 'K'],\n",
        "        'G': ['X', 'W', 'U', 'T', 'R', 'Q', 'P', 'N', 'M', 'L', 'K'],\n",
        "        'M': ['X', 'W', 'U', 'T', 'R', 'Q', 'P', 'N', 'M', 'L', 'K']\n",
        "    }\n",
        "    weights = [2, 7, 6, 5, 4, 3, 2]\n",
        "\n",
        "    #algorithm to generate check digit\n",
        "    total = 0\n",
        "    for i in range (7):\n",
        "        total += int(nric[i+1]) * weights[i]    \n",
        "    if nric[0] in ['T', 'G']:             #additional step for T and G\n",
        "        total += 4\n",
        "    elif nric[0] == 'M':\n",
        "        total += 3\n",
        "    rmdr = total % 11                     #determining the index to the list in the dictionary\n",
        "\n",
        "    return checksum[nric[0]][rmdr]        #returns checksum[key][value index], where key is first letter in NRIC, and rmdr is value index\n",
        "\n",
        "def is_valid_check_digit(nric):\n",
        "    '''to determine if check digit is valid'''\n",
        "\n",
        "    #checking last digit in nric string with value returned from generate_check_digit()\n",
        "    if nric[-1] == generate_check_digit(nric):\n",
        "        print ('Valid NRIC/FIN check digit.')\n",
        "    else:\n",
        "        print ('Invalid NRIC/FIN check digit.')\n",
        "\n",
        "def main():\n",
        "\n",
        "    #checking valid input for NRIC\n",
        "    valid_nric = False\n",
        "\n",
        "    while not valid_nric:           #loops until input is valid\n",
        "        snric = input('Enter NRIC/FIN number: ')\n",
        "        if (len(snric) == 9) and (snric[0] in ['S', 'T', 'F', 'G', 'M']) and (snric[1:8].isnumeric()):\n",
        "            #checks for length of input, valid first letter, and if 2nd to 8th character are all numerical values\n",
        "            valid_nric = True       #ends loop\n",
        "        else:                       #invalid entry\n",
        "            print('Invalid input. Please key in again.')\n",
        "    \n",
        "    #calls check function\n",
        "    is_valid_check_digit(snric)\n",
        "\n",
        "#runs main()\n",
        "main()"
      ]
    },
    {
      "cell_type": "markdown",
      "source": [
        "## Task 2\n",
        "You heard that [AI is the new electricity](https://www.gsb.stanford.edu/insights/andrew-ng-why-ai-new-electricity) and  everyone in town seems to be talking about machine learning. Assume you do not know the check digit algorithm for M-series FINs, but are able to generate enough valid M-series FINs using https://samliew.com/nric-generator. How would you design an algorithm and write program code to predict if a given M-series FIN is valid using a machine learning approach?\n"
      ],
      "metadata": {
        "id": "OUkBeO13GtV-"
      }
    },
    {
      "cell_type": "code",
      "source": [
        "#valid_mfins = ['M2068696T', 'M6081260P', 'M6973930R', 'M7667896T', 'M6611333N', 'M0964258N']\n",
        "\n",
        "from scipy import stats\n",
        "def getxy(string):\n",
        "    checkdigit = ['X', 'W', 'U', 'T', 'R', 'Q', 'P', 'N', 'M', 'L', 'K']\n",
        "    weights = [2, 7, 6, 5, 4, 3, 2]\n",
        "    total = 0\n",
        "    for i in range (7):\n",
        "        total += int(string[i+1]) * weights[i]   \n",
        "    rmdr = total % 11\n",
        "    checki = checkdigit.index(string[-1])\n",
        "\n",
        "    return [rmdr, checki]\n",
        "\n",
        "def predicttrend(lst):\n",
        "    x = []\n",
        "    y = []\n",
        "\n",
        "    for data in lst:\n",
        "        result = getxy(data) \n",
        "        x.append(result[0]) #add rmdr to list of x\n",
        "        y.append(result[1]) #add checki to list of y\n",
        "    \n",
        "    trend = stats.linregress(x,y) #determine slope and intercept fromn y = mx+c\n",
        "    return trend\n",
        "\n",
        "def generate_check_digit(nric, trend):\n",
        "    '''take in string and return check digit'''\n",
        "\n",
        "    #definition of checksum and weights\n",
        "    #checksum as dictionary of lists, with first letter of NRIC as keys and a list of check digits as values\n",
        "    checksum = ['X', 'W', 'U', 'T', 'R', 'Q', 'P', 'N', 'M', 'L', 'K']\n",
        "    weights = [2, 7, 6, 5, 4, 3, 2]\n",
        "\n",
        "    #algorithm to generate check digit\n",
        "    total = 0\n",
        "    for i in range (7):\n",
        "        total += int(nric[i+1]) * weights[i]    \n",
        "    rmdr = total % 11                     #determining the index to the list in the dictionary\n",
        "    checki = int(trend.slope * rmdr + trend.intercept)\n",
        "    return checksum[checki]       #returns checksum[key][value index], where key is first letter in NRIC, and rmdr is value index\n",
        "\n",
        "def is_valid_check_digit(nric, trend):\n",
        "    '''to determine if check digit is valid'''\n",
        "\n",
        "    #checking last digit in nric string with value returned from generate_check_digit()\n",
        "    if nric[-1] == generate_check_digit(nric, trend):\n",
        "        print ('Valid FIN check digit.')\n",
        "    else:\n",
        "        print ('Invalid FIN check digit.')\n",
        "\n",
        "def main():\n",
        "    valid_mfins = ['M2068696T', 'M6081260P', 'M6973930R', 'M7667896T', 'M6611333N', 'M0964258N']\n",
        "\n",
        "    trend = predicttrend(valid_mfins)\n",
        "    \n",
        "    #checking valid input for NRIC\n",
        "    valid_nric = False\n",
        "\n",
        "    while not valid_nric:           #loops until input is valid\n",
        "        snric = input('Enter M FIN number: ')\n",
        "        if (len(snric) == 9) and (snric[0] == 'M') and (snric[1:8].isnumeric()):\n",
        "            #checks for length of input, valid first letter, and if 2nd to 8th character are all numerical values\n",
        "            valid_nric = True       #ends loop\n",
        "        else:                       #invalid entry\n",
        "            print('Invalid input. Please key in again.')\n",
        "    \n",
        "    #calls check function\n",
        "    is_valid_check_digit(snric, trend)\n",
        "    \n",
        "#runs main()\n",
        "main()"
      ],
      "metadata": {
        "colab": {
          "base_uri": "https://localhost:8080/"
        },
        "id": "YxIM63jEMNe9",
        "outputId": "7c1e989f-60ce-4218-a0ea-7dcc5aed5cc2"
      },
      "execution_count": null,
      "outputs": [
        {
          "output_type": "stream",
          "name": "stdout",
          "text": [
            "Enter M FIN number: M2068696T\n",
            "Valid FIN check digit.\n"
          ]
        }
      ]
    },
    {
      "cell_type": "code",
      "source": [
        ""
      ],
      "metadata": {
        "id": "jwhg72ToOeS_"
      },
      "execution_count": null,
      "outputs": []
    }
  ]
}