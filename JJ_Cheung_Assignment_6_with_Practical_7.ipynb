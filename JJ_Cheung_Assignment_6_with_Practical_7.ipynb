{
  "nbformat": 4,
  "nbformat_minor": 0,
  "metadata": {
    "colab": {
      "name": "JJ Cheung - Assignment 6 with Practical 7.ipynb",
      "provenance": [],
      "include_colab_link": true
    },
    "kernelspec": {
      "name": "python3",
      "display_name": "Python 3"
    },
    "language_info": {
      "name": "python"
    }
  },
  "cells": [
    {
      "cell_type": "markdown",
      "metadata": {
        "id": "view-in-github",
        "colab_type": "text"
      },
      "source": [
        "<a href=\"https://colab.research.google.com/github/jjcheung/ctcuc22/blob/main/JJ_Cheung_Assignment_6_with_Practical_7.ipynb\" target=\"_parent\"><img src=\"https://colab.research.google.com/assets/colab-badge.svg\" alt=\"Open In Colab\"/></a>"
      ]
    },
    {
      "cell_type": "markdown",
      "source": [
        "Q1. Design and implement a stack using OOP. A stack is a LIFO/FILO data structure where insertion and deletion occurs from the same end (usually referred to as top)."
      ],
      "metadata": {
        "id": "wMI1PItNfivY"
      }
    },
    {
      "cell_type": "code",
      "execution_count": null,
      "metadata": {
        "id": "izfESZ4Sevgh",
        "colab": {
          "base_uri": "https://localhost:8080/"
        },
        "outputId": "75cc1b24-ecf6-43d7-b8e8-dfd3beb079d6"
      },
      "outputs": [
        {
          "output_type": "stream",
          "name": "stdout",
          "text": [
            "['A', 'B']\n",
            "Top B\n",
            "['A', 'B', 'C']\n",
            "Remove C\n",
            "['A', 'B']\n",
            "Remove B\n",
            "Remove A\n",
            "Remove Empty stack\n"
          ]
        }
      ],
      "source": [
        "class Stack:\n",
        "    def __init__(self):\n",
        "        self.elements = []          #initialise empty list\n",
        "\n",
        "    def isempty(self):\n",
        "        return self.elements == []\n",
        "\n",
        "    def push(self, data):\n",
        "        self.elements.append(data)  #append data to back of list\n",
        "\n",
        "    def pop(self):\n",
        "        if self.isempty():     #if current list is empty\n",
        "            return 'Empty stack'\n",
        "        else:       \n",
        "            return self.elements.pop()  #remove last element in list\n",
        "\n",
        "    def display(self):\n",
        "        print(self.elements)        #print entire list\n",
        "\n",
        "    def peek(self):\n",
        "        return self.elements[-1]\n",
        "A = Stack()\n",
        "A.push('A')\n",
        "A.push('B')\n",
        "A.display()\n",
        "print('Top', A.peek())\n",
        "A.push('C')\n",
        "A.display()\n",
        "print('Remove', A.pop())\n",
        "A.display()\n",
        "print('Remove', A.pop())\n",
        "print('Remove', A.pop())\n",
        "print('Remove', A.pop())"
      ]
    },
    {
      "cell_type": "code",
      "source": [
        "lst = [i for i in range(1,20)]\n",
        "\n",
        "print (lst)"
      ],
      "metadata": {
        "colab": {
          "base_uri": "https://localhost:8080/"
        },
        "id": "iIEwcScIjtfh",
        "outputId": "06976fa0-8406-4969-a30c-e2247fe48c95"
      },
      "execution_count": null,
      "outputs": [
        {
          "output_type": "stream",
          "name": "stdout",
          "text": [
            "[1, 2, 3, 4, 5, 6, 7, 8, 9, 10, 11, 12, 13, 14, 15, 16, 17, 18, 19]\n"
          ]
        }
      ]
    },
    {
      "cell_type": "markdown",
      "source": [
        "Q2. Use your stack class in Q1 to solve the decimal to binary conversion problem."
      ],
      "metadata": {
        "id": "Efj-KxrNgRO9"
      }
    },
    {
      "cell_type": "code",
      "source": [
        "def dec2bin(num):\n",
        "    bin = Stack()\n",
        "    while num > 0:\n",
        "        bin.push(num%2)       #push binary bit to stack bin\n",
        "        num = num // 2        #integer divide to get subsequent bits\n",
        "    result = ''               #result string to store binary bits\n",
        "    while bin.elements != []: #loop until bin stack is empty\n",
        "        result = result + str(bin.pop())    #pop from bin stack and add to result string\n",
        "    return result\n",
        "\n",
        "dec2bin(20)"
      ],
      "metadata": {
        "id": "gt-L-0LLgZ1M",
        "colab": {
          "base_uri": "https://localhost:8080/",
          "height": 35
        },
        "outputId": "2c0364e0-ac8b-414c-dd73-b7a3c6d3fcca"
      },
      "execution_count": null,
      "outputs": [
        {
          "output_type": "execute_result",
          "data": {
            "application/vnd.google.colaboratory.intrinsic+json": {
              "type": "string"
            },
            "text/plain": [
              "'10100'"
            ]
          },
          "metadata": {},
          "execution_count": 58
        }
      ]
    },
    {
      "cell_type": "markdown",
      "source": [
        "Q3. Design and implement a queue using OOP."
      ],
      "metadata": {
        "id": "79irNt-MgHi3"
      }
    },
    {
      "cell_type": "code",
      "source": [
        "class Queue:\n",
        "    def __init__(self):\n",
        "        self.elements = []              #empty list to hold queue elements\n",
        "\n",
        "    def isempty(self):\n",
        "        return self.elements == []      #returns true if list is empty\n",
        "\n",
        "    def enqueue(self, data):\n",
        "        self.elements.append(data)      #append data as last element in list\n",
        "\n",
        "    def dequeue(self):\n",
        "        if self.isempty():              #checks for empty list. \n",
        "            return 'Empty queue'\n",
        "        else:\n",
        "            return self.elements.pop(0) #dequeue first element in list\n",
        "    \n",
        "    def display(self):\n",
        "        print(self.elements)            #prints out the whole list\n",
        "\n",
        "A = Queue()\n",
        "A.enqueue('A')\n",
        "A.enqueue('B')\n",
        "A.display()\n",
        "A.enqueue('C')\n",
        "A.display()\n",
        "print(A.dequeue())\n",
        "A.display()\n",
        "print(A.dequeue())\n",
        "print(A.dequeue())\n",
        "print(A.dequeue())"
      ],
      "metadata": {
        "id": "peUqMkC2gMZY",
        "colab": {
          "base_uri": "https://localhost:8080/"
        },
        "outputId": "4a9e87f1-6311-4149-9301-ead263a29f2b"
      },
      "execution_count": null,
      "outputs": [
        {
          "output_type": "stream",
          "name": "stdout",
          "text": [
            "['A', 'B']\n",
            "['A', 'B', 'C']\n",
            "A\n",
            "['B', 'C']\n",
            "B\n",
            "C\n",
            "Empty queue\n"
          ]
        }
      ]
    },
    {
      "cell_type": "markdown",
      "source": [
        "Q4. Use your queue class in Q3 to solve a print server problem. A print server is a shared network resource and processes print requests from different clients in a FIFO/LILO manner. You may assume that you have 3 clients in the network and each client can send multiple requests to the print server. "
      ],
      "metadata": {
        "id": "F6Fg1Tp1gc16"
      }
    },
    {
      "cell_type": "code",
      "source": [
        "class Client:\n",
        "    def __init__(self):\n",
        "        self.printJob = []            #list to hold individual printjobs\n",
        "\n",
        "    def toprint(self, data):\n",
        "        self.printJob.append(data)    #add print job to end of list\n",
        "\n",
        "    def sendtoprint(self):\n",
        "        return self.printJob.pop(0)   #pop first item in list to send to print server\n",
        "\n",
        "printQ = Queue()\n",
        "clientA = Client()\n",
        "clientB = Client()\n",
        "clientC = Client()\n",
        "clientA.toprint('PrintJobA1')\n",
        "clientA.toprint('PrintJobA2')\n",
        "clientB.toprint('PrintJobB1')\n",
        "clientC.toprint('PrintJobC1')\n",
        "clientB.toprint('PrintJobB2')\n",
        "printQ.enqueue(clientA.sendtoprint())\n",
        "printQ.enqueue(clientA.sendtoprint())\n",
        "printQ.enqueue(clientB.sendtoprint())\n",
        "printQ.enqueue(clientC.sendtoprint())\n",
        "printQ.enqueue(clientB.sendtoprint())\n",
        "printQ.display()\n",
        "print(printQ.dequeue())\n",
        "print(printQ.dequeue())\n",
        "printQ.display()\n",
        "print(printQ.dequeue())\n",
        "print(printQ.dequeue())\n",
        "print(printQ.dequeue())\n",
        "print(printQ.dequeue())"
      ],
      "metadata": {
        "id": "RnhR3OVthDvI",
        "colab": {
          "base_uri": "https://localhost:8080/"
        },
        "outputId": "2e018938-08fd-425f-e325-fce9b8e25795"
      },
      "execution_count": null,
      "outputs": [
        {
          "output_type": "stream",
          "name": "stdout",
          "text": [
            "['PrintJobA1', 'PrintJobA2', 'PrintJobB1', 'PrintJobC1', 'PrintJobB2']\n",
            "PrintJobA1\n",
            "PrintJobA2\n",
            "['PrintJobB1', 'PrintJobC1', 'PrintJobB2']\n",
            "PrintJobB1\n",
            "PrintJobC1\n",
            "PrintJobB2\n",
            "Empty queue\n"
          ]
        }
      ]
    },
    {
      "cell_type": "markdown",
      "source": [
        "Q5. Implement a linked list using OOP.\n",
        "\n",
        "https://visualgo.net/en/list shows a variant of a linked list which has both head and tail. \n",
        "\n",
        "In general, the classical linked list only has head."
      ],
      "metadata": {
        "id": "53qUHJICh3n5"
      }
    },
    {
      "cell_type": "code",
      "source": [
        "class Node:\n",
        "    def __init__(self, data):\n",
        "        self.data = data                  #value of node\n",
        "        self.next = None                  #points to next node\n",
        "\n",
        "class LinkedList:\n",
        "    def __init__(self):\n",
        "        self.head = None                  #points to first node in LL\n",
        "\n",
        "    def isempty(self):\n",
        "        return self.head == None          #returns true if there is no nodes in LL\n",
        "\n",
        "    def display(self):\n",
        "        current = self.head               #initialise current, and assign head node to current\n",
        "        while current:                    #loop runs only if current node is not empty\n",
        "            print (current.data, '-', end = ' ')    #prints data in current\n",
        "            current = current.next        #assigns the next node to current\n",
        "        print()                           #new line\n"
      ],
      "metadata": {
        "id": "Tkqz7Eyth67W"
      },
      "execution_count": null,
      "outputs": []
    },
    {
      "cell_type": "markdown",
      "source": [
        "Q6. Implement a stack using linked list."
      ],
      "metadata": {
        "id": "n6c02dZEyloV"
      }
    },
    {
      "cell_type": "code",
      "source": [
        "class StackLL(LinkedList):                #subclass of Linked List\n",
        "    def __init__(self):\n",
        "        super().__init__()                #define head of stack\n",
        "    \n",
        "    def push(self, data):                 #pushing new node to stack\n",
        "        newNode = Node(data)              #define a new node\n",
        "        if self.isempty():                #if stack is empty\n",
        "            self.head = newNode           #set new node to be head\n",
        "        else:                             #if stack is not empty\n",
        "            newNode.next = self.head      #pushing new node to front of list - current head will now be second node, so newnode points to that node\n",
        "            self.head = newNode           #set new node as head\n",
        "\n",
        "    def pop(self):\n",
        "        if self.isempty():                #checks for empty stack\n",
        "            return 'Empty Linked List'\n",
        "        else:                             #if stack is not empty\n",
        "            poppedNode = self.head        #popping head node - store head node vale to a newly defined node poppedNode\n",
        "            self.head = self.head.next    #set the second node to be head\n",
        "            poppedNode.next = None        #delink poppedNode from stack - it doesn't point to any node\n",
        "            return poppedNode.data        #return the value in popped node\n",
        "\n",
        "\n",
        "stack = StackLL()\n",
        "stack.push(1)\n",
        "stack.push(2)\n",
        "stack.push(3)\n",
        "stack.display()\n",
        "print('Popping', stack.pop())\n",
        "stack.display()"
      ],
      "metadata": {
        "id": "EwxRQp9HzAc2",
        "colab": {
          "base_uri": "https://localhost:8080/"
        },
        "outputId": "a60428e5-2f97-493c-8735-7a4119a00a67"
      },
      "execution_count": null,
      "outputs": [
        {
          "output_type": "stream",
          "name": "stdout",
          "text": [
            "3 - 2 - 1 - \n",
            "Popping 3\n",
            "2 - 1 - \n"
          ]
        }
      ]
    },
    {
      "cell_type": "markdown",
      "source": [
        "Q7. Implement a queue using linked list."
      ],
      "metadata": {
        "id": "p75jZQ5iy40j"
      }
    },
    {
      "cell_type": "code",
      "source": [
        "class QueueLL(LinkedList):              #subclass of LinkedList\n",
        "\n",
        "    def __init__(self):\n",
        "        super().__init__()              #define head of queue\n",
        "        self.tail = None                #define tail of queue (last node)\n",
        "\n",
        "    def enqueue(self, data):\n",
        "        newNode = Node(data)            #define a new Node where data is stored\n",
        "        if self.isempty():              #if the queue is empty\n",
        "            self.head = newNode         #set both head and tail to newNode, since it is the only Node in the queue\n",
        "            self.tail = newNode\n",
        "        else:                           #if the queue is not empty\n",
        "            self.tail.next = newNode    #get the current tail to point to newNode\n",
        "            self.tail = newNode         #assign newNode as the new tail\n",
        "    \n",
        "    def dequeue(self):\n",
        "        if self.isempty():              #check if queue is empty\n",
        "            return 'Empty Linked List'  \n",
        "        else:                           #if queue is not empty\n",
        "            poppedNode = self.head      #dequeuing head in queue. copy value in head to poppednode\n",
        "            self.head = self.head.next  #setting the second node as the new head\n",
        "            poppedNode.next = None      #delink poppednode from the queue, by setting it to point to nothing\n",
        "            return poppedNode.data      #return value in popped node\n",
        "\n",
        "queue = QueueLL()\n",
        "queue.enqueue(1)\n",
        "queue.enqueue(2)\n",
        "queue.enqueue(3)\n",
        "queue.display()\n",
        "print('Dequeuing', queue.dequeue())\n",
        "queue.display()"
      ],
      "metadata": {
        "id": "Fj4lnXFpy3eo",
        "colab": {
          "base_uri": "https://localhost:8080/"
        },
        "outputId": "8eed9343-dee2-4f54-d5fb-b5df39b879bb"
      },
      "execution_count": null,
      "outputs": [
        {
          "output_type": "stream",
          "name": "stdout",
          "text": [
            "1 - 2 - 3 - \n",
            "Dequeuing 1\n",
            "2 - 3 - \n"
          ]
        }
      ]
    },
    {
      "cell_type": "code",
      "source": [
        ""
      ],
      "metadata": {
        "id": "zPrnGxwfW81G"
      },
      "execution_count": null,
      "outputs": []
    }
  ]
}