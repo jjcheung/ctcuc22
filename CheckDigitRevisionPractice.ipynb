{
  "nbformat": 4,
  "nbformat_minor": 0,
  "metadata": {
    "colab": {
      "name": "JJ Cheung - CTCUC22CheckDigitRevisionPractice.ipynb",
      "provenance": [],
      "include_colab_link": true
    },
    "kernelspec": {
      "name": "python3",
      "display_name": "Python 3"
    },
    "language_info": {
      "name": "python"
    }
  },
  "cells": [
    {
      "cell_type": "markdown",
      "metadata": {
        "id": "view-in-github",
        "colab_type": "text"
      },
      "source": [
        "<a href=\"https://colab.research.google.com/github/jjcheung/ctcuc22/blob/main/CheckDigitRevisionPractice.ipynb\" target=\"_parent\"><img src=\"https://colab.research.google.com/assets/colab-badge.svg\" alt=\"Open In Colab\"/></a>"
      ]
    },
    {
      "cell_type": "markdown",
      "source": [
        "# Check digit validation revision practice - Barcode\n",
        "\n",
        "![barcodes_checkdigit.gif](data:image/gif;base64,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)\n",
        "\n",
        "The last digit of a barcode number is a computer check digit which makes sure the barcode is correctly composed.\n",
        "\n",
        "https://www.gs1.org/services/check-digit-calculator"
      ],
      "metadata": {
        "id": "3cfJdv5AqlIN"
      }
    },
    {
      "cell_type": "markdown",
      "source": [
        "## Task 1\n",
        "Write program code with functions `is_valid_gtin13(barcode)` and `generate_check_gtin13(barcode)` to check if a GTIN-13 barcode number is valid. You may use the sample GTIN-13 barcode number `6291041500213` provided at https://www.gs1.org/services/how-calculate-check-digit-manually and generate additional ones at https://www.gs1.org/services/check-digit-calculator"
      ],
      "metadata": {
        "id": "CpyupMgJr05X"
      }
    },
    {
      "cell_type": "code",
      "execution_count": null,
      "metadata": {
        "id": "7wvSxNGYqijc",
        "colab": {
          "base_uri": "https://localhost:8080/"
        },
        "outputId": "6f16c7eb-91fe-4b07-a707-50cc4e024452"
      },
      "outputs": [
        {
          "output_type": "stream",
          "name": "stdout",
          "text": [
            "True\n",
            "False\n"
          ]
        }
      ],
      "source": [
        "# GTIN13 Barcode Validator\n",
        "weights = [3, 1, 3, 1, 3, 1, 3, 1, 3, 1, 3, 1, 3, 1, 3, 1, 3]\n",
        "\n",
        "def generate_check_gtin13(barcode):\n",
        "    total = 0\n",
        "    for i in range(len(barcode)):\n",
        "        total += int(barcode[i]) * weights[i-len(barcode)]\n",
        "    \n",
        "    check = str(10 - (total % 10))\n",
        "    return check\n",
        "\n",
        "\n",
        "def is_valid_gtin13(barcode):\n",
        "     \n",
        "    if len(barcode) != 13:\n",
        "        return False\n",
        "    elif not barcode.isnumeric():\n",
        "        return False\n",
        "\n",
        "    check = barcode[-1]\n",
        "    if check == generate_check_gtin13(barcode[:-1]):\n",
        "        return True\n",
        "    else:\n",
        "        return False\n",
        "\n",
        "# main\n",
        "#print(generate_check_gtin13('629104150021'))\n",
        "print(is_valid_gtin13('6291041500213')) # returns True\n",
        "print(is_valid_gtin13('')) # insert invalid GTIN-13 barcode that returns False"
      ]
    },
    {
      "cell_type": "markdown",
      "source": [
        "## Task 2\n",
        "Write validators for GTIN-8, GTIN-12, GTIN-14, GSIN and SSCC barcode numbers. You should adapt the pattern in Task 1."
      ],
      "metadata": {
        "id": "upiluAcysNke"
      }
    },
    {
      "cell_type": "code",
      "source": [
        ""
      ],
      "metadata": {
        "id": "awlsYUbrzJ1B"
      },
      "execution_count": null,
      "outputs": []
    },
    {
      "cell_type": "markdown",
      "source": [
        "## Task 3\n",
        "Write a generic validator comprising `is_valid_barcode(barcode)` and `generate_check_barcode(barcode)` that can take in any GTIN-8, GTIN-12, GTIN-13, GTIN-14, GSIN and SSCC barcode number. You should generalise the pattern in Task 2."
      ],
      "metadata": {
        "id": "sK_3kJGdzK45"
      }
    },
    {
      "cell_type": "code",
      "source": [
        "weights = [3, 1, 3, 1, 3, 1, 3, 1, 3, 1, 3, 1, 3, 1, 3, 1, 3]\n",
        "\n",
        "def is_valid_barcode(barcode):\n",
        "    if len(barcode) not in [8, 12, 13, 14, 17, 18]:\n",
        "        return False\n",
        "    elif not barcode.isnumeric():\n",
        "        return False\n",
        "\n",
        "    if generate_check_barcode(barcode[:-1]) == barcode[-1]:\n",
        "        return True\n",
        "    else:\n",
        "        return False\n",
        "\n",
        "def generate_check_barcode(barcode):\n",
        "    total = 0\n",
        "    for i in range(len(barcode)):\n",
        "        total += int(barcode[i]) * weights[i-len(barcode)]\n",
        "    \n",
        "    check = 10 - (total % 10)\n",
        "    return str(check)\n",
        "\n",
        "# main\n",
        "#print(generate_check_gtin13('629104150021'))\n",
        "print(is_valid_barcode('6291041500213')) # GTIN13\n",
        "print(is_valid_barcode('34122341')) #GTIN8\n",
        "print(is_valid_barcode('127834687327')) #GTIN12\n",
        "print(is_valid_barcode('21127834687436')) #GTIN14\n",
        "print(is_valid_barcode('43221127834687431')) #GSIN\n",
        "print(is_valid_barcode('543221127834687436')) #SSCC"
      ],
      "metadata": {
        "id": "xDCg_uv7zMCw",
        "colab": {
          "base_uri": "https://localhost:8080/"
        },
        "outputId": "a35db23c-bfd2-4e08-a41b-08fd793a8776"
      },
      "execution_count": null,
      "outputs": [
        {
          "output_type": "stream",
          "name": "stdout",
          "text": [
            "True\n",
            "True\n",
            "True\n",
            "True\n",
            "True\n",
            "True\n"
          ]
        }
      ]
    },
    {
      "cell_type": "markdown",
      "source": [
        "## Task 4\n",
        "Write validation checks for your generic barcode number validator in Task 3 involving (where appropriate)\n",
        "- presence check\n",
        "- length check\n",
        "- range check\n",
        "- format check\n",
        "- check digit check\n",
        "- existence check"
      ],
      "metadata": {
        "id": "F6jvYzY8ztui"
      }
    },
    {
      "cell_type": "code",
      "source": [
        "valid_check = False\n",
        "\n",
        "while not valid_check:\n",
        "    barcode = input('Enter barcode no: ')\n",
        "    if len(barcode) == 0:\n",
        "        print('Empty input')\n",
        "    elif len(barcode) not in [8, 12, 13, 14, 17, 18]:\n",
        "        print('Wrong barcode length')\n",
        "    elif not barcode.isnumeric():\n",
        "        print('Barcode should only contain numeric digits')\n",
        "    elif not is_valid_barcode(barcode):\n",
        "        print('Invalid check digit')\n",
        "    else:\n",
        "        valid_check = True\n",
        "\n",
        "print('Valid check digit')"
      ],
      "metadata": {
        "id": "r5OxG9-M1Dky",
        "colab": {
          "base_uri": "https://localhost:8080/"
        },
        "outputId": "81be5a0d-2cd9-450a-926e-e611192d0c6e"
      },
      "execution_count": null,
      "outputs": [
        {
          "output_type": "stream",
          "name": "stdout",
          "text": [
            "Enter barcode no: 600253124031474363\n",
            "Valid check digit\n"
          ]
        }
      ]
    },
    {
      "cell_type": "markdown",
      "source": [
        "## Task 5\n",
        "Generate up to 3 valid barcode numbers making use of your generic barcode number validator."
      ],
      "metadata": {
        "id": "2zx-FQh41fYb"
      }
    },
    {
      "cell_type": "code",
      "source": [
        "import random\n",
        "\n",
        "def genrandombarcode(length):\n",
        "    barcode = ''\n",
        "    for i in range (length):\n",
        "        barcode += str(random.randint(0,9))\n",
        "    return barcode + generate_check_barcode(barcode)\n",
        "\n",
        "#main\n",
        "loop = 3\n",
        "length = [8, 12, 13, 14, 17, 18]\n",
        "for i in range(loop):\n",
        "    i = random.randint(0,len(length)-1)\n",
        "    print(genrandombarcode(length[i]-1))\n"
      ],
      "metadata": {
        "id": "Lij8BMSe15Vo",
        "colab": {
          "base_uri": "https://localhost:8080/"
        },
        "outputId": "8deb2e18-3923-4315-e45e-371af2057146"
      },
      "execution_count": null,
      "outputs": [
        {
          "output_type": "stream",
          "name": "stdout",
          "text": [
            "284835174787567116\n",
            "50453205654868843\n",
            "70313017797719\n"
          ]
        }
      ]
    },
    {
      "cell_type": "markdown",
      "source": [
        "## Task 6\n",
        "How many valid GTIN-13 barcode numbers \n",
        "- end with 8?\n",
        "- start with 3 and end with 8?\n",
        "- start with x and end with y?"
      ],
      "metadata": {
        "id": "m_ughLNJ2AA1"
      }
    },
    {
      "cell_type": "code",
      "source": [
        "def count8():\n",
        "    count = 0\n",
        "    for i in range(1, 999999999999):\n",
        "        barcode = str(i).zfill(12)\n",
        "        if generate_check_barcode(barcode) == '8':\n",
        "            count += 1\n",
        "    print(count)\n",
        "\n",
        "count8()"
      ],
      "metadata": {
        "id": "0j_4SzVd2ugC"
      },
      "execution_count": null,
      "outputs": []
    },
    {
      "cell_type": "code",
      "source": [
        "def count38():\n",
        "    count = 0\n",
        "    for i in range(300000000000, 399999999999):\n",
        "        barcode = str(i).zfill(12)\n",
        "        if generate_check_barcode(barcode) == '8':\n",
        "            count += 1\n",
        "    print(count)\n",
        "\n",
        "count38()"
      ],
      "metadata": {
        "id": "sJYOCHp7l0v5"
      },
      "execution_count": null,
      "outputs": []
    },
    {
      "cell_type": "code",
      "source": [
        "def countxy(x, y):\n",
        "    count = 0\n",
        "    start = x * 10^11 \n",
        "    end = (x + 1) * 10^11 - 1\n",
        "    for i in range(start, end):\n",
        "        barcode = str(i)\n",
        "        if generate_check_barcode(barcode) == str(y):\n",
        "            count += 1\n",
        "    print (count)\n",
        "\n",
        "countxy (3, 4)\n"
      ],
      "metadata": {
        "id": "VfRH2B6dmztW"
      },
      "execution_count": null,
      "outputs": []
    },
    {
      "cell_type": "code",
      "source": [
        "for "
      ],
      "metadata": {
        "id": "d3KanrxMy15n"
      },
      "execution_count": null,
      "outputs": []
    },
    {
      "cell_type": "markdown",
      "source": [
        "How have you applied Computational Thinking (CT) in this revision practice?\n",
        "\n",
        "For practicality, you may use the following CT ideas:\n",
        "\n",
        "- abstraction\n",
        "- decomposition\n",
        "- pattern recognition\n",
        "- algorithm design\n",
        "\n",
        "Give your answer in the text cell below."
      ],
      "metadata": {
        "id": "FApr4fhC4Dx1"
      }
    },
    {
      "cell_type": "markdown",
      "source": [
        "Your say: "
      ],
      "metadata": {
        "id": "eu_Vc7E-4aOX"
      }
    }
  ]
}