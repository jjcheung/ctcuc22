{
  "nbformat": 4,
  "nbformat_minor": 0,
  "metadata": {
    "colab": {
      "name": "JJ Cheung - PythonPractice-ComputingNetworking&Security.ipynb",
      "provenance": [],
      "include_colab_link": true
    },
    "kernelspec": {
      "name": "python3",
      "display_name": "Python 3"
    },
    "language_info": {
      "name": "python"
    }
  },
  "cells": [
    {
      "cell_type": "markdown",
      "metadata": {
        "id": "view-in-github",
        "colab_type": "text"
      },
      "source": [
        "<a href=\"https://colab.research.google.com/github/jjcheung/ctcuc22/blob/main/PythonPractice_ComputingNetworking%26Security.ipynb\" target=\"_parent\"><img src=\"https://colab.research.google.com/assets/colab-badge.svg\" alt=\"Open In Colab\"/></a>"
      ]
    },
    {
      "cell_type": "markdown",
      "source": [
        "# Python Practice - Computer Networking & Security sample programming tasks\n",
        "\n",
        "Using your understanding of programming concepts and constructs, improve the task description and provide a working solution that you can explain to your students."
      ],
      "metadata": {
        "id": "250uS645b51H"
      }
    },
    {
      "cell_type": "markdown",
      "source": [
        "Task 1: Write a program to validate a username and password.\n",
        "\n",
        "- https://support.google.com/accounts/answer/32040?hl=en"
      ],
      "metadata": {
        "id": "1NqFyHsbcLsW"
      }
    },
    {
      "cell_type": "code",
      "execution_count": null,
      "metadata": {
        "id": "VYTY_28Yb5OZ",
        "colab": {
          "base_uri": "https://localhost:8080/"
        },
        "outputId": "919e1423-cb87-4d30-898b-0b18f558d5c4"
      },
      "outputs": [
        {
          "output_type": "stream",
          "name": "stdout",
          "text": [
            "Enter username: tententen\n",
            "Enter password:temtem1!\n",
            "Welcome\n"
          ]
        }
      ],
      "source": [
        "def validate_username(string):\n",
        "    # presence check\n",
        "    if string == '':\n",
        "        print('Empty string')\n",
        "    # length check\n",
        "    elif len(string) < 5:\n",
        "        print('String is too short')\n",
        "    # format check / data type check \n",
        "    elif not string.isalnum():\n",
        "        print('Invalid characters used for username')\n",
        "    #range check not relevant\n",
        "    else:\n",
        "        return True\n",
        "    return False\n",
        "\n",
        "def checkcharacters(string):\n",
        "    for i in string:\n",
        "        if not (33 <= ord(i) <= 126):\n",
        "            print(ord(i))\n",
        "            return False\n",
        "    return True\n",
        "\n",
        "\n",
        "def validate_password(string):\n",
        "    if string == '':\n",
        "        print('Empty password')\n",
        "    elif len(string)<8:\n",
        "        print('Password is too short')\n",
        "    elif not checkcharacters(string) :\n",
        "        print('Invalid character')\n",
        "    else:\n",
        "        return True\n",
        "    return False\n",
        "\n",
        "if __name__ == '__main__':\n",
        "    username = input('Enter username: ')\n",
        "    while not validate_username(username):\n",
        "        username = input('Enter username again:')\n",
        "    password = input('Enter password:')\n",
        "    while not validate_password(password):\n",
        "        password = input('Enter password again: ')\n",
        "    print('Welcome')\n",
        "  "
      ]
    },
    {
      "cell_type": "markdown",
      "source": [
        "Task 2: Write a program to validate a username and password followed by a randomly generated 6-digit numeric PIN."
      ],
      "metadata": {
        "id": "WFrZZ6tcdD8m"
      }
    },
    {
      "cell_type": "code",
      "source": [
        "import random\n",
        "\n",
        "pin = ''\n",
        "for i in range(6):\n",
        "    pin += str(random.randint(0,9))\n",
        "print(f'Your OTP is {pin}')"
      ],
      "metadata": {
        "id": "Rl6ccB3LeEpR",
        "colab": {
          "base_uri": "https://localhost:8080/"
        },
        "outputId": "0cf67d11-b005-4579-9b18-6e02a0baf440"
      },
      "execution_count": null,
      "outputs": [
        {
          "output_type": "stream",
          "name": "stdout",
          "text": [
            "Your OTP is 196221\n"
          ]
        }
      ]
    },
    {
      "cell_type": "markdown",
      "source": [
        "Task 3: Write a program to generate a 12-random-word seed phrase.\n",
        "\n",
        "- https://vault12.com/securemycrypto/cryptocurrency-security-how-to/generate-seed-phrase/running-the-random-data-through-a-sha256-hash-function\n",
        "- https://www.quora.com/What-are-the-odds-of-me-guessing-a-random-person-backup-seed-code-for-a-Bitcoin-wallet"
      ],
      "metadata": {
        "id": "vUOG-H9ccZRn"
      }
    },
    {
      "cell_type": "code",
      "source": [
        "import random\n",
        "lst = []\n",
        "with open('/content/wordlist.txt', 'r') as infile:\n",
        "    wordlist = infile.read().split()\n",
        "    for word in wordlist:\n",
        "        lst.append(word)\n",
        "\n",
        "def generate_seed_phrase():\n",
        "    index = []\n",
        "    for i in range (12):\n",
        "        num = random.randint(0, 49)\n",
        "        while num in index:\n",
        "            num = random.randint(0, 49)\n",
        "        index.append(num)\n",
        "        print(lst[num])\n",
        "\n",
        "print('Your 12-word seed phrase:')    \n",
        "generate_seed_phrase()\n",
        "\n",
        "\n"
      ],
      "metadata": {
        "id": "UL7XmJg2ca4e",
        "colab": {
          "base_uri": "https://localhost:8080/"
        },
        "outputId": "6474ddd2-d608-4a36-fd7c-c6af8f645cb2"
      },
      "execution_count": null,
      "outputs": [
        {
          "output_type": "stream",
          "name": "stdout",
          "text": [
            "Your 12-word seed phrase:\n",
            "programing\n",
            "bipedal\n",
            "frilled\n",
            "oculomotor\n",
            "lutenist\n",
            "mesic\n",
            "impermeable\n",
            "sensibleness\n",
            "incriminatory\n",
            "ticktacktoe\n",
            "hornless\n",
            "organism\n"
          ]
        }
      ]
    },
    {
      "cell_type": "markdown",
      "source": [
        "Comment on the security of the above approaches. Which do you think is the most secure and why?"
      ],
      "metadata": {
        "id": "U1Du2J9lctr3"
      }
    },
    {
      "cell_type": "markdown",
      "source": [
        "Your answer:\n",
        "number of possible combinations for password length n = $94^n$\n",
        "\n",
        "number of possible permutations for 12-word seed phrase, based on a list of m words: $^mP_{12}$. visibility of list of m words also contributes to security"
      ],
      "metadata": {
        "id": "Qu8-ZR8qc0tm"
      }
    }
  ]
}