{
  "nbformat": 4,
  "nbformat_minor": 0,
  "metadata": {
    "colab": {
      "name": "JJ Cheung - CTCUC22OLevelPractice.ipynb",
      "provenance": [],
      "include_colab_link": true
    },
    "kernelspec": {
      "name": "python3",
      "display_name": "Python 3"
    },
    "language_info": {
      "name": "python"
    }
  },
  "cells": [
    {
      "cell_type": "markdown",
      "metadata": {
        "id": "view-in-github",
        "colab_type": "text"
      },
      "source": [
        "<a href=\"https://colab.research.google.com/github/jjcheung/ctcuc22/blob/main/OPractice.ipynb\" target=\"_parent\"><img src=\"https://colab.research.google.com/assets/colab-badge.svg\" alt=\"Open In Colab\"/></a>"
      ]
    },
    {
      "cell_type": "markdown",
      "source": [
        "#**CTCUC 2022 O-level Practice**\n",
        "Time allowed: Up to 3 hours\n",
        "\n",
        "**Instructions**\n",
        "\n",
        "- This practice session is open-book (i.e. books are (mostly) useless).\n",
        "- Answer all tasks within this Google Colaboratory environment. (You may use your personal IDE as long as the final transferred work is tested in this environment.)\n",
        "- Start and end a video recording of the screenshare of you working on solving the tasks only.\n",
        "- Save your work by the end of the 2/3-hour duration.\n",
        "- Input validation is typically not required unless it is a specified task requirement.\n",
        "- Appropriate comments are typically required and contribute towards task credit.\n",
        "- Please note that your programs may need to clear additional test cases to earn full credit.\n",
        "- Bonus and optional tasks/components contribute extra credit over and above the total marks of 80.\n",
        "- Upload your video recording to the Google Form https://forms.gle/cAh7Jp3dW5RCQVZK7.\n",
        "\n",
        "Syllabus and quick reference: https://www.seab.gov.sg/docs/default-source/national-examinations/syllabus/olevel/2023syllabus/7155_y23_sy.pdf\n",
        "\n",
        "Happy learning/coding! :)"
      ],
      "metadata": {
        "id": "VQkmLIxBZNhX"
      }
    },
    {
      "cell_type": "markdown",
      "source": [
        "###**Task 1.1 [10]**\n",
        "\n",
        "The standard deviation σ measures the amount of variability within a given data set, and is given by \n",
        "![population_standard_deviation.svg](data:image/svg+xml;base64,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)\n",
        "\n",
        "where μ is the mean of the data set.\n",
        "\n",
        "Using first principles (i.e. do not use the `sum()` and `mean()` built-in functions), determine the mean and standard deviation of the given array of scores. You may use the `sqrt()` function from the math module.\n",
        "\n",
        "Sample (partial) output:\n",
        "```\n",
        "Mean = \n",
        "Standard deviation = \n",
        "```\n",
        "\n",
        "https://www.mathsisfun.com/data/standard-deviation-calculator.html"
      ],
      "metadata": {
        "id": "_Kn3cMbI1B7i"
      }
    },
    {
      "cell_type": "code",
      "source": [
        "# Compute standard deviation\n",
        "import math\n",
        "\n",
        "all_scores = all_scores = [30, 40, 50, 50, 50, 60, 70, 80, 80, 90]\n",
        "\n",
        "def mean(lst):\n",
        "    total = 0\n",
        "    for i in lst:\n",
        "        total += i\n",
        "\n",
        "    return total / len(lst)\n",
        "\n",
        "def stddev(lst): \n",
        "    t_dev = 0\n",
        "    for j in lst:\n",
        "        t_dev += (j-mean(lst))**2\n",
        "\n",
        "    std = round((t_dev/len(lst))**0.5, 2)\n",
        "    return std\n",
        "\n",
        "mean1 = mean(all_scores)\n",
        "std = stddev(all_scores)\n",
        "print(f'Mean = {mean(all_scores)}')\n",
        "print(f'Standard deviation = {stddev(all_scores)}')"
      ],
      "metadata": {
        "id": "tajMm7T13JiB",
        "colab": {
          "base_uri": "https://localhost:8080/"
        },
        "outputId": "9c192fc5-778f-4f77-97a8-7ee0c042cd20"
      },
      "execution_count": null,
      "outputs": [
        {
          "output_type": "stream",
          "name": "stdout",
          "text": [
            "Mean = 60.0\n",
            "Standard deviation = 18.44\n"
          ]
        }
      ]
    },
    {
      "cell_type": "markdown",
      "source": [
        "###**Task 1.2 [10]**\n",
        "\n",
        "The Z-score is the number of standard deviation a given data point varies from the mean. For data points that are below the mean, the Z-score is negative. For data points that are above the mean, the Z-score is negative. The Z-score is zero for data points which equal the mean. \n",
        "\n",
        "The formula for Z-score is ![z_score.svg](data:image/svg+xml;base64,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)\n",
        "\n",
        "where x is the data point value, μ is the mean and σ is the standard deviation.\n",
        "\n",
        "Using the result from Task 1.1, compute the Z-scores for Tom, Mary and Ali with scores 78, 70 and 65 respectively. Output the names, Z-scores (correct to 2 decimal places) and a `Comment` column indicating if the Z-score is BM, EM or AM meaning below mean (-ve Z-score), equals mean (0 Z-score) and above mean (+ve Z-score). All columns should be left justified.\n",
        "\n",
        "Sample (partial) output\n",
        "```\n",
        "Name Z-Score Comment\n",
        "Tom   \n",
        "Mary \n",
        "Ali   \n",
        "```"
      ],
      "metadata": {
        "id": "2pCwzuJI3FuH"
      }
    },
    {
      "cell_type": "code",
      "execution_count": null,
      "metadata": {
        "id": "VQrZsaiZ00Tt",
        "colab": {
          "base_uri": "https://localhost:8080/"
        },
        "outputId": "2771d098-b1d5-4186-fdef-471da5dfd5a9"
      },
      "outputs": [
        {
          "output_type": "stream",
          "name": "stdout",
          "text": [
            "Name      ZScore    Comment\n",
            "Tom       1.19      AM\n",
            "Mary      0.00      EM\n",
            "Ali       -0.60     BM\n"
          ]
        }
      ],
      "source": [
        "# Compute Z-score\n",
        "\n",
        "students = ['Tom', 'Mary', 'Ali']\n",
        "scores = [82, 60, 49]\n",
        "comment = []\n",
        "zscore = []\n",
        "\n",
        "for i in scores:\n",
        "    z = (i-mean1)/std\n",
        "    zscore.append(z)\n",
        "\n",
        "    if z == 0:\n",
        "        comment.append('EM')\n",
        "    elif z > 0:\n",
        "        comment.append('AM')\n",
        "    else:\n",
        "        comment.append('BM')\n",
        "\n",
        "print('{:10}{:<10}{:<}'.format('Name', 'ZScore', 'Comment'))\n",
        "for j in range (len(students)):\n",
        "    print('{:10}{:<10.2f}{:<}'.format(students[j], zscore[j], comment[j]))\n",
        "\n"
      ]
    },
    {
      "cell_type": "markdown",
      "source": [
        "###**Task 1.3 [10]**\n",
        "\n",
        "Ah Seng scored 82 marks for his English and Science tests.\n",
        "His classmates' scores for English are 58, 63, 74, 75, 76, 78, 82, 85, 87, 92.\n",
        "His classmates' scores for Science are 73, 73, 75, 75, 77, 78, 78, 79, 80, 82.\n",
        "Determine if Ah Seng performed better in English or Science relative to his classmates.\n",
        "\n",
        "Sample (partial) output\n",
        "```\n",
        "Mean = \n",
        "Z-score (English) = \n",
        "Z-score (Science) = \n",
        "Ah Seng did relatively better in \n",
        "```"
      ],
      "metadata": {
        "id": "MYBS4xj324mP"
      }
    },
    {
      "cell_type": "code",
      "source": [
        "# How did Ah Seng do?\n",
        "eng_scores = [58, 63, 74, 75, 76, 78, 82, 85, 87, 92]\n",
        "sci_scores = [73, 73, 75, 75, 77, 78, 78, 79, 80, 82]\n",
        "meaneng = mean(eng_scores) \n",
        "meansci = mean(sci_scores)\n",
        "stdeng = stddev(eng_scores)\n",
        "stdsci = stddev(sci_scores)\n",
        "\n",
        "sengeng = 82\n",
        "sengsci = 82\n",
        "zeng = (sengeng-meaneng)/stdeng\n",
        "zsci = (sengsci - meansci)/stdsci\n",
        "better = 'Science' if zsci > zeng else 'English'\n",
        "\n",
        "print(f'Mean for English = {meaneng}')\n",
        "print(f'Mean for Science = {meansci}')\n",
        "print(f'Z Score for English = {round(zeng,2)}')\n",
        "print(f'Z Score for Science = {round(zsci,2)}')\n",
        "print(f'Ah Seng did relatively better for {better}.')"
      ],
      "metadata": {
        "id": "anpu5_vn7_Ot",
        "colab": {
          "base_uri": "https://localhost:8080/"
        },
        "outputId": "553b9829-c264-4350-9838-d445fce61d93"
      },
      "execution_count": null,
      "outputs": [
        {
          "output_type": "stream",
          "name": "stdout",
          "text": [
            "Mean for English = 77.0\n",
            "Mean for Science = 77.0\n",
            "Z Score for English = 0.5\n",
            "Z Score for Science = 1.77\n",
            "Ah Seng did relatively better for Science.\n"
          ]
        }
      ]
    },
    {
      "cell_type": "markdown",
      "source": [
        "##**Task 2**\n",
        "\n",
        "The following keywords array contains reserved words in Python.\n"
      ],
      "metadata": {
        "id": "WeKWuSPJ4G86"
      }
    },
    {
      "cell_type": "code",
      "source": [
        "keywords = ['False', 'None', 'True', 'and', 'as', 'assert', 'break', 'class', \\\n",
        "            'continue', 'def', 'del', 'elif', 'else', 'except', 'finally', \\\n",
        "            'for', 'from', 'global', 'if', 'import', 'in', 'is', 'lambda', \\\n",
        "            'nonlocal', 'not', 'or', 'pass', 'raise', 'return', 'try', \\\n",
        "            'while', 'with', 'yield']"
      ],
      "metadata": {
        "id": "CfTNx85r5DGB"
      },
      "execution_count": null,
      "outputs": []
    },
    {
      "cell_type": "markdown",
      "source": [
        "###**Task 2.1 [10]**\n",
        "Write a function `find_ascii_sum(A)` to compute the sum of all the ASCII characters' integer representation in the array A.\n",
        "\n",
        "For example, for the array `words = ['AI', 'machine']`, `find_ascii_sum(words)` returns `863` since this is the sum of 65 + 73 + 109 + 97 + 99 + 104 + 105 + 110 + 101.\n",
        "\n",
        "Determine this sum for the array keywords and output this number in decimal, binary and hexadecimal.\n",
        "\n",
        "Sample output for array words:\n",
        "```\n",
        "Decimal: 863\n",
        "Binary: 1101011111\n",
        "Hexadecimal: 35F\n",
        "```\n",
        "You may not use the built-in `int()`, `bin()` and `hex()` functions."
      ],
      "metadata": {
        "id": "zWjSNozb7krZ"
      }
    },
    {
      "cell_type": "code",
      "source": [
        "def dec2bin(num):\n",
        "    bin = ''\n",
        "    while num > 0:\n",
        "        bit = num % 2\n",
        "        bin = str(bit) + bin\n",
        "        num = num // 2\n",
        "    return bin\n",
        "\n",
        "def dec2hex(num):\n",
        "    hash = '0123456789ABCDEF'\n",
        "    hex = ''\n",
        "    while num > 0:\n",
        "        digit = num % 16\n",
        "        hex = hash[digit] + hex\n",
        "        num = num // 16\n",
        "    return hex \n",
        "\n",
        "def find_ascii_sum(A):\n",
        "    total = 0\n",
        "    for word in A:\n",
        "        for char in word:\n",
        "            total += ord(char)\n",
        "\n",
        "    bin = dec2bin(total)\n",
        "    hex = dec2hex(total)\n",
        "\n",
        "    print(f'Decimal: {total}')\n",
        "    print(f'Binary: {bin}')\n",
        "    print(f'Hexadecimal: {hex}')\n",
        "\n",
        "# main\n",
        "find_ascii_sum(['AI', 'machine'])\n"
      ],
      "metadata": {
        "id": "25jXp9RX7-q6",
        "colab": {
          "base_uri": "https://localhost:8080/"
        },
        "outputId": "da098353-a265-4056-a52c-67dde09d50ab"
      },
      "execution_count": 4,
      "outputs": [
        {
          "output_type": "stream",
          "name": "stdout",
          "text": [
            "Decimal: 863\n",
            "Binary: 1101011111\n",
            "Hexadecimal: 35F\n"
          ]
        }
      ]
    },
    {
      "cell_type": "markdown",
      "source": [
        "###**Task 2.2 [10]**\n",
        "The following statement reveals the Zen of Python:"
      ],
      "metadata": {
        "id": "ywk03GAO8zqV"
      }
    },
    {
      "cell_type": "code",
      "source": [
        "# run this cell\n",
        "import this "
      ],
      "metadata": {
        "id": "fmaHHVtnB_ca",
        "colab": {
          "base_uri": "https://localhost:8080/"
        },
        "outputId": "df910f34-05c6-4a66-ac9d-818ccabe47b7"
      },
      "execution_count": 5,
      "outputs": [
        {
          "output_type": "stream",
          "name": "stdout",
          "text": [
            "The Zen of Python, by Tim Peters\n",
            "\n",
            "Beautiful is better than ugly.\n",
            "Explicit is better than implicit.\n",
            "Simple is better than complex.\n",
            "Complex is better than complicated.\n",
            "Flat is better than nested.\n",
            "Sparse is better than dense.\n",
            "Readability counts.\n",
            "Special cases aren't special enough to break the rules.\n",
            "Although practicality beats purity.\n",
            "Errors should never pass silently.\n",
            "Unless explicitly silenced.\n",
            "In the face of ambiguity, refuse the temptation to guess.\n",
            "There should be one-- and preferably only one --obvious way to do it.\n",
            "Although that way may not be obvious at first unless you're Dutch.\n",
            "Now is better than never.\n",
            "Although never is often better than *right* now.\n",
            "If the implementation is hard to explain, it's a bad idea.\n",
            "If the implementation is easy to explain, it may be a good idea.\n",
            "Namespaces are one honking great idea -- let's do more of those!\n"
          ]
        }
      ]
    },
    {
      "cell_type": "markdown",
      "source": [
        "Store the Zen of Python in a string variable `zenp`.\n",
        "\n",
        "Write a function `strip_non_letter(zenp)` to remove all non-alphabetic characters in `zenp`. \n",
        "\n",
        "In addition, the function will also change informal to formal phrasing. For example: \n",
        "- `it's` becomes `it is`\n",
        "- `aren't` becomes `are not`\n",
        "- `you're` becomes `you are`\n",
        "\n",
        "Finally, each newline character `\\n` (except the first) will be replaced by a space character.\n",
        "\n",
        "`strip_non_letter(zenp)` will return a string containing all lower case letters and space characters only.\n",
        "\n",
        "Finally, output the following:\n",
        "- the `strip_non_letter()` processed string `zenps`\n",
        "- the number of words in zenps\n",
        "- the number of words containing at least one `p` in `zenps`"
      ],
      "metadata": {
        "id": "3CzLKT_7QUeb"
      }
    },
    {
      "cell_type": "code",
      "source": [
        "# copy and paste the output of import this and assign this to zenp \n",
        "zenp = '''\n",
        "The Zen of Python, by Tim Peters\n",
        "\n",
        "Beautiful is better than ugly.\n",
        "Explicit is better than implicit.\n",
        "Simple is better than complex.\n",
        "Complex is better than complicated.\n",
        "Flat is better than nested.\n",
        "Sparse is better than dense.\n",
        "Readability counts.\n",
        "Special cases aren't special enough to break the rules.\n",
        "Although practicality beats purity.\n",
        "Errors should never pass silently.\n",
        "Unless explicitly silenced.\n",
        "In the face of ambiguity, refuse the temptation to guess.\n",
        "There should be one-- and preferably only one --obvious way to do it.\n",
        "Although that way may not be obvious at first unless you're Dutch.\n",
        "Now is better than never.\n",
        "Although never is often better than *right* now.\n",
        "If the implementation is hard to explain, it's a bad idea.\n",
        "If the implementation is easy to explain, it may be a good idea.\n",
        "Namespaces are one honking great idea -- let's do more of those!\n",
        "'''\n",
        "\n",
        "def strip_non_letter(zenp):\n",
        "    s = zenp.lower()\n",
        "    while \"aren't\" in s or \"it's\" in s or \"you're\" in s:\n",
        "        l1 = len(\"aren't\")\n",
        "        i1 = s.find(\"aren't\")\n",
        "        s = s[:i1] + \"are not\" + s[l1+i1:]\n",
        "\n",
        "        l2 = len(\"it's\")\n",
        "        i2 = s.find(\"it's\")\n",
        "        s = s[:i2] + \"it is\" + s[i2+l2:]\n",
        "\n",
        "        l3 = len(\"you're\")\n",
        "        i3 = s.find(\"you're\")\n",
        "        s = s[:i3] + \"you are\" + s[i3+l3:]\n",
        "\n",
        "    lst = s.split()\n",
        "        \n",
        "    for i in range(len(lst)):\n",
        "        lst[i] = ''.join(ch for ch in lst[i] if ch.isalpha())\n",
        "    \n",
        "    while '' in lst:\n",
        "        lst.remove(\"\")\n",
        "    s = ' '.join(lst)\n",
        "    i = s.find('beautiful')\n",
        "    s = s[:i-1] + '\\n' +s[i:]\n",
        "    return s\n",
        "\n",
        "# main\n",
        "zenps = strip_non_letter(zenp)\n",
        "print (zenps)\n",
        "l = zenps.split()\n",
        "print(f'Word count: {len(l)}')\n",
        "count = 0\n",
        "for word in l:\n",
        "    if 'p' in word:\n",
        "        count += 1\n",
        "print(f\"No of Words with 'p': {count}\")\n"
      ],
      "metadata": {
        "id": "mAqI8d6Q80aW",
        "colab": {
          "base_uri": "https://localhost:8080/"
        },
        "outputId": "497bae80-99dd-48f0-e445-d3668e2ac5a2"
      },
      "execution_count": 19,
      "outputs": [
        {
          "output_type": "stream",
          "name": "stdout",
          "text": [
            "the zen of python by tim peters\n",
            "beautiful is better than ugly explicit is better than implicit simple is better than complex complex is better than complicated flat is better than nested sparse is better than dense readability counts special cases are not special enough to break the rules although practicality beats purity errors should never pass silently unless explicitly silenced in the face of ambiguity refuse the temptation to guess there should be one and preferably only one obvious way to do it although that way may not be obvious at first unless you are dutch now is better than never although never is often better than right now if the implementation is hard to explain it is a bad idea if the implementation is easy to explain it may be a good idea namespaces are one honking great idea lets do more of those\n",
            "Word count: 146\n",
            "No of Words with 'p': 22\n"
          ]
        }
      ]
    },
    {
      "cell_type": "markdown",
      "source": [
        "###**Task 2.3 [10]**\n",
        "Write a function `sub_search(zenps, target)` to return the number of unique words containing the substring `target`, as well as a list of such words.\n",
        "\n",
        "For example, `sub_search(zenps, \"it\")` returns `8` and `['explicit', 'implicit', 'readability', 'practicality', 'purity', 'explicitly', 'ambiguity', 'it']`.\n",
        "\n",
        "Verify that your program code works with \n",
        "- target as 'it', and \n",
        "- another two function calls with new targets of at least 2 and 3 characters. "
      ],
      "metadata": {
        "id": "ONCKhTfCNLL8"
      }
    },
    {
      "cell_type": "code",
      "source": [
        "def sub_search(zenps, target):\n",
        "    l = zenps.split()\n",
        "    count = 0\n",
        "    result = []\n",
        "    for word in l:\n",
        "        if target in word and word not in result:\n",
        "            count += 1\n",
        "            result.append(word)\n",
        "    return count, result\n",
        "\n",
        "# main\n",
        "count1, lst1 = sub_search(zenps, \"it\")\n",
        "count2, lst2 = sub_search(zenps, \"in\") # enter 2-character target\n",
        "count3, lst3 = sub_search(zenps, \"cat\") # enter 3-character target\n",
        "\n",
        "print(count1, lst1)\n",
        "print(count2, lst2)\n",
        "print(count3, lst3)"
      ],
      "metadata": {
        "id": "ndl-3HEt8RjT",
        "colab": {
          "base_uri": "https://localhost:8080/"
        },
        "outputId": "9771bb74-0cc8-4d0e-fbcc-010de7d1dfcb"
      },
      "execution_count": 22,
      "outputs": [
        {
          "output_type": "stream",
          "name": "stdout",
          "text": [
            "8 ['explicit', 'implicit', 'readability', 'practicality', 'purity', 'explicitly', 'ambiguity', 'it']\n",
            "3 ['in', 'explain', 'honking']\n",
            "1 ['complicated']\n"
          ]
        }
      ]
    },
    {
      "cell_type": "markdown",
      "source": [
        "##**Task 3**\n",
        "Singapore's vehicle registration plates follow the modulo 19 check digit generation algorithm. \n",
        "\n",
        "From https://en.wikipedia.org/wiki/Vehicle_registration_plates_of_Singapore#Checksum:\n",
        "\n",
        "\"The checksum letter is calculated by converting the letters into numbers, i.e., where A=1 and Z=26, potentially giving seven individual numbers from each registration plate. However, only two letters of the prefix are used in the checksum. For a three-letter prefix, only the last two letters are used; for a two-letter prefix, both letters are used; for a single letter prefix, the single letter corresponds to the second position, with the first position as 0. For numerals less than four digits, additional zeroes are added in front as placeholders, for example \"1\" is \"0001\". SBS 9889 would therefore give 2, 19, 9, 8, 8 and 9 (note that \"S\" is discarded); E 12 would give 0, 5, 0, 0, 1 and 2. SG 2017 would be given as 19, 7, 2, 0, 1, 7.\n",
        "\n",
        "Each individual number is then multiplied by 6 fixed numbers (9, 4, 5, 4, 3, 2). These are added up, then divided by 19. The remainder corresponds to one of the 19 letters used (A, Z, Y, X, U, T, S, R, P, M, L, K, J, H, G, E, D, C, B), with \"A\" corresponding to a remainder of 0, \"Z\" corresponding to 1, \"Y\" corresponding to 2 and so on. In the case of SBS 9889, the final letter is a \"U\"; for E 23, the final letter should be a H. SG 2017 back letter should be a C. The letters F, I, N, O, Q, V and W are not used as checksum letters.\""
      ],
      "metadata": {
        "id": "JTeZK6hj9wEX"
      }
    },
    {
      "cell_type": "markdown",
      "source": [
        "###**Task 3.1 [20]**\n",
        "\n",
        "Perform validation on the following vehicle registration numbers:\n",
        "\n",
        "- SDP8160L\n",
        "- EB2332K\n",
        "\n",
        "showing your understanding of\n",
        "\n",
        "- presence check\n",
        "- length check\n",
        "- range check\n",
        "- format check\n",
        "- check digit\n",
        "\n",
        "You may use an online vehicle registration plates numbers validator, for example https://carplatemart.sg/simple-checksum/ to verify the validity of such numbers."
      ],
      "metadata": {
        "id": "Q00B5_DsxdcZ"
      }
    },
    {
      "cell_type": "code",
      "source": [
        "checkletter = ['A', 'Z', 'Y', 'X', 'U', 'T', 'S', 'R', 'P', 'M', 'L', 'K', 'J', 'H', 'G', 'E', 'D', 'C', 'B']\n",
        "\n",
        "def validregno(string):\n",
        "    if string == '':\n",
        "        return False\n",
        "\n",
        "    #checkletter = ['A', 'Z', 'Y', 'X', 'U', 'T', 'S', 'R', 'P', 'M', 'L', 'K', 'J', 'H', 'G', 'E', 'D', 'C', 'B']\n",
        "    weights = [9, 4, 5, 4, 3, 2]\n",
        "    numindex = [i for i, c in enumerate(string) if c.isdigit()]\n",
        "\n",
        "    front = string[0:numindex[0]].upper()\n",
        " \n",
        "    check = front[-2:].zfill(2) + string[numindex[0]:numindex[-1]+1].zfill(4)\n",
        "    total = 0\n",
        "    for i in range(len(check)):\n",
        "        if check[i].isalpha():\n",
        "            total += (ord(check[i])-64) * weights[i]\n",
        "        elif check[i].isnumeric():\n",
        "            total += int(check[i]) * weights[i]\n",
        "    checki = total % 19\n",
        "    return True if string[-1] == checkletter[checki] else False\n",
        "        \n",
        "#main\n",
        "valid_plate = False\n",
        "while valid_plate == False:\n",
        "    plate = input('Enter plate: ').upper()\n",
        "    if len(plate) ==0:\n",
        "        print('Empty input')\n",
        "    elif not 3 <= len(plate) <= 8:\n",
        "        print('Plate no should be 3-8 characters')\n",
        "    elif plate[-1] not in checkletter:\n",
        "        print('Check digit not in range')\n",
        "    elif not plate[0].isalpha():\n",
        "        print('Plate no starts with letter')\n",
        "    elif not validregno(plate):\n",
        "        print('Invalid check digit')\n",
        "    else:\n",
        "        valid_plate = True\n",
        "print (f'{plate} is valid')"
      ],
      "metadata": {
        "id": "LEl50MG7LZfW",
        "colab": {
          "base_uri": "https://localhost:8080/"
        },
        "outputId": "0ba46cee-70f8-41e3-a68b-776959daa643"
      },
      "execution_count": 1,
      "outputs": [
        {
          "output_type": "stream",
          "name": "stdout",
          "text": [
            "Enter plate: snd321l\n",
            "SND321L is valid\n"
          ]
        }
      ]
    },
    {
      "cell_type": "markdown",
      "source": [
        "###**Task 3.2 [Bonus] [10]**\n",
        "\n",
        "Using loops (for or while) and conditionals, generate one vehicle registration plate number NRICs with a 2-letter prefix and one vehicle registration plate number NRICs with a 3-letter prefix. Both numbers end with the check digit `A`."
      ],
      "metadata": {
        "id": "QZj-8vFALWAB"
      }
    },
    {
      "cell_type": "code",
      "source": [
        "import random\n",
        "\n",
        "\n",
        "\n",
        "def genregno(letter):\n",
        "    checkletter = ['A', 'Z', 'Y', 'X', 'U', 'T', 'S', 'R', 'P', 'M', 'L', 'K', 'J', 'H', 'G', 'E', 'D', 'C', 'B']\n",
        "    weights = [9, 4, 5, 4, 3, 2]\n",
        "    \n",
        "    result = letter\n",
        "    total = 0\n",
        "\n",
        "    for i in range (2):\n",
        "        total += (ord(letter[-2+i])-64) * weights[i] \n",
        "\n",
        "\n",
        "    for j in range (2,5):\n",
        "        digit = random.randint(0,9)\n",
        "        total += digit * weights[j]\n",
        "        result = result + str(digit)\n",
        "\n",
        "    d4 = 19 - (total % 19)\n",
        "    if d4 % 2 != 0:\n",
        "        if d4 - 3 >=0: \n",
        "            result = result[:-1] + str(int(result[-1])+1)\n",
        "            total +=3\n",
        "            d4 -= 3\n",
        "        else:\n",
        "            result = result[:-1] + str(int(result[-1])-1)\n",
        "            total -=3\n",
        "            d4 += 3\n",
        "    result = result + str(d4//2) + 'A'\n",
        "    return result\n",
        "    \n",
        "\n",
        "\n",
        "print(genregno('SNF'))\n",
        "print(genregno('EB'))"
      ],
      "metadata": {
        "id": "hZb-wI2RKuQ_",
        "colab": {
          "base_uri": "https://localhost:8080/"
        },
        "outputId": "1465694e-d702-4be6-82ff-fee64c65ddb4"
      },
      "execution_count": null,
      "outputs": [
        {
          "output_type": "stream",
          "name": "stdout",
          "text": [
            "SNF7242A\n",
            "EB0874A\n"
          ]
        }
      ]
    },
    {
      "cell_type": "code",
      "source": [
        ""
      ],
      "metadata": {
        "id": "JrzHDsE7l2J9"
      },
      "execution_count": null,
      "outputs": []
    },
    {
      "cell_type": "code",
      "source": [
        "import random\n",
        "\n",
        "\n",
        "def genregno(letter):\n",
        "\n",
        "    checkletter = ['A', 'Z', 'Y', 'X', 'U', 'T', 'S', 'R', 'P', 'M', 'L', 'K', 'J', 'H', 'G', 'E', 'D', 'C', 'B']\n",
        "    weights = [9, 4, 5, 4, 3, 2]\n",
        "    \n",
        "    prefix = ''\n",
        "\n",
        "    for i in range (2):\n",
        "        prefix += chr(random.randint(65, 90)\n",
        "    print(prefix)\n",
        "\n",
        "    result = prefix\n",
        "    total = 0\n",
        "\n",
        "    for i in range (2):\n",
        "        total += (ord(prefix[-2+i])-64) * weights[i] \n",
        "\n",
        "\n",
        "    for j in range (2,5):\n",
        "        digit = random.randint(0,9)\n",
        "        total += digit * weights[j]\n",
        "        result = result + str(digit)\n",
        "\n",
        "    d4 = 19 - (total % 19)\n",
        "    if d4 % 2 != 0:\n",
        "        if d4 - 3 >=0: \n",
        "            result = result[:-1] + str(int(result[-1])+1)\n",
        "            total +=3\n",
        "            d4 -= 3\n",
        "        else:\n",
        "            result = result[:-1] + str(int(result[-1])-1)\n",
        "            total -=3\n",
        "            d4 += 3\n",
        "    result = result + str(d4//2) + 'A'\n",
        "    return result\n",
        "    \n",
        "\n",
        "genregno('A')"
      ],
      "metadata": {
        "colab": {
          "base_uri": "https://localhost:8080/"
        },
        "outputId": "1465694e-d702-4be6-82ff-fee64c65ddb4",
        "id": "HRs5rlaBl2cK"
      },
      "execution_count": null,
      "outputs": [
        {
          "output_type": "stream",
          "name": "stdout",
          "text": [
            "SNF7242A\n",
            "EB0874A\n"
          ]
        }
      ]
    },
    {
      "cell_type": "markdown",
      "source": [
        "##**Task 4 [Bonus Bonus][10]**\n",
        "Design a task showing the application of programming constructs (data types, conditionals, iteration, functions, arrays, etc.) in the O-level syllabus with the program output as `42`."
      ],
      "metadata": {
        "id": "tlPvdXh_zbfI"
      }
    },
    {
      "cell_type": "code",
      "source": [
        "# Program output is 42"
      ],
      "metadata": {
        "id": "dPrZuSKf0RbT"
      },
      "execution_count": null,
      "outputs": []
    }
  ]
}