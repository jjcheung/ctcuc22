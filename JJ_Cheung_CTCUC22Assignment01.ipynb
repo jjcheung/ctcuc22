{
  "nbformat": 4,
  "nbformat_minor": 0,
  "metadata": {
    "colab": {
      "name": "JJ Cheung - CTCUC22Assignment01.ipynb",
      "provenance": [],
      "include_colab_link": true
    },
    "kernelspec": {
      "name": "python3",
      "display_name": "Python 3"
    },
    "language_info": {
      "name": "python"
    }
  },
  "cells": [
    {
      "cell_type": "markdown",
      "metadata": {
        "id": "view-in-github",
        "colab_type": "text"
      },
      "source": [
        "<a href=\"https://colab.research.google.com/github/jjcheung/ctcuc22/blob/main/JJ_Cheung_CTCUC22Assignment01.ipynb\" target=\"_parent\"><img src=\"https://colab.research.google.com/assets/colab-badge.svg\" alt=\"Open In Colab\"/></a>"
      ]
    },
    {
      "cell_type": "markdown",
      "source": [
        "# Assignment 1\n",
        "(assignment means need to submit one ah :)) \n",
        "\n",
        "**Due**: Typically a day before the following CTCUC session. Early and quality submissions earn bonus credit. :)"
      ],
      "metadata": {
        "id": "Jw0wneGxsQK7"
      }
    },
    {
      "cell_type": "markdown",
      "source": [
        "Encryption is the process of converting a plaintext to cipher text so that the original message is 'hidden'.\n",
        "\n",
        "Referring to the [ASCII table](https://asciitable.com) or otherwise, write program code that encrypts plaintext A to ciphertext B. Annotate your program code using appropriate comments. \n",
        "\n",
        "You may assume both strings contain only printable characters (i.e. ASCII decimal values 33 to 126). Using comments, state reasonable assumptions (if any) at the start of your program eg explain how you would handle edge cases."
      ],
      "metadata": {
        "id": "kB4owajve4X1"
      }
    },
    {
      "cell_type": "code",
      "execution_count": null,
      "metadata": {
        "id": "-k9kZ8v-hwtn",
        "colab": {
          "base_uri": "https://localhost:8080/"
        },
        "outputId": "e5d219d1-038f-4723-af44-6db2ea92883d"
      },
      "outputs": [
        {
          "output_type": "stream",
          "name": "stdout",
          "text": [
            "Enter plaintext:CTCUC22\n",
            "Ciphertext: 67846785675050\n"
          ]
        }
      ],
      "source": [
        "# A: \"CTCUC22\" -> B: \"67846785675050\"\n",
        "\n",
        "#input\n",
        "plaintext = input('Enter plaintext:')\n",
        "\n",
        "#process\n",
        "ciphertext=''\n",
        "for i in plaintext:\n",
        "    ciphertext+= str(ord(i))\n",
        "\n",
        "#output\n",
        "print('Ciphertext:', ciphertext)\n"
      ]
    },
    {
      "cell_type": "code",
      "execution_count": null,
      "metadata": {
        "id": "OZ_TM9unezQk",
        "colab": {
          "base_uri": "https://localhost:8080/"
        },
        "outputId": "40799213-611a-450d-f508-b92340f94a99"
      },
      "outputs": [
        {
          "output_type": "stream",
          "name": "stdout",
          "text": [
            "Enter plaintext:xyz\n",
            "Ciphertext: <=>\n"
          ]
        }
      ],
      "source": [
        "# A: \"ABC\" -> B: \"bcd\"    \n",
        "#assuming encryption key: ASCII decimal + 33\n",
        "\n",
        "#input\n",
        "plaintext = input('Enter plaintext:')\n",
        "\n",
        "#process\n",
        "ciphertext=''\n",
        "for i in plaintext:\n",
        "    if ord(i)+ 33 <= 126:           #checking if the ASCII decimal value falls within range of 33 and 126\n",
        "        ciphertext += chr(ord(i) + 33)\n",
        "    else:\n",
        "        ciphertext += chr(ord(i) + 33 - 126 + 33)  #looping the characters back to front of range\n",
        "\n",
        "#output\n",
        "print('Ciphertext:', ciphertext)\n",
        "\n"
      ]
    },
    {
      "cell_type": "code",
      "execution_count": null,
      "metadata": {
        "id": "3-eUrFojheg1",
        "colab": {
          "base_uri": "https://localhost:8080/"
        },
        "outputId": "5afbdbae-fba5-4dc2-d1c7-332ca08608c8"
      },
      "outputs": [
        {
          "output_type": "stream",
          "name": "stdout",
          "text": [
            "Enter plaintext:abc\n",
            "Ciphertext: ZYX\n"
          ]
        }
      ],
      "source": [
        "# A: \"abc\" -> B: \"ZYX\"            \n",
        "#assuming encryption key: 187 - ASCII decimal, only works within range of 61 - 126\n",
        " \n",
        "#input\n",
        "plaintext = input('Enter plaintext:')\n",
        "\n",
        "#process\n",
        "ciphertext=''\n",
        "for i in plaintext:\n",
        "    ciphertext+= chr(187 - ord(i))\n",
        "\n",
        "#output\n",
        "print('Ciphertext:', ciphertext)\n"
      ]
    },
    {
      "cell_type": "markdown",
      "source": [
        "Decryption is the reverse process to recover plaintext from the ciphertext. Write program code to decrypt the ciphertext back to its plaintext."
      ],
      "metadata": {
        "id": "y-IFMUESobVC"
      }
    },
    {
      "cell_type": "code",
      "source": [
        "# B: \"67846785675050\" -> A: \"CTCUC22\"\n",
        "\n",
        "#input\n",
        "ciphertext = int(input('Enter ciphertext:'))\n",
        "\n",
        "#process\n",
        "plaintext = ''\n",
        "while ciphertext > 0:\n",
        "    key = ciphertext % 100                      #extract last two numbers from ciphertext\n",
        "    ciphertext  = ciphertext // 100             #reduction for ciphertext, to allow extraction of numbers in subsequent loops\n",
        "    if key <= 26 and ciphertext % 10 == 1:      #for ASCII Dec value between 100 and 126\n",
        "        key+= 100                               #e.g. 12 --> 112\n",
        "        ciphertext  = ciphertext // 10\n",
        "    elif key < 33:                              #for less than 33\n",
        "        print('Invalid input!')\n",
        "        break\n",
        "    plaintext = chr(key) + plaintext\n",
        "\n",
        "#output\n",
        "print('Plaintext:', plaintext)\n"
      ],
      "metadata": {
        "id": "ZzD7S2mtpO4Y",
        "colab": {
          "base_uri": "https://localhost:8080/"
        },
        "outputId": "c22ce22a-65f6-49a0-f54c-ff4b4f556067"
      },
      "execution_count": null,
      "outputs": [
        {
          "output_type": "stream",
          "name": "stdout",
          "text": [
            "Enter ciphertext:67846785675050\n",
            "Plaintext: CTCUC22\n"
          ]
        }
      ]
    },
    {
      "cell_type": "code",
      "source": [
        "# B: \"bcd\" -> A: \"ABC\"            \n",
        "#assuming encryption key: ASCII decimal - 33\n",
        "\n",
        "#input\n",
        "ciphertext = input('Enter ciphertext:')\n",
        "\n",
        "#process\n",
        "plaintext=''\n",
        "for i in ciphertext:\n",
        "  if ord(i) - 33 >= 33:\n",
        "    plaintext+= chr(ord(i) - 33)\n",
        "  else:\n",
        "    plaintext+= chr(ord(i) - 33 - 33 + 126) #loops back to end of range\n",
        "\n",
        "#output\n",
        "print('Plaintext:', plaintext)\n"
      ],
      "metadata": {
        "id": "d90Sf5IIyL_w",
        "colab": {
          "base_uri": "https://localhost:8080/"
        },
        "outputId": "8e8cab69-b800-48ae-dae2-0a72d5d0c258"
      },
      "execution_count": null,
      "outputs": [
        {
          "output_type": "stream",
          "name": "stdout",
          "text": [
            "Enter ciphertext:bcd\n",
            "Plaintext: ABC\n"
          ]
        }
      ]
    },
    {
      "cell_type": "code",
      "source": [
        "# B: \"ZYX\" -> A: \"abc\"            \n",
        "#assuming encryption key: 187 - ASCII decimal, only works within range of 61 - 126\n",
        "\n",
        "#input\n",
        "ciphertext = input('Enter ciphertext:')\n",
        "\n",
        "#process\n",
        "plaintext=''\n",
        "for i in ciphertext:\n",
        "  plaintext+= chr(187 - ord(i))\n",
        "\n",
        "#output\n",
        "print('Plaintext:', plaintext)"
      ],
      "metadata": {
        "id": "nJXq-INMyNBG",
        "colab": {
          "base_uri": "https://localhost:8080/"
        },
        "outputId": "5491dbf5-ab7f-4617-f3c8-0477c8d29794"
      },
      "execution_count": null,
      "outputs": [
        {
          "output_type": "stream",
          "name": "stdout",
          "text": [
            "Enter ciphertext:ZYX\n",
            "Plaintext: abc\n"
          ]
        }
      ]
    },
    {
      "cell_type": "markdown",
      "source": [
        "Devise and implement a happening encryption algorithm to convert the plaintext \"Computing\" to some 'interesting' ciphertext eg \"Interconnectedness\". Express your algorithm using pseudocode in the text cell below. Implement your algorithm in the following code cell. \n",
        "\n",
        "Note: Please try not to do something too mind boggling eg https://spyscape.com/article/can-you-crack-these-10-mind-boggling-ciphers-and-codes :)"
      ],
      "metadata": {
        "id": "FqLM6SOxpS69"
      }
    },
    {
      "cell_type": "markdown",
      "source": [
        "Algorithm\n",
        "```\n",
        "INPUT STRING plaintext\n",
        "DEFINE EMPTY ciphertext \n",
        "\n",
        "DEFINE STRING alphalist = 'AaBbCcDdEeFfGgHhIiJjKkLlMmNnOoPpQqRrSsTtUuVvWwXxYyZz'\n",
        "DEFINE INT en_key = 7\n",
        "\n",
        "START LOOP for i in range (length of plaintext)\n",
        "  o_index = INDEX in alphalist containing i-th character in plaintext\n",
        "  new_index = o_index * en_key % (length of alphalist)\n",
        "  APPEND alphalist[new_index] to ciphertext\n",
        "END LOOP\n",
        "\n",
        "PRINT ciphertext\n",
        "\n",
        "```"
      ],
      "metadata": {
        "id": "7So4k6zAp9cN"
      }
    },
    {
      "cell_type": "code",
      "source": [
        "#definitation of variables for plaintext and ciphertext\n",
        "plaintext = 'Computing'\n",
        "ciphertext = ''\n",
        "\n",
        "#encryption information #SECRET!\n",
        "alpha_list = 'AaBbCcDdEeFfGgHhIiJjKkLlMmNnOoPpQqRrSsTtUuVvWwXxYyZz'\n",
        "en_key = 7 #encryption key that can be varied, e.g. 7 and 15. Not all numbers are suitable for use though. \n",
        "\n",
        "#encryption process\n",
        "for i in plaintext:\n",
        "    new_index = alpha_list.index(i) * en_key % len(alpha_list)\n",
        "    ciphertext += alpha_list [new_index]\n",
        "\n",
        "#output    \n",
        "print (ciphertext)\n"
      ],
      "metadata": {
        "id": "KdzvfcAyIUet",
        "colab": {
          "base_uri": "https://localhost:8080/"
        },
        "outputId": "3cee9061-d5c4-450d-dce4-a88d46d05b1a"
      },
      "execution_count": null,
      "outputs": [
        {
          "output_type": "stream",
          "name": "stdout",
          "text": [
            "Oxjenghqt\n"
          ]
        }
      ]
    },
    {
      "cell_type": "code",
      "source": [
        "#encryption information #SECRET!\n",
        "alpha_list = 'AaBbCcDdEeFfGgHhIiJjKkLlMmNnOoPpQqRrSsTtUuVvWwXxYyZz'\n",
        "beta_list = '' #list of encrypted information\n",
        "en_key = 7\n",
        "\n",
        "#creating beta_list - the encrypted list of letters to refer to. \n",
        "for i in range (len(alpha_list)):\n",
        "    print (alpha_list[i], end ='-')\n",
        "    beta_list += alpha_list [i * en_key % len(alpha_list)]\n",
        "    print (beta_list[i])\n"
      ],
      "metadata": {
        "colab": {
          "base_uri": "https://localhost:8080/"
        },
        "id": "lr8trxBHfw8w",
        "outputId": "736aade9-069f-45f5-872d-bca0247e8a48"
      },
      "execution_count": null,
      "outputs": [
        {
          "output_type": "stream",
          "name": "stdout",
          "text": [
            "A-A\n",
            "a-d\n",
            "B-H\n",
            "b-k\n",
            "C-O\n",
            "c-r\n",
            "D-V\n",
            "d-y\n",
            "E-C\n",
            "e-f\n",
            "F-J\n",
            "f-m\n",
            "G-Q\n",
            "g-t\n",
            "H-X\n",
            "h-a\n",
            "I-E\n",
            "i-h\n",
            "J-L\n",
            "j-o\n",
            "K-S\n",
            "k-v\n",
            "L-Z\n",
            "l-c\n",
            "M-G\n",
            "m-j\n",
            "N-N\n",
            "n-q\n",
            "O-U\n",
            "o-x\n",
            "P-B\n",
            "p-e\n",
            "Q-I\n",
            "q-l\n",
            "R-P\n",
            "r-s\n",
            "S-W\n",
            "s-z\n",
            "T-D\n",
            "t-g\n",
            "U-K\n",
            "u-n\n",
            "V-R\n",
            "v-u\n",
            "W-Y\n",
            "w-b\n",
            "X-F\n",
            "x-i\n",
            "Y-M\n",
            "y-p\n",
            "Z-T\n",
            "z-w\n"
          ]
        }
      ]
    },
    {
      "cell_type": "markdown",
      "source": [
        "Record the teaching of your happening encryption algorithm and implementation (using live coding) to your students. Submit this to Session 2 feedback. :)"
      ],
      "metadata": {
        "id": "QAwwTLI6qfs1"
      }
    },
    {
      "cell_type": "markdown",
      "source": [
        "[Optional/Advanced] Devise and implement the decryption algorithm for your happening encryption algorithm. :)"
      ],
      "metadata": {
        "id": "chBgfWkVwQXY"
      }
    },
    {
      "cell_type": "markdown",
      "source": [
        ""
      ],
      "metadata": {
        "id": "FUv5goJywyG2"
      }
    },
    {
      "cell_type": "code",
      "source": [
        "#definition of plaintext and ciphertext variables\n",
        "plaintext = ''\n",
        "ciphertext = 'Oxjenghqt'\n",
        "\n",
        "#encryption information #SECRET!\n",
        "alpha_list = 'AaBbCcDdEeFfGgHhIiJjKkLlMmNnOoPpQqRrSsTtUuVvWwXxYyZz'\n",
        "beta_list = '' #encrypted string\n",
        "en_key = 7\n",
        "\n",
        "#creating beta_list - the encrypted list of letters to refer to. \n",
        "for i in range (len(alpha_list)):\n",
        "    beta_list += alpha_list [i * en_key % len(alpha_list)]\n",
        "\n",
        "#decryption process, using beta_list as reference\n",
        "for j in ciphertext:\n",
        "    n_index = beta_list.index(j)\n",
        "    plaintext += alpha_list [n_index]\n",
        "\n",
        "#output\n",
        "print (plaintext)"
      ],
      "metadata": {
        "colab": {
          "base_uri": "https://localhost:8080/"
        },
        "id": "CIjTf_peOybQ",
        "outputId": "ca88cfbc-22c9-44d5-955a-70545a8091a9"
      },
      "execution_count": null,
      "outputs": [
        {
          "output_type": "stream",
          "name": "stdout",
          "text": [
            "Computing\n"
          ]
        }
      ]
    },
    {
      "cell_type": "code",
      "source": [
        ""
      ],
      "metadata": {
        "id": "tJdY9bTeN9Ll"
      },
      "execution_count": null,
      "outputs": []
    }
  ]
}