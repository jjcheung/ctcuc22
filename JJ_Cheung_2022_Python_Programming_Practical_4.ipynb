{
  "nbformat": 4,
  "nbformat_minor": 0,
  "metadata": {
    "colab": {
      "name": "JJ Cheung - 2022_Python_Programming_Practical_4.ipynb",
      "provenance": [],
      "collapsed_sections": [],
      "include_colab_link": true
    },
    "kernelspec": {
      "name": "python3",
      "display_name": "Python 3"
    }
  },
  "cells": [
    {
      "cell_type": "markdown",
      "metadata": {
        "id": "view-in-github",
        "colab_type": "text"
      },
      "source": [
        "<a href=\"https://colab.research.google.com/github/jjcheung/ctcuc22/blob/main/JJ_Cheung_2022_Python_Programming_Practical_4.ipynb\" target=\"_parent\"><img src=\"https://colab.research.google.com/assets/colab-badge.svg\" alt=\"Open In Colab\"/></a>"
      ]
    },
    {
      "cell_type": "markdown",
      "metadata": {
        "id": "jp3BkDml8xiR"
      },
      "source": [
        "# **2022 Python Programming Practical 4**\n"
      ]
    },
    {
      "cell_type": "markdown",
      "metadata": {
        "id": "-U8w0oQW9P_b"
      },
      "source": [
        "**Q1. (Summing series 1)**  \n",
        "Write a recursive function sum_series1(i) to compute the following series:   \n",
        "m(i) = 1 + ½ + ⅓ + … + 1/i\n"
      ]
    },
    {
      "cell_type": "code",
      "metadata": {
        "id": "D0uTR7B-8qbF",
        "colab": {
          "base_uri": "https://localhost:8080/"
        },
        "outputId": "af071a51-630a-4036-b8b6-8f1f138c616f"
      },
      "source": [
        "def sum_series1(i):\n",
        "    if i == 1:                            #base value\n",
        "        return 1\n",
        "    else:                                 #add 1/i to the total, while calling recursive function for next smaller i.\n",
        "        return 1/i + sum_series1(i-1)\n",
        "\n",
        "# main\n",
        "print(sum_series1(1))\n",
        "print(sum_series1(5))"
      ],
      "execution_count": 1,
      "outputs": [
        {
          "output_type": "stream",
          "name": "stdout",
          "text": [
            "1\n",
            "2.283333333333333\n"
          ]
        }
      ]
    },
    {
      "cell_type": "markdown",
      "metadata": {
        "id": "7Ui5CuS_9Za1"
      },
      "source": [
        "**Q2. (Summing series 2)**  \n",
        "Write a recursive function sum_series2(i) to compute the following series:   \n",
        "m(i) = ⅓ + ⅖ + 3/7 + 4/9 + 5/11 + 6/13 + … + i/(2i+1)\n"
      ]
    },
    {
      "cell_type": "code",
      "metadata": {
        "id": "CfkRAAWV9cXS",
        "colab": {
          "base_uri": "https://localhost:8080/"
        },
        "outputId": "a3d9148a-6a92-45bb-9aa6-34f45287e0fe"
      },
      "source": [
        "def sum_series2(i):\n",
        "    if i == 1:                                      #base value\n",
        "        return 1 / 3  \n",
        "    else:                                           #add i/(2i+1) to total, and calling recursive function for i-1\n",
        "        return (i/(2*i + 1)) + sum_series2(i-1)\n",
        "\n",
        "# main\n",
        "print(sum_series2(1))\n",
        "print(sum_series2(5))"
      ],
      "execution_count": 2,
      "outputs": [
        {
          "output_type": "stream",
          "name": "stdout",
          "text": [
            "0.3333333333333333\n",
            "2.060894660894661\n"
          ]
        }
      ]
    },
    {
      "cell_type": "markdown",
      "metadata": {
        "id": "aVhHiT8w9c7d"
      },
      "source": [
        "**Q3. (Computing GCD)**  \n",
        "The greatest common divisor (GCD) of two positive integers m and n, gcd(m, n) can be defined recursively as follows:  \n",
        "\n",
        "If m % n is 0, gcd(m, n) is n.  \n",
        "Otherwise, gcd(m, n) is gcd(n, m % n).  \n",
        "\n",
        "Write a recursive function gcd(m, n) to find the GCD. Write a test program that computes gcd(24, 16) and gcd(255, 25)."
      ]
    },
    {
      "cell_type": "code",
      "metadata": {
        "id": "PwRmweEa9fny",
        "outputId": "a0c71cf1-900b-4e33-83b9-d711a4bab80b",
        "colab": {
          "base_uri": "https://localhost:8080/"
        }
      },
      "source": [
        "def gcd(m, n):\n",
        "    if m % n == 0:\n",
        "        return n\n",
        "    else:\n",
        "        return gcd(n, m % n)\n",
        "\n",
        "# main\n",
        "print(gcd(24, 16))\n",
        "print(gcd(255, 25))"
      ],
      "execution_count": 3,
      "outputs": [
        {
          "output_type": "stream",
          "name": "stdout",
          "text": [
            "8\n",
            "5\n"
          ]
        }
      ]
    },
    {
      "cell_type": "markdown",
      "metadata": {
        "id": "wWe4kRS8ZmwP"
      },
      "source": [
        "**Q4. (Reverse the digits in an integer)**  \n",
        "Write a recursive function reverse_int(n) that reverses the digits of an integer n: \n",
        "\n",
        "For example, reverse_int(12345) displays 54321."
      ]
    },
    {
      "cell_type": "code",
      "metadata": {
        "id": "aOozTwoR9j9B",
        "outputId": "9d9b106f-9996-4305-979b-dd53d4660a4e",
        "colab": {
          "base_uri": "https://localhost:8080/"
        }
      },
      "source": [
        "def reverse_int(n):\n",
        "    if n // 10 == 0:                                        #base value\n",
        "        return n\n",
        "    else:\n",
        "        digit = n\n",
        "        count = 0\n",
        "        while digit > 10:                                    #while loop to get 1st digit in n\n",
        "            digit = digit // 10\n",
        "            count += 1                                       #determine power\n",
        "        return digit +  10 * reverse_int(n % (10**count))    #calls recursive function for n without the first digit, multiply returned value by 10, and add to digit\n",
        "\n",
        "# main\n",
        "print(reverse_int(8)) # test terminating case\n",
        "print(reverse_int(12345)) # test recursive case"
      ],
      "execution_count": 14,
      "outputs": [
        {
          "output_type": "stream",
          "name": "stdout",
          "text": [
            "8\n",
            "54321\n"
          ]
        }
      ]
    },
    {
      "cell_type": "markdown",
      "metadata": {
        "id": "lE0ScX9e9kcg"
      },
      "source": [
        "**Q5. (Occurrences of a specified character in a string)**  \n",
        "Write a recursive function count_letter(str, ch) that finds the number of occurrences of a specified letter ch in a string str: \n",
        "\n",
        "For example, count_letter(\"Welcome\", 'e') returns 2."
      ]
    },
    {
      "cell_type": "code",
      "metadata": {
        "id": "sE_bxwDs9mf6",
        "colab": {
          "base_uri": "https://localhost:8080/"
        },
        "outputId": "8d44df31-b5fa-4dd8-d09c-1c48525bc87f"
      },
      "source": [
        "def count_letter(string, ch):\n",
        "    if string == '':                                    #base value for empty string\n",
        "        return 0\n",
        "    elif string[0] == ch:                               #checking if first character in string is ch\n",
        "        return 1 + count_letter(string[1:], ch)         #add 1 to count, and calls recursive function for the string without the first character\n",
        "    else:\n",
        "        return count_letter(string[1:], ch)             #if the character is not ch, calls the recursive function for the string without the first character\n",
        "\n",
        "#main\n",
        "count_letter(\"Welcome\", 'e')\n"
      ],
      "execution_count": 15,
      "outputs": [
        {
          "output_type": "execute_result",
          "data": {
            "text/plain": [
              "2"
            ]
          },
          "metadata": {},
          "execution_count": 15
        }
      ]
    },
    {
      "cell_type": "markdown",
      "metadata": {
        "id": "KSviQY0T9m7Q"
      },
      "source": [
        "**Q6. (Summing the digits in an integer)**  \n",
        "Write a recursive function sum_digits(n) that computes the sum of the digits in an integer n: \n",
        "\n",
        "For example, sum_digits(234) returns 9."
      ]
    },
    {
      "cell_type": "code",
      "metadata": {
        "id": "YbH9Pbul9rK-",
        "colab": {
          "base_uri": "https://localhost:8080/"
        },
        "outputId": "057f8eae-2af9-4304-99da-11c7b4484a16"
      },
      "source": [
        "def sum_digits(n):\n",
        "    if n // 10 == 0:                        #base value\n",
        "        return n\n",
        "    else:\n",
        "        return n % 10 + sum_digits(n//10)   #adds last digit to total, calls recursive function with the remaining digits\n",
        "\n",
        "#main\n",
        "sum_digits(1234)"
      ],
      "execution_count": 31,
      "outputs": [
        {
          "output_type": "execute_result",
          "data": {
            "text/plain": [
              "10"
            ]
          },
          "metadata": {},
          "execution_count": 31
        }
      ]
    },
    {
      "cell_type": "markdown",
      "metadata": {
        "id": "V9Z95nlg97e4"
      },
      "source": [
        "**Q7. (Finding the largest number in an array)**  \n",
        "Write a recursive function find_largest(alist) that returns the largest integer in an array alist.  \n",
        "\n",
        "For example, given alist = [5, 1, 8, 7, 2], sum_digits(alist) returns 8.\n",
        "\n"
      ]
    },
    {
      "cell_type": "code",
      "metadata": {
        "id": "1AZvvAW499PK",
        "colab": {
          "base_uri": "https://localhost:8080/"
        },
        "outputId": "eb30128b-2cf1-48e3-ad9d-0ce1f7ede2e2"
      },
      "source": [
        "def find_largest(alist):\n",
        "    if len(alist) == 1:                 #base value. whatever is left in the list should be the largest value\n",
        "        return alist[0]\n",
        "    else:\n",
        "        if alist[0]>alist[1]:           #checking for first two values in list. Pop the smaller value\n",
        "            alist.pop(1)\n",
        "        else:\n",
        "            alist.pop(0)\n",
        "        return find_largest(alist)      #calls recursive function with the remaining list\n",
        "\n",
        "#main\n",
        "print(find_largest([5, 1, 8, 7, 10, 2]))"
      ],
      "execution_count": 30,
      "outputs": [
        {
          "output_type": "stream",
          "name": "stdout",
          "text": [
            "10\n"
          ]
        }
      ]
    },
    {
      "cell_type": "markdown",
      "metadata": {
        "id": "KNHIvXFleFFH"
      },
      "source": [
        "**Q8. (Finding the number of uppercase letters in a string)**  \n",
        "Write a recursive function find_num_uppercase(str) to return the number of uppercase letters in a string str.\n",
        "\n",
        "For example, find_num_uppercase('Good MorninG!') returns 3.\n",
        "\n"
      ]
    },
    {
      "cell_type": "code",
      "metadata": {
        "id": "-CZ0M7j6eHQe",
        "colab": {
          "base_uri": "https://localhost:8080/"
        },
        "outputId": "f32877a1-b2e9-4853-c360-08bf8be8e65b"
      },
      "source": [
        "def find_num_uppercase(string):\n",
        "    if string == '':                                #base value\n",
        "        return 0\n",
        "    elif string[0].isupper():                       #check if first character in string is uppercase\n",
        "        return 1 + find_num_uppercase(string[1:])   #adds 1 to total, calls recursive function for the remaining characters in string\n",
        "    else:\n",
        "        return find_num_uppercase(string[1:])       #if first character is lowercase, calls recursive functuon for remaining characters in string\n",
        "\n",
        "#main\n",
        "find_num_uppercase(\"Good MorninG!\")\n"
      ],
      "execution_count": 28,
      "outputs": [
        {
          "output_type": "execute_result",
          "data": {
            "text/plain": [
              "3"
            ]
          },
          "metadata": {},
          "execution_count": 28
        }
      ]
    },
    {
      "cell_type": "code",
      "source": [
        ""
      ],
      "metadata": {
        "id": "eRr2HzWbPCbG"
      },
      "execution_count": null,
      "outputs": []
    }
  ]
}