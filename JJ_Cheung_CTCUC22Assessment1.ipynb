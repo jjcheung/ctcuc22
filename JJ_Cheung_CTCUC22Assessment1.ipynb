{
  "nbformat": 4,
  "nbformat_minor": 0,
  "metadata": {
    "colab": {
      "name": "JJ Cheung - CTCUC22Assessment1.ipynb",
      "provenance": [],
      "collapsed_sections": [],
      "include_colab_link": true
    },
    "kernelspec": {
      "name": "python3",
      "display_name": "Python 3"
    },
    "language_info": {
      "name": "python"
    }
  },
  "cells": [
    {
      "cell_type": "markdown",
      "metadata": {
        "id": "view-in-github",
        "colab_type": "text"
      },
      "source": [
        "<a href=\"https://colab.research.google.com/github/jjcheung/ctcuc22/blob/main/JJ_Cheung_CTCUC22Assessment1.ipynb\" target=\"_parent\"><img src=\"https://colab.research.google.com/assets/colab-badge.svg\" alt=\"Open In Colab\"/></a>"
      ]
    },
    {
      "cell_type": "markdown",
      "source": [
        "# CTCUC 2022 Assessment 1\n",
        "\n",
        "Time allowed: 2 hours\n",
        "\n",
        "**Instructions**\n",
        "1. This assessment is open-book (i.e. books are useless).\n",
        "2. Answer all tasks within this Google Colaboratory environment. (You may use your personal IDE as long as the final transferred work is tested in this environment.)\n",
        "3. Input validation is typically not required unless it is a specified task requirement.\n",
        "4. Turn in the assessment in Google Classroom by the end of the assessment duration. (If you need to make changes to a submitted assessment before the end of two hours, please unsubmit and turn in again).\n",
        "5. Please note that your programs may need to clear additional test cases to earn full credit.\n",
        "6. Bonus and optional tasks/components contribute extra credit over and above the total marks of 80.\n",
        "\n",
        "Happy learning/coding! :)"
      ],
      "metadata": {
        "id": "sizlhzTmyZHe"
      }
    },
    {
      "cell_type": "markdown",
      "source": [
        "## Task 1. Lucky pair!\n",
        "\n",
        "### Task 1.1 [5]\n",
        "The following program uses Python standard library's random module shuffle function to allocate students to peer assessment. Provide appropriate comments for lines 1, 7 - 10."
      ],
      "metadata": {
        "id": "tNr7b_Jo0plB"
      }
    },
    {
      "cell_type": "code",
      "execution_count": null,
      "metadata": {
        "colab": {
          "base_uri": "https://localhost:8080/"
        },
        "id": "BOP5iMkr0jdm",
        "outputId": "d739f6e9-3aa1-4612-a4de-45a945b327d6"
      },
      "outputs": [
        {
          "output_type": "stream",
          "name": "stdout",
          "text": [
            "B A\n",
            "A E\n",
            "E D\n",
            "D C\n",
            "C B\n"
          ]
        }
      ],
      "source": [
        "# allocation of students for peer assessment\n",
        "import random\n",
        "\n",
        "students = ['A', 'B', 'C', 'D', 'E']\n",
        "random.shuffle(students)\n",
        "for i in range(len(students)):\n",
        "    if i != len(students) - 1: # for all students except the last student in shuffled list\n",
        "        print(students[i], students[i+1]) # assign next student in shuffled list as partner\n",
        "    else: # for the last student in the shuffled list \n",
        "        print(students[i], students[0]) # assign first student in shuffled list as partner"
      ]
    },
    {
      "cell_type": "markdown",
      "source": [
        "### Task 1.2 [10]\n",
        "\n",
        "You wish to implement a better peer assessment allocation program making use of the randint function and conditionals and loops. The `randint(a,b)` function returns a pseudo-random integer between a and b inclusive.    \n",
        "\n",
        "Note: Do not use the `shuffle()` function. Your program should also perform allocation differently from the one previously provided.\n",
        "\n",
        "Sample allocation:\n",
        "```\n",
        "C B \n",
        "E D \n",
        "B E\n",
        "A C\n",
        "D A\n",
        "```"
      ],
      "metadata": {
        "id": "0XLj4FB84r9U"
      }
    },
    {
      "cell_type": "code",
      "source": [
        "# Better peer assessment\n",
        "# import statement here\n",
        "import random\n",
        "\n",
        "students = ['A', 'B', 'C', 'D', 'E']\n",
        "paired = []\n",
        "# program code here\n",
        "for i in range(len(students)):\n",
        "    print (students[i], end = ' ')\n",
        "    pair = random.randint(0,4)        #random choice of student\n",
        "    while students[pair] in paired:   #if already paired, choose again\n",
        "        pair = random.randint(0,4)\n",
        "    paired.append(students[pair])     #add to paired list\n",
        "    print (paired[i])\n",
        "    \n"
      ],
      "metadata": {
        "id": "UYlQF-6c5rlz",
        "colab": {
          "base_uri": "https://localhost:8080/"
        },
        "outputId": "5f93866c-0a72-4d63-940a-29c07edaeeca"
      },
      "execution_count": null,
      "outputs": [
        {
          "output_type": "stream",
          "name": "stdout",
          "text": [
            "A D\n",
            "B C\n",
            "C A\n",
            "D E\n",
            "E B\n"
          ]
        }
      ]
    },
    {
      "cell_type": "markdown",
      "source": [
        "### [Bonus] Task 1.3 [10]\n",
        "\n",
        "You are tasked to write a program to do pair allocation. Your pair allocation program will assign a partner to a student. If there is an odd number of students, assign the last student to the first group.   \n",
        "\n",
        "Note: If D is a partner to E then E is automatically a partner to D. So if E has been allocated, there is no need to allocate for D. You may not use the `shuffle()` function.\n",
        "\n",
        "Sample allocation for ['A', 'B', 'C', 'D', 'E', 'F', 'G']:\n",
        "```\n",
        "C A F \n",
        "E D \n",
        "B G \n",
        "```"
      ],
      "metadata": {
        "id": "7ZZjG9osauAQ"
      }
    },
    {
      "cell_type": "code",
      "source": [
        "import random\n",
        "\n",
        "# main\n",
        "students = ['A', 'B', 'C', 'D', 'E', 'F', 'G']\n",
        "\n",
        "group = len(students) // 2\n",
        "groupings = {}\n",
        "num = 0\n",
        "while len(students)!= 0:\n",
        "    pair = random.randint(0, len(students)-1)\n",
        "    groupings[num].append(students[pair])\n",
        "    students.pop(students[pair])\n",
        "    if num<group:\n",
        "        num+=1\n",
        "    else:\n",
        "        num=0\n",
        "print (groupings)"
      ],
      "metadata": {
        "id": "HHX0aQ7-eYwb",
        "colab": {
          "base_uri": "https://localhost:8080/",
          "height": 235
        },
        "outputId": "d0c3f022-b56b-4f53-ca0e-4edee6d6798e"
      },
      "execution_count": null,
      "outputs": [
        {
          "output_type": "error",
          "ename": "IndexError",
          "evalue": "ignored",
          "traceback": [
            "\u001b[0;31m---------------------------------------------------------------------------\u001b[0m",
            "\u001b[0;31mIndexError\u001b[0m                                Traceback (most recent call last)",
            "\u001b[0;32m<ipython-input-40-8327823eceb4>\u001b[0m in \u001b[0;36m<module>\u001b[0;34m()\u001b[0m\n\u001b[1;32m      9\u001b[0m \u001b[0;32mwhile\u001b[0m \u001b[0mlen\u001b[0m\u001b[0;34m(\u001b[0m\u001b[0mstudents\u001b[0m\u001b[0;34m)\u001b[0m\u001b[0;34m!=\u001b[0m \u001b[0;36m0\u001b[0m\u001b[0;34m:\u001b[0m\u001b[0;34m\u001b[0m\u001b[0;34m\u001b[0m\u001b[0m\n\u001b[1;32m     10\u001b[0m     \u001b[0mpair\u001b[0m \u001b[0;34m=\u001b[0m \u001b[0mrandom\u001b[0m\u001b[0;34m.\u001b[0m\u001b[0mrandint\u001b[0m\u001b[0;34m(\u001b[0m\u001b[0;36m0\u001b[0m\u001b[0;34m,\u001b[0m \u001b[0mlen\u001b[0m\u001b[0;34m(\u001b[0m\u001b[0mstudents\u001b[0m\u001b[0;34m)\u001b[0m\u001b[0;34m-\u001b[0m\u001b[0;36m1\u001b[0m\u001b[0;34m)\u001b[0m\u001b[0;34m\u001b[0m\u001b[0;34m\u001b[0m\u001b[0m\n\u001b[0;32m---> 11\u001b[0;31m     \u001b[0mgroupings\u001b[0m\u001b[0;34m[\u001b[0m\u001b[0mnum\u001b[0m\u001b[0;34m]\u001b[0m\u001b[0;34m.\u001b[0m\u001b[0mappend\u001b[0m\u001b[0;34m(\u001b[0m\u001b[0mstudents\u001b[0m\u001b[0;34m[\u001b[0m\u001b[0mpair\u001b[0m\u001b[0;34m]\u001b[0m\u001b[0;34m)\u001b[0m\u001b[0;34m\u001b[0m\u001b[0;34m\u001b[0m\u001b[0m\n\u001b[0m\u001b[1;32m     12\u001b[0m     \u001b[0mstudents\u001b[0m\u001b[0;34m.\u001b[0m\u001b[0mpop\u001b[0m\u001b[0;34m(\u001b[0m\u001b[0mstudents\u001b[0m\u001b[0;34m[\u001b[0m\u001b[0mpair\u001b[0m\u001b[0;34m]\u001b[0m\u001b[0;34m)\u001b[0m\u001b[0;34m\u001b[0m\u001b[0;34m\u001b[0m\u001b[0m\n\u001b[1;32m     13\u001b[0m     \u001b[0;32mif\u001b[0m \u001b[0mnum\u001b[0m\u001b[0;34m<\u001b[0m\u001b[0mgroup\u001b[0m\u001b[0;34m:\u001b[0m\u001b[0;34m\u001b[0m\u001b[0;34m\u001b[0m\u001b[0m\n",
            "\u001b[0;31mIndexError\u001b[0m: list index out of range"
          ]
        }
      ]
    },
    {
      "cell_type": "markdown",
      "source": [
        "## Task 2. Right Date? [15]\n",
        "\n",
        "Write program code to validate a user input date in DDMMYYYY format using first principles (i.e. do not use the Python date module). Your program code only needs to cater to the provided sample test categories. \n",
        "\n",
        "Optional: If you feel strongly there are other important categories that should be tested, please feel free to include these with appropriate comments for bonus credit.\n",
        "\n",
        "Additional bonus credit if your program caters for leap years.\n",
        "\n",
        "Sample input 1 (no input)\n",
        "```\n",
        "```\n",
        "Sample output 1\n",
        "```\n",
        "Empty input\n",
        "```\n",
        "\n",
        "Sample input 2 (wrong format: 2-digit year)\n",
        "```\n",
        "160222\n",
        "```\n",
        "Sample output 2\n",
        "```\n",
        "Expected format DDMMYYYY\n",
        "```\n",
        "Sample input 3 (wrong format / data type: digits only)\n",
        "```\n",
        "16Feb22\n",
        "```\n",
        "Sample output 3\n",
        "```\n",
        "Digits only\n",
        "```\n",
        "Sample input 4 (month not within valid range)\n",
        "```\n",
        "02162022\n",
        "```\n",
        "Sample output 4\n",
        "```\n",
        "Month out of range\n",
        "```\n",
        "Sample input 5 (impossible date)\n",
        "```\n",
        "29022022\n",
        "```\n",
        "Sample output 5\n",
        "```\n",
        "Invalid date\n",
        "```\n",
        "Sample input 6 (valid date)\n",
        "```\n",
        "29022020\n",
        "```\n",
        "Sample output 6\n",
        "```\n",
        "Ok\n",
        "```"
      ],
      "metadata": {
        "id": "4nEsQZJcvRo9"
      }
    },
    {
      "cell_type": "code",
      "source": [
        "# your validation code here\n",
        "\n",
        "valid_date = False                              #check for while loop\n",
        "\n",
        "#assigning no of days in a month\n",
        "days_in_month = [31, 28, 31, 30, 31, 30, 31, 31, 30, 31, 30, 31]\n",
        "\n",
        "while not valid_date:                           #loops until valid date is entered          \n",
        "    #input\n",
        "    date = input('Please enter date in DDMMYYYY format: ')\n",
        "\n",
        "    if date == '':                              #check for empty string\n",
        "        print ('Empty input')\n",
        "    elif not date.isnumeric():                  #check that all characters are numerical digits in string\n",
        "        print ('Digits only')\n",
        "    elif len(date) != 8:                        #check that the length of string is correct\n",
        "        print ('Expected format DDMMYYYY')\n",
        "    else:\n",
        "        #assigning the values for day, month and year from the string\n",
        "        day = int(date[0:2])\n",
        "        month = int(date[2:4])\n",
        "        year = int(date[4:])\n",
        "\n",
        "        #checking for leap year\n",
        "        leap_year = False\n",
        "        if (year % 4 == 0 and year % 100 != 0) or year % 400 == 0:\n",
        "            leap_year = True\n",
        "\n",
        "        if month > 12:                          #checking for correct range for month\n",
        "            print('Month out of range')\n",
        "        elif (leap_year == True and month == 2 and day > 29) or (leap_year == False and day > days_in_month[month-1]):\n",
        "            print('Invalid date')               #checking for correct range for day\n",
        "        else:                                   #valid date is all checks out\n",
        "            print('Valid date')\n",
        "            valid_date = True\n",
        "            \n",
        "\n"
      ],
      "metadata": {
        "id": "alq93SPbvTdD",
        "colab": {
          "base_uri": "https://localhost:8080/"
        },
        "outputId": "fb46e28d-366a-4d2f-a673-696152e5e370"
      },
      "execution_count": null,
      "outputs": [
        {
          "output_type": "stream",
          "name": "stdout",
          "text": [
            "Please enter date in DDMMYYYY format: 29022022\n",
            "29\n",
            "2\n",
            "2022\n",
            "Invalid date\n",
            "Please enter date in DDMMYYYY format: 29021900\n",
            "29\n",
            "2\n",
            "1900\n",
            "Invalid date\n",
            "Please enter date in DDMMYYYY format: 29022000\n",
            "29\n",
            "2\n",
            "2000\n",
            "Valid date\n"
          ]
        }
      ]
    },
    {
      "cell_type": "markdown",
      "source": [
        "## Task 3. Know your search!\n",
        "### Task 3.1 [3]\n",
        "The function provided below implements linear search on a list to return the index position if target is found, and -1 if target is not found.\n",
        "\n",
        "A list contains sorted numbers. Optimize the function so that it returns the intended outcome as soon as possible. Include appropriate comments for the code added. For the list `A = [1, 3, 4, 6, 7, 8, 10]`,  \n",
        "- `linear_search(8)` returns `5`    \n",
        "- `linear_search(2)` returns `-1`  \n",
        "\n",
        "Note: You may not use the list index() function. :)"
      ],
      "metadata": {
        "id": "UxL_dSTe66PC"
      }
    },
    {
      "cell_type": "code",
      "source": [
        "def linear_search(A, target):\n",
        "    if not target in A:\n",
        "        return -1\n",
        "    \n",
        "    for i in range(len(A)):\n",
        "        if A[i] == target:\n",
        "            return i\n",
        "\n",
        "\n",
        "# main\n",
        "A = [1, 3, 4, 6, 7, 8, 10]\n",
        "print(linear_search(A, 8)) # returns 5  \n",
        "print(linear_search(A, 2)) # returns -1"
      ],
      "metadata": {
        "id": "fKUp_L4Duinf",
        "colab": {
          "base_uri": "https://localhost:8080/"
        },
        "outputId": "bf5cbdc7-0f92-429a-f8d7-f4bf82d4aafe"
      },
      "execution_count": null,
      "outputs": [
        {
          "output_type": "stream",
          "name": "stdout",
          "text": [
            "5\n",
            "-1\n"
          ]
        }
      ]
    },
    {
      "cell_type": "markdown",
      "source": [
        "### Task 3.2 [6]\n",
        "For a generic list (i.e. may not be sorted), implement linear search using a while loop without break statements."
      ],
      "metadata": {
        "id": "Mo-NetoguxCA"
      }
    },
    {
      "cell_type": "code",
      "source": [
        "def linear_search_while(A, target):\n",
        "\n",
        "    i = 0\n",
        "    while i < len(A):\n",
        "        if A[i] == target:\n",
        "            return i\n",
        "        i += 1\n",
        "\n",
        "    return -1\n",
        "\n",
        "\n",
        "# main\n",
        "A = [4, 3, 1, 6, 9, 8, 7]\n",
        "print(linear_search_while(A, 8)) # returns 5  \n",
        "print(linear_search_while(A, 2)) # returns -1"
      ],
      "metadata": {
        "id": "XD0iuCrau7l7",
        "colab": {
          "base_uri": "https://localhost:8080/"
        },
        "outputId": "ece5ff5c-99fb-4727-9fa5-9db52d2e06d1"
      },
      "execution_count": null,
      "outputs": [
        {
          "output_type": "stream",
          "name": "stdout",
          "text": [
            "5\n",
            "-1\n"
          ]
        }
      ]
    },
    {
      "cell_type": "markdown",
      "source": [
        "### Task 3.3 [3]\n",
        "A list contains duplicate numbers. Return the index of the last occurrence of target. For the list `A = [2, 1, 1, 6, 4, 2, 8, 2, 7, 9]`,  \n",
        "- `linear_search_dup(A, 2)` returns `7`\n",
        "- `linear_search_dup(A, 8) returns `6`\n",
        "- `linear_search_dup(A, 5) returns `-1`  \n",
        "\n",
        "Note: You may not use the list `index()` function. :)"
      ],
      "metadata": {
        "id": "XftTGP9PvDqU"
      }
    },
    {
      "cell_type": "code",
      "source": [
        "def linear_search(A, target):\n",
        "    lasti = -1\n",
        "    for i in range(len(A)):\n",
        "        if A[i] == target:\n",
        "            lasti = i\n",
        "    \n",
        "    return lasti\n",
        "\n",
        "# main\n",
        "A = [1, 3, 4, 6, 7, 8, 10]\n",
        "print(linear_search(A, 8)) # returns 5  \n",
        "print(linear_search(A, 2)) # returns -1"
      ],
      "metadata": {
        "id": "e98SmaMdvIAz",
        "colab": {
          "base_uri": "https://localhost:8080/"
        },
        "outputId": "547ea13b-a6f4-46aa-ece5-932494341f2d"
      },
      "execution_count": null,
      "outputs": [
        {
          "output_type": "stream",
          "name": "stdout",
          "text": [
            "5\n",
            "-1\n"
          ]
        }
      ]
    },
    {
      "cell_type": "markdown",
      "source": [
        "### Task 3.4 [10]\n",
        "A list contains numbers with duplicates sorted in descending order. Implement linear search to return the index positions of all occurrences in a list. Include appropriate comments to explain your approach. For the list `A = [5, 3, 3, 3, 3, 3, 2, 2, 1]`,  \n",
        "- `linear_search_dupall(A, 3)` returns `[1, 2, 3, 4, 5]`\n",
        "- `linear_search_dupall(A, 1)` returns `[8]`\n",
        "- `linear_search_dupall(A, 4)` returns `-1`"
      ],
      "metadata": {
        "id": "pGpCMqX6u8Am"
      }
    },
    {
      "cell_type": "code",
      "source": [
        "def linear_search_dupall(A, target):\n",
        "    indexlist = []\n",
        "    for i in range(len(A)):\n",
        "        if A[i] == target:\n",
        "            indexlist.append(i)\n",
        "    if len(indexlist) == 0:\n",
        "        return -1\n",
        "    else:    \n",
        "        return indexlist\n",
        "\n",
        "# main\n",
        "A = [5, 3, 3, 3, 3, 3, 2, 2, 1]\n",
        "print(linear_search_dupall(A, 3)) # returns [1, 2, 3, 4, 5]\n",
        "print(linear_search_dupall(A, 1)) # returns [8]\n",
        "print(linear_search_dupall(A, 4)) # returns -1"
      ],
      "metadata": {
        "id": "fvT_n7oxLc-L",
        "colab": {
          "base_uri": "https://localhost:8080/"
        },
        "outputId": "f7741f0a-170f-46e6-8020-e9c4652308a5"
      },
      "execution_count": null,
      "outputs": [
        {
          "output_type": "stream",
          "name": "stdout",
          "text": [
            "[1, 2, 3, 4, 5]\n",
            "[8]\n",
            "-1\n"
          ]
        }
      ]
    },
    {
      "cell_type": "markdown",
      "source": [
        "### [Bonus] Task 3.5 [10]\n",
        "A list contains numbers sorted in descending order with duplicates. Implement iterative binary search to return the index positions of all occurrences in a list. Include appropriate comments to explain your approach. For the list `A = [5, 3, 3, 3, 3, 3, 2, 2, 1]`,\n",
        "- `binary_search(A, 3)` returns `[1, 2, 3, 4, 5]`\n",
        "- `binary_search(A, 1)` returns `[8]`\n",
        "- `binary_search(A, 4)` returns `-1`"
      ],
      "metadata": {
        "id": "1a3U_MKzLYhW"
      }
    },
    {
      "cell_type": "code",
      "source": [
        "def binary_search (A, target):\n",
        "    \n",
        "    \n",
        "    index_list = []\n",
        "    start = 0\n",
        "    end = len(A)\n",
        "    mid = (start+end) // 2\n",
        "\n",
        "    while A[mid] != target:\n",
        "        if A[mid] < target:\n",
        "            start = mid + 1\n",
        "        elif A[mid] > target:\n",
        "            end = mid - 1\n",
        "        mid = (start+end // 2)\n",
        "\n",
        "    "
      ],
      "metadata": {
        "id": "lM_qfseV50tY"
      },
      "execution_count": null,
      "outputs": []
    },
    {
      "cell_type": "markdown",
      "source": [
        "### Task 3.6 [8]\n",
        "Convert a fruits list into a dictionary where the key is the first letter (case-insensitive) of a fruit present in the list and the value is the number of occurrences of fruits starting with that first letter. For the list `A = ['coconut', 'apple', 'durian', 'Cherry', 'banana', 'apricot', 'carrot']`, \n",
        "`list_to_dict(A)` returns `{'c':3, 'a':2, 'd':1, 'b':1}`"
      ],
      "metadata": {
        "id": "WKPN-ijS6_d2"
      }
    },
    {
      "cell_type": "code",
      "source": [
        "def list_to_dict(A):\n",
        "\n",
        "    #define empty dictionary\n",
        "    fruit_count = {}\n",
        "\n",
        "    #for loop for all elements in list A\n",
        "    for i in A:\n",
        "        if i[0] in fruit_count.keys():      #if first letter of fruit already exists in dictionary\n",
        "            fruit_count[i[0]] += 1          #add one to count\n",
        "        else:                               #if first letter of fruit doesn't exist in dictionary\n",
        "            fruit_count[i[0]] = 1           #set count for that letter to 1\n",
        "\n",
        "    return fruit_count                      #return dictionary\n",
        "\n",
        "A = ['coconut', 'apple', 'durian', 'papaya', 'banana', 'apricot', 'carrot']\n",
        "print(list_to_dict(A))"
      ],
      "metadata": {
        "id": "Cg_nCJSU30hw",
        "colab": {
          "base_uri": "https://localhost:8080/"
        },
        "outputId": "23ae09c5-dde5-47e6-d11f-a26a16381e54"
      },
      "execution_count": null,
      "outputs": [
        {
          "output_type": "stream",
          "name": "stdout",
          "text": [
            "{'c': 2, 'a': 2, 'd': 1, 'p': 1, 'b': 1}\n"
          ]
        }
      ]
    },
    {
      "cell_type": "markdown",
      "source": [
        "## Task 4. Luhn matters!\n",
        "\n",
        "You have been engaged by an online merchant to write a program to validate if customers' supplied debit/credit card numbers are valid.\n",
        "\n",
        "Consider only VISA and MasterCard numbers. A VISA card number has 16 digits (inclusive of a check digit) and starts with the digit 4. A MasterCard card number has 16 digits and begins with any number from 51 to 55. \n",
        "\n",
        "Each card number also contains a final check digit appended according to the Luhn algorithm, illustrated by the following example for the VISA card number `4 4 8 5 3 1 5 1 5 8 8 2 2 8 4 9`.\n",
        "\n",
        "From the back, double every other number to give\n",
        "\n",
        "0 | 1 | 2 | 3 | 4 | 5 | 6 | 7 | 8 | 9 | 10 | 11 | 12 | 13 | 14 | 15 \n",
        ":---:|:---:|:---:|:---:|:---:|:---:|:---:|:---:|:---:|:---:|:---:|:---:|:---:|:---:|:---:|:---:|    \n",
        "(4*2)|4|(8*2)|5|(3*2)|1|(5*2)|1|(5*2)|8|(8*2)|2|(2*2)|8|(4*2)|9|\n",
        "8|4|(16)|5|6|1|(10)|1|(10)|8|(16)|2|4|8|8|9\n",
        "\n",
        "Add the double-digit numbers to make one single digit:\n",
        "\n",
        "0 | 1 | 2 | 3 | 4 | 5 | 6 | 7 | 8 | 9 | 10 | 11 | 12 | 13 | 14 | 15 \n",
        ":---:|:---:|:---:|:---:|:---:|:---:|:---:|:---:|:---:|:---:|:---:|:---:|:---:|:---:|:---:|:---:| \n",
        "8|4|(1+6)|5|6|1|(1+0)|1|(1+0)|8|(1+6)|2|4|8|8|9\n",
        "8|4|7|5|6|1|1|1|1|8|7|2|4|8|8|9\n",
        "\n",
        "If the sum of the numbers add up to a multiple of 10, the card number is valid."
      ],
      "metadata": {
        "id": "CRI-DrNTujMc"
      }
    },
    {
      "cell_type": "markdown",
      "source": [
        "### Task 4.1 [10]\n",
        "Write a function to determine if a user input 16-digit VISA or MasterCard card number is valid. You may use the following card numbers for testing:\n",
        "\n",
        "- invalid: (VISA) 4265 6960 0096 4237    \n",
        "- valid: (MasterCard) 5520 3800 1417 5521 \n",
        "\n",
        "Note: You may assume the input is a 16-digit card number represented as a string of consecutive digits without spaces. The examples above include spaces for readability."
      ],
      "metadata": {
        "id": "S4CNzuY3UVd4"
      }
    },
    {
      "cell_type": "code",
      "source": [
        "def valid_card_no (num):\n",
        "    total = 0                           #total sum to be tested\n",
        "    \n",
        "    for i in range (len(num)):\n",
        "        if i % 2 == 0:                  #for even indices\n",
        "            testnum = int(num[i]) *2\n",
        "        else:                           #for odd indices\n",
        "            testnum = int(num[i])\n",
        "\n",
        "        if testnum >= 10:               #if testnum is double digit. This number will never exceed 19.\n",
        "            testnum= 1 + testnum % 10\n",
        "     \n",
        "        total += testnum                #add testnum to total\n",
        "    \n",
        "    if total % 10 == 0:                 #if total is divisible by 10, number is valid\n",
        "        print ('Valid number')\n",
        "        #return True\n",
        "    else:                               #if not divisible, not valid\n",
        "        print ('Invalid number')\n",
        "        #return False\n",
        "\n",
        "valid_card_no('4485315158822849')\n",
        "valid_card_no('4265696000964237')\n",
        "valid_card_no('5520380014175521')\n",
        "valid_card_no('4906969971865679')"
      ],
      "metadata": {
        "id": "sP8deQwUtPCf",
        "colab": {
          "base_uri": "https://localhost:8080/"
        },
        "outputId": "c35684b7-040b-4e1b-c280-5336d69e02aa"
      },
      "execution_count": null,
      "outputs": [
        {
          "output_type": "stream",
          "name": "stdout",
          "text": [
            "Valid number\n",
            "Invalid number\n",
            "Valid number\n",
            "Invalid number\n"
          ]
        }
      ]
    },
    {
      "cell_type": "markdown",
      "source": [
        "### Task 4.2 [10]\n",
        "The constituents of a VISA and MasterCard card number is as follows: \n",
        "- digit 1 is the major industry identifier.\n",
        "- digits 2-6 are the issuer ID, indicating which bank the card is from.\n",
        "- digits 7 to 15 are the user ID.\n",
        "- the last digit is a check number.\n",
        "\n",
        "Write program code to generate 3 valid VISA card numbers with check digit '9'. Provide in comments an algorithm to generate digits 2 to 15.\n",
        "\n",
        "You may use an online tool (eg https://www.validcreditcardnumber.com) to confirm the validity of your generated numbers.\n",
        "\n",
        "Credit will be awarded for demonstrating understanding of programming constructs."
      ],
      "metadata": {
        "id": "AuP4wV9Q5a-8"
      }
    },
    {
      "cell_type": "code",
      "source": [
        "import random\n",
        "\n",
        "def visa_generator ():\n",
        "    for i in range(3):  #for 3 numbers\n",
        "        \n",
        "        cardno = ''     #empty string\n",
        "\n",
        "\n",
        "        total = (4 * 2) + 9 #for checksum 9 as last digit and 4 as first digit\n",
        "        for i in range (13):\n",
        "            number = random.randint(0,9)    #generate random numbers for digits 3 to 15\n",
        "            cardno = cardno + str(number)\n",
        "            if i % 2 == 0:                  #for even indices\n",
        "                number = number *2\n",
        "\n",
        "            if number >= 10:               #if number is double digit. This number will never exceed 19.\n",
        "                number= 1 + number % 10\n",
        "\n",
        "            total += number                 #adds to total\n",
        "\n",
        "        sec_no = 10 - total % 10            #generate digit 2\n",
        "        if sec_no == 10:                    #set to zero if 10\n",
        "            sec_no = 0\n",
        "        cardno = '4' + str(sec_no) + cardno + '9'\n",
        "        print (cardno)\n",
        "\n",
        "visa_generator()"
      ],
      "metadata": {
        "id": "xccbt44_5cBh",
        "colab": {
          "base_uri": "https://localhost:8080/"
        },
        "outputId": "3be3a6e4-80a7-407b-bb54-810d0ca97653"
      },
      "execution_count": null,
      "outputs": [
        {
          "output_type": "stream",
          "name": "stdout",
          "text": [
            "4122168695692939\n",
            "4364131210084849\n",
            "4170254433591269\n"
          ]
        }
      ]
    },
    {
      "cell_type": "code",
      "source": [
        ""
      ],
      "metadata": {
        "id": "wDfv8hMWXbYq"
      },
      "execution_count": null,
      "outputs": []
    }
  ]
}