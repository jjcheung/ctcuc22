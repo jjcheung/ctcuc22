{
  "nbformat": 4,
  "nbformat_minor": 0,
  "metadata": {
    "colab": {
      "name": "JJ Cheung - PRIMM lesson example.ipynb",
      "provenance": [],
      "collapsed_sections": [],
      "include_colab_link": true
    },
    "kernelspec": {
      "name": "python3",
      "display_name": "Python 3"
    },
    "language_info": {
      "name": "python"
    }
  },
  "cells": [
    {
      "cell_type": "markdown",
      "metadata": {
        "id": "view-in-github",
        "colab_type": "text"
      },
      "source": [
        "<a href=\"https://colab.research.google.com/github/jjcheung/ctcuc22/blob/main/JJ_Cheung_PRIMM_lesson_example.ipynb\" target=\"_parent\"><img src=\"https://colab.research.google.com/assets/colab-badge.svg\" alt=\"Open In Colab\"/></a>"
      ]
    },
    {
      "cell_type": "markdown",
      "source": [
        "## PREDICT\n",
        "---\n",
        "Discuss with your partner: **What does this program do?**  \n",
        "(Describe the overall function. No need to explain each line.)\n",
        "\n",
        "\n",
        "```\n",
        "def message():\n",
        "    message=input(\"Enter your message: \")\n",
        "    for i in range(10):\n",
        "        print(message)\n",
        "\n",
        "def timesTable():\n",
        "    num=int(input(\"Enter a number: \"))\n",
        "    for i in range(1,11):\n",
        "        print(i*num)\n",
        "\n",
        "def main():\n",
        "    choice = \"\"\n",
        "    while choice !=\"3\":\n",
        "        print(\"1. Message Repeater\")\n",
        "        print(\"2. Time Table\")\n",
        "        print(\"3. Powers\")\n",
        "        print(\"4. Quit\")\n",
        "        print(\"Enter your choice:  \")\n",
        "        choice=input()\n",
        "        if choice==\"1\":\n",
        "            message()\n",
        "        elif choice==\"2\":\n",
        "            timesTable()\n",
        "    print(\"Goodbye\")\n",
        "\n",
        "main()\n",
        "```\n",
        "\n"
      ],
      "metadata": {
        "id": "eDuATJnnLFko"
      }
    },
    {
      "cell_type": "markdown",
      "source": [
        "## RUN\n",
        "---\n",
        "Run the program.  \n",
        "Discuss with partner: Did the program do what you predicted it would? Was there anything that surprised you?"
      ],
      "metadata": {
        "id": "CahUK0p_WFhH"
      }
    },
    {
      "cell_type": "code",
      "execution_count": null,
      "metadata": {
        "id": "BPeARPrxKzSF",
        "colab": {
          "base_uri": "https://localhost:8080/"
        },
        "outputId": "114a5348-ff4e-4217-e378-3c222a3a5fcd"
      },
      "outputs": [
        {
          "output_type": "stream",
          "name": "stdout",
          "text": [
            "1. Message Repeater\n",
            "2. Time Table\n",
            "3. Powers\n",
            "4. Quit\n",
            "Enter your choice:  \n",
            "1\n",
            "Enter your message: hello\n",
            "hello\n",
            "hello\n",
            "hello\n",
            "hello\n",
            "hello\n",
            "hello\n",
            "hello\n",
            "hello\n",
            "hello\n",
            "hello\n",
            "1. Message Repeater\n",
            "2. Time Table\n",
            "3. Powers\n",
            "4. Quit\n",
            "Enter your choice:  \n",
            "2\n",
            "Enter a number: 5\n",
            "5\n",
            "10\n",
            "15\n",
            "20\n",
            "25\n",
            "30\n",
            "35\n",
            "40\n",
            "45\n",
            "50\n",
            "1. Message Repeater\n",
            "2. Time Table\n",
            "3. Powers\n",
            "4. Quit\n",
            "Enter your choice:  \n",
            "3\n",
            "Goodbye\n"
          ]
        }
      ],
      "source": [
        "def message():\n",
        "    message=input(\"Enter your message: \")\n",
        "    for i in range(10):\n",
        "        print(message)\n",
        "\n",
        "def timesTable():\n",
        "    num=int(input(\"Enter a number: \"))\n",
        "    for i in range(1,11):\n",
        "        print(i*num)\n",
        "\n",
        "def main():\n",
        "    choice = \"\"\n",
        "    while choice !=\"3\":\n",
        "        print(\"1. Message Repeater\")\n",
        "        print(\"2. Time Table\")\n",
        "        print(\"3. Powers\")\n",
        "        print(\"4. Quit\")\n",
        "        print(\"Enter your choice:  \")\n",
        "        choice=input()\n",
        "        if choice==\"1\":\n",
        "            message()\n",
        "        elif choice==\"2\":\n",
        "            timesTable()\n",
        "    print(\"Goodbye\")\n",
        "\n",
        "main()"
      ]
    },
    {
      "cell_type": "markdown",
      "source": [
        "## INVESTIGATE\n",
        "---\n",
        "Discuss with your partner but you can individually try these investigations:\n",
        "1. How many times will this program repeat?  \n",
        "2. What would happen if you entered “3” as a choice?\n",
        "3. Give an example of a count controlled loop used in this program.\n",
        "4. Give an example of a condition controlled loop used in this program.\n",
        "5. What happens if you type “one”, “1.” or “1. Message Repeater”? Why does this happen?  \n",
        "\n",
        "Now add comments (beginning with #) to the program to make sure everything you understand is included in your program for future reference.  When you think you understand how this program works then go on to the exercises."
      ],
      "metadata": {
        "id": "gD6TJ1AgWwr1"
      }
    },
    {
      "cell_type": "markdown",
      "source": [
        "## MODIFY\n",
        "---\n",
        "Try each exercise individually on a new copy of the program below, and then have your partner check your work:\n",
        "1. Update the message function to allow the user to choose how many times they would like their message to be repeated.  \n",
        "![modify 1.png](data:image/png;base64,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)\n",
        "2. Now extend the program to enable a given number to be multiplied to the power of the numbers 1 to 5 (see the example below). You will need to add a new function and update the if statement to allow the user to choose the new 3rd option. You can use the “**” exponent operator in your calculation.  \n",
        "![modify 2.png](data:image/png;base64,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)\n",
        "3. Now update the if statement to output the message “Invalid option – please try again.” if the user doesn’t enter a valid choice."
      ],
      "metadata": {
        "id": "f8djogrdXuHZ"
      }
    },
    {
      "cell_type": "code",
      "execution_count": null,
      "metadata": {
        "id": "t5wa8WpNZPNO",
        "colab": {
          "base_uri": "https://localhost:8080/"
        },
        "outputId": "0bd7b616-d123-4de3-af98-5d6a41af8a2c"
      },
      "outputs": [
        {
          "output_type": "stream",
          "name": "stdout",
          "text": [
            "1. Message Repeater\n",
            "2. Time Table\n",
            "3. Powers\n",
            "4. Quit\n",
            "Enter your choice:  \n",
            "4\n",
            "Goodbye\n"
          ]
        }
      ],
      "source": [
        "def message():\n",
        "    message=input(\"Enter your message: \")\n",
        "    count = int(input(\"How many times: \"))\n",
        "    for i in range(count):\n",
        "        print(message)\n",
        "\n",
        "def timesTable():\n",
        "    num=int(input(\"Enter a number: \"))\n",
        "    for i in range(1,11):\n",
        "        print(i*num)\n",
        "\n",
        "def powers():\n",
        "    num = int(input(\"Enter a number: \"))\n",
        "    for j in range (1,6):\n",
        "        print(num**j)\n",
        "\n",
        "def main():\n",
        "    choice = \"\"\n",
        "    while choice !=\"4\":\n",
        "        print(\"1. Message Repeater\")\n",
        "        print(\"2. Time Table\")\n",
        "        print(\"3. Powers\")\n",
        "        print(\"4. Quit\")\n",
        "        print(\"Enter your choice:  \")\n",
        "        choice=input()\n",
        "        if choice==\"1\":\n",
        "            message()\n",
        "        elif choice==\"2\":\n",
        "            timesTable()\n",
        "        elif choice == '3':\n",
        "            powers()\n",
        "        elif choice != '4':\n",
        "            print('Invalid option - please try again.')\n",
        "    print(\"Goodbye\")\n",
        "\n",
        "main()"
      ]
    },
    {
      "cell_type": "markdown",
      "source": [
        "## CREATE\n",
        "---\n",
        "Try each exercise individually using the starter program below, and have your partner check your work before going to the next exercise:\n",
        "1. Write a new program for a rectangle generator. Create a function that uses a for loop to draw a rectangle made up of “X”s. It should ask the user to enter the width and height of the rectangle.  \n",
        "![create 2.png](data:image/png;base64,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)  \n",
        "HINT: It is possible to print multiple “X”s on the same line. This example code will print a line of 10 “X”s.    \n",
        "![create 1.png](data:image/png;base64,iVBORw0KGgoAAAANSUhEUgAAAKAAAAAaCAMAAAAHQKcMAAAAAXNSR0IArs4c6QAAAARnQU1BAACxjwv8YQUAAADMUExURf///+2Qo5AAo8nb////27YAo7ZmAABmtrbIAACqAACqZrb//5C5AAC5kP/bkDoAZgAAAGa2/zoAADqQ29uQOgA6kP+2ZgAAOpDb/9vVOgDItgBmZmYAADoAOpA6Ov//tv/jZjrV2wAAZmYAOjo6kNtmkJAAkJA6ybYAkJAAttv////byaMAkP+2tra2/8k6kGbj///ykDqqOpDy/2YAZpA6o6MAtrZmtpBm2zqqAACqOmaqAJA6AGaqOjq5AJDbtpDVOqMAo6OQ7QAAAMl3kHoAAABEdFJOU/////////////////////////////////////////////////////////////////////////////////////////8AcdKPEgAAAAlwSFlzAAAOwwAADsMBx2+oZAAAAhxJREFUWEftlmlTwjAQQIuiUsSKF1oFW1QCiAEU71v+/49yjySlaVGucXCm70O7SUP7ukm2OBkZS01uZVVFS0qaYH4t3re+gceCW9wsuVvUk0psgLe9yQH8vLyjIm+3XN6jaP+ATjNiCVYOj/Dkw7ML7jGKoIXvgg9d15gBiBYEp5OqEvRqcKNTulmg+2bCEuQEOiE823frEPmUJT6OEA3ATAFn7BickxPcCKW8C4qtFDZEM98Son0JcedKNB0pRBfinhA8xdDZzQm4AHowEKHBgLfLLxvCs323j2EB0nR9M6DuiJEBkHYzr0YwuEVh1dJ31ci7FghJtpHNXPuyc08CJlu9B7DrPWIYz+C+SsT1U98Jn9mqVA9elEnE6AAQNCnSgmrWX9nsledFIylhjiQBSZliIkHMGFvHBddT1nPw9o5TOR6v9mFWWbqgdVvJE8YCqkFEgvgGaYLWqzK+tUEscA/ozI8RNJcZyTnjR6sGMZtgWPz8od5YTCYYy+BUgilTHLwNaKNMhhbks27ZUxxbg1MJWq+KlHAB0mEStBKXmYoSszcJ7eLOFz35N0HazPmWGmUXBK4yaXVmDEaQ6swpNxJlhurgCso0uMxhLqHyEUOsg9CDbfSkUjjE3yGqUBvgSwLFJHRdXfN+IqhSzeaqWIGAP3WJb91o0qaFvlALJvGpm0cwkcIFkPizMJfgH4DrjhZgRkbGv8NxvgH9LTx+3OwZYQAAAABJRU5ErkJggg==)  \n",
        "Ensure you add comments explaining your code.  \n",
        "  \n",
        "2. Extend the rectangle generator program to include a triangle generator function. The function should ask the user to input the height of the triangle and how many they want to draw. It should use two for loops, an inner one to draw the triangle and an outer one to draw the correct number of triangles.  \n",
        "![create 3.png](data:image/png;base64,iVBORw0KGgoAAAANSUhEUgAAANIAAAChCAYAAACyL+EtAAAAAXNSR0IArs4c6QAAAARnQU1BAACxjwv8YQUAAAAJcEhZcwAADsMAAA7DAcdvqGQAACKWSURBVHhe7Z0HeBVlusf33ue5z9177zZddXVdXbsolnUVVwRFQKT33iG0hJKQ0AkQijTpAlKkVzcUUbp0Ii10QgihhSSkQUiDBEjhf//fme8c5iTnwDlhUIzv73kGMt/Mmflm5v2/5Tszc34DQRDuGxGSIFiACEkQLECEJAgW4LWQrl8FEi8D2bm64T7Ju8ltZQMFev6+4LbmdQNqBACXdNODwtbv6276zXOTlAikpPPP27rtAXIzC0hIBjJvAJbtLhUY3ABoMxG4ppu84VqaYSfXPbCTW7z+OVb23RJuIDkhDnFxcbh0OeOe9ukQ0nVeiGMHgX17gB27gfM8kYqkU8CuHWwPB44eBuaPAd55ERiywmYv983er4DeNP44PX9f0LjndgWq9XjwQjowm/32BWL1vBMXgLY1gdf/AWxO0W0PkJO8FmXeAFoMBGi71sDrP6g+0HpCMYSUD3w/CfjHS0DfRbbLclfW9AZCvgAy9Lw7LtEWt2/nRHuM1PZpPXm4fOYovh3THbWqfIKKFSvivbLVELjgMLJ4XO5wCCl2Jw3wL0Cpd4A6LYFFh4z2HZOBJjSKUk8BFTrS4CnNBU2AgVON5ffLsRlAALdLp/qL4uTX7Hc79xc/i56hG4W0hpHpQXObrnzbaKBzazo+3fZzc5t2srAV0If9ytNt7tjADCKYDtod+Yz8OxcDvo2BevVon9Voj7TJ3TF6BUvJxr6vB6NVqy9w/kou8vPzcXbDSHxQqhFmhqW4jZpOqd2/uzDSzNczZvjpGZ2BxdHG7AKeoJE0pK30NgE8CYGjgBNM+czcuAjMHGosV9OwKUx19DJFbiajWx+g0cfAW68D7fV6apq80HthhS8DevGzvfoBc9YyzdHthTm/EejX09jPF98Am+jNT5y0OVGPyKV7XtiXzqUC+13Kud8Tee7s+82hRferCKxklJ8/xFg+KFQvNMOTMnrQnW0MW8LsQC/yht3jjePfuY0pmdoWz+3qKL3QxHl69F76+AMCgdDjeoEdWv2macbyPoxwK/Yx9dKLnGDj/BBjvZ68/pF0GHt53Xr3ArYwIiuWd+LxfMkIshwIUusNBw6ajCCTNjKF7TXeAt79gEJRfdLTAl4ne8aTwT5WfxUYw2OzM7U58CnttbAjy2E/lo0FhjKSJlgWtZLxdTM/9Ju+120W5iSkfYw+fecaHuTIUho5T8Qe5VFz2LHPgFXaAyxqy4P/iMt5QabyRAUzolRimnOY6aGdW/z7uwXAl1yupuAOTHd4cSN1npDHvHijikbMwz/6l3HC7euu2KT8gndEbQWm87NB9FpVawBa805ErASq0JMNZ94/axadAfvz4m+ZVrDd0xotn+di00w6j0bsdxmeF1O/Q3nx7f2+wRyrJy9+VZ6rHgOM5fVrM0pRbA6vRrH15XbeYwZg30aQD0VKg0tmzeANe6dz+xR2Laa147idyRRBeZ7b5SahnKODKVsW8Bmm98d0qjGzizE83w7oUcJXG8vbfwg05zW+ohc5YK42mym0D/el1hvTn9tpD/zzD0A7OoVDOgqH+gE1KZAG/sa1Gcr5CrSDvQnGclVOrGS7D22pMq/ZWNUnPW08cCeS3WKtGcHSItkU2tKZMXVg//YXUvmFDbymtOrfcBrxnecO0h23Ge5Tj6xCncoN8dXOZM8i0jFGmXY0sis80Bk86Ecepbekh0zjBe/ICxCmRbCQKcTT77J2snsXnlg/RpZxvFDudqSS93YtaMT0iGaO0SiDXHiW4nJ+FY2Vub0LZ4xtI4ByNOwoeqocCiKBajvAC5bkrWpJBB1OEB0Ir7FLcrmPxk/SwTAq26NUMg22Sjkes3ZrYfScrSkybVcGFNAEOqVF7Jen4lYcYq357GMUEA3OzkwarQ8NW2mygGoYx/MfstlYZieWDqgPI8BhF+dgFwUXxKhl8o829ijjZ/sFUwc3jQOe+xOFYVo5lMfxVGkui9cNFEJQZdoAMwHzsW0IYiZEUXsMxbOF63/CNO9soZOUxeyiNSPcH58GvmU24NYePeDqjzNRQ9VI71RChxk7kX6XjTkJKYUe9ZPBDL8s5sbTEykv0o/GF86L6seLkqM9wjxekD5M1UwOAmNrAaOYupj3lXKOF4O1105Ou78HmlKAg+gxzOymcLuy1mCUt4QjTC986YlP63kzuRTPWqYhn33C4+RUgX2ewGM1H4enKGPqyuNxl6ZnUx09GLFCTQeWHcGLzOgbpt3kUOb6fjSIvT8a50hNYXuZQjNSVmdtccMLK1CpnU8bwG6zirWMSl1opDxsZDFFq8uabS73Fbbrzv72rAO6M1UfzvNQmHWMND2ZqhUeLxnOfo+lt3eCx1nrbUZ6HqOdpYyuKu0zB9cpDSnmec6RIpTRrQ9F684pmbkaSyfPY6rBa/ctU8gip4gN2fRcqWn804vz54r87DRcjDmPzTN6okH1PvghOtutc3MSEo4C1XgRv+HFbdadJ5AFs28wc04aTTV6rZv66JWQhjEtM5+gz5kyjWGKZOs793aC0aledRoEvYYqENXfL77PCFcoIv2UQrKTT+Xkccrg8fpw39O3eGe0insJ6TqFFMS0Zq1p+DDjMNCS6cherdwxPGdlGKHqM4LazpGeGtDYfOd4l5bsopB6MEKahbSa9aIvr6e6Tjk08Jp/YarJVM68L7XvBkzLlurBJTPuhBTMqDKRAnSCKlCp1jxTKqmENIj9Mo/6jee1GcZrVFwhTaoEvMFjSHZZuD0obmL70I7oO3olUtxcFGchnWc6whStG0NyoEoB2FmVw3flwTdgCmYvtOYzpw9hKmEW0kh6iLFMqxTXTtET8oAHrDHm7QymhxxYKCLtZErQgyfcKb25D44topenIZ7R8w54NVczKsYVulpHeKHb0VkkuHM1bgibxH4zTXTXbzXYEMTo851JSFlHgFY0tn36RK6nkU5Zb/x9v4SxuO7OrMH8NcK3FIKfFlIu+6NSuzBjkUesZ9oZ2LtojTSLDiR4sbMYchjpyjzHaBGpG8gy9mcgr69ZSBN4bYbzGplP9/LOXG+kZ8PsUTxfUWZvUQg12LCc+xzO65NYaADsfoiY1hA+vachxk364iwkXuDA54G/vcKCXxvAPqZ2L7NWqjXNmFfMoUcIpkdWKYOdYVUpJj0qlU3v1pRF/zx9Ugt4huazDnqeoX8Ec3Izkbwg5Sm6TdoCMli3BPBkL2XaURwOs5jvWMdFjUS3WocR8S164Sv2IUEeYyDTmsmMpN5GpNPLgY8q0mvrUJrBNDaQ/V6kR5auc9v+/6R4TV80ZajzwnRvj/am13nM/XguRxRKiY+z2O/D47jphbh3st7qwtTOHNlXUgQdWcvYDpcGcJSOTl2XLeaVaGwzmRXM3a/nTXxPEfZgil84IqWqQp+O85tjuoHHOog19dO/o92c1W1kMfvTlymqeQR2LK+NGhk2i3D7cOBDnodTulCOZerpw3O5kw7ZTPoJOvAeQBs6sENuimrzYMPnxRlsyDmHr0Paoe+CfXr09DZifpiMiqUrYdSKaCebN+MsJDKkLPB2FV503YM0pmL/fJEpghIJr/ZKqv3tF4DXWNANoYdXe5vPgvb1vwOl3wWmKgHQUMKWALW5rcpMAyrVoFHRuwXUBd5kurPIdNHyeJaZguJDem+17kecOjOvPuNFiLpGT9+BkVN9vizrgJfoGcvxbzU/WEdJ9QVjN6Y+foymTXkx1bLKjL7DmUJlmUOrh+TTOcxmRPmQ4rT3u9PnQLRyQMz3OrM/r7Dgfa8Z8INyEnQq7XgeXmBblU5M7/Q3p4lM9/pz3Uq6v2p6jx5/DdPOfA/FfZKO4P036PB4nVpOBjJvss5lHfLuqzwXnIL4t83u2L6TKXkTOgD7virz78aMBlFaLXHMROrRKdr6UYrHwM9XUOvV5nVi1LFzgfV0c9aZtm3QEY6dyohYng5QG/969kN9cV+qNMXE/qnhzH/TKb/Ba6O+qB7P/dj9xA1emxCeg3Jq9I7bK8v9D2Q/E1jnmElmCq5GBn/zn4z0hdWtsQ02vGkMNqwOd3ZQHpGXiVMHv0G/hnV5TSqzP5XYn/oYQQ9xt4hZREjXecYzzV9kqFqC6VC2DmmZjPOXmCYk0GBSlKvh2UhL5ryaGHJT7Z/lEaRyPoZGFUNDus71bquRMv6dXljWvMCJ9Nxq3YvcrruxencUUAiXuF31+VjuM5F9iVX75ZRiHzLj/q9xvwXcl+qDvV/3dQsPHYa53460XbVzPpEXO54O4Zo6ILVftiWx7RLb7OdTcYsGY+uPnuI9KRZM3OQxxnGbieq60CgLeEw53GY805xETsn82+yZHddFTex/pqkv6nsy+7mzf/6immcUu1poZC+N+7Rtg+dRWZk/HbB9uD2L/YhnfxK5ju0a8Pxn0HnY7eRKIassoC3FcR9qe7GmkT8zBTyPGYygqdz2LbsKC8Njtw82eK+iO+Snp/C4Y9ifGMQ5jMg9RYQkCMUhbS1rJEbcCIrn14gISSgWeeeZFgczbQwyphb1gdHLGInuJ8L/ghEhCcUin2nq118BkyYZ0yoXgxW/JkRIgmABIiRBsAARkiBYgAjpF0JB7FaMDu7Fwj4IA6atQJy33xEIDxQnIW2fDLRpDjRtAUzczYLyLDC4E9CM850DgHN6vZ+Ko8uAtuxP+0Ag0vTd0y11C1IroLm6R+ywbvypyQTmDAEaNTKmvit0+wMgec8MdCz/IZoNHMvCfhICWnyGj1tMxuEr7r5MEX5qnIQUfwxo8izQaQyNOAG4nQHsXwVU+CswcIn+dtxOHnA5CUhSU+qd775u53O9K0BaOpDKKdd+rdUXomnGF2WqPc8DG7hyBmj8KPCnZyho00Nde0LYcfa8VB0gWt8hcOsaDc7eH07XC90bciMLSGE/c9R+2Xe1TjL7aR6tzbsBXL3Kietl2oXL9bPY33T2+wr/V3cbZNOjdKkC+FFIGzcC3y8Fyr0G9P5Gf8YMP5/DvmUV52k9G7H42qcOmvZcpu7mMUg/jqG16iF4+l6P7k8THjxFUrsxFYEF5juBswH/8jSWeD1P8mloi2jM6hYb9ThCuerASApO3R1+IxkIehd4/m9Atf7AWfuXwrzii/mZt58DXqtF8yh8J6QbplQGWjfgPjhR27Y7MAd/BFSpxEjA7dk5vBCorh+P+KQC0IFGHm3ax+7Zxm00XSYB80Yaj1J88A4wYhEPUYsuhmL95AUKlOtNpkBsWuc2pjMq//0l4M2uwKVb7MJpILgLsIVitHNwFp1QbeBCoe9RLoUBNXkunigF/HBCN3rFLTqmNOQUcgw7Qtqh85CluOyBQxIePEWENJxGuMR8wXmhetJwQ+2PnNKzTqdAqvehGOihb9GwUpledajP9rW2O2EQs46RhIb6XZyzx1e38vRnqqYe7PLoPjLue1Q1YNxXTPH4/5JEOuNvKeCmxh2+jQfq9UgBDU31xTaxE3N92cd+jEKcty//YRhQ/nmKiCJT68XvBCrSGaiH6FR31HsG1g9iKtkbSNSfUySvp5DpYJZFOR+PmeTNQO0PgCOm220UMfzsyzzLKoKOpTg9Oex7cf3iZgyo1RPzdl0wxC787BQR0tCy9PbNmKbQmGwTvfA/GUVW6buYL9MY6rAtXN3LZCJrB1CDnvuMyjVo8P7+wDQV2Ri9ZtNbh6fQiFhz+dC4V7t6DtwVtJKhFGToHm5jKKMJxTODkaD7BGDDHKABt+UW7rtsN+CkTv0UO0cDH9NRhJvuGRvHKDKcaavdIPPYx1Z1gZn2qExBzesLtOtuC04uiWck8/mMdeQMngfdZqeAxx/KKDiAUdCK2/pz4rdieJ1GGLvkqNNjLMLPSxEhDfuQKRMNcAKN1TYpL860ZpW+9V559YAg1hjG7B1YN1Rh0X1U3cBI4+sXQANlhLrKIlx541o01tRNrL/8gAOMZB5B6w5hWrnsFHCaqWOLN5kiMW3cFk4xcHt1KHQ7+YwWndswSjU2prqMNE+2BC6aLHvrCCBwmm2cwMEoCmmU+dFnhgz1yEedYGO9XNZpXbm9+fZHBgqxcSwjJFPbKayTCvkWy7mRtAOf1/8U/aftulMvCQ8FRYSkUrvF5jfLMCUKoDHbU7uDNMQOPZmyFMrZ1QNAnzahkHTkWsMIMnEyMJVRquyrwHs08sXTuX2mhVc8zW+0kOYcYTeYUgbTYF/l9q4xfTo0j6kU00tF6o9Am08pUnr+9UylNjLNWsPo9WZnRkiTdSshdaPhm/dfREjkVgTTP6ZpKyiiPVOASi0YdfSywsyi81DPDrmFG76/wQbFbaRHhKJ7/cro/9UBy95vIVhHESGNYxG/6KieUbDeCGCNtF6HoPyTQLOOTHdML9lQqKHzthRPvDaYqFCmZTSyl5gqTmU0UQIt34oRb4Gx3FPGMLVbqh8QVI8LpKsijBxbDDQcbPy9lXVNTaZfepGNY7OBt5iOJZkEv388EPSlLWA6mNSAEyNnYb5j2liRAmpJgX5uGjE0k0eBnNwPHOc5UY+JuOK+BxsKspEYtgTtW/jhq50mOWenIuVK2k/yJlfh3twRUg6w43umZ08wtWPKtI2pWgHri3XM+999lFGIHj5SFwnHlhtPKU7gsjmsVeYMB5r6AHtNtY96SvbD/+UO6PHVq3tXtePfjExTD+oV7gXrmG1rmDY9zm0z8qxgbWbL0ijUNYwggUy3nme02sLtnWPKWJt13ThGS9WfUQOB6q8B/1EaGL/QGLaPO8zPsI5Rt/rPOcAGqu7IFqAa679q7FtY4S/JYij8Z5geVnSRxmri2b/neAZV6rrWTbqqBl7sgw1jijPYkLgW9V5+Ce+3HYJ5Cxdhwbw5PMY5CKz+Fur1X4QkNwIWflruCEl9wfgFo08voAfrm9k0tnwa0zh6ZvUCjAD+v930iHIEax9/1hJd1MT1wwsbIlOqxayxZmlvHrOdaRoNPdbTCpnWP2u07k9XYAhTLNvwN6165ACmaD0YXbjfGfq9ECoC9vA1+hM0lTUVo5h6QaU/RaWeE4ugk+jJ9Xv666dmKVTlJPxZ7/kzci0rFGFVJd+P0agjnYY7MpnOTmAt1Zv7iHZzXOo1WN/wPKi3MRVrsOHKSSyZ3Bc9e3SDr28XHp8xdeVFmr0lWgYcHhLuCElw4iqFX7GK6XswQbgLIiQT6s6GywxfyZzGMgVUgxlXREiCB4iQTKg7GxpVACpweoc1VpmyTCHH64WCcBdESCbUnQ3qroibnNS9gOpFkrmF7lQQBFeIkATBAkRIgmABIiRBsACHkHIzgMjjwMkIIML+2tkcIDrSaDvKZfd1l4sglGAcQko/BnSvAPz3Y0DABN0YD4xsA/z+EaBuW8D0WmdBEEw4pXa55wG/1sA002/l7B4F1OwGZMjolSC4pUiNlLIfqFcf+DYGuKB+HKwKsEn/JqggCK5xOdhwegPQ6l2gaktgyT7dKAiCW1wKSd3A2q00UNoHkBfVCMK9cSmktUFM6XyBXn2AwKnANXnmRRDuShEhnQwFWjTU77BjbdShOTBiDbz/5TNB+BXhJKS4nUCtJsC3pl8yztgL1K/EtkI/QygIwh0cQko7ArQtA/zuOaARa6P96m1AnCb2Bl58BHhVicnTt/8Iwq8Mh5DyrgPxF43p7HlqSOVynBJigYtxzPKY5qXJ45iC4BKXgw2CIHiHCEkQLECEJAgWIEISBAsQIQmCBYiQBMECREiCYAEOIWWcBIZ2Bdq1B4Kn68YEYFIw0L4d0LU3cF4335UbwNqJxiuN2/sDkfp11fuWcp7bbtMKWG1+t7gglAAcQrp5mQY+BPjLS8DsTbqRolg3FHj8ZWDWNx7+bEkeEL0RqPgP4LNuwGV1hwRJCAPKvw7U8AWi3L1MWxB+oRRJ7dZMAJqEaNFkAqMaAYMZTbwlhcJp3gFYHmHM750MtGBki5LHMoQSSNEaKRv4kilZ0BfA9L6A7wD3v8ZwL9SvkjdvDSycD7StBWyK0QsEoYThcrChIB3wfwZ4jRHkfK5uLCbbAoFnnwSmyg2vQgnGpZASdwGNPgDK+QC77+fxiQxgLMX4QUWg/wrdJgglkCJCupXCmuhTpnfbWdewNqrSnv/bfpjIe9b3BzoFMcWjGLu2BEK+1wsEoYThLKRbwAzWRQPm6vnbwIYJrG8oiEQvH5E9xgjUritFpH9cK/kg0JliWurmR40F4ZeMQ0g3kiiijsD/vc16hiJIUrVRHhC+EnjnT0DjECDak1+c4+ciGMlKvQJU6w0c1j/OnH4G6FIeeOV9YFWE8++4CsIvHYeQMpl+je4FdGMU6TkAOJ7NRk5zxjIt6wb4MUXb6smo2w1GsWmArx8/05kRSL/O69xmCkm1+QKTv7NtWhBKDC4HGwRB8A4RkiBYgAhJECxAhCQIFiBCEgQLECEJggWIkATBAhxCyssCzkZxigaiL+rGG8CFs0ZbJJd59N1PAZAcA5zmZ06dBrJyjOa0BCCKbVEngaRMo+1e5KRy/VPAGW4nJtFoy2c/o7mds2w7fcH2/a8g/Ow4hJR2FPD7CPifx4FuX+jGOGB4a+CPjwK1WtKgdfNdoXBCBwBP/Bl4oyoFyG0ofpwNvPwM8OwrwJJwo+1eXNgAVHsV+AM/92Wo0ZbFfratDPz+MfZzGECtCcLPjlNql8Oo49McmLlbN5AfxwBVO9NgvXldMdddFAK0HAok3DSarkUALSiseR6KyE78DqBBC2Cz6Tn3hV2BJp/rGUF4CChSIyX+CNRuAKy/xIC0EWhG77/Oo1BUiKvAMAqwGyPR5cvAF3WB3jOK98voB5ZQzK2Ag9eA418CjRrz/3S9UBAeAlwONkR+B7R6H6hB451vik7eksu6ZkhtoF5NoBPTRU/ueXUJ667NE4HGZZliUpzbPHoLiyD8dLgUEljQ93gdeN3n/muQ3Uzvnn6agtS1UnG5wbSzOuuuqhSUIDxsuBTSxv7GbyT1CAL6zbSNHxSLtO1MDasBfYezzmFdE1nckMSaa2proH0g0NYPmMGUUxAeJooIKepboGU94PRt4PZZoF1TYPQ6W3blFbmxFBDrouna6ENHsvZS78Yrhio3MS1s3wVI4d9pe5neNeL2ThjLBOFhwElISTTSBs2B1eafvtwDNKwCrKOoPIb54JgAwPcr2xu9DK4DE1hzdZ/i3bNIR0NZqzE6HjW9VC96MVCzPhCh35knCD83DiGp75HalQF++yzQpBNwQP/05eS+wPN/AF6pBKzxZPSOEeffvYA/sp4p/TEwa4fRfPo74INXgMeeAHotsW36nqjvkSo8D/yhFODPWsv2XCEjnX8z4Kn/BcpSYOHyRZLwEOAQkrqz4Zy+YyDiFCOJ/unLi4xEpzmdYrF/2ZNQwhww5aJx98Eppl/xui66zrzsJLcRze1fSPLsV9LVnQ1q/bPsz6lztlLJ9k+02g77FEVhZ8qtDcJDgMvBBkEQvEOEJAgWIEISBAsQIQmCBYiQBMECREiCYAEiJEGwABGSIFiACEkQLECEJAgWIEISBAsQIQmCBYiQBMECREiCYAEiJEGwABGSIFiACEkQLECEJAgWIEISBAsQIQmCBYiQBMECREiCYAEiJEGwABGSIFiAQ0h514HYGCAu9s7PTOIWcCnOaDt/Qb+gURCEIjiElHYE6PIR8PsnAb8xupEiGtoKePRxoEZzIFo3C4LgjFNqd+0E0LoxMDtMN5A9Y4FP2wPJ8sJ6QXBLkRopfidQsyGwORlI2AI0Vy/Pj9ILBUFwicvBhmMrgJblgLpM62ZvA27rdkEQXONSSOq3jPxfM376sti/+yoIvyJcCumHQUDDNoBvIDBojozWCcK9KCKks+uY1tUGTuYB+ayNWjYBxm+W9E4Q7oaTkK4cApq2BFae0g0kPQxoVINR6qJuEAShCA4hpR8DfMoA//Us0MIPOKh/+nLaQOC5/wNerQKs9eZ3ZAXhV4RDSLkZQFQEEHkCOExRpTO1Ayf1s5PHI4FjbEu6bqwrCIIzLgcbBEHwDhGSIFiACEkQLECEJAgWIEISBAsQIQmCBYiQBMECHELKjALG9QeCAoHP5+rGJGDGKKOtXwjg0c0NN4DNMwD/nkBAMBCVYDQfXAn05Hb8uwPrIow2QSgpOISUQ4NfROP/4zPA9O914zVgFcWg2sbNBq7o5ruSCxxfAbz3MlCxE5CcaTRf3Aa8z7aPmwNH4ow2QSgpOKd2BcCykUDbcbYnKYCbwJRWQJ85tqVeEbcFaOYLfH/GmD/KKNeC2zp+y5gXhJJE0RopAxjdGRgwC1g4GOgQQFHk62VesudriqkjoxrTOp9qwGp50lYoobgcbMhNAboxnSvdljVOtm4sJhtZE73wN2DCcd0gCCUQl0K6Eg40LQP8qz1w6IJuLA4U4ZeMbu+UBULW6TZBKIEUEVJ+OjCSadioNcBm1kbVurC+uawXesmO4ay3WCeFHWRq1xwYt1UvEIQSRpHBhoWDgMDJej4P+PcIoP1QRikvH5GNWgu08wH2Jxnzsbsoqpasl0wPDQpCScEhpJupwOJA4M9M6eZsAK6q55EorAimZP96ghFlAnAxw1j3rqhnmBjN3nsbqDsYiEw2mq/FAj0rAW9XZKQ7axslF4QSg0NIGSeA4I6sjZoBHfyBw2r8m9O0EKA529To24Zzxrp3JQdYMxZo0tT43NzdRnM0BdmM6V3TJkwdQ/XwuiCUEFwONgiC4B0iJEGwABGSIFiACEkQLECEJAgWIEISBAsQIQmCBTiElJ8DJF4CkpOABPstQblACudVWxyX3dTNd6UASE/hNhKBSwlAjn5s4tpV3RYHpHl4I+ytLK4fDyTxcylpRlsB+5nA7aq2S8m2738F4WfHIaS0w0Dnj4BH/gr4jtaNsUBIK+DxJ4HqzYDTuvmuUCTL+wJ/5WferApEcBuK3TOAUi8Az78KLNpvtN2L8+uAqq9x/88DE5cZbVnsZ+vKwGNPAV0Ge/iwoSA8YJxSu3QaadP6wNy9uoHsGw98QjFdStcNnpABTO8FtBjGSKIj0vVIoNmnwNTtxrynRK+liBsDO03PuS/uDtTubwt+gvBQUKRGuriFhtsI2JFKEewCWlYEVhbnHQtMu/q3B4KWAJmZwJcUQ48J/Fsv9oZdXwOfcVsnmWpGzwEa1gUOFPOOdEF4ELgcbDi0FGhFATVqzciysfieP+c80LcWxdgUaD+EdU1xN0QBrR7BCMdUsYEPsPakbheEhwSXQlI3ngaUAl6z4Kcv9zK9e4r10gL9NqHiknsGqPEn1kyTdIMgPES4FJJ6IK9+c+Mu8OELgeK+r+TaPqB1NaBbP6BxEBCTpRd4CyPS7M6MSJya+bFG2qnbBeEhoYiQLmym8dcAjt6ggFgbNWVtM6UYv2xewBoppD4wYSX/5ofnDwLqDQYSiqHKXdOAtm0A9RavxK2sl5oA6/TbiQThYcBJSGnHWRuxLgqN1A3k6i5Gk9rA9ku6wRMYeaYNAHynAo7BPraN47bVq728+e7n9AbWRR2AcNM496n5FGVL4Lw8HSg8JDiElE4RdSgD/OffKKbuwCH905dfBQN//y3wymeMAp789CXrq5V9gd+xnnmjEjBPP9h3Zj1Q7mXgkceAft/YNn1PYhgdP3kO+B/Wa31H2b7WAuKB3uq7rf/i9rqwn6m2VQXhZ8UhpFtpwLGDwOEDwJ79QKoKG5xOHQUOHAL2sT3ekxonnwbPiBYezs+EAdH6UfNM5mU/crvh3E5EjGdR6VoCcJDbOcTP7T+mn6rN5jy3cfAw+8Up1aPbLQThweJysEEQBO8QIQmCBYiQBMECREiCYAEiJEG4b4D/B3ZH9qRCep9/AAAAAElFTkSuQmCC)  \n",
        "3. Include a menu that allows the user to choose whether they wish to create a rectangle, triangle or to quit the program. A while loop should be used to make the program repeat until the quit option is chosen.  \n",
        "  \n",
        "  Ensure you add comments explaining your code.\n"
      ],
      "metadata": {
        "id": "fmhfXvH0ZZ8E"
      }
    },
    {
      "cell_type": "code",
      "source": [
        "def recGen(width,height):\n",
        "    for h in range(height):                     #for loop for the number of rows\n",
        "        print (\"X \" * width)                    #print out multiple X, based on width value\n",
        "    print()\n",
        "\n",
        "def triGen(height,number):\n",
        "    for n in range (number):                    #for loop for creating n numbers of triangles\n",
        "        for h in range(1, height+1):            #for each triangle, for loop for number for rows\n",
        "            print (\"X \" * h)                    #print out multiple X, based on row number (h)\n",
        "        print()\n",
        "\n",
        "def main():\n",
        "    choice = \"\"\n",
        "    \n",
        "    #while loop for menu\n",
        "    while choice != '3':\n",
        "        print(\"1. Rectangle Generator\")\n",
        "        print(\"2. Triangle Generator\")\n",
        "        print(\"3. Quit\")\n",
        "        print(\"Enter your choice:  \")\n",
        "        choice=input()\n",
        "\n",
        "        #options\n",
        "        if choice == '1':                                       #rectangle generator\n",
        "            wt = int(input('What is the width?: '))             #input height and width\n",
        "            ht = int(input('What is the height?: '))\n",
        "            recGen(wt, ht)                                      #calling recGen function\n",
        "        elif choice == '2':                                     #triangle generator\n",
        "            ht_2 = int(input('What is the height?: '))          #input height and number of times\n",
        "            num = int(input('How many times?: '))\n",
        "            triGen(ht_2, num)\n",
        "        elif choice != '3':                                     #checking for invalid choice input. If choice == 3, do nothing and break loop\n",
        "            print('Invalid option - please try again.')\n",
        "\n",
        "    #end of program, after breaking while loop\n",
        "    print('Goodbye!')\n",
        "\n",
        "#calling main function\n",
        "main()"
      ],
      "metadata": {
        "id": "ZusQ0QLHbBQT",
        "colab": {
          "base_uri": "https://localhost:8080/"
        },
        "outputId": "3078f04a-ebac-4de5-9a33-e2b288421427"
      },
      "execution_count": null,
      "outputs": [
        {
          "output_type": "stream",
          "name": "stdout",
          "text": [
            "1. Rectangle Generator\n",
            "2. Triangle Generator\n",
            "3. Quit\n",
            "Enter your choice:  \n",
            "1\n",
            "What is the width?: 6\n",
            "What is the height?: 5\n",
            "X X X X X X \n",
            "X X X X X X \n",
            "X X X X X X \n",
            "X X X X X X \n",
            "X X X X X X \n",
            "\n",
            "1. Rectangle Generator\n",
            "2. Triangle Generator\n",
            "3. Quit\n",
            "Enter your choice:  \n",
            "2\n",
            "What is the height?: 2\n",
            "How many times?: 3\n",
            "X \n",
            "X X \n",
            "\n",
            "X \n",
            "X X \n",
            "\n",
            "X \n",
            "X X \n",
            "\n",
            "1. Rectangle Generator\n",
            "2. Triangle Generator\n",
            "3. Quit\n",
            "Enter your choice:  \n",
            "4\n",
            "Invalid option - please try again.\n",
            "1. Rectangle Generator\n",
            "2. Triangle Generator\n",
            "3. Quit\n",
            "Enter your choice:  \n",
            "3\n",
            "Goodbye!\n"
          ]
        }
      ]
    },
    {
      "cell_type": "code",
      "source": [
        ""
      ],
      "metadata": {
        "id": "vsgOBVjHFnk-"
      },
      "execution_count": null,
      "outputs": []
    }
  ]
}
