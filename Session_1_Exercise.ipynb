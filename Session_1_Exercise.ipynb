{
  "nbformat": 4,
  "nbformat_minor": 0,
  "metadata": {
    "colab": {
      "name": "Session 1 Exercise.ipynb",
      "provenance": [],
      "authorship_tag": "ABX9TyN2OYLxrDuYDsCuIq0LISm4",
      "include_colab_link": true
    },
    "kernelspec": {
      "name": "python3",
      "display_name": "Python 3"
    },
    "language_info": {
      "name": "python"
    }
  },
  "cells": [
    {
      "cell_type": "markdown",
      "metadata": {
        "id": "view-in-github",
        "colab_type": "text"
      },
      "source": [
        "<a href=\"https://colab.research.google.com/github/jjcheung/ctcuc22/blob/main/Session_1_Exercise.ipynb\" target=\"_parent\"><img src=\"https://colab.research.google.com/assets/colab-badge.svg\" alt=\"Open In Colab\"/></a>"
      ]
    },
    {
      "cell_type": "markdown",
      "source": [
        "# **Background**"
      ],
      "metadata": {
        "id": "ru0LEca1roZ-"
      }
    },
    {
      "cell_type": "markdown",
      "source": [
        "**Context**: Designing a worksheet for a class of 17 year-olds, some with prior coding knowledge, some without.\n",
        "\n",
        "**Aim**: To guide students through the basics in coding, to produce a set of code with real world application\n",
        "\n",
        "**LO**: Input and output operations, variable types and mathematic operations"
      ],
      "metadata": {
        "id": "nTUHvLr2rQ0E"
      }
    },
    {
      "cell_type": "markdown",
      "source": [
        "# **Introduction to Python**\n",
        "\n",
        "Let's get you started with coding in Python, by building a calculator for your grocery shopping. We will guide you through this!\n"
      ],
      "metadata": {
        "id": "qBgGYdwrGHwu"
      }
    },
    {
      "cell_type": "markdown",
      "source": [
        "First of all, let us set the prices of some common groceries. You just found out that the unit prices of apples, bananas and pears are 30 cents, 50 cents and 40 cents respectively. In the cell below, the price for an apple has already been assigned to the variable `cost_apple`. Assign the prices (in dollars) to the variables `cost_banana` and `cost_pear`."
      ],
      "metadata": {
        "id": "-5B2lEkCKFGY"
      }
    },
    {
      "cell_type": "code",
      "source": [
        "# defining new variables - prices of groceries. \n",
        "cost_apple = 0.30\n",
        "cost_banana = \n",
        "cost_pear = \n",
        "\n",
        "# Use # in front of any comments (that will not run as code) to help others understand your own code better!"
      ],
      "metadata": {
        "id": "9XzQH0yscdsz"
      },
      "execution_count": 9,
      "outputs": []
    },
    {
      "cell_type": "markdown",
      "source": [
        "Let's find out what type of variable `cost_apple` is. Key in the variable name into the brackets in the cell below, and run the cell to find out."
      ],
      "metadata": {
        "id": "ktnEuwd2PkaG"
      }
    },
    {
      "cell_type": "code",
      "source": [
        "type(______)"
      ],
      "metadata": {
        "id": "VuQtq_ose1u8"
      },
      "execution_count": null,
      "outputs": []
    },
    {
      "cell_type": "code",
      "source": [
        "# variable types\n",
        "# int: integer\n",
        "# float: floating point number / number with decimals\n",
        "# str / string: string of Unicode characters (e.g. a phrase containing letters, numbers and spaces)\n",
        "# bool / boolean: True or False"
      ],
      "metadata": {
        "id": "ae31AM7Pe-Y1"
      },
      "execution_count": null,
      "outputs": []
    },
    {
      "cell_type": "markdown",
      "source": [
        "Let's print out the price list of groceries using `print()` in the cell below. The one for apples has been done for you. Complete the ones for bananas and pears."
      ],
      "metadata": {
        "id": "CeWPTBe_jHvE"
      }
    },
    {
      "cell_type": "code",
      "source": [
        "# cost of apple\n",
        "print('Unit price of apples:')    # printing a string: Use single or double apostrophes for strings!\n",
        "print(cost_apple)                 # printing the value in a variable\n",
        "\n",
        "# cost of banana\n",
        "\n",
        "\n",
        "\n",
        "# cost of pear\n",
        "\n",
        "\n"
      ],
      "metadata": {
        "id": "Xs_ZN5PlkPqo"
      },
      "execution_count": null,
      "outputs": []
    },
    {
      "cell_type": "markdown",
      "source": [
        "Now, let's code a simple program to compute the total cost required to buy the amount of groceries set by the user. \n",
        "\n",
        "In the cell below, a line of code to get users to key in the number of apples they want to buy has been done for you. The `input()` function gets the user to enter the number of apples, while the `int()` function converts the keyed value to an integer before it is assigned to the variable `no_apples`. Do the same for bananas and pears."
      ],
      "metadata": {
        "id": "hc1RgLJiiHRf"
      }
    },
    {
      "cell_type": "code",
      "source": [
        "# user input for number of groceries to buy\n",
        "no_apples = int(input('Enter number of apples: ')) #the string in the brackets of input() will be printed as a prompt to the user.\n",
        "no_bananas = \n",
        "no_pears = "
      ],
      "metadata": {
        "id": "Nya1eCuZioq0"
      },
      "execution_count": null,
      "outputs": []
    },
    {
      "cell_type": "markdown",
      "source": [
        "Now, compute the total cost using the relevant variables, and print it out."
      ],
      "metadata": {
        "id": "hpNxm2iKm-45"
      }
    },
    {
      "cell_type": "code",
      "source": [
        "total_cost = \n",
        "print ('The total cost would be $' + str(total_cost) + '.')   \n",
        "#printing a series of strings through concatenation. Note that the values of variables have to be converted to strings first!"
      ],
      "metadata": {
        "id": "wz_LQQpSnEhf"
      },
      "execution_count": null,
      "outputs": []
    },
    {
      "cell_type": "code",
      "source": [
        "# mathematical operators\n",
        "# +: add\n",
        "# -: subtract\n",
        "# *: multiply\n",
        "# /: divide\n",
        "# //: floor divide - rounded down to the nearest whole number after dividing e.g. 9 // 2 = 4\n",
        "# %: modulus - the remainder after dividing. e.g. 5 % 4 = 1\n",
        "# **: exponent or power. e.g. 3**2 = 9"
      ],
      "metadata": {
        "id": "zihL0MTHf3Ix"
      },
      "execution_count": null,
      "outputs": []
    },
    {
      "cell_type": "markdown",
      "source": [
        "You found out that you only have a dollar. Calculate how many apples can you buy in the cell below."
      ],
      "metadata": {
        "id": "BlRETmLChh-f"
      }
    },
    {
      "cell_type": "code",
      "source": [
        ""
      ],
      "metadata": {
        "id": "1NQNL3n4hhSw"
      },
      "execution_count": null,
      "outputs": []
    }
  ]
}